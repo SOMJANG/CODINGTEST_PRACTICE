{
 "cells": [
  {
   "cell_type": "markdown",
   "metadata": {},
   "source": [
    "## 2022년 8월 10일 수요일\n",
    "### BaekJoon - 자기복제수 (Python)  \n",
    "### 문제 : https://www.acmicpc.net/problem/2028\n",
    "### 블로그 : https://somjang.tistory.com/entry/BaekJoon-2028%EB%B2%88-%EC%9E%90%EA%B8%B0%EB%B3%B5%EC%A0%9C%EC%88%98-Python"
   ]
  },
  {
   "cell_type": "markdown",
   "metadata": {},
   "source": [
    "### Solution"
   ]
  },
  {
   "cell_type": "code",
   "execution_count": null,
   "metadata": {},
   "outputs": [],
   "source": [
    "def is_self_replicating_number(number):\n",
    "    is_replicating = False\n",
    "    pow_num = pow(number, 2)\n",
    "    \n",
    "    number_split_idx = len(str(number)) * -1\n",
    "    \n",
    "    if str(number) == str(pow_num)[number_split_idx:]:\n",
    "        is_replicating = True\n",
    "        \n",
    "    return is_replicating\n",
    "\n",
    "\n",
    "def get_answer(number):\n",
    "    is_replicating = is_self_replicating_number(number)\n",
    "    return \"YES\" if is_replicating else \"NO\"\n",
    "\n",
    "\n",
    "if __name__ == \"__main__\":\n",
    "    for _ in range(int(input())):\n",
    "        number = int(input())\n",
    "        print(get_answer(number))"
   ]
  }
 ],
 "metadata": {
  "kernelspec": {
   "display_name": "Python 3",
   "language": "python",
   "name": "python3"
  },
  "language_info": {
   "codemirror_mode": {
    "name": "ipython",
    "version": 3
   },
   "file_extension": ".py",
   "mimetype": "text/x-python",
   "name": "python",
   "nbconvert_exporter": "python",
   "pygments_lexer": "ipython3",
   "version": "3.7.3"
  }
 },
 "nbformat": 4,
 "nbformat_minor": 2
}
