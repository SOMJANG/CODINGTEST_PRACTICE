{
 "cells": [
  {
   "cell_type": "markdown",
   "metadata": {},
   "source": [
    "## 2022년 7월 23일 토요일\n",
    "### BaekJoon - 와글와글 숭고한 (Python)  \n",
    "### 문제 : https://www.acmicpc.net/problem/17388\n",
    "### 블로그 : https://somjang.tistory.com/entry/BaekJoon-17388%EB%B2%88-%EC%99%80%EA%B8%80%EC%99%80%EA%B8%80-%EC%88%AD%EA%B3%A0%ED%95%9C-Python"
   ]
  },
  {
   "cell_type": "markdown",
   "metadata": {},
   "source": [
    "### Solution"
   ]
  },
  {
   "cell_type": "code",
   "execution_count": null,
   "metadata": {},
   "outputs": [],
   "source": [
    "def check_is_ok(S, K, H):\n",
    "    is_ok = True\n",
    "    \n",
    "    if S + K + H < 100:\n",
    "        is_ok = False\n",
    "        \n",
    "    return is_ok\n",
    "        \n",
    "\n",
    "def find_min_min_participant(S, K, H):\n",
    "    min_participant = \"OK\"\n",
    "    \n",
    "    is_ok = check_is_ok(S, K, H)\n",
    "\n",
    "    if not is_ok:\n",
    "        min_participation_point = min([S, K, H])\n",
    "        \n",
    "        if min_participation_point == S:\n",
    "            min_participant = \"Soongsil\"\n",
    "        elif min_participation_point == K:\n",
    "            min_participant = \"Korea\"\n",
    "        elif min_participation_point == H:\n",
    "            min_participant = \"Hanyang\"\n",
    "            \n",
    "    return min_participant\n",
    "        \n",
    "\n",
    "def waggle_waggle_soong_ko_han(S, K, H):\n",
    "    answer = \"OK\"\n",
    "    \n",
    "    min_participant = find_min_min_participant(S, K, H)\n",
    "    \n",
    "    return min_participant\n",
    "\n",
    "\n",
    "if __name__ == \"__main__\":\n",
    "    S, K, H = map(int, input().split())\n",
    "    \n",
    "    print(waggle_waggle_soong_ko_han(S, K, H))"
   ]
  }
 ],
 "metadata": {
  "kernelspec": {
   "display_name": "Python 3",
   "language": "python",
   "name": "python3"
  },
  "language_info": {
   "codemirror_mode": {
    "name": "ipython",
    "version": 3
   },
   "file_extension": ".py",
   "mimetype": "text/x-python",
   "name": "python",
   "nbconvert_exporter": "python",
   "pygments_lexer": "ipython3",
   "version": "3.7.3"
  }
 },
 "nbformat": 4,
 "nbformat_minor": 2
}
