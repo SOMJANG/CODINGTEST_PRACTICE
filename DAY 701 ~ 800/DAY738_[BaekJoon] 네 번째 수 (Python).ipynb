{
 "cells": [
  {
   "cell_type": "markdown",
   "metadata": {},
   "source": [
    "## 2022년 6월 16일 목요일\n",
    "### BaekJoon - 네 번째 수 (Python) \n",
    "### 문제 : https://www.acmicpc.net/problem/2997\n",
    "### 블로그 : https://somjang.tistory.com/entry/BaekJoon-2997%EB%B2%88-%EB%84%A4-%EB%B2%88%EC%A7%B8-%EC%88%98-Python"
   ]
  },
  {
   "cell_type": "markdown",
   "metadata": {},
   "source": [
    "### Solution"
   ]
  },
  {
   "cell_type": "code",
   "execution_count": null,
   "metadata": {},
   "outputs": [],
   "source": [
    "def fourth_number(numbers):\n",
    "    sorted_numbers = sorted(numbers)\n",
    "    \n",
    "    diff_1 = sorted_numbers[1] - sorted_numbers[0]\n",
    "    diff_2 = sorted_numbers[2] - sorted_numbers[1]\n",
    "    \n",
    "    if diff_1 == diff_2:\n",
    "        if sorted_numbers[-1] + diff_1 <= 100:\n",
    "            answer = sorted_numbers[-1] + diff_1\n",
    "        else:\n",
    "            answer = sorted_numbers[0] - diff_1\n",
    "    elif diff_1 * 2 == diff_2:\n",
    "        answer = sorted_numbers[1] + diff_1\n",
    "    elif diff_1 == diff_2 * 2:\n",
    "        answer = sorted_numbers[0] + diff_2\n",
    "        \n",
    "    return answer\n",
    "\n",
    "\n",
    "if __name__ == \"__main__\":\n",
    "    numbers = list(map(int, input().split()))\n",
    "    print(fourth_number(numbers))"
   ]
  }
 ],
 "metadata": {
  "kernelspec": {
   "display_name": "Python 3",
   "language": "python",
   "name": "python3"
  },
  "language_info": {
   "codemirror_mode": {
    "name": "ipython",
    "version": 3
   },
   "file_extension": ".py",
   "mimetype": "text/x-python",
   "name": "python",
   "nbconvert_exporter": "python",
   "pygments_lexer": "ipython3",
   "version": "3.7.3"
  }
 },
 "nbformat": 4,
 "nbformat_minor": 2
}
