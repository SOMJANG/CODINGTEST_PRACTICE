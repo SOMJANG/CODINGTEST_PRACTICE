{
 "cells": [
  {
   "cell_type": "markdown",
   "metadata": {},
   "source": [
    "## 2022년 5월 17일 화요일\n",
    "### BaekJoon - 페이지 세기 (Python) \n",
    "### 문제 : https://www.acmicpc.net/problem/4821\n",
    "### 블로그 : https://somjang.tistory.com/entry/BaekJoon-4821%EB%B2%88-%ED%8E%98%EC%9D%B4%EC%A7%80-%EC%84%B8%EA%B8%B0-Python"
   ]
  },
  {
   "cell_type": "markdown",
   "metadata": {},
   "source": [
    "### Solution"
   ]
  },
  {
   "cell_type": "code",
   "execution_count": null,
   "metadata": {},
   "outputs": [],
   "source": [
    "def counting_pages(total_page_num, input_page_info):\n",
    "    pages = [0 for _ in range(total_page_num + 1)]\n",
    "    \n",
    "    page_info_list = input_page_info.split(\",\")\n",
    "    \n",
    "    for page_info in page_info_list:\n",
    "        info = page_info.split(\"-\")\n",
    "        \n",
    "        if len(info) == 1 or len(set(info)) == 1:\n",
    "            if int(info[0]) < len(pages):\n",
    "                pages[int(info[0])] = 1\n",
    "        else:\n",
    "            min_page, max_page = map(int, info)\n",
    "            \n",
    "            if (min_page > max_page) or (min_page > total_page_num):\n",
    "                continue\n",
    "            else:\n",
    "                for page in range(min_page, max_page+1):\n",
    "                    if page < len(pages):\n",
    "                        pages[page] = 1\n",
    "                    \n",
    "    return sum(pages)\n",
    "\n",
    "\n",
    "if __name__ == \"__main__\":\n",
    "    while True:\n",
    "        total_page = int(input())\n",
    "        \n",
    "        if total_page == 0:\n",
    "            break\n",
    "            \n",
    "        input_page_info = input()\n",
    "        \n",
    "        print(counting_pages(total_page, input_page_info))"
   ]
  }
 ],
 "metadata": {
  "kernelspec": {
   "display_name": "Python 3",
   "language": "python",
   "name": "python3"
  }
 },
 "nbformat": 4,
 "nbformat_minor": 2
}
