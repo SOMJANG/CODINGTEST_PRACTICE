{
 "cells": [
  {
   "cell_type": "markdown",
   "metadata": {},
   "source": [
    "## 2022년 6월 24일 금요일\n",
    "### BaekJoon - 배수 찾기 (Python) \n",
    "### 문제 : https://www.acmicpc.net/problem/4504\n",
    "### 블로그 : https://somjang.tistory.com/entry/BaekJoon-4504%EB%B2%88-%EB%B0%B0%EC%88%98-%EC%B0%BE%EA%B8%B0-Python"
   ]
  },
  {
   "cell_type": "markdown",
   "metadata": {},
   "source": [
    "### Solution"
   ]
  },
  {
   "cell_type": "code",
   "execution_count": null,
   "metadata": {},
   "outputs": [],
   "source": [
    "def is_baesu(number, n):\n",
    "    return number % n == 0\n",
    "\n",
    "def find_baesu(number, n):\n",
    "    if is_baesu(number, n):\n",
    "        answer = f\"{number} is a multiple of {n}.\"\n",
    "    else:\n",
    "        answer = f\"{number} is NOT a multiple of {n}.\"\n",
    "    \n",
    "    return answer\n",
    "    \n",
    "if __name__ == \"__main__\":\n",
    "    n = int(input())\n",
    "    \n",
    "    while True:\n",
    "        number = int(input())\n",
    "        \n",
    "        if number == 0:\n",
    "            break\n",
    "            \n",
    "        print(find_baesu(number, n))"
   ]
  }
 ],
 "metadata": {
  "kernelspec": {
   "display_name": "Python 3",
   "language": "python",
   "name": "python3"
  },
  "language_info": {
   "codemirror_mode": {
    "name": "ipython",
    "version": 3
   },
   "file_extension": ".py",
   "mimetype": "text/x-python",
   "name": "python",
   "nbconvert_exporter": "python",
   "pygments_lexer": "ipython3",
   "version": "3.7.3"
  }
 },
 "nbformat": 4,
 "nbformat_minor": 2
}
