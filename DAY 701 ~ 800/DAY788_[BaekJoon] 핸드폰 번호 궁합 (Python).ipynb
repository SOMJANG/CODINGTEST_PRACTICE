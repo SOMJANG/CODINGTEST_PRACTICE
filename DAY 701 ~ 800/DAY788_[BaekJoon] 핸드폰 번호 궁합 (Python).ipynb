{
 "cells": [
  {
   "cell_type": "markdown",
   "metadata": {},
   "source": [
    "## 2022년 8월 20일 토요일\n",
    "### BaekJoon - 핸드폰 번호 궁합 (Python)  \n",
    "### 문제 : https://www.acmicpc.net/problem/17202\n",
    "### 블로그 : https://somjang.tistory.com/entry/baekjoon-17202-%ED%95%B8%EB%93%9C%ED%8F%B0-%EB%B2%88%ED%98%B8-%EA%B6%81%ED%95%A9-python"
   ]
  },
  {
   "cell_type": "markdown",
   "metadata": {},
   "source": [
    "### Solution"
   ]
  },
  {
   "cell_type": "code",
   "execution_count": null,
   "metadata": {},
   "outputs": [],
   "source": [
    "def merge_two_numbers(number1, number2):\n",
    "    result = \"\"\n",
    "    for num1, num2 in zip(number1, number2):\n",
    "        result += f\"{num1}{num2}\"\n",
    "        \n",
    "    return result \n",
    "\n",
    "\n",
    "def calculate_compatibility(merged_number):\n",
    "    result = \"\"\n",
    "    for idx in range(len(merged_number) - 1):\n",
    "        result += f\"{int(merged_number[idx]) + int(merged_number[idx + 1])}\"[-1]\n",
    "        \n",
    "    return result\n",
    "    \n",
    "    \n",
    "def phone_number_compatibility(number1, number2):\n",
    "    merged_number = merge_two_numbers(number1, number2)\n",
    "    \n",
    "    while True:\n",
    "        merged_number = calculate_compatibility(merged_number)\n",
    "        if len(merged_number) == 2:\n",
    "            break\n",
    "            \n",
    "    return merged_number\n",
    "\n",
    "\n",
    "if __name__ == \"__main__\":\n",
    "    number1 = input()\n",
    "    number2 = int(input())\n",
    "    \n",
    "    print(phone_number_compatibility(number1, number2))"
   ]
  }
 ],
 "metadata": {
  "kernelspec": {
   "display_name": "Python 3",
   "language": "python",
   "name": "python3"
  },
  "language_info": {
   "codemirror_mode": {
    "name": "ipython",
    "version": 3
   },
   "file_extension": ".py",
   "mimetype": "text/x-python",
   "name": "python",
   "nbconvert_exporter": "python",
   "pygments_lexer": "ipython3",
   "version": "3.7.3"
  }
 },
 "nbformat": 4,
 "nbformat_minor": 2
}
