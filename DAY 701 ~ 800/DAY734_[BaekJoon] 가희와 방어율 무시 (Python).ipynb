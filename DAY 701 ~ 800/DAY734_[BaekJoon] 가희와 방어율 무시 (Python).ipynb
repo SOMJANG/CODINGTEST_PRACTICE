{
 "cells": [
  {
   "cell_type": "markdown",
   "metadata": {},
   "source": [
    "## 2022년 6월 12일 일요일\n",
    "### BaekJoon - 가희와 방어율 무시 (Python) \n",
    "### 문제 : https://www.acmicpc.net/problem/25238\n",
    "### 블로그 : https://somjang.tistory.com/entry/BaekJoon-25238%EB%B2%88-%EA%B0%80%ED%9D%AC%EC%99%80-%EB%B0%A9%EC%96%B4%EC%9C%A8-%EB%AC%B4%EC%8B%9C-Python"
   ]
  },
  {
   "cell_type": "markdown",
   "metadata": {},
   "source": [
    "### Solution"
   ]
  },
  {
   "cell_type": "code",
   "execution_count": null,
   "metadata": {},
   "outputs": [],
   "source": [
    "def defense_rate(a, b):\n",
    "    return a - a * b / 100\n",
    "\n",
    "def is_lower_rate(d_rate):\n",
    "    is_lower = 0\n",
    "    \n",
    "    if d_rate < 100:\n",
    "        is_lower = 1\n",
    "        \n",
    "    return is_lower\n",
    "\n",
    "\n",
    "if __name__ == \"__main__\":\n",
    "    a, b = map(int, input().split())\n",
    "    \n",
    "    d_rate = defense_rate(a, b)\n",
    "    \n",
    "    print(is_lower_rate(d_rate))"
   ]
  }
 ],
 "metadata": {
  "kernelspec": {
   "display_name": "Python 3",
   "language": "python",
   "name": "python3"
  },
  "language_info": {
   "codemirror_mode": {
    "name": "ipython",
    "version": 3
   },
   "file_extension": ".py",
   "mimetype": "text/x-python",
   "name": "python",
   "nbconvert_exporter": "python",
   "pygments_lexer": "ipython3",
   "version": "3.7.3"
  }
 },
 "nbformat": 4,
 "nbformat_minor": 2
}
