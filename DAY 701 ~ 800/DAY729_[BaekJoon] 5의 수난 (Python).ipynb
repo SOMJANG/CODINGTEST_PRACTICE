{
 "cells": [
  {
   "cell_type": "markdown",
   "metadata": {},
   "source": [
    "## 2022년 6월 5일 일요일\n",
    "### BaekJoon - 5의 수난 (Python) \n",
    "### 문제 : https://www.acmicpc.net/problem/23037\n",
    "### 블로그 : https://somjang.tistory.com/entry/BaekJoon-23037%EB%B2%88-5%EC%9D%98-%EC%88%98%EB%82%9C-Python"
   ]
  },
  {
   "cell_type": "markdown",
   "metadata": {},
   "source": [
    "### Solution"
   ]
  },
  {
   "cell_type": "code",
   "execution_count": null,
   "metadata": {},
   "outputs": [],
   "source": [
    "def five_s_suffering(n):\n",
    "    n_num_list = list(n)\n",
    "    \n",
    "    return sum([pow(int(num), 5) for num in n_num_list])\n",
    "\n",
    "if __name__ == \"__main__\":\n",
    "    n = input()\n",
    "    \n",
    "    print(five_s_suffering(n))"
   ]
  }
 ],
 "metadata": {
  "kernelspec": {
   "display_name": "Python 3",
   "language": "python",
   "name": "python3"
  },
  "language_info": {
   "codemirror_mode": {
    "name": "ipython",
    "version": 3
   },
   "file_extension": ".py",
   "mimetype": "text/x-python",
   "name": "python",
   "nbconvert_exporter": "python",
   "pygments_lexer": "ipython3",
   "version": "3.7.3"
  }
 },
 "nbformat": 4,
 "nbformat_minor": 2
}
