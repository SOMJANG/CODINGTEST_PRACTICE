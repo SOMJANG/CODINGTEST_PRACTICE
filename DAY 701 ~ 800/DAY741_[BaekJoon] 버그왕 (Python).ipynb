{
 "cells": [
  {
   "cell_type": "markdown",
   "metadata": {},
   "source": [
    "## 2022년 6월 19일 일요일\n",
    "### BaekJoon - 버그왕 (Python) \n",
    "### 문제 : https://www.acmicpc.net/problem/3447\n",
    "### 블로그 : https://somjang.tistory.com/entry/BaekJoon-3447%EB%B2%88-%EB%B2%84%EA%B7%B8%EC%99%95-Python"
   ]
  },
  {
   "cell_type": "markdown",
   "metadata": {},
   "source": [
    "### Solution"
   ]
  },
  {
   "cell_type": "code",
   "execution_count": null,
   "metadata": {},
   "outputs": [],
   "source": [
    "import sys\n",
    "import re\n",
    "\n",
    "\n",
    "def remove_bug(code):\n",
    "    while True:\n",
    "        code = re.sub(r'BUG', '', code)\n",
    "        \n",
    "        if 'BUG' not in code:\n",
    "            break\n",
    "    return code\n",
    "\n",
    "\n",
    "def bug_king(code_lines):\n",
    "    for code in code_lines:\n",
    "        remove_bug_code = remove_bug(code)\n",
    "        print(remove_bug_code, end='')\n",
    "        \n",
    "        \n",
    "if __name__ == \"__main__\":\n",
    "    code_lines = sys.stdin.readlines()\n",
    "    \n",
    "    bug_king(code_lines)"
   ]
  }
 ],
 "metadata": {
  "kernelspec": {
   "display_name": "Python 3",
   "language": "python",
   "name": "python3"
  },
  "language_info": {
   "codemirror_mode": {
    "name": "ipython",
    "version": 3
   },
   "file_extension": ".py",
   "mimetype": "text/x-python",
   "name": "python",
   "nbconvert_exporter": "python",
   "pygments_lexer": "ipython3",
   "version": "3.7.3"
  }
 },
 "nbformat": 4,
 "nbformat_minor": 2
}
