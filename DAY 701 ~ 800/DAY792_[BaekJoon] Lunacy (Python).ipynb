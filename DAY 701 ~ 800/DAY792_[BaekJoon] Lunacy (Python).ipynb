{
 "cells": [
  {
   "cell_type": "markdown",
   "metadata": {},
   "source": [
    "## 2022년 8월 24일 수요일\n",
    "### BaekJoon - Lunacy (Python)  \n",
    "### 문제 : https://www.acmicpc.net/problem/4714\n",
    "### 블로그 : https://somjang.tistory.com/entry/BaekJoon-4714%EB%B2%88-Lunacy-Python"
   ]
  },
  {
   "cell_type": "markdown",
   "metadata": {},
   "source": [
    "### Solution"
   ]
  },
  {
   "cell_type": "code",
   "execution_count": null,
   "metadata": {},
   "outputs": [],
   "source": [
    "def lunacy(weight):\n",
    "    lunacy_weight = round(weight * 0.167, 2)\n",
    "    \n",
    "    return lunacy_weight\n",
    "\n",
    "\n",
    "def convert_weight_to_answer_format(weight):\n",
    "    return \"%.2f\"%weight\n",
    "\n",
    "\n",
    "\n",
    "def convert_str_to_answer_format(weight, lunacy_weight):\n",
    "    return f\"Objects weighing {weight} on Earth will weigh {lunacy_weight} on the moon.\"\n",
    "\n",
    "\n",
    "if __name__ == \"__main__\":\n",
    "    while True:\n",
    "        weight = float(input())\n",
    "        \n",
    "        if weight == -1.0:\n",
    "            break\n",
    "            \n",
    "        lunacy_weight = lunacy(weight=weight)\n",
    "        weight = convert_weight_to_answer_format(weight=weight)\n",
    "        lunacy_weight = convert_weight_to_answer_format(weight=lunacy_weight)        \n",
    "        \n",
    "        print(convert_str_to_answer_format(weight=weight, lunacy_weight=lunacy_weight))        "
   ]
  }
 ],
 "metadata": {
  "kernelspec": {
   "display_name": "Python 3",
   "language": "python",
   "name": "python3"
  },
  "language_info": {
   "codemirror_mode": {
    "name": "ipython",
    "version": 3
   },
   "file_extension": ".py",
   "mimetype": "text/x-python",
   "name": "python",
   "nbconvert_exporter": "python",
   "pygments_lexer": "ipython3",
   "version": "3.7.3"
  }
 },
 "nbformat": 4,
 "nbformat_minor": 2
}
