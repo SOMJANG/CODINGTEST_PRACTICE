{
 "cells": [
  {
   "cell_type": "markdown",
   "metadata": {},
   "source": [
    "## 2022년 5월 30일 월요일\n",
    "### BaekJoon - 수 뒤집기 (Python) \n",
    "### 문제 : https://www.acmicpc.net/problem/3062\n",
    "### 블로그 : https://somjang.tistory.com/entry/BaekJoon-3062%EB%B2%88-%EC%88%98-%EB%92%A4%EC%A7%91%EA%B8%B0-Python"
   ]
  },
  {
   "cell_type": "markdown",
   "metadata": {},
   "source": [
    "### Solution"
   ]
  },
  {
   "cell_type": "code",
   "execution_count": null,
   "metadata": {},
   "outputs": [],
   "source": [
    "def reverse_number(number):\n",
    "    return int(str(number)[::-1])\n",
    "\n",
    "\n",
    "def is_symmetry(number):\n",
    "    return str(number) == str(number)[::-1]\n",
    "\n",
    "\n",
    "def solution(number):\n",
    "    answer = \"NO\"\n",
    "    \n",
    "    reverse_num = reverse_number(number)\n",
    "    \n",
    "    sum_num = number + reverse_num\n",
    "    \n",
    "    if is_symmetry(sum_num):\n",
    "        answer = \"YES\"\n",
    "        \n",
    "    return answer\n",
    "\n",
    "\n",
    "if __name__ == \"__main__\":\n",
    "    for _ in range(int(input())):\n",
    "        number = int(input())\n",
    "        print(solution(number))"
   ]
  }
 ],
 "metadata": {
  "kernelspec": {
   "display_name": "Python 3",
   "language": "python",
   "name": "python3"
  },
  "language_info": {
   "codemirror_mode": {
    "name": "ipython",
    "version": 3
   },
   "file_extension": ".py",
   "mimetype": "text/x-python",
   "name": "python",
   "nbconvert_exporter": "python",
   "pygments_lexer": "ipython3",
   "version": "3.7.3"
  }
 },
 "nbformat": 4,
 "nbformat_minor": 2
}
