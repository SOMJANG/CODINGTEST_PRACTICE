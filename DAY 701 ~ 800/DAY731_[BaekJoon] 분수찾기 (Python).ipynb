{
 "cells": [
  {
   "cell_type": "markdown",
   "metadata": {},
   "source": [
    "## 2022년 6월 7일 화요일\n",
    "### BaekJoon - 분수찾기 (Python) \n",
    "### 문제 : https://www.acmicpc.net/problem/1193\n",
    "### 블로그 : https://somjang.tistory.com/entry/BaekJoon-1193%EB%B2%88-%EB%B6%84%EC%88%98%EC%B0%BE%EA%B8%B0-Python"
   ]
  },
  {
   "cell_type": "markdown",
   "metadata": {},
   "source": [
    "### Solution"
   ]
  },
  {
   "cell_type": "code",
   "execution_count": null,
   "metadata": {},
   "outputs": [],
   "source": [
    "def find_fraction(X):\n",
    "    line = 1\n",
    "    \n",
    "    while X > line:\n",
    "        X -= line\n",
    "        \n",
    "        line += 1\n",
    "    \n",
    "    range_num_1 = list(range(1, line+1))\n",
    "    range_num_2 = range_num_1[::-1]\n",
    "    \n",
    "    if line % 2 == 0:\n",
    "        answer = f\"{range_num_1[X-1]}/{range_num_2[X-1]}\"\n",
    "    else:\n",
    "        answer = f\"{range_num_2[X-1]}/{range_num_1[X-1]}\"\n",
    "        \n",
    "    return answer\n",
    "\n",
    "\n",
    "if __name__ == \"__main__\":\n",
    "    X = int(input())\n",
    "    print(find_fraction(X))"
   ]
  }
 ],
 "metadata": {
  "kernelspec": {
   "display_name": "Python 3",
   "language": "python",
   "name": "python3"
  },
  "language_info": {
   "codemirror_mode": {
    "name": "ipython",
    "version": 3
   },
   "file_extension": ".py",
   "mimetype": "text/x-python",
   "name": "python",
   "nbconvert_exporter": "python",
   "pygments_lexer": "ipython3",
   "version": "3.7.3"
  }
 },
 "nbformat": 4,
 "nbformat_minor": 2
}
