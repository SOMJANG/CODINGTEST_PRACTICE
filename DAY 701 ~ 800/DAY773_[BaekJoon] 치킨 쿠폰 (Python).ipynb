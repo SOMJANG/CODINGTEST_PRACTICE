{
 "cells": [
  {
   "cell_type": "markdown",
   "metadata": {},
   "source": [
    "## 2022년 7월 31일 일요일\n",
    "### BaekJoon - 치킨 쿠폰 (Python)  \n",
    "### 문제 : https://www.acmicpc.net/problem/1673\n",
    "### 블로그 : https://somjang.tistory.com/entry/BaekJoon-1673%EB%B2%88-%EC%B9%98%ED%82%A8-%EC%BF%A0%ED%8F%B0-Python"
   ]
  },
  {
   "cell_type": "markdown",
   "metadata": {},
   "source": [
    "### Solution 1"
   ]
  },
  {
   "cell_type": "code",
   "execution_count": null,
   "metadata": {},
   "outputs": [],
   "source": [
    "def change_stamp_to_coupon(stamp, k):\n",
    "    coupon = stamp // k\n",
    "    stamp = stamp % k\n",
    "    \n",
    "    return coupon, stamp\n",
    "\n",
    "def chicken_coupon(n, k):\n",
    "    chicken_num, stamp = n, n\n",
    "    \n",
    "    while True:\n",
    "        if stamp < k:\n",
    "            break\n",
    "        \n",
    "        coupon, stamp = change_stamp_to_coupon(stamp=stamp, k=k)\n",
    "        \n",
    "        chicken_num += coupon\n",
    "        stamp += coupon\n",
    "        \n",
    "    return chicken_num\n",
    "\n",
    "\n",
    "if __name__ == \"__main__\":\n",
    "    while True:\n",
    "        try:\n",
    "            n, k = map(int, input().split())\n",
    "\n",
    "            print(chicken_coupon(n, k))\n",
    "        except EOFError:\n",
    "            break"
   ]
  }
 ],
 "metadata": {
  "kernelspec": {
   "display_name": "Python 3",
   "language": "python",
   "name": "python3"
  },
  "language_info": {
   "codemirror_mode": {
    "name": "ipython",
    "version": 3
   },
   "file_extension": ".py",
   "mimetype": "text/x-python",
   "name": "python",
   "nbconvert_exporter": "python",
   "pygments_lexer": "ipython3",
   "version": "3.7.3"
  }
 },
 "nbformat": 4,
 "nbformat_minor": 2
}
