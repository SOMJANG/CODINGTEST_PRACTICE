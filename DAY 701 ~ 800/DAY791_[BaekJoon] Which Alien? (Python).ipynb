{
 "cells": [
  {
   "cell_type": "markdown",
   "metadata": {},
   "source": [
    "## 2022년 8월 23일 화요일\n",
    "### BaekJoon - Which Alien? (Python)  \n",
    "### 문제 : https://www.acmicpc.net/problem/6778\n",
    "### 블로그 : https://somjang.tistory.com/entry/BaekJoon-6778%EB%B2%88-Which-Alien-Python"
   ]
  },
  {
   "cell_type": "markdown",
   "metadata": {},
   "source": [
    "### Solution"
   ]
  },
  {
   "cell_type": "code",
   "execution_count": null,
   "metadata": {},
   "outputs": [],
   "source": [
    "def is_TroyMartian(antenna, eyes):\n",
    "    is_troymartian = False\n",
    "    \n",
    "    if antenna >= 3 and eyes <= 4:\n",
    "        is_troymartian = True\n",
    "        \n",
    "    return is_troymartian\n",
    "\n",
    "\n",
    "def is_VladSaturnian(antenna, eyes):\n",
    "    is_vladsaturnian = False\n",
    "    \n",
    "    if antenna <= 6 and eyes >= 2:\n",
    "        is_vladsaturnian = True\n",
    "        \n",
    "    return is_vladsaturnian\n",
    "\n",
    "\n",
    "def is_GraemeMercurian(antenna, eyes):\n",
    "    is_greamemercurian = False\n",
    "    \n",
    "    if antenna <= 2 and eyes <= 3:\n",
    "        is_greamemercurian = True\n",
    "        \n",
    "    return is_greamemercurian\n",
    "\n",
    "\n",
    "def which_alien(antenna, eyes):\n",
    "    answer = []\n",
    "    \n",
    "    if is_TroyMartian(antenna, eyes):\n",
    "        answer.append(\"TroyMartian\")\n",
    "    \n",
    "    if is_VladSaturnian(antenna, eyes):\n",
    "        answer.append(\"VladSaturnian\") \n",
    "    \n",
    "    if is_GraemeMercurian(antenna, eyes):\n",
    "        answer.append(\"GraemeMercurian\")\n",
    "        \n",
    "    return answer\n",
    "\n",
    "\n",
    "def print_answer(answer):\n",
    "    for ans in answer:\n",
    "        print(ans)\n",
    "\n",
    "\n",
    "if __name__ == \"__main__\":\n",
    "    antenna = int(input())\n",
    "    eyes = int(input())\n",
    "    \n",
    "    answer = which_alien(antenna=antenna, eyes=eyes)\n",
    "    \n",
    "    print_answer(answer=answer)"
   ]
  }
 ],
 "metadata": {
  "kernelspec": {
   "display_name": "Python 3",
   "language": "python",
   "name": "python3"
  },
  "language_info": {
   "codemirror_mode": {
    "name": "ipython",
    "version": 3
   },
   "file_extension": ".py",
   "mimetype": "text/x-python",
   "name": "python",
   "nbconvert_exporter": "python",
   "pygments_lexer": "ipython3",
   "version": "3.7.3"
  }
 },
 "nbformat": 4,
 "nbformat_minor": 2
}
