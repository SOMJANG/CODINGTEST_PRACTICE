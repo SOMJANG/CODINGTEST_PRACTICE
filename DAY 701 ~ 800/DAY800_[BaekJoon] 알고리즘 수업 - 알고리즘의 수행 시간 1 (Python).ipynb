{
 "cells": [
  {
   "cell_type": "markdown",
   "metadata": {},
   "source": [
    "## 2022년 9월 3일 토요일\n",
    "### BaekJoon - 알고리즘 수업 - 알고리즘의 수행 시간 1 (Python)  \n",
    "### 문제 : https://www.acmicpc.net/problem/24262\n",
    "### 블로그 : https://somjang.tistory.com/entry/BaekJoon-24262%EB%B2%88-%EC%95%8C%EA%B3%A0%EB%A6%AC%EC%A6%98-%EC%88%98%EC%97%85-%EC%95%8C%EA%B3%A0%EB%A6%AC%EC%A6%98%EC%9D%98-%EC%88%98%ED%96%89-%EC%8B%9C%EA%B0%84-1-Python"
   ]
  },
  {
   "cell_type": "markdown",
   "metadata": {},
   "source": [
    "### Solution"
   ]
  },
  {
   "cell_type": "code",
   "execution_count": null,
   "metadata": {},
   "outputs": [],
   "source": [
    "def algorithm_class():\n",
    "    \"\"\"\n",
    "    MenOfPassion(A[], n) {\n",
    "    i = ⌊n / 2⌋;\n",
    "    return A[i]; # 코드1\n",
    "    }\n",
    "    \"\"\"\n",
    "    print(1)\n",
    "    print(0)\n",
    "    \n",
    "    \n",
    "if __name__ == \"__main__\":\n",
    "    algorithm_class()"
   ]
  }
 ],
 "metadata": {
  "kernelspec": {
   "display_name": "Python 3",
   "language": "python",
   "name": "python3"
  },
  "language_info": {
   "codemirror_mode": {
    "name": "ipython",
    "version": 3
   },
   "file_extension": ".py",
   "mimetype": "text/x-python",
   "name": "python",
   "nbconvert_exporter": "python",
   "pygments_lexer": "ipython3",
   "version": "3.7.3"
  }
 },
 "nbformat": 4,
 "nbformat_minor": 2
}
