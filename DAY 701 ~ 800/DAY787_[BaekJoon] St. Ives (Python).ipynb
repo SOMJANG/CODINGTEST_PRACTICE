{
 "cells": [
  {
   "cell_type": "markdown",
   "metadata": {},
   "source": [
    "## 2022년 8월 18일 목요일\n",
    "### BaekJoon - St. Ives (Python)  \n",
    "### 문제 : https://www.acmicpc.net/problem/4696\n",
    "### 블로그 : https://somjang.tistory.com/entry/BaekJoon-4969%EB%B2%88-St-Ives-Python"
   ]
  },
  {
   "cell_type": "markdown",
   "metadata": {},
   "source": [
    "### Solution"
   ]
  },
  {
   "cell_type": "code",
   "execution_count": null,
   "metadata": {},
   "outputs": [],
   "source": [
    "def make_answer_format(answer):\n",
    "    answer = round(answer, 2)\n",
    "    \n",
    "    return \"%.2f\"%answer\n",
    "\n",
    "def st_ives(num):\n",
    "    answer = pow(num, 1) + pow(num, 2) + pow(num, 3) + pow(num, 4) + 1\n",
    "    \n",
    "    return make_answer_format(answer)\n",
    "\n",
    "    \n",
    "if __name__ == \"__main__\":\n",
    "    while True:\n",
    "        num = float(input())\n",
    "        \n",
    "        if num == 0:\n",
    "            break\n",
    "            \n",
    "        print(st_ives(num))"
   ]
  }
 ],
 "metadata": {
  "kernelspec": {
   "display_name": "Python 3",
   "language": "python",
   "name": "python3"
  },
  "language_info": {
   "codemirror_mode": {
    "name": "ipython",
    "version": 3
   },
   "file_extension": ".py",
   "mimetype": "text/x-python",
   "name": "python",
   "nbconvert_exporter": "python",
   "pygments_lexer": "ipython3",
   "version": "3.7.3"
  }
 },
 "nbformat": 4,
 "nbformat_minor": 2
}
