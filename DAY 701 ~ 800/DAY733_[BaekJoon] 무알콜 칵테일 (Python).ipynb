{
 "cells": [
  {
   "cell_type": "markdown",
   "metadata": {},
   "source": [
    "## 2022년 6월 11일 토요일\n",
    "### BaekJoon - 무알콜 칵테일 (Python) \n",
    "### 문제 : https://www.acmicpc.net/problem/2896\n",
    "### 블로그 : https://somjang.tistory.com/entry/BaekJoon-2896%EB%B2%88-%EB%AC%B4%EC%95%8C%EC%BD%9C-%EC%B9%B5%ED%85%8C%EC%9D%BC-Python"
   ]
  },
  {
   "cell_type": "markdown",
   "metadata": {},
   "source": [
    "### Solution"
   ]
  },
  {
   "cell_type": "code",
   "execution_count": null,
   "metadata": {},
   "outputs": [],
   "source": [
    "def non_alcoholic_cocktail(orange, apple, pineapple, orange_ratio, apple_ratio, pineapple_ratio):\n",
    "    min_ratio = min(orange / orange_ratio, apple / apple_ratio, pineapple / pineapple_ratio)\n",
    "    \n",
    "    extra_orange = orange - orange_ratio * min_ratio\n",
    "    extra_apple = apple - apple_ratio * min_ratio\n",
    "    extra_pineapple = pineapple - pineapple_ratio * min_ratio\n",
    "    \n",
    "    return extra_orange, extra_apple, extra_pineapple\n",
    "\n",
    "\n",
    "if __name__ == \"__main__\":\n",
    "    orange, apple, pineapple = map(int, input().split())\n",
    "    orange_ratio, apple_ratio, pineapple_ratio = map(int, input().split())\n",
    "    \n",
    "    extra_orange, extra_apple, extra_pineapple = non_alcoholic_cocktail(orange, apple, pineapple, orange_ratio, apple_ratio, pineapple_ratio)\n",
    "    \n",
    "    print(extra_orange, extra_apple, extra_pineapple)"
   ]
  }
 ],
 "metadata": {
  "kernelspec": {
   "display_name": "Python 3",
   "language": "python",
   "name": "python3"
  },
  "language_info": {
   "codemirror_mode": {
    "name": "ipython",
    "version": 3
   },
   "file_extension": ".py",
   "mimetype": "text/x-python",
   "name": "python",
   "nbconvert_exporter": "python",
   "pygments_lexer": "ipython3",
   "version": "3.7.3"
  }
 },
 "nbformat": 4,
 "nbformat_minor": 2
}
