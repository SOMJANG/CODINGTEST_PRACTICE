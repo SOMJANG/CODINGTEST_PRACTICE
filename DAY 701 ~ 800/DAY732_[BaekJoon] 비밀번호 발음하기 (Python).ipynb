{
 "cells": [
  {
   "cell_type": "markdown",
   "metadata": {},
   "source": [
    "## 2022년 6월 8일 수요일\n",
    "### BaekJoon - 비밀번호 발음하기 (Python) \n",
    "### 문제 : https://www.acmicpc.net/problem/4659\n",
    "### 블로그 : https://somjang.tistory.com/entry/BaekJoon-4659%EB%B2%88-%EB%B9%84%EB%B0%80%EB%B2%88%ED%98%B8-%EB%B0%9C%EC%9D%8C%ED%95%98%EA%B8%B0-Python"
   ]
  },
  {
   "cell_type": "markdown",
   "metadata": {},
   "source": [
    "### Solution"
   ]
  },
  {
   "cell_type": "code",
   "execution_count": null,
   "metadata": {},
   "outputs": [],
   "source": [
    "import re\n",
    "\n",
    "def pronounce_the_password(password):\n",
    "    condition1 = re.findall(r\"a|e|i|o|u\", password)\n",
    "    condition2 = re.findall(r\"([a|e|i|o|u]{3})|([^a|e|i|o|u]{3})\",password)\n",
    "    condition3 = re.findall(r\"([a-df-np-z])\\1\", password)\n",
    "    \n",
    "    if len(condition1) != 0 and len(condition2) == 0 and len(condition3) == 0:\n",
    "        answer = f\"<{password}> is acceptable.\"\n",
    "    else:\n",
    "        answer = f\"<{password}> is not acceptable.\"\n",
    "        \n",
    "    return answer\n",
    "\n",
    "\n",
    "if __name__ == \"__main__\":\n",
    "    while True:\n",
    "        password = input()\n",
    "        \n",
    "        if password == \"end\":\n",
    "            break\n",
    "            \n",
    "        print(pronounce_the_password(password))"
   ]
  }
 ],
 "metadata": {
  "kernelspec": {
   "display_name": "Python 3",
   "language": "python",
   "name": "python3"
  },
  "language_info": {
   "codemirror_mode": {
    "name": "ipython",
    "version": 3
   },
   "file_extension": ".py",
   "mimetype": "text/x-python",
   "name": "python",
   "nbconvert_exporter": "python",
   "pygments_lexer": "ipython3",
   "version": "3.7.3"
  }
 },
 "nbformat": 4,
 "nbformat_minor": 2
}
