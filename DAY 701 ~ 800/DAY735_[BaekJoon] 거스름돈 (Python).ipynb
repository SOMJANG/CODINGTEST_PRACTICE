{
 "cells": [
  {
   "cell_type": "markdown",
   "metadata": {},
   "source": [
    "## 2022년 6월 13일 월요일\n",
    "### BaekJoon - 거스름돈 (Python) \n",
    "### 문제 : https://www.acmicpc.net/problem/5585\n",
    "### 블로그 : https://somjang.tistory.com/entry/BaekJoon-5585%EB%B2%88-%EA%B1%B0%EC%8A%A4%EB%A6%84%EB%8F%88-Python"
   ]
  },
  {
   "cell_type": "markdown",
   "metadata": {},
   "source": [
    "### Solution"
   ]
  },
  {
   "cell_type": "code",
   "execution_count": null,
   "metadata": {},
   "outputs": [],
   "source": [
    "def calculate_change(money_to_pay):\n",
    "    change_list = [500, 100, 50, 10, 5, 1]\n",
    "    \n",
    "    change = 1000 - money_to_pay\n",
    "    \n",
    "    change_idx = 0\n",
    "    \n",
    "    change_num = 0\n",
    "    \n",
    "    while True:\n",
    "        if change == 0:\n",
    "            break\n",
    "            \n",
    "        if change_list[change_idx] > change:\n",
    "            change_idx += 1\n",
    "        else:\n",
    "            change -= change_list[change_idx]\n",
    "            change_num += 1\n",
    "        \n",
    "    return change_num\n",
    "        \n",
    "    \n",
    "if __name__ == \"__main__\":\n",
    "    money_to_pay = int(input())\n",
    "    \n",
    "    print(calculate_change(money_to_pay))"
   ]
  }
 ],
 "metadata": {
  "kernelspec": {
   "display_name": "Python 3",
   "language": "python",
   "name": "python3"
  },
  "language_info": {
   "codemirror_mode": {
    "name": "ipython",
    "version": 3
   },
   "file_extension": ".py",
   "mimetype": "text/x-python",
   "name": "python",
   "nbconvert_exporter": "python",
   "pygments_lexer": "ipython3",
   "version": "3.7.3"
  }
 },
 "nbformat": 4,
 "nbformat_minor": 2
}
