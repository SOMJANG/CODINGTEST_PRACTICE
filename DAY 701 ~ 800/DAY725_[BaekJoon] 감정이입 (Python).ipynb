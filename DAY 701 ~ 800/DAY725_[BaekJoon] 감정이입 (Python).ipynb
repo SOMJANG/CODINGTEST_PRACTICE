{
 "cells": [
  {
   "cell_type": "markdown",
   "metadata": {},
   "source": [
    "## 2022년 6월 1일 수요일\n",
    "### BaekJoon - 감정이입 (Python) \n",
    "### 문제 : https://www.acmicpc.net/problem/14623\n",
    "### 블로그 : https://somjang.tistory.com/entry/BaekJoon-14623%EB%B2%88-%EA%B0%90%EC%A0%95%EC%9D%B4%EC%9E%85-Python"
   ]
  },
  {
   "cell_type": "markdown",
   "metadata": {},
   "source": [
    "### Solution"
   ]
  },
  {
   "cell_type": "code",
   "execution_count": null,
   "metadata": {},
   "outputs": [],
   "source": [
    "def bin_to_num(binary):\n",
    "    return int(binary, 2)\n",
    "\n",
    "\n",
    "def num_to_bin(num):\n",
    "    return bin(num)[2:]\n",
    "\n",
    "def empathy(B1, B2):\n",
    "    num_b1 = bin_to_num(binary=B1)\n",
    "    num_b2 = bin_to_num(binary=B2)\n",
    "    \n",
    "    num_b3 = num_b1 * num_b2\n",
    "    \n",
    "    B3 = num_to_bin(num_b3)\n",
    "    \n",
    "    return B3\n",
    "\n",
    "\n",
    "if __name__ == \"__main__\":\n",
    "    B1 = input()\n",
    "    B2 = input()\n",
    "    \n",
    "    print(empathy(B1, B2))"
   ]
  }
 ],
 "metadata": {
  "kernelspec": {
   "display_name": "Python 3",
   "language": "python",
   "name": "python3"
  },
  "language_info": {
   "codemirror_mode": {
    "name": "ipython",
    "version": 3
   },
   "file_extension": ".py",
   "mimetype": "text/x-python",
   "name": "python",
   "nbconvert_exporter": "python",
   "pygments_lexer": "ipython3",
   "version": "3.7.3"
  }
 },
 "nbformat": 4,
 "nbformat_minor": 2
}
