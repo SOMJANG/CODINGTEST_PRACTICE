{
 "cells": [
  {
   "cell_type": "markdown",
   "metadata": {},
   "source": [
    "## 2022년 5월 31일 화요일\n",
    "### BaekJoon - 숫자 놀이 (Python) \n",
    "### 문제 : https://www.acmicpc.net/problem/2145\n",
    "### 블로그 : https://somjang.tistory.com/entry/BaekJoon-2145%EB%B2%88-%EC%88%AB%EC%9E%90-%EB%86%80%EC%9D%B4-Python"
   ]
  },
  {
   "cell_type": "markdown",
   "metadata": {},
   "source": [
    "### Solution"
   ]
  },
  {
   "cell_type": "code",
   "execution_count": null,
   "metadata": {},
   "outputs": [],
   "source": [
    "def number_play(number):\n",
    "    while True:\n",
    "        if len(number) == 1:\n",
    "            break\n",
    "            \n",
    "        number = str(sum(list(map(int, list(number)))))\n",
    "        \n",
    "    return number\n",
    "\n",
    "\n",
    "if __name__ == \"__main__\":\n",
    "    while True:\n",
    "        number = input()\n",
    "        \n",
    "        if number == \"0\":\n",
    "            break\n",
    "            \n",
    "        print(number_play(number))"
   ]
  }
 ],
 "metadata": {
  "kernelspec": {
   "display_name": "Python 3",
   "language": "python",
   "name": "python3"
  },
  "language_info": {
   "codemirror_mode": {
    "name": "ipython",
    "version": 3
   },
   "file_extension": ".py",
   "mimetype": "text/x-python",
   "name": "python",
   "nbconvert_exporter": "python",
   "pygments_lexer": "ipython3",
   "version": "3.7.3"
  }
 },
 "nbformat": 4,
 "nbformat_minor": 2
}
