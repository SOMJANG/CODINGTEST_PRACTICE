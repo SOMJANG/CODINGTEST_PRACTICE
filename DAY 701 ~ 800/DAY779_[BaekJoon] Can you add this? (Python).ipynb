{
 "cells": [
  {
   "cell_type": "markdown",
   "metadata": {},
   "source": [
    "## 2022년 8월 9일 화요일\n",
    "### BaekJoon - Can you add this? (Python)  \n",
    "### 문제 : https://www.acmicpc.net/problem/7891\n",
    "### 블로그 : https://somjang.tistory.com/entry/BaekJoon-7891%EB%B2%88-Can-you-add-this-Python"
   ]
  },
  {
   "cell_type": "markdown",
   "metadata": {},
   "source": [
    "### Solution"
   ]
  },
  {
   "cell_type": "code",
   "execution_count": null,
   "metadata": {},
   "outputs": [],
   "source": [
    "def can_you_add_this(num1, num2):\n",
    "    return num1 + num2\n",
    "\n",
    "\n",
    "if __name__ == \"__main__\":\n",
    "    for _ in range(int(input())):\n",
    "        num1, num2 = map(int, input().split())\n",
    "        \n",
    "        print(can_you_add_this(num1, num2))"
   ]
  }
 ],
 "metadata": {
  "kernelspec": {
   "display_name": "Python 3",
   "language": "python",
   "name": "python3"
  },
  "language_info": {
   "codemirror_mode": {
    "name": "ipython",
    "version": 3
   },
   "file_extension": ".py",
   "mimetype": "text/x-python",
   "name": "python",
   "nbconvert_exporter": "python",
   "pygments_lexer": "ipython3",
   "version": "3.7.3"
  }
 },
 "nbformat": 4,
 "nbformat_minor": 2
}
