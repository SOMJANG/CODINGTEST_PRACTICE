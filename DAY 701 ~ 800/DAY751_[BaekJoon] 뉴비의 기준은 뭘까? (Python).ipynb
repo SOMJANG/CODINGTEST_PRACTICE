{
 "cells": [
  {
   "cell_type": "markdown",
   "metadata": {},
   "source": [
    "## 2022년 7월 3일 일요일\n",
    "### BaekJoon - 뉴비의 기준은 뭘까? (Python) \n",
    "### 문제 : https://www.acmicpc.net/problem/19944\n",
    "### 블로그 : https://somjang.tistory.com/entry/BaekJoon-19944%EB%B2%88-%EB%89%B4%EB%B9%84%EC%9D%98-%EA%B8%B0%EC%A4%80%EC%9D%80-%EB%AD%98%EA%B9%8C-Python"
   ]
  },
  {
   "cell_type": "markdown",
   "metadata": {},
   "source": [
    "### Solution"
   ]
  },
  {
   "cell_type": "code",
   "execution_count": null,
   "metadata": {},
   "outputs": [],
   "source": [
    "def newbie(N, M):\n",
    "    answer = \"TLE!\"\n",
    "    \n",
    "    if M <= 2:\n",
    "        answer = \"NEWBIE!\"\n",
    "    elif M > 2 and M <= N:\n",
    "        answer = \"OLDBIE!\"\n",
    "        \n",
    "    return answer\n",
    "\n",
    "\n",
    "if __name__ == \"__main__\":\n",
    "    N, M = map(int, input().split())\n",
    "    print(newbie(N, M))"
   ]
  }
 ],
 "metadata": {
  "kernelspec": {
   "display_name": "Python 3",
   "language": "python",
   "name": "python3"
  },
  "language_info": {
   "codemirror_mode": {
    "name": "ipython",
    "version": 3
   },
   "file_extension": ".py",
   "mimetype": "text/x-python",
   "name": "python",
   "nbconvert_exporter": "python",
   "pygments_lexer": "ipython3",
   "version": "3.7.3"
  }
 },
 "nbformat": 4,
 "nbformat_minor": 2
}
