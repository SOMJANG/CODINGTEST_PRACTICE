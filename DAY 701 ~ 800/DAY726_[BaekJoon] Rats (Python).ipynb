{
 "cells": [
  {
   "cell_type": "markdown",
   "metadata": {},
   "source": [
    "## 2022년 6월 2일 목요일\n",
    "### BaekJoon - Rats (Python) \n",
    "### 문제 : https://www.acmicpc.net/problem/18301\n",
    "### 블로그 : https://somjang.tistory.com/entry/BaekJoon-18301%EB%B2%88-Rats-Python"
   ]
  },
  {
   "cell_type": "markdown",
   "metadata": {},
   "source": [
    "### Solution"
   ]
  },
  {
   "cell_type": "code",
   "execution_count": null,
   "metadata": {},
   "outputs": [],
   "source": [
    "def rats(n1, n2, n12):\n",
    "    return int((n1+1) * (n2 + 1) / (n12 + 1) - 1)\n",
    "\n",
    "if __name__ == \"__main__\":\n",
    "    n1, n2, n12 = map(int, input().split())\n",
    "    \n",
    "    print(rats(n1, n2, n12))"
   ]
  }
 ],
 "metadata": {
  "kernelspec": {
   "display_name": "Python 3",
   "language": "python",
   "name": "python3"
  },
  "language_info": {
   "codemirror_mode": {
    "name": "ipython",
    "version": 3
   },
   "file_extension": ".py",
   "mimetype": "text/x-python",
   "name": "python",
   "nbconvert_exporter": "python",
   "pygments_lexer": "ipython3",
   "version": "3.7.3"
  }
 },
 "nbformat": 4,
 "nbformat_minor": 2
}
