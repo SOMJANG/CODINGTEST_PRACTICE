{
 "cells": [
  {
   "cell_type": "markdown",
   "metadata": {},
   "source": [
    "## 2022년 5월 9일 월요일\n",
    "### BaekJoon - Next in line (Python) \n",
    "### 문제 : https://www.acmicpc.net/problem/6749\n",
    "### 블로그 : https://somjang.tistory.com/entry/BaekJoon-6749%EB%B2%88-Next-in-line-Python"
   ]
  },
  {
   "cell_type": "markdown",
   "metadata": {},
   "source": [
    "### Solution"
   ]
  },
  {
   "cell_type": "code",
   "execution_count": null,
   "metadata": {},
   "outputs": [],
   "source": [
    "def next_in_line(youngest_age, middle_age):\n",
    "    return 2 * middle_age - youngest_age\n",
    "\n",
    "\n",
    "if __name__ == \"__main__\":\n",
    "    youngest_age = int(input())\n",
    "    middle_age = int(input())\n",
    "    \n",
    "    print(next_in_line(youngest_age, middle_age))"
   ]
  }
 ],
 "metadata": {
  "kernelspec": {
   "display_name": "Python 3",
   "language": "python",
   "name": "python3"
  },
  "language_info": {
   "codemirror_mode": {
    "name": "ipython",
    "version": 3
   },
   "file_extension": ".py",
   "mimetype": "text/x-python",
   "name": "python",
   "nbconvert_exporter": "python",
   "pygments_lexer": "ipython3",
   "version": "3.7.3"
  }
 },
 "nbformat": 4,
 "nbformat_minor": 2
}
