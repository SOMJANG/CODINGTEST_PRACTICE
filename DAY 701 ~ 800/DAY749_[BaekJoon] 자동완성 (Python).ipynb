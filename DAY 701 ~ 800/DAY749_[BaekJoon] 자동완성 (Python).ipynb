{
 "cells": [
  {
   "cell_type": "markdown",
   "metadata": {},
   "source": [
    "## 2022년 7월 1일 금요일\n",
    "### BaekJoon - 자동완성 (Python) \n",
    "### 문제 : https://www.acmicpc.net/problem/24883\n",
    "### 블로그 : https://somjang.tistory.com/entry/BaekJoon-24883%EB%B2%88-%EC%9E%90%EB%8F%99%EC%99%84%EC%84%B1-Python"
   ]
  },
  {
   "cell_type": "markdown",
   "metadata": {},
   "source": [
    "### Solution"
   ]
  },
  {
   "cell_type": "code",
   "execution_count": null,
   "metadata": {},
   "outputs": [],
   "source": [
    "def autocomplete(alpha):\n",
    "    answer = \"Naver D2\"\n",
    "    \n",
    "    if alpha not in {\"N\", \"n\"}:\n",
    "        answer = \"Naver Whale\"\n",
    "        \n",
    "    return answer\n",
    "\n",
    "\n",
    "if __name__ == \"__main__\":\n",
    "    alpha = input()\n",
    "    print(autocomplete(alpha))"
   ]
  }
 ],
 "metadata": {
  "kernelspec": {
   "display_name": "Python 3",
   "language": "python",
   "name": "python3"
  },
  "language_info": {
   "codemirror_mode": {
    "name": "ipython",
    "version": 3
   },
   "file_extension": ".py",
   "mimetype": "text/x-python",
   "name": "python",
   "nbconvert_exporter": "python",
   "pygments_lexer": "ipython3",
   "version": "3.7.3"
  }
 },
 "nbformat": 4,
 "nbformat_minor": 2
}
