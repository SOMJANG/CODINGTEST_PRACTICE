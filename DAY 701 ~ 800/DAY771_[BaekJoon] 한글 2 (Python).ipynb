{
 "cells": [
  {
   "cell_type": "markdown",
   "metadata": {},
   "source": [
    "## 2022년 7월 29일 금요일\n",
    "### BaekJoon - 한글 2 (Python)  \n",
    "### 문제 : https://www.acmicpc.net/problem/11283\n",
    "### 블로그 : https://somjang.tistory.com/entry/BaekJoon-11283%EB%B2%88-%ED%95%9C%EA%B8%80-2-Python"
   ]
  },
  {
   "cell_type": "markdown",
   "metadata": {},
   "source": [
    "### Solution 1"
   ]
  },
  {
   "cell_type": "code",
   "execution_count": null,
   "metadata": {},
   "outputs": [],
   "source": [
    "def korean_2(word):\n",
    "    return ord(word) - ord('가') + 1\n",
    "\n",
    "\n",
    "if __name__ == \"__main__\":\n",
    "    word = input()\n",
    "    print(korean_2(word))"
   ]
  }
 ],
 "metadata": {
  "kernelspec": {
   "display_name": "Python 3",
   "language": "python",
   "name": "python3"
  },
  "language_info": {
   "codemirror_mode": {
    "name": "ipython",
    "version": 3
   },
   "file_extension": ".py",
   "mimetype": "text/x-python",
   "name": "python",
   "nbconvert_exporter": "python",
   "pygments_lexer": "ipython3",
   "version": "3.7.3"
  }
 },
 "nbformat": 4,
 "nbformat_minor": 2
}
