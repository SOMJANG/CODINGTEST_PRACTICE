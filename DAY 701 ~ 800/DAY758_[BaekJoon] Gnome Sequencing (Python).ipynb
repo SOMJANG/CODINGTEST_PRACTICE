{
 "cells": [
  {
   "cell_type": "markdown",
   "metadata": {},
   "source": [
    "## 2022년 7월 12일 화요일\n",
    "### BaekJoon - Gnome Sequencing (Python) \n",
    "### 문제 : https://www.acmicpc.net/problem/4589\n",
    "### 블로그 : https://somjang.tistory.com/entry/BaekJoon-4589%EB%B2%88-Gnome-Sequencing-Python"
   ]
  },
  {
   "cell_type": "markdown",
   "metadata": {},
   "source": [
    "### Solution"
   ]
  },
  {
   "cell_type": "code",
   "execution_count": null,
   "metadata": {},
   "outputs": [],
   "source": [
    "def gnomes_is_ordered_or_not(gnomes):\n",
    "    is_ordered = False\n",
    "    order_check_list = []\n",
    "    for idx in range(len(gnomes) - 1):\n",
    "        check_num = gnomes[idx] - gnomes[idx+1]\n",
    "        order_check_list.append(check_num < 0)\n",
    "        \n",
    "    if len(set(order_check_list)) == 1:\n",
    "        is_ordered = True\n",
    "        \n",
    "    return is_ordered\n",
    "        \n",
    "\n",
    "def gnome_sequencing(gnomes_list):\n",
    "    print(\"Gnomes:\")\n",
    "    for gnomes in gnomes_list:\n",
    "        is_ordered = gnomes_is_ordered_or_not(gnomes)\n",
    "        \n",
    "        if is_ordered:\n",
    "            print(\"Ordered\")\n",
    "        else:\n",
    "            print(\"Unordered\")\n",
    "\n",
    "            \n",
    "if __name__ == \"__main__\":\n",
    "    gnomes_list = []\n",
    "    \n",
    "    N = int(input())\n",
    "    \n",
    "    for _ in range(N):\n",
    "        gnomes = list(map(int, input().split()))\n",
    "        gnomes_list.append(gnomes)\n",
    "        \n",
    "    gnome_sequencing(gnomes_list)"
   ]
  }
 ],
 "metadata": {
  "kernelspec": {
   "display_name": "Python 3",
   "language": "python",
   "name": "python3"
  },
  "language_info": {
   "codemirror_mode": {
    "name": "ipython",
    "version": 3
   },
   "file_extension": ".py",
   "mimetype": "text/x-python",
   "name": "python",
   "nbconvert_exporter": "python",
   "pygments_lexer": "ipython3",
   "version": "3.7.3"
  }
 },
 "nbformat": 4,
 "nbformat_minor": 2
}
