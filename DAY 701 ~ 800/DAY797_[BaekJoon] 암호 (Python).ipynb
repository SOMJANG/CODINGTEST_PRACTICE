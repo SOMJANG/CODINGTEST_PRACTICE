{
 "cells": [
  {
   "cell_type": "markdown",
   "metadata": {},
   "source": [
    "## 2022년 8월 31일 수요일\n",
    "### BaekJoon - 암호 (Python)  \n",
    "### 문제 : https://www.acmicpc.net/problem/1718\n",
    "### 블로그 : https://somjang.tistory.com/entry/BaekJoon-1718-%EC%95%94%ED%98%B8-python"
   ]
  },
  {
   "cell_type": "markdown",
   "metadata": {},
   "source": [
    "### Solution"
   ]
  },
  {
   "cell_type": "code",
   "execution_count": null,
   "metadata": {},
   "outputs": [],
   "source": [
    "def encrypt_word(word, key):\n",
    "    return chr((ord(word) - ord(key) - 1) % 26 + ord(\"a\")) if word != \" \" else word\n",
    "    \n",
    "def encrypt_func(plain_text, key_text):\n",
    "    encrypted_text = \"\"\n",
    "    key_text_len = len(key_text)\n",
    "    \n",
    "    for idx, word in enumerate(plain_text):\n",
    "        encrypted_word = encrypt_word(\n",
    "            word=word, key=key_text[idx % key_text_len]\n",
    "        )\n",
    "        \n",
    "        encrypted_text += encrypted_word\n",
    "        \n",
    "    return encrypted_text\n",
    "        \n",
    "\n",
    "if __name__ == \"__main__\":\n",
    "    plain_text = input()\n",
    "    key_text = input()\n",
    "    \n",
    "    print(encrypt_func(plain_text=plain_text, key_text=key_text))"
   ]
  }
 ],
 "metadata": {
  "kernelspec": {
   "display_name": "Python 3",
   "language": "python",
   "name": "python3"
  },
  "language_info": {
   "codemirror_mode": {
    "name": "ipython",
    "version": 3
   },
   "file_extension": ".py",
   "mimetype": "text/x-python",
   "name": "python",
   "nbconvert_exporter": "python",
   "pygments_lexer": "ipython3",
   "version": "3.7.3"
  }
 },
 "nbformat": 4,
 "nbformat_minor": 2
}
