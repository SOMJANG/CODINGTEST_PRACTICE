{
 "cells": [
  {
   "cell_type": "markdown",
   "metadata": {},
   "source": [
    "## 2022년 5월 26일 목요일\n",
    "### BaekJoon - Site Score (Python) \n",
    "### 문제 : https://www.acmicpc.net/problem/20254\n",
    "### 블로그 : https://somjang.tistory.com/entry/BaekJoon-20254%EB%B2%88-Site-Score-Python"
   ]
  },
  {
   "cell_type": "markdown",
   "metadata": {},
   "source": [
    "### Solution"
   ]
  },
  {
   "cell_type": "code",
   "execution_count": null,
   "metadata": {},
   "outputs": [],
   "source": [
    "def site_score(numbers):\n",
    "    site_num = [56, 24, 14, 6]\n",
    "    \n",
    "    return sum([(site * num) for site, num in zip(site_num, numbers)])\n",
    "\n",
    "if __name__ == \"__main__\":\n",
    "    numbers = list(map(int, input().split()))\n",
    "    print(site_score(numbers))"
   ]
  }
 ],
 "metadata": {
  "kernelspec": {
   "display_name": "Python 3",
   "language": "python",
   "name": "python3"
  },
  "language_info": {
   "codemirror_mode": {
    "name": "ipython",
    "version": 3
   },
   "file_extension": ".py",
   "mimetype": "text/x-python",
   "name": "python",
   "nbconvert_exporter": "python",
   "pygments_lexer": "ipython3",
   "version": "3.7.3"
  }
 },
 "nbformat": 4,
 "nbformat_minor": 2
}
