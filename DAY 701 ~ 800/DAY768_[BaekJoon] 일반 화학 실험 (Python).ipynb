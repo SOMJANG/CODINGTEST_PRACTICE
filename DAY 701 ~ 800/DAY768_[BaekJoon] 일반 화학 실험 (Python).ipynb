{
 "cells": [
  {
   "cell_type": "markdown",
   "metadata": {},
   "source": [
    "## 2022년 7월 25일 월요일\n",
    "### BaekJoon - 일반 화학 실험 (Python)  \n",
    "### 문제 : https://www.acmicpc.net/problem/4766\n",
    "### 블로그 : https://somjang.tistory.com/entry/BaekJoon-4766%EB%B2%88-%EC%9D%BC%EB%B0%98-%ED%99%94%ED%95%99-%EC%8B%A4%ED%97%98-Python"
   ]
  },
  {
   "cell_type": "markdown",
   "metadata": {},
   "source": [
    "### Solution"
   ]
  },
  {
   "cell_type": "code",
   "execution_count": null,
   "metadata": {},
   "outputs": [],
   "source": [
    "def general_chemistry_experiment(temperature_list):\n",
    "    answer = []\n",
    "    \n",
    "    for idx in range(len(temperature_list) - 1):\n",
    "        temperature_diff = temperature_list[idx+1] - temperature_list[idx]\n",
    "        \n",
    "        temperature_diff = round(temperature_diff, 2)\n",
    "        \n",
    "        answer.append(temperature_diff)\n",
    "        \n",
    "    return answer\n",
    "\n",
    "\n",
    "if __name__ == \"__main__\":\n",
    "    temperature_list = []\n",
    "    while True:\n",
    "        temperature = float(input())\n",
    "        \n",
    "        if temperature == 999:\n",
    "            break\n",
    "            \n",
    "        temperature_list.append(temperature)\n",
    "        \n",
    "    for temperature_diff in general_chemistry_experiment(temperature_list):\n",
    "        print('%.2f'%temperature_diff)"
   ]
  }
 ],
 "metadata": {
  "kernelspec": {
   "display_name": "Python 3",
   "language": "python",
   "name": "python3"
  },
  "language_info": {
   "codemirror_mode": {
    "name": "ipython",
    "version": 3
   },
   "file_extension": ".py",
   "mimetype": "text/x-python",
   "name": "python",
   "nbconvert_exporter": "python",
   "pygments_lexer": "ipython3",
   "version": "3.7.3"
  }
 },
 "nbformat": 4,
 "nbformat_minor": 2
}
