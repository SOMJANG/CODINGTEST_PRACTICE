{
 "cells": [
  {
   "cell_type": "markdown",
   "metadata": {},
   "source": [
    "## 2022년 8월 25일 목요일\n",
    "### BaekJoon - 비밀 이메일 (Python)  \n",
    "### 문제 : https://www.acmicpc.net/problem/2999\n",
    "### 블로그 : https://somjang.tistory.com/entry/BaekJoon-2999%EB%B2%88-%EB%B9%84%EB%B0%80-%EC%9D%B4%EB%A9%94%EC%9D%BC-Python"
   ]
  },
  {
   "cell_type": "markdown",
   "metadata": {},
   "source": [
    "### Solution"
   ]
  },
  {
   "cell_type": "code",
   "execution_count": null,
   "metadata": {},
   "outputs": [],
   "source": [
    "def find_a_factor(N):\n",
    "    factor_list = []\n",
    "    cnt = 0\n",
    "    \n",
    "    for num in range(1, (N // 2) + 1):\n",
    "        if N % num == 0:\n",
    "            factor_list.append(num)\n",
    "    return factor_list\n",
    "\n",
    "\n",
    "def caculate_R_C(message_length):\n",
    "    factor_list = find_a_factor(N=message_length)\n",
    "    \n",
    "    factor_list_len = len(factor_list)\n",
    "    \n",
    "    r_c_idx = factor_list_len // 2\n",
    "    \n",
    "    if factor_list_len < 2:\n",
    "        R, C = 1, message_length\n",
    "    elif factor_list_len % 2 == 0 and factor_list_len > 1:\n",
    "        R = C = factor_list[r_c_idx]\n",
    "    else:\n",
    "        R, C = factor_list[r_c_idx], factor_list[r_c_idx + 1]\n",
    "    \n",
    "    return R, C\n",
    "    \n",
    "\n",
    "\n",
    "def encrypt_message(message):\n",
    "    encryped_message = \"\"\n",
    "    message_length = len(message)\n",
    "    \n",
    "    if message_length > 3:    \n",
    "        R, C = caculate_R_C(message_length=message_length)\n",
    "\n",
    "        for row in range(R):\n",
    "            for col in range(C):\n",
    "                encrypt_idx = row + R * col\n",
    "                encryped_message += message[encrypt_idx]\n",
    "    else:\n",
    "        return message\n",
    "    \n",
    "    return encryped_message\n",
    "\n",
    "\n",
    "if __name__ == \"__main__\":\n",
    "    message = input()\n",
    "    print(encrypt_message(message))"
   ]
  }
 ],
 "metadata": {
  "kernelspec": {
   "display_name": "Python 3",
   "language": "python",
   "name": "python3"
  },
  "language_info": {
   "codemirror_mode": {
    "name": "ipython",
    "version": 3
   },
   "file_extension": ".py",
   "mimetype": "text/x-python",
   "name": "python",
   "nbconvert_exporter": "python",
   "pygments_lexer": "ipython3",
   "version": "3.7.3"
  }
 },
 "nbformat": 4,
 "nbformat_minor": 2
}
