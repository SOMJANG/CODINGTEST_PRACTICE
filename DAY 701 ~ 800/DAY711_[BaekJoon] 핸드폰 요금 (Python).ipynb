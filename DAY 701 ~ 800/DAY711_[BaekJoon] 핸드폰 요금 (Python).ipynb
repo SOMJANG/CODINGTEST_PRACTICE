{
 "cells": [
  {
   "cell_type": "markdown",
   "metadata": {},
   "source": [
    "## 2022년 5월 18일 수요일\n",
    "### BaekJoon - 핸드폰 요금 (Python) \n",
    "### 문제 : https://www.acmicpc.net/problem/1267\n",
    "### 블로그 : https://somjang.tistory.com/entry/BaekJoon-1267%EB%B2%88-%ED%95%B8%EB%93%9C%ED%8F%B0-%EC%9A%94%EA%B8%88-Python"
   ]
  },
  {
   "cell_type": "markdown",
   "metadata": {},
   "source": [
    "### Solution"
   ]
  },
  {
   "cell_type": "code",
   "execution_count": null,
   "metadata": {},
   "outputs": [],
   "source": [
    "def minsik_plan(call_time):\n",
    "    fee = 0\n",
    "    \n",
    "    if call_time < 60:\n",
    "        fee = 15\n",
    "    elif 60 <= call_time < 120:\n",
    "        fee = 30\n",
    "    else:\n",
    "        fee = (call_time // 60) * 15 + 15\n",
    "        \n",
    "    return fee\n",
    "    \n",
    "    \n",
    "def youngsik_plan(call_time):\n",
    "    fee = 0\n",
    "    \n",
    "    if call_time < 30:\n",
    "        fee = 10\n",
    "    elif 30 <= call_time < 60:\n",
    "        fee = 20\n",
    "    else:\n",
    "        fee = (call_time // 30) * 10 + 10\n",
    "        \n",
    "    return fee\n",
    "\n",
    "\n",
    "def compare_plan(youngsik_plan_fee, minsik_plan_fee):\n",
    "    result = \"\"\n",
    "    if youngsik_plan_fee == minsik_plan_fee:\n",
    "        result = f\"Y M {youngsik_plan_fee}\"\n",
    "    elif youngsik_plan_fee < minsik_plan_fee:\n",
    "        result = f\"Y {youngsik_plan_fee}\"\n",
    "    else:\n",
    "        result = f\"M {minsik_plan_fee}\"\n",
    "        \n",
    "    return result\n",
    "        \n",
    "    \n",
    "\n",
    "def choice_plan(N, call_time_list):\n",
    "    youngsik_plan_fee, minsik_plan_fee = 0, 0\n",
    "    \n",
    "    for call_time in call_time_list:\n",
    "        youngsik_plan_fee += youngsik_plan(call_time)\n",
    "        minsik_plan_fee += minsik_plan(call_time)\n",
    "        \n",
    "    return compare_plan(youngsik_plan_fee, minsik_plan_fee)\n",
    "    \n",
    "    \n",
    "if __name__ == \"__main__\":\n",
    "    N = int(input())\n",
    "    call_time_list = list(map(int, input().split()))\n",
    "    \n",
    "    print(choice_plan(N, call_time_list))"
   ]
  }
 ],
 "metadata": {
  "kernelspec": {
   "display_name": "Python 3",
   "language": "python",
   "name": "python3"
  },
  "language_info": {
   "codemirror_mode": {
    "name": "ipython",
    "version": 3
   },
   "file_extension": ".py",
   "mimetype": "text/x-python",
   "name": "python",
   "nbconvert_exporter": "python",
   "pygments_lexer": "ipython3",
   "version": "3.7.3"
  }
 },
 "nbformat": 4,
 "nbformat_minor": 2
}
