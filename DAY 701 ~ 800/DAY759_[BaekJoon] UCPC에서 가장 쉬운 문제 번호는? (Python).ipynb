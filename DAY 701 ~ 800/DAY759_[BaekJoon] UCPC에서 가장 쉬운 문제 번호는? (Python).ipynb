{
 "cells": [
  {
   "cell_type": "markdown",
   "metadata": {},
   "source": [
    "## 2022년 7월 14일 목요일\n",
    "### BaekJoon - UCPC에서 가장 쉬운 문제 번호는? (Python) \n",
    "### 문제 : https://www.acmicpc.net/problem/25311\n",
    "### 블로그 : https://somjang.tistory.com/entry/BaekJoon-25311%EB%B2%88-UCPC%EC%97%90%EC%84%9C-%EA%B0%80%EC%9E%A5-%EC%89%AC%EC%9A%B4-%EB%AC%B8%EC%A0%9C-%EB%B2%88%ED%98%B8%EB%8A%94-Python"
   ]
  },
  {
   "cell_type": "markdown",
   "metadata": {},
   "source": [
    "### Solution"
   ]
  },
  {
   "cell_type": "code",
   "execution_count": null,
   "metadata": {},
   "outputs": [],
   "source": [
    "def easieat_problem_number_in_the_year_at_ucpc(year):\n",
    "    problem_number = \"A\"\n",
    "    if year == 2018 or year == 2019 or year == 2020 or year == 2021 or year == 2022:\n",
    "        problem_number = \"A\"\n",
    "    return problem_number\n",
    "\n",
    "\n",
    "if __name__ == \"__main__\":\n",
    "    year = int(input())\n",
    "    print(easieat_problem_number_in_the_year_at_ucpc(year=year))"
   ]
  }
 ],
 "metadata": {
  "kernelspec": {
   "display_name": "Python 3",
   "language": "python",
   "name": "python3"
  },
  "language_info": {
   "codemirror_mode": {
    "name": "ipython",
    "version": 3
   },
   "file_extension": ".py",
   "mimetype": "text/x-python",
   "name": "python",
   "nbconvert_exporter": "python",
   "pygments_lexer": "ipython3",
   "version": "3.7.3"
  }
 },
 "nbformat": 4,
 "nbformat_minor": 2
}
