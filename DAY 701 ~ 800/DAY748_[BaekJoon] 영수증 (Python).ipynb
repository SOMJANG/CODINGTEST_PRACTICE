{
 "cells": [
  {
   "cell_type": "markdown",
   "metadata": {},
   "source": [
    "## 2022년 6월 30일 목요일\n",
    "### BaekJoon - 영수증 (Python) \n",
    "### 문제 : https://www.acmicpc.net/problem/25304\n",
    "### 블로그 : https://somjang.tistory.com/entry/BaekJoon-25304%EB%B2%88-%EC%98%81%EC%88%98%EC%A6%9D-Python"
   ]
  },
  {
   "cell_type": "markdown",
   "metadata": {},
   "source": [
    "### Solution"
   ]
  },
  {
   "cell_type": "code",
   "execution_count": null,
   "metadata": {},
   "outputs": [],
   "source": [
    "def calculate(value):\n",
    "    return value[0] * value[1]\n",
    "\n",
    "def receipt(X, receipt_list):\n",
    "    answer = \"No\"\n",
    "    calculate_value = sum([calculate(value) for value in receipt_list])\n",
    "    \n",
    "    if X == calculate_value:\n",
    "        answer = \"Yes\"\n",
    "        \n",
    "    return answer\n",
    "    \n",
    "    \n",
    "if __name__ == \"__main__\":\n",
    "    X = int(input())\n",
    "    \n",
    "    receipt_list = []\n",
    "    \n",
    "    for _ in range(int(input())):\n",
    "        money, num = map(int, input().split())\n",
    "        \n",
    "        receipt_list.append((money, num))\n",
    "        \n",
    "    print(receipt(X, receipt_list))"
   ]
  }
 ],
 "metadata": {
  "kernelspec": {
   "display_name": "Python 3",
   "language": "python",
   "name": "python3"
  },
  "language_info": {
   "codemirror_mode": {
    "name": "ipython",
    "version": 3
   },
   "file_extension": ".py",
   "mimetype": "text/x-python",
   "name": "python",
   "nbconvert_exporter": "python",
   "pygments_lexer": "ipython3",
   "version": "3.7.3"
  }
 },
 "nbformat": 4,
 "nbformat_minor": 2
}
