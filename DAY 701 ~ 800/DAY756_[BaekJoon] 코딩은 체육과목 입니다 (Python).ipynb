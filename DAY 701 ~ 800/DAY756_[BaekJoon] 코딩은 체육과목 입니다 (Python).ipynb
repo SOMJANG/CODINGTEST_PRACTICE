{
 "cells": [
  {
   "cell_type": "markdown",
   "metadata": {},
   "source": [
    "## 2022년 7월 10일 일요일\n",
    "### BaekJoon - 코딩은 체육과목 입니다 (Python) \n",
    "### 문제 : https://www.acmicpc.net/problem/25314\n",
    "### 블로그 : https://somjang.tistory.com/entry/BaekJoon-25314%EB%B2%88-%EC%BD%94%EB%94%A9%EC%9D%80-%EC%B2%B4%EC%9C%A1%EA%B3%BC%EB%AA%A9-%EC%9E%85%EB%8B%88%EB%8B%A4-Python"
   ]
  },
  {
   "cell_type": "markdown",
   "metadata": {},
   "source": [
    "### Solution"
   ]
  },
  {
   "cell_type": "code",
   "execution_count": null,
   "metadata": {},
   "outputs": [],
   "source": [
    "def coding_is_a_physical_education_subject(N):\n",
    "    answer = [\"long\"] * (N // 4) \n",
    "    answer += [\"int\"]\n",
    "    \n",
    "    return \" \".join(answer)\n",
    "\n",
    "\n",
    "if __name__ == \"__main__\":\n",
    "    N = int(input())\n",
    "    \n",
    "    print(coding_is_a_physical_education_subject(N))"
   ]
  }
 ],
 "metadata": {
  "kernelspec": {
   "display_name": "Python 3",
   "language": "python",
   "name": "python3"
  },
  "language_info": {
   "codemirror_mode": {
    "name": "ipython",
    "version": 3
   },
   "file_extension": ".py",
   "mimetype": "text/x-python",
   "name": "python",
   "nbconvert_exporter": "python",
   "pygments_lexer": "ipython3",
   "version": "3.7.3"
  }
 },
 "nbformat": 4,
 "nbformat_minor": 2
}
