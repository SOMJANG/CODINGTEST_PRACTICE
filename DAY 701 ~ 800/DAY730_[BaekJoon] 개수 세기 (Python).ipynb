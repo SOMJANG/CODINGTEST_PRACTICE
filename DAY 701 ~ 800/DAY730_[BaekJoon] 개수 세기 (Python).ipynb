{
 "cells": [
  {
   "cell_type": "markdown",
   "metadata": {},
   "source": [
    "## 2022년 6월 6일 월요일\n",
    "### BaekJoon - 개수 세기 (Python) \n",
    "### 문제 : https://www.acmicpc.net/problem/10807\n",
    "### 블로그 : https://somjang.tistory.com/entry/BaekJoon-10807%EB%B2%88-%EA%B0%9C%EC%88%98-%EC%84%B8%EA%B8%B0-Python"
   ]
  },
  {
   "cell_type": "markdown",
   "metadata": {},
   "source": [
    "### Solution"
   ]
  },
  {
   "cell_type": "code",
   "execution_count": null,
   "metadata": {},
   "outputs": [],
   "source": [
    "from collections import Counter\n",
    "\n",
    "def counting_number(numbers, v):\n",
    "    answer = 0\n",
    "    cnt = Counter(numbers)\n",
    "    \n",
    "    if v in cnt:\n",
    "        answer = cnt[v]\n",
    "        \n",
    "    return answer\n",
    "\n",
    "\n",
    "if __name__ == \"__main__\":\n",
    "    N = int(input())\n",
    "    numbers = list(map(int, input().split()))\n",
    "    v = int(input())\n",
    "    \n",
    "    print(counting_number(numbers, v))"
   ]
  },
  {
   "cell_type": "code",
   "execution_count": null,
   "metadata": {},
   "outputs": [],
   "source": [
    "def counting_number(numbers, v):\n",
    "    ans_list = [num for num in numbers if num == v]\n",
    "    \n",
    "    return len(ans_list)\n",
    "\n",
    "\n",
    "if __name__ == \"__main__\":\n",
    "    N = int(input())\n",
    "    numbers = list(map(int, input().split()))\n",
    "    v = int(input())\n",
    "    \n",
    "    print(counting_number(numbers, v))"
   ]
  }
 ],
 "metadata": {
  "kernelspec": {
   "display_name": "Python 3",
   "language": "python",
   "name": "python3"
  },
  "language_info": {
   "codemirror_mode": {
    "name": "ipython",
    "version": 3
   },
   "file_extension": ".py",
   "mimetype": "text/x-python",
   "name": "python",
   "nbconvert_exporter": "python",
   "pygments_lexer": "ipython3",
   "version": "3.7.3"
  }
 },
 "nbformat": 4,
 "nbformat_minor": 2
}
