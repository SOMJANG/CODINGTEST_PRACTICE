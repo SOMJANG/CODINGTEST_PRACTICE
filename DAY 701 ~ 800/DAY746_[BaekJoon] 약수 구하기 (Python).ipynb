{
 "cells": [
  {
   "cell_type": "markdown",
   "metadata": {},
   "source": [
    "## 2022년 6월 27일 월요일\n",
    "### BaekJoon - 약수 구하기 (Python) \n",
    "### 문제 : https://www.acmicpc.net/problem/2501\n",
    "### 블로그 : https://somjang.tistory.com/entry/BaekJoon-2501%EB%B2%88-%EC%95%BD%EC%88%98-%EA%B5%AC%ED%95%98%EA%B8%B0-Python"
   ]
  },
  {
   "cell_type": "markdown",
   "metadata": {},
   "source": [
    "### Solution"
   ]
  },
  {
   "cell_type": "code",
   "execution_count": null,
   "metadata": {},
   "outputs": [],
   "source": [
    "def find_a_factor(N, K):\n",
    "    answer = 0\n",
    "    cnt = 0\n",
    "    \n",
    "    for num in range(1, N+1):\n",
    "        if N % num == 0:\n",
    "            cnt += 1\n",
    "        \n",
    "        if cnt == K:\n",
    "            answer = num\n",
    "            break\n",
    "            \n",
    "    return answer\n",
    "\n",
    "\n",
    "if __name__ == \"__main__\":\n",
    "    N, K = map(int, input().split())\n",
    "    \n",
    "    print(find_a_factor(N, K))"
   ]
  }
 ],
 "metadata": {
  "kernelspec": {
   "display_name": "Python 3",
   "language": "python",
   "name": "python3"
  },
  "language_info": {
   "codemirror_mode": {
    "name": "ipython",
    "version": 3
   },
   "file_extension": ".py",
   "mimetype": "text/x-python",
   "name": "python",
   "nbconvert_exporter": "python",
   "pygments_lexer": "ipython3",
   "version": "3.7.3"
  }
 },
 "nbformat": 4,
 "nbformat_minor": 2
}
