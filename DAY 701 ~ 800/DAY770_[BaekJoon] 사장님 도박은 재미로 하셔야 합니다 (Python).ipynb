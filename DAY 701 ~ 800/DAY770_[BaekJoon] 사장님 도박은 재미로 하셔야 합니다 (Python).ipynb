{
 "cells": [
  {
   "cell_type": "markdown",
   "metadata": {},
   "source": [
    "## 2022년 7월 28일 목요일\n",
    "### BaekJoon - 사장님 도박은 재미로 하셔야 합니다 (Python)  \n",
    "### 문제 : https://www.acmicpc.net/problem/23795\n",
    "### 블로그 : https://somjang.tistory.com/entry/BaekJoon-23795%EB%B2%88-%EC%82%AC%EC%9E%A5%EB%8B%98-%EB%8F%84%EB%B0%95%EC%9D%80-%EC%9E%AC%EB%AF%B8%EB%A1%9C-%ED%95%98%EC%85%94%EC%95%BC-%ED%95%A9%EB%8B%88%EB%8B%A4-Python"
   ]
  },
  {
   "cell_type": "markdown",
   "metadata": {},
   "source": [
    "### Solution"
   ]
  },
  {
   "cell_type": "code",
   "execution_count": null,
   "metadata": {},
   "outputs": [],
   "source": [
    "def calculate_total_money(money_list):\n",
    "    return sum(money_list)\n",
    "\n",
    "\n",
    "if __name__ == \"__main__\":\n",
    "    money_list = []\n",
    "    \n",
    "    while True:\n",
    "        money = int(input())\n",
    "        \n",
    "        if money == -1:\n",
    "            break\n",
    "            \n",
    "        money_list.append(money)\n",
    "        \n",
    "    print(calculate_total_money(money_list=money_list))"
   ]
  }
 ],
 "metadata": {
  "kernelspec": {
   "display_name": "Python 3",
   "language": "python",
   "name": "python3"
  },
  "language_info": {
   "codemirror_mode": {
    "name": "ipython",
    "version": 3
   },
   "file_extension": ".py",
   "mimetype": "text/x-python",
   "name": "python",
   "nbconvert_exporter": "python",
   "pygments_lexer": "ipython3",
   "version": "3.7.3"
  }
 },
 "nbformat": 4,
 "nbformat_minor": 2
}
