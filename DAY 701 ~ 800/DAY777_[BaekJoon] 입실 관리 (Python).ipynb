{
 "cells": [
  {
   "cell_type": "markdown",
   "metadata": {},
   "source": [
    "## 2022년 8월 7일 일요일\n",
    "### BaekJoon - 입실 관리 (Python)  \n",
    "### 문제 : https://www.acmicpc.net/problem/5524\n",
    "### 블로그 : https://somjang.tistory.com/entry/BaekJoon-5524%EB%B2%88-%EC%9E%85%EC%8B%A4-%EA%B4%80%EB%A6%AC-Python"
   ]
  },
  {
   "cell_type": "markdown",
   "metadata": {},
   "source": [
    "### Solution"
   ]
  },
  {
   "cell_type": "code",
   "execution_count": null,
   "metadata": {},
   "outputs": [],
   "source": [
    "def str_lower(string):\n",
    "    return string.lower()\n",
    "\n",
    "def room_management(name_list):\n",
    "    for idx, name in enumerate(name_list):\n",
    "        name_list[idx] = str_lower(string=name)\n",
    "        \n",
    "    return name_list\n",
    "        \n",
    "    \n",
    "if __name__ == \"__main__\":\n",
    "    name_list = []\n",
    "    \n",
    "    N = int(input())\n",
    "    \n",
    "    for _ in range(N):\n",
    "        name = input()\n",
    "        name_list.append(name)\n",
    "        \n",
    "    room_management(name_list=name_list)\n",
    "    \n",
    "    for name in name_list:\n",
    "        print(name)"
   ]
  }
 ],
 "metadata": {
  "kernelspec": {
   "display_name": "Python 3",
   "language": "python",
   "name": "python3"
  },
  "language_info": {
   "codemirror_mode": {
    "name": "ipython",
    "version": 3
   },
   "file_extension": ".py",
   "mimetype": "text/x-python",
   "name": "python",
   "nbconvert_exporter": "python",
   "pygments_lexer": "ipython3",
   "version": "3.7.3"
  }
 },
 "nbformat": 4,
 "nbformat_minor": 2
}
