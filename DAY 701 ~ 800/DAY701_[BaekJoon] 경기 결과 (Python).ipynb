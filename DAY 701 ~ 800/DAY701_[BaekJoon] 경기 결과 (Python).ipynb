{
 "cells": [
  {
   "cell_type": "markdown",
   "metadata": {},
   "source": [
    "## 2022년 5월 8일 일요일\n",
    "### BaekJoon - 경기 결과 (Python) \n",
    "### 문제 : https://www.acmicpc.net/problem/5523\n",
    "### 블로그 : https://somjang.tistory.com/entry/BaekJoon-5523%EB%B2%88-%EA%B2%BD%EA%B8%B0-%EA%B2%B0%EA%B3%BC-Python"
   ]
  },
  {
   "cell_type": "markdown",
   "metadata": {},
   "source": [
    "### Solution"
   ]
  },
  {
   "cell_type": "code",
   "execution_count": null,
   "metadata": {},
   "outputs": [],
   "source": [
    "import sys\n",
    "\n",
    "def match_result(match_scores):\n",
    "    a_team, b_team = 0, 0\n",
    "    \n",
    "    for score in match_scores:\n",
    "        a_score, b_score = score[0], score[1]\n",
    "        if a_score > b_score:\n",
    "            a_team += 1\n",
    "        elif a_score < b_score:\n",
    "            b_team += 1\n",
    "            \n",
    "    return f\"{a_team} {b_team}\"\n",
    "\n",
    "\n",
    "if __name__ == \"__main__\":\n",
    "    N = int(sys.stdin.readline())\n",
    "    \n",
    "    match_scores = []\n",
    "    for _ in range(N):\n",
    "        a_score, b_score = map(int, sys.stdin.readline().split())\n",
    "        match_scores.append((a_score, b_score))\n",
    "        \n",
    "    print(match_result(match_scores))"
   ]
  }
 ],
 "metadata": {
  "kernelspec": {
   "display_name": "Python 3",
   "language": "python",
   "name": "python3"
  },
  "language_info": {
   "codemirror_mode": {
    "name": "ipython",
    "version": 3
   },
   "file_extension": ".py",
   "mimetype": "text/x-python",
   "name": "python",
   "nbconvert_exporter": "python",
   "pygments_lexer": "ipython3",
   "version": "3.7.3"
  }
 },
 "nbformat": 4,
 "nbformat_minor": 2
}
