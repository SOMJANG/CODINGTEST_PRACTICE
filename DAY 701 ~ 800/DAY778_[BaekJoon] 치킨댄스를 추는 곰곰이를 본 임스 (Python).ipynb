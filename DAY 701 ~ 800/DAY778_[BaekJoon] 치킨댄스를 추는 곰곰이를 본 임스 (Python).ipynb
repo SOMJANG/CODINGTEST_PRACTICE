{
 "cells": [
  {
   "cell_type": "markdown",
   "metadata": {},
   "source": [
    "## 2022년 8월 8일 월요일\n",
    "### BaekJoon - 치킨댄스를 추는 곰곰이를 본 임스 (Python)  \n",
    "### 문제 : https://www.acmicpc.net/problem/25191\n",
    "### 블로그 : https://somjang.tistory.com/entry/BaekJoon-25191%EB%B2%88-%EC%B9%98%ED%82%A8%EB%8C%84%EC%8A%A4%EB%A5%BC-%EC%B6%94%EB%8A%94-%EA%B3%B0%EA%B3%B0%EC%9D%B4%EB%A5%BC-%EB%B3%B8-%EC%9E%84%EC%8A%A4-Python"
   ]
  },
  {
   "cell_type": "markdown",
   "metadata": {},
   "source": [
    "### Solution"
   ]
  },
  {
   "cell_type": "code",
   "execution_count": null,
   "metadata": {},
   "outputs": [],
   "source": [
    "def get_max_chicken_num(coke, beer):\n",
    "    return ((coke) // 2) + beer\n",
    "\n",
    "\n",
    "def chicken_dance(N, A, B):\n",
    "    answer = N\n",
    "    \n",
    "    max_chicken_num = get_max_chicken_num(coke=A, beer=B)\n",
    "    \n",
    "    if N > max_chicken_num:\n",
    "        answer = max_chicken_num\n",
    "        \n",
    "    return answer \n",
    "\n",
    "\n",
    "if __name__ == \"__main__\":\n",
    "    N = int(input())\n",
    "    \n",
    "    A, B = map(int, input().split())\n",
    "    \n",
    "    \n",
    "    print(chicken_dance(N, A, B))"
   ]
  }
 ],
 "metadata": {
  "kernelspec": {
   "display_name": "Python 3",
   "language": "python",
   "name": "python3"
  },
  "language_info": {
   "codemirror_mode": {
    "name": "ipython",
    "version": 3
   },
   "file_extension": ".py",
   "mimetype": "text/x-python",
   "name": "python",
   "nbconvert_exporter": "python",
   "pygments_lexer": "ipython3",
   "version": "3.7.3"
  }
 },
 "nbformat": 4,
 "nbformat_minor": 2
}
