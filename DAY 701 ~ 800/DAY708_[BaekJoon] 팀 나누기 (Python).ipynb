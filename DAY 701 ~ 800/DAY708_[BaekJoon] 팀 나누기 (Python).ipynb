{
 "cells": [
  {
   "cell_type": "markdown",
   "metadata": {},
   "source": [
    "## 2022년 5월 15일 일요일\n",
    "### BaekJoon - 팀 나누기 (Python) \n",
    "### 문제 : https://www.acmicpc.net/problem/13866\n",
    "### 블로그 : https://somjang.tistory.com/entry/BaekJoon-13866%EB%B2%88-%ED%8C%80-%EB%82%98%EB%88%84%EA%B8%B0-Python"
   ]
  },
  {
   "cell_type": "markdown",
   "metadata": {},
   "source": [
    "### Solution"
   ]
  },
  {
   "cell_type": "code",
   "execution_count": null,
   "metadata": {},
   "outputs": [],
   "source": [
    "def split_the_team(skill_level):\n",
    "    skill_level = sorted(skill_level)\n",
    "    \n",
    "    team1 = skill_level[0] + skill_level[3]\n",
    "    team2 = skill_level[1] + skill_level[2]\n",
    "    \n",
    "    return abs(team1 - team2)\n",
    "\n",
    "\n",
    "if __name__ == \"__main__\":\n",
    "    skill_level = list(map(int, input().split()))\n",
    "    \n",
    "    print(split_the_team(skill_level))"
   ]
  }
 ],
 "metadata": {
  "kernelspec": {
   "display_name": "Python 3",
   "language": "python",
   "name": "python3"
  },
  "language_info": {
   "codemirror_mode": {
    "name": "ipython",
    "version": 3
   },
   "file_extension": ".py",
   "mimetype": "text/x-python",
   "name": "python",
   "nbconvert_exporter": "python",
   "pygments_lexer": "ipython3",
   "version": "3.7.3"
  }
 },
 "nbformat": 4,
 "nbformat_minor": 2
}
