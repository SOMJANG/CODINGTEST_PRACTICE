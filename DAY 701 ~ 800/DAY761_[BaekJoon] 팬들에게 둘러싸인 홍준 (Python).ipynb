{
 "cells": [
  {
   "cell_type": "markdown",
   "metadata": {},
   "source": [
    "## 2022년 7월 16일 토요일\n",
    "### BaekJoon - 팬들에게 둘러싸인 홍준 (Python) \n",
    "### 문제 : https://www.acmicpc.net/problem/14581\n",
    "### 블로그 : https://somjang.tistory.com/entry/BaekJoon-14581%EB%B2%88-%ED%8C%AC%EB%93%A4%EC%97%90%EA%B2%8C-%EB%91%98%EB%9F%AC%EC%8B%B8%EC%9D%B8-%ED%99%8D%EC%A4%80-Python"
   ]
  },
  {
   "cell_type": "markdown",
   "metadata": {},
   "source": [
    "### Solution"
   ]
  },
  {
   "cell_type": "code",
   "execution_count": null,
   "metadata": {},
   "outputs": [],
   "source": [
    "def surrounded_by_fans(hongjoon):\n",
    "    base = [[\":fan:\" for _ in range(3)] for _ in range(3)]\n",
    "    \n",
    "    base[1][1] = f\":{hongjoon}:\"\n",
    "    \n",
    "    answer = \"\\n\".join([\"\".join(ans) for ans in base])\n",
    "    \n",
    "    return answer\n",
    "\n",
    "\n",
    "if __name__ == \"__main__\":\n",
    "    hongjoon = input()\n",
    "    \n",
    "    print(surrounded_by_fans(hongjoon))"
   ]
  }
 ],
 "metadata": {
  "kernelspec": {
   "display_name": "Python 3",
   "language": "python",
   "name": "python3"
  },
  "language_info": {
   "codemirror_mode": {
    "name": "ipython",
    "version": 3
   },
   "file_extension": ".py",
   "mimetype": "text/x-python",
   "name": "python",
   "nbconvert_exporter": "python",
   "pygments_lexer": "ipython3",
   "version": "3.7.3"
  }
 },
 "nbformat": 4,
 "nbformat_minor": 2
}
