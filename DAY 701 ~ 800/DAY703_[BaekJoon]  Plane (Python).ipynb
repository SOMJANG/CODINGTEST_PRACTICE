{
 "cells": [
  {
   "cell_type": "markdown",
   "metadata": {},
   "source": [
    "## 2022년 5월 10일 화요일\n",
    "### BaekJoon - Plane (Python) \n",
    "### 문제 : https://www.acmicpc.net/problem/8370\n",
    "### 블로그 : https://somjang.tistory.com/entry/BaekJoon-8370%EB%B2%88-Plane-Python"
   ]
  },
  {
   "cell_type": "markdown",
   "metadata": {},
   "source": [
    "### Solution"
   ]
  },
  {
   "cell_type": "code",
   "execution_count": null,
   "metadata": {},
   "outputs": [],
   "source": [
    "def plane(n1, k1, n2, k2):\n",
    "    return (n1 * k1) + (n2 * k2)\n",
    "\n",
    "\n",
    "if __name__ == \"__main__\":\n",
    "    n1, k1, n2, k2 = map(int, input().split())\n",
    "    print(plane(n1, k1, n2, k2))"
   ]
  }
 ],
 "metadata": {
  "kernelspec": {
   "display_name": "Python 3",
   "language": "python",
   "name": "python3"
  },
  "language_info": {
   "codemirror_mode": {
    "name": "ipython",
    "version": 3
   },
   "file_extension": ".py",
   "mimetype": "text/x-python",
   "name": "python",
   "nbconvert_exporter": "python",
   "pygments_lexer": "ipython3",
   "version": "3.7.3"
  }
 },
 "nbformat": 4,
 "nbformat_minor": 2
}
