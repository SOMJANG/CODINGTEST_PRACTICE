{
 "cells": [
  {
   "cell_type": "markdown",
   "metadata": {},
   "source": [
    "## 2022년 7월 2일 토요일\n",
    "### BaekJoon - 최대공약수 (Python) \n",
    "### 문제 : https://www.acmicpc.net/problem/1850\n",
    "### 블로그 : https://somjang.tistory.com/entry/BaekJoon-1850%EB%B2%88-%EC%B5%9C%EB%8C%80%EA%B3%B5%EC%95%BD%EC%88%98-Python"
   ]
  },
  {
   "cell_type": "markdown",
   "metadata": {},
   "source": [
    "### Solution"
   ]
  },
  {
   "cell_type": "code",
   "execution_count": null,
   "metadata": {},
   "outputs": [],
   "source": [
    "def gcd(a, b):\n",
    "    mod = a%b\n",
    "    while mod > 0:\n",
    "        a = b\n",
    "        b = mod\n",
    "        mod = a%b\n",
    "    return b\n",
    "\n",
    "def greatest_common_factor(A, B):\n",
    "    gcd_num = gcd(A, B)\n",
    "    \n",
    "    return \"1\" * gcd_num\n",
    "    \n",
    "\n",
    "if __name__ == \"__main__\":\n",
    "    A, B = map(int, input().split())\n",
    "    \n",
    "    print(greatest_common_factor(A, B))"
   ]
  }
 ],
 "metadata": {
  "kernelspec": {
   "display_name": "Python 3",
   "language": "python",
   "name": "python3"
  },
  "language_info": {
   "codemirror_mode": {
    "name": "ipython",
    "version": 3
   },
   "file_extension": ".py",
   "mimetype": "text/x-python",
   "name": "python",
   "nbconvert_exporter": "python",
   "pygments_lexer": "ipython3",
   "version": "3.7.3"
  }
 },
 "nbformat": 4,
 "nbformat_minor": 2
}
