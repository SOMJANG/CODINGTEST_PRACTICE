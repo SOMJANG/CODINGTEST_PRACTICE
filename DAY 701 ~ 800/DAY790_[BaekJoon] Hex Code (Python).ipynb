{
 "cells": [
  {
   "cell_type": "markdown",
   "metadata": {},
   "source": [
    "## 2022년 8월 22일 월요일\n",
    "### BaekJoon - Hex Code (Python)  \n",
    "### 문제 : https://www.acmicpc.net/problem/11784\n",
    "### 블로그 : https://somjang.tistory.com/entry/BaekJoon-11784%EB%B2%88-Hex-Code-Python"
   ]
  },
  {
   "cell_type": "markdown",
   "metadata": {},
   "source": [
    "### Solution"
   ]
  },
  {
   "cell_type": "code",
   "execution_count": null,
   "metadata": {},
   "outputs": [],
   "source": [
    "def hex_code(code):\n",
    "    return bytearray.fromhex(code).decode()\n",
    "\n",
    "if __name__ == \"__main__\":\n",
    "    while True:\n",
    "        try:\n",
    "            code = input()\n",
    "\n",
    "            print(hex_code(code))\n",
    "        except EOFError:\n",
    "            break"
   ]
  }
 ],
 "metadata": {
  "kernelspec": {
   "display_name": "Python 3",
   "language": "python",
   "name": "python3"
  },
  "language_info": {
   "codemirror_mode": {
    "name": "ipython",
    "version": 3
   },
   "file_extension": ".py",
   "mimetype": "text/x-python",
   "name": "python",
   "nbconvert_exporter": "python",
   "pygments_lexer": "ipython3",
   "version": "3.7.3"
  }
 },
 "nbformat": 4,
 "nbformat_minor": 2
}
