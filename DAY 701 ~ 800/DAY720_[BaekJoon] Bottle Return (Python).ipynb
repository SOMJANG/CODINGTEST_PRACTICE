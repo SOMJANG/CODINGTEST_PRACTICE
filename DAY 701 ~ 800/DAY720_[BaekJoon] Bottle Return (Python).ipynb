{
 "cells": [
  {
   "cell_type": "markdown",
   "metadata": {},
   "source": [
    "## 2022년 5월 27일 금요일\n",
    "### BaekJoon - Bottle Return (Python) \n",
    "### 문제 : https://www.acmicpc.net/problem/21300\n",
    "### 블로그 : https://somjang.tistory.com/entry/BaekJoon-21300%EB%B2%88-Bottle-Return-Python"
   ]
  },
  {
   "cell_type": "markdown",
   "metadata": {},
   "source": [
    "### Solution"
   ]
  },
  {
   "cell_type": "code",
   "execution_count": null,
   "metadata": {},
   "outputs": [],
   "source": [
    "def caculate_money(bottle_num, fee):\n",
    "    return bottle_num * fee\n",
    "\n",
    "def bottle_return(bottle_list, fee_list):\n",
    "    deposit_list = [(bottle_num * fee) for bottle_num, fee in zip(bottle_list, fee_list)]\n",
    "    \n",
    "    return sum(deposit_list)\n",
    "\n",
    "\n",
    "if __name__ == \"__main__\":\n",
    "    bottle_list = list(map(int, input().split()))\n",
    "    \n",
    "    fee_list = [5] * len(bottle_list)\n",
    "    \n",
    "    total_deposit = bottle_return(bottle_list, fee_list)\n",
    "    \n",
    "    print(total_deposit)"
   ]
  }
 ],
 "metadata": {
  "kernelspec": {
   "display_name": "Python 3",
   "language": "python",
   "name": "python3"
  },
  "language_info": {
   "codemirror_mode": {
    "name": "ipython",
    "version": 3
   },
   "file_extension": ".py",
   "mimetype": "text/x-python",
   "name": "python",
   "nbconvert_exporter": "python",
   "pygments_lexer": "ipython3",
   "version": "3.7.3"
  }
 },
 "nbformat": 4,
 "nbformat_minor": 2
}
