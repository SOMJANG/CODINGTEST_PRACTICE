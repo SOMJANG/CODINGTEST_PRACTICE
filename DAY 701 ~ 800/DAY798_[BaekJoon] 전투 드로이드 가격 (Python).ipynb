{
 "cells": [
  {
   "cell_type": "markdown",
   "metadata": {},
   "source": [
    "## 2022년 9월 1일 목요일\n",
    "### BaekJoon - 전투 드로이드 가격 (Python)  \n",
    "### 문제 : https://www.acmicpc.net/problem/5361\n",
    "### 블로그 : https://somjang.tistory.com/entry/BaekJoon-5361%EB%B2%88-%EC%A0%84%ED%88%AC-%EB%93%9C%EB%A1%9C%EC%9D%B4%EB%93%9C-%EA%B0%80%EA%B2%A9-Pyhton"
   ]
  },
  {
   "cell_type": "markdown",
   "metadata": {},
   "source": [
    "### Solution"
   ]
  },
  {
   "cell_type": "code",
   "execution_count": null,
   "metadata": {},
   "outputs": [],
   "source": [
    "def battle_droid_price(parts_num_list):\n",
    "    price_list = [350.34, 230.90, 190.55, 125.30, 180.90]\n",
    "    \n",
    "    whole_price = sum([(price * parts) for price, parts in zip(price_list, parts_num_list)])\n",
    "    \n",
    "    return f\"${'%.2f'%whole_price}\"\n",
    "        \n",
    "        \n",
    "if __name__ == \"__main__\":\n",
    "    for _ in range(int(input())):\n",
    "        parts_num_list = map(float, input().split())\n",
    "        \n",
    "        print(battle_droid_price(parts_num_list))"
   ]
  }
 ],
 "metadata": {
  "kernelspec": {
   "display_name": "Python 3",
   "language": "python",
   "name": "python3"
  },
  "language_info": {
   "codemirror_mode": {
    "name": "ipython",
    "version": 3
   },
   "file_extension": ".py",
   "mimetype": "text/x-python",
   "name": "python",
   "nbconvert_exporter": "python",
   "pygments_lexer": "ipython3",
   "version": "3.7.3"
  }
 },
 "nbformat": 4,
 "nbformat_minor": 2
}
