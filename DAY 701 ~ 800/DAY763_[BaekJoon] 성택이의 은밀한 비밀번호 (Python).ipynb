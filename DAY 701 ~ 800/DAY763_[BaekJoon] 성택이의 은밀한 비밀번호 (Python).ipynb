{
 "cells": [
  {
   "cell_type": "markdown",
   "metadata": {},
   "source": [
    "## 2022년 7월 19일 화요일\n",
    "### BaekJoon - 성택이의 은밀한 비밀번호 (Python) \n",
    "### 문제 : https://www.acmicpc.net/problem/25372\n",
    "### 블로그 : https://somjang.tistory.com/entry/BaekJoon-25372%EB%B2%88-%EC%84%B1%ED%83%9D%EC%9D%B4%EC%9D%98-%EC%9D%80%EB%B0%80%ED%95%9C-%EB%B9%84%EB%B0%80%EB%B2%88%ED%98%B8-Python"
   ]
  },
  {
   "cell_type": "markdown",
   "metadata": {},
   "source": [
    "### Solution"
   ]
  },
  {
   "cell_type": "code",
   "execution_count": null,
   "metadata": {},
   "outputs": [],
   "source": [
    "def is_valid_password(password):\n",
    "    is_valid = False\n",
    "    \n",
    "    if 5 < len(password) < 10:\n",
    "        is_valid = True\n",
    "        \n",
    "    return is_valid\n",
    "        \n",
    "\n",
    "def sungtak_secret_password(password):\n",
    "    answer= \"no\"\n",
    "    \n",
    "    is_valid = is_valid_password(password=password)\n",
    "    \n",
    "    if is_valid:\n",
    "        answer = \"yes\"\n",
    "        \n",
    "    return answer \n",
    "\n",
    "\n",
    "if __name__ == \"__main__\":\n",
    "    for _ in range(int(input())):\n",
    "        password = input()\n",
    "        \n",
    "        print(sungtak_secret_password(password=password))"
   ]
  }
 ],
 "metadata": {
  "kernelspec": {
   "display_name": "Python 3",
   "language": "python",
   "name": "python3"
  },
  "language_info": {
   "codemirror_mode": {
    "name": "ipython",
    "version": 3
   },
   "file_extension": ".py",
   "mimetype": "text/x-python",
   "name": "python",
   "nbconvert_exporter": "python",
   "pygments_lexer": "ipython3",
   "version": "3.7.3"
  }
 },
 "nbformat": 4,
 "nbformat_minor": 2
}
