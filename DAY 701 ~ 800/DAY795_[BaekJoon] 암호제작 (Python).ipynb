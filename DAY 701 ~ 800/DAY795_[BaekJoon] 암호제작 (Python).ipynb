{
 "cells": [
  {
   "cell_type": "markdown",
   "metadata": {},
   "source": [
    "## 2022년 8월 29 월요일\n",
    "### BaekJoon - 암호제작 (Python)  \n",
    "### 문제 : https://www.acmicpc.net/problem/1837\n",
    "### 블로그 : https://somjang.tistory.com/entry/BaekJoon-1837%EB%B2%88-%EC%95%94%ED%98%B8%EC%A0%9C%EC%9E%91-Python"
   ]
  },
  {
   "cell_type": "markdown",
   "metadata": {},
   "source": [
    "### Solution"
   ]
  },
  {
   "cell_type": "code",
   "execution_count": null,
   "metadata": {},
   "outputs": [],
   "source": [
    "def prime_number_eratos(N):\n",
    "    nums = [True] * (N + 1)\n",
    "    for i in range(2, len(nums) // 2 + 1):\n",
    "        if nums[i] == True:\n",
    "            for j in range(i+i, N, i):\n",
    "                nums[j] = False\n",
    "    return [i for i in range(2, N) if nums[i] == True]\n",
    "\n",
    "def make_password(P, K):\n",
    "    answer = \"GOOD\"\n",
    "    primary_number_list = prime_number_eratos(N=K)\n",
    "    \n",
    "    for prime_idx, prime_number in enumerate(primary_number_list):\n",
    "        if P % prime_number == 0:\n",
    "            answer = f\"BAD {prime_number}\"\n",
    "            break\n",
    "            \n",
    "    return answer\n",
    "    \n",
    "    \n",
    "if __name__ == \"__main__\":\n",
    "    P, K = map(int, input().split())\n",
    "    \n",
    "    print(make_password(P, K))"
   ]
  }
 ],
 "metadata": {
  "kernelspec": {
   "display_name": "Python 3",
   "language": "python",
   "name": "python3"
  },
  "language_info": {
   "codemirror_mode": {
    "name": "ipython",
    "version": 3
   },
   "file_extension": ".py",
   "mimetype": "text/x-python",
   "name": "python",
   "nbconvert_exporter": "python",
   "pygments_lexer": "ipython3",
   "version": "3.7.3"
  }
 },
 "nbformat": 4,
 "nbformat_minor": 2
}
