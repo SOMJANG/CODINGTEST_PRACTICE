{
 "cells": [
  {
   "cell_type": "markdown",
   "metadata": {},
   "source": [
    "## 2022년 5월 12일 목요일\n",
    "### BaekJoon - 이진수 덧셈 (Python) \n",
    "### 문제 : https://www.acmicpc.net/problem/1252\n",
    "### 블로그 : https://somjang.tistory.com/entry/BaekJoon-1252%EB%B2%88-%EC%9D%B4%EC%A7%84%EC%88%98-%EB%8D%A7%EC%85%88-Python"
   ]
  },
  {
   "cell_type": "markdown",
   "metadata": {},
   "source": [
    "### Solution"
   ]
  },
  {
   "cell_type": "code",
   "execution_count": null,
   "metadata": {},
   "outputs": [],
   "source": [
    "def binary_sum(bin1, bin2):\n",
    "    num1, num2 = int(bin1, 2), int(bin2, 2)\n",
    "    \n",
    "    num3 = num1 + num2\n",
    "    \n",
    "    return bin(num3)[2:]\n",
    "\n",
    "\n",
    "if __name__ == \"__main__\":\n",
    "    bin1, bin2 = input().split()\n",
    "    \n",
    "    print(binary_sum(bin1, bin2))"
   ]
  }
 ],
 "metadata": {
  "kernelspec": {
   "display_name": "Python 3",
   "language": "python",
   "name": "python3"
  },
  "language_info": {
   "codemirror_mode": {
    "name": "ipython",
    "version": 3
   },
   "file_extension": ".py",
   "mimetype": "text/x-python",
   "name": "python",
   "nbconvert_exporter": "python",
   "pygments_lexer": "ipython3",
   "version": "3.7.3"
  }
 },
 "nbformat": 4,
 "nbformat_minor": 2
}
