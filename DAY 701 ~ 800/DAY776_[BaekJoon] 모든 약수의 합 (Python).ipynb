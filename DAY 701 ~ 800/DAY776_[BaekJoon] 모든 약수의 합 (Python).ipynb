{
 "cells": [
  {
   "cell_type": "markdown",
   "metadata": {},
   "source": [
    "## 2022년 8월 5일 금요일\n",
    "### BaekJoon - 모든 약수의 합 (Python)  \n",
    "### 문제 : https://www.acmicpc.net/problem/9506\n",
    "### 블로그 : https://somjang.tistory.com/entry/BaekJoon-9506%EB%B2%88-%EB%AA%A8%EB%93%A0-%EC%95%BD%EC%88%98%EC%9D%98-%ED%95%A9-Python"
   ]
  },
  {
   "cell_type": "markdown",
   "metadata": {},
   "source": [
    "### Solution 1"
   ]
  },
  {
   "cell_type": "code",
   "execution_count": null,
   "metadata": {},
   "outputs": [],
   "source": [
    "def find_a_factor(N):\n",
    "    factor_list = []\n",
    "    cnt = 0\n",
    "    \n",
    "    for num in range(1, (N // 2) + 1):\n",
    "        if N % num == 0:\n",
    "            factor_list.append(num)\n",
    "    return factor_list\n",
    "\n",
    "\n",
    "def whole_factor_sum(N):\n",
    "    factor_list = find_a_factor(N)\n",
    "    \n",
    "    if sum(factor_list) == N:\n",
    "        answer = f\"{N} = {' + '.join(map(str, factor_list))}\"\n",
    "    else:\n",
    "        answer = f\"{N} is NOT perfect.\"\n",
    "        \n",
    "        \n",
    "    return answer\n",
    "\n",
    "\n",
    "if __name__ == \"__main__\":\n",
    "    while True:\n",
    "        N = int(input())\n",
    "        \n",
    "        if N == -1:\n",
    "            break\n",
    "            \n",
    "        print(whole_factor_sum(N))\n"
   ]
  }
 ],
 "metadata": {
  "kernelspec": {
   "display_name": "Python 3",
   "language": "python",
   "name": "python3"
  },
  "language_info": {
   "codemirror_mode": {
    "name": "ipython",
    "version": 3
   },
   "file_extension": ".py",
   "mimetype": "text/x-python",
   "name": "python",
   "nbconvert_exporter": "python",
   "pygments_lexer": "ipython3",
   "version": "3.7.3"
  }
 },
 "nbformat": 4,
 "nbformat_minor": 2
}
