{
 "cells": [
  {
   "cell_type": "markdown",
   "metadata": {},
   "source": [
    "## 2022년 6월 3일 금요일\n",
    "### BaekJoon - 나는 행복합니다~ (Python) \n",
    "### 문제 : https://www.acmicpc.net/problem/14652\n",
    "### 블로그 : https://somjang.tistory.com/entry/BaekJoon-14652%EB%B2%88-%EB%82%98%EB%8A%94-%ED%96%89%EB%B3%B5%ED%95%A9%EB%8B%88%EB%8B%A4-Python"
   ]
  },
  {
   "cell_type": "markdown",
   "metadata": {},
   "source": [
    "### Solution"
   ]
  },
  {
   "cell_type": "code",
   "execution_count": null,
   "metadata": {},
   "outputs": [],
   "source": [
    "def i_am_happy(N, M, K):\n",
    "    # i + j * M = K\n",
    "    i = K // M \n",
    "    j = K % M\n",
    "    \n",
    "    return f\"{i} {j}\"\n",
    "\n",
    "\n",
    "if __name__ == \"__main__\":\n",
    "    N, M, K = map(int, input().split())\n",
    "    print(i_am_happy(N, M, K))"
   ]
  }
 ],
 "metadata": {
  "kernelspec": {
   "display_name": "Python 3",
   "language": "python",
   "name": "python3"
  },
  "language_info": {
   "codemirror_mode": {
    "name": "ipython",
    "version": 3
   },
   "file_extension": ".py",
   "mimetype": "text/x-python",
   "name": "python",
   "nbconvert_exporter": "python",
   "pygments_lexer": "ipython3",
   "version": "3.7.3"
  }
 },
 "nbformat": 4,
 "nbformat_minor": 2
}
