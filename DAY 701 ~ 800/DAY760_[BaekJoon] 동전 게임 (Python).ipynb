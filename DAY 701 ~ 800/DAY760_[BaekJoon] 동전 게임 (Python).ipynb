{
 "cells": [
  {
   "cell_type": "markdown",
   "metadata": {},
   "source": [
    "## 2022년 7월 15일 금요일\n",
    "### BaekJoon - 동전 게임 (Python) \n",
    "### 문제 : https://www.acmicpc.net/problem/2684\n",
    "### 블로그 : https://somjang.tistory.com/entry/BaekJoon-2684%EB%B2%88-%EB%8F%99%EC%A0%84-%EA%B2%8C%EC%9E%84-Python"
   ]
  },
  {
   "cell_type": "markdown",
   "metadata": {},
   "source": [
    "### Solution"
   ]
  },
  {
   "cell_type": "code",
   "execution_count": null,
   "metadata": {},
   "outputs": [],
   "source": [
    "def check_coin_case(case):\n",
    "    check_list = [\n",
    "        \"TTT\", \"TTH\", \"THT\", \"THH\", \n",
    "        \"HTT\", \"HTH\", \"HHT\", \"HHH\",\n",
    "    ]\n",
    "    \n",
    "    check_result = []\n",
    "    \n",
    "    for check in check_list:\n",
    "        check_count = 0\n",
    "        for idx in range(len(case) - len(check) + 1):\n",
    "            curr_coin = case[idx:idx+len(check)]\n",
    "            \n",
    "            if curr_coin == check:\n",
    "                check_count += 1\n",
    "                \n",
    "        check_result.append(check_count)\n",
    "        \n",
    "    return check_result\n",
    "\n",
    "\n",
    "def coin_game(case_list):\n",
    "    answer = []\n",
    "    \n",
    "    for case in case_list:\n",
    "        check_result = check_coin_case(case=case)\n",
    "        check_result = \" \".join(list(map(str, check_result)))\n",
    "        answer.append(check_result)\n",
    "        \n",
    "    return answer\n",
    "\n",
    "\n",
    "if __name__ == \"__main__\":\n",
    "    N = int(input())\n",
    "    case_list = []\n",
    "    \n",
    "    for _ in range(N):\n",
    "        case = input()\n",
    "        case_list.append(case)\n",
    "        \n",
    "    answer = coin_game(case_list=case_list)\n",
    "    \n",
    "    for ans in answer:\n",
    "        print(ans)\n",
    "        "
   ]
  }
 ],
 "metadata": {
  "kernelspec": {
   "display_name": "Python 3",
   "language": "python",
   "name": "python3"
  },
  "language_info": {
   "codemirror_mode": {
    "name": "ipython",
    "version": 3
   },
   "file_extension": ".py",
   "mimetype": "text/x-python",
   "name": "python",
   "nbconvert_exporter": "python",
   "pygments_lexer": "ipython3",
   "version": "3.7.3"
  }
 },
 "nbformat": 4,
 "nbformat_minor": 2
}
