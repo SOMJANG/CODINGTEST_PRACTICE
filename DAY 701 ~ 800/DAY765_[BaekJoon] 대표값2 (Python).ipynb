{
 "cells": [
  {
   "cell_type": "markdown",
   "metadata": {},
   "source": [
    "## 2022년 7월 22일 금요일\n",
    "### BaekJoon - 대표값2 (Python)  \n",
    "### 문제 : https://www.acmicpc.net/problem/2587\n",
    "### 블로그 : https://somjang.tistory.com/entry/BaekJoon-2587%EB%B2%88-%EB%8C%80%ED%91%9C%EA%B0%922-Python"
   ]
  },
  {
   "cell_type": "markdown",
   "metadata": {},
   "source": [
    "### Solution"
   ]
  },
  {
   "cell_type": "code",
   "execution_count": null,
   "metadata": {},
   "outputs": [],
   "source": [
    "def representative_value_2(numbers):\n",
    "    return (sum(numbers) // len(numbers)), sorted(numbers)[2]\n",
    "\n",
    "\n",
    "if __name__ == \"__main__\":\n",
    "    numbers = []\n",
    "    for _ in range(5):\n",
    "        numbers.append(int(input()))\n",
    "        \n",
    "    avg, center = representative_value_2(numbers)\n",
    "    print(avg)\n",
    "    print(center)"
   ]
  }
 ],
 "metadata": {
  "kernelspec": {
   "display_name": "Python 3",
   "language": "python",
   "name": "python3"
  },
  "language_info": {
   "codemirror_mode": {
    "name": "ipython",
    "version": 3
   },
   "file_extension": ".py",
   "mimetype": "text/x-python",
   "name": "python",
   "nbconvert_exporter": "python",
   "pygments_lexer": "ipython3",
   "version": "3.7.3"
  }
 },
 "nbformat": 4,
 "nbformat_minor": 2
}
