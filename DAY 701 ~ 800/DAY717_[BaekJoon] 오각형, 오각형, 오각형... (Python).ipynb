{
 "cells": [
  {
   "cell_type": "markdown",
   "metadata": {},
   "source": [
    "## 2022년 5월 24일 화요일\n",
    "### BaekJoon - 오각형, 오각형, 오각형... (Python) \n",
    "### 문제 : https://www.acmicpc.net/problem/1964\n",
    "### 블로그 : https://somjang.tistory.com/entry/BaekJoon-1964%EB%B2%88-%EC%98%A4%EA%B0%81%ED%98%95-%EC%98%A4%EA%B0%81%ED%98%95-%EC%98%A4%EA%B0%81%ED%98%95-Python"
   ]
  },
  {
   "cell_type": "markdown",
   "metadata": {},
   "source": [
    "### Solution"
   ]
  },
  {
   "cell_type": "code",
   "execution_count": null,
   "metadata": {},
   "outputs": [],
   "source": [
    "def pentagon_pentagon_pentagon(N):\n",
    "    answer = 5\n",
    "    \n",
    "    for i in range(N-1):\n",
    "        answer += (4 + (i + 1) * 3)\n",
    "        \n",
    "    return answer % 45678\n",
    "\n",
    "if __name__ == \"__main__\":\n",
    "    N = int(input())\n",
    "    print(pentagon_pentagon_pentagon(N))"
   ]
  }
 ],
 "metadata": {
  "kernelspec": {
   "display_name": "Python 3",
   "language": "python",
   "name": "python3"
  },
  "language_info": {
   "codemirror_mode": {
    "name": "ipython",
    "version": 3
   },
   "file_extension": ".py",
   "mimetype": "text/x-python",
   "name": "python",
   "nbconvert_exporter": "python",
   "pygments_lexer": "ipython3",
   "version": "3.7.3"
  }
 },
 "nbformat": 4,
 "nbformat_minor": 2
}
