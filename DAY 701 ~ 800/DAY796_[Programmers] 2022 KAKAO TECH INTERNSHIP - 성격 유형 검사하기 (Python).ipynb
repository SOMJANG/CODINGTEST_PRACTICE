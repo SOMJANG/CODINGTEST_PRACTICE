{
 "cells": [
  {
   "cell_type": "markdown",
   "metadata": {},
   "source": [
    "## 2022년 8월 30일 화요일\n",
    "### Programmers 2022 KAKAO TECH INTERNSHIP - 성격 유형 검사하기 (Python)  \n",
    "### 문제 : https://school.programmers.co.kr/learn/courses/30/lessons/118666\n",
    "### 블로그 : https://somjang.tistory.com/entry/Programmers-2022-KAKAO-TECH-INTERNSHIP-%EC%84%B1%EA%B2%A9-%EC%9C%A0%ED%98%95-%EA%B2%80%EC%82%AC%ED%95%98%EA%B8%B0-Python"
   ]
  },
  {
   "cell_type": "markdown",
   "metadata": {},
   "source": [
    "### Solution"
   ]
  },
  {
   "cell_type": "code",
   "execution_count": null,
   "metadata": {},
   "outputs": [],
   "source": [
    "def get_character_score(question, choice, score_list):\n",
    "    if 1 <= choice <= 4:\n",
    "        character_type = question[0]\n",
    "        score = score_list[choice-1]\n",
    "    elif 5 <= choice <= 7:\n",
    "        character_type = question[1]\n",
    "        score = score_list[choice-1]\n",
    "        \n",
    "    return character_type, score\n",
    "\n",
    "\n",
    "def get_high_score_character(score_dict, character1, character2):\n",
    "    if score_dict[character1] > score_dict[character2]:\n",
    "        high_score_character = character1\n",
    "    elif score_dict[character1] < score_dict[character2]:\n",
    "        high_score_character = character2\n",
    "    else:\n",
    "        high_score_character = min(character1, character2)\n",
    "        \n",
    "    return high_score_character\n",
    "\n",
    "\n",
    "def make_character_type_string(score_dict):\n",
    "    character_type_string = \"\"\n",
    "    character_list = [\n",
    "        (\"R\", \"T\"), (\"C\", \"F\"), (\"J\", \"M\"), (\"A\", \"N\")\n",
    "    ]\n",
    "    \n",
    "    for character in character_list:\n",
    "        high_score_character = get_high_score_character(\n",
    "            score_dict=score_dict, \n",
    "            character1=character[0], character2=character[1]\n",
    "        )\n",
    "        character_type_string += high_score_character\n",
    "        \n",
    "    return character_type_string\n",
    "\n",
    "\n",
    "def solution(survey, choices):\n",
    "    character_type_score_dict = {\n",
    "        \"R\": 0, \"T\": 0, \"C\": 0, \"F\": 0,\n",
    "        \"J\": 0, \"M\": 0, \"A\": 0, \"N\": 0\n",
    "    }\n",
    "    score_list = [3, 2, 1, 0, 1, 2, 3]\n",
    "    \n",
    "    for question, choice in zip(survey, choices):\n",
    "        character_type, score = get_character_score(\n",
    "            question=question, choice=choice, score_list=score_list\n",
    "        )\n",
    "        \n",
    "        character_type_score_dict[character_type] += score\n",
    "        \n",
    "    return make_character_type_string(score_dict=character_type_score_dict)"
   ]
  }
 ],
 "metadata": {
  "kernelspec": {
   "display_name": "Python 3",
   "language": "python",
   "name": "python3"
  },
  "language_info": {
   "codemirror_mode": {
    "name": "ipython",
    "version": 3
   },
   "file_extension": ".py",
   "mimetype": "text/x-python",
   "name": "python",
   "nbconvert_exporter": "python",
   "pygments_lexer": "ipython3",
   "version": "3.7.3"
  }
 },
 "nbformat": 4,
 "nbformat_minor": 2
}
