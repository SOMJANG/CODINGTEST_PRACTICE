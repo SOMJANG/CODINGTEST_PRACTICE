{
 "cells": [
  {
   "cell_type": "markdown",
   "metadata": {},
   "source": [
    "## 2022년 8월 11일 목요일\n",
    "### BaekJoon - 미국 스타일 (Python)  \n",
    "### 문제 : https://www.acmicpc.net/problem/2712\n",
    "### 블로그 : https://somjang.tistory.com/entry/BaekJoon-2712%EB%B2%88-%EB%AF%B8%EA%B5%AD-%EC%8A%A4%ED%83%80%EC%9D%BC-Python"
   ]
  },
  {
   "cell_type": "markdown",
   "metadata": {},
   "source": [
    "### Solution"
   ]
  },
  {
   "cell_type": "code",
   "execution_count": null,
   "metadata": {},
   "outputs": [],
   "source": [
    "def kg_to_lb(kg):\n",
    "    return f\"{'%.4f'%round((kg * 2.2046), 4)} lb\"\n",
    "\n",
    "\n",
    "def lb_to_kg(lb):\n",
    "    return f\"{'%.4f'%round((lb * 0.4536), 4)} kg\"\n",
    "\n",
    "\n",
    "def l_to_g(l):\n",
    "    return f\"{'%.4f'%round((l * 0.2642), 4)} g\"\n",
    "\n",
    "\n",
    "def g_to_l(g):\n",
    "    return f\"{'%.4f'%round((g * 3.7854), 4)} l\"\n",
    "\n",
    "\n",
    "def convert_unit(case):\n",
    "    num, unit = case.split()\n",
    "    \n",
    "    num = float(num)\n",
    "    \n",
    "    if unit == \"kg\":\n",
    "        answer = kg_to_lb(kg=num)\n",
    "    elif unit == \"lb\":\n",
    "        answer = lb_to_kg(lb=num)\n",
    "    elif unit == \"l\":\n",
    "        answer = l_to_g(l=num)\n",
    "    elif unit == \"g\":\n",
    "        answer = g_to_l(g=num)\n",
    "        \n",
    "        \n",
    "    return answer\n",
    "\n",
    "\n",
    "if __name__ == \"__main__\":\n",
    "    for _ in range(int(input())):\n",
    "        case = input()\n",
    "        \n",
    "        print(convert_unit(case))"
   ]
  }
 ],
 "metadata": {
  "kernelspec": {
   "display_name": "Python 3",
   "language": "python",
   "name": "python3"
  },
  "language_info": {
   "codemirror_mode": {
    "name": "ipython",
    "version": 3
   },
   "file_extension": ".py",
   "mimetype": "text/x-python",
   "name": "python",
   "nbconvert_exporter": "python",
   "pygments_lexer": "ipython3",
   "version": "3.7.3"
  }
 },
 "nbformat": 4,
 "nbformat_minor": 2
}
