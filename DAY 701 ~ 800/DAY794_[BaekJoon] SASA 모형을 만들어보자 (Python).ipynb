{
 "cells": [
  {
   "cell_type": "markdown",
   "metadata": {},
   "source": [
    "## 2022년 8월 28 일요일\n",
    "### BaekJoon - SASA 모형을 만들어보자 (Python)  \n",
    "### 문제 : https://www.acmicpc.net/problem/23825\n",
    "### 블로그 : https://somjang.tistory.com/entry/BaekJoon-23825%EB%B2%88-SASA-%EB%AA%A8%ED%98%95%EC%9D%84-%EB%A7%8C%EB%93%A4%EC%96%B4%EB%B3%B4%EC%9E%90-Python"
   ]
  },
  {
   "cell_type": "markdown",
   "metadata": {},
   "source": [
    "### Solution"
   ]
  },
  {
   "cell_type": "code",
   "execution_count": null,
   "metadata": {},
   "outputs": [],
   "source": [
    "def make_sasa_model(S, A):\n",
    "    return min(S//2, A//2)\n",
    "\n",
    "if __name__ == \"__main__\":\n",
    "    S, A = map(int, input().split())\n",
    "    print(make_sasa_model(S, A))"
   ]
  }
 ],
 "metadata": {
  "kernelspec": {
   "display_name": "Python 3",
   "language": "python",
   "name": "python3"
  },
  "language_info": {
   "codemirror_mode": {
    "name": "ipython",
    "version": 3
   },
   "file_extension": ".py",
   "mimetype": "text/x-python",
   "name": "python",
   "nbconvert_exporter": "python",
   "pygments_lexer": "ipython3",
   "version": "3.7.3"
  }
 },
 "nbformat": 4,
 "nbformat_minor": 2
}
