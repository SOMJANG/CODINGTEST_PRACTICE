{
 "cells": [
  {
   "cell_type": "markdown",
   "metadata": {},
   "source": [
    "## 2022년 5월 11일 수요일\n",
    "### BaekJoon - 와이버스 부릉부릉 (Python) \n",
    "### 문제 : https://www.acmicpc.net/problem/14645\n",
    "### 블로그 : https://somjang.tistory.com/entry/BaekJoon-14645%EB%B2%88-%EC%99%80%EC%9D%B4%EB%B2%84%EC%8A%A4-%EB%B6%80%EB%A6%89%EB%B6%80%EB%A6%89-Python"
   ]
  },
  {
   "cell_type": "markdown",
   "metadata": {},
   "source": [
    "### Solution"
   ]
  },
  {
   "cell_type": "code",
   "execution_count": null,
   "metadata": {},
   "outputs": [],
   "source": [
    "import sys\n",
    "\n",
    "input = sys.stdin.readline\n",
    "\n",
    "\n",
    "def y_bus_bureung_bureung(N, K, B_A):\n",
    "    return \"비와이\"\n",
    "\n",
    "if __name__ == \"__main__\":\n",
    "    B_A = []\n",
    "    N, K = map(int, input().split())\n",
    "    \n",
    "    for _ in range(N):\n",
    "        b_a = input()\n",
    "        B_A.append(b_a)\n",
    "        \n",
    "    print(y_bus_bureung_bureung(N, K, B_A))"
   ]
  }
 ],
 "metadata": {
  "kernelspec": {
   "display_name": "Python 3",
   "language": "python",
   "name": "python3"
  },
  "language_info": {
   "codemirror_mode": {
    "name": "ipython",
    "version": 3
   },
   "file_extension": ".py",
   "mimetype": "text/x-python",
   "name": "python",
   "nbconvert_exporter": "python",
   "pygments_lexer": "ipython3",
   "version": "3.7.3"
  }
 },
 "nbformat": 4,
 "nbformat_minor": 2
}
