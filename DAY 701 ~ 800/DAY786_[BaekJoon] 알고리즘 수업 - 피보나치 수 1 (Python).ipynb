{
 "cells": [
  {
   "cell_type": "markdown",
   "metadata": {},
   "source": [
    "## 2022년 8월 16일 화요일\n",
    "### BaekJoon - 알고리즘 수업 - 피보나치 수 1 (Python)  \n",
    "### 문제 : https://www.acmicpc.net/problem/24416\n",
    "### 블로그 : https://somjang.tistory.com/entry/BaekJoon-24416%EB%B2%88-%EC%95%8C%EA%B3%A0%EB%A6%AC%EC%A6%98-%EC%88%98%EC%97%85-%ED%94%BC%EB%B3%B4%EB%82%98%EC%B9%98-%EC%88%98-1-Python"
   ]
  },
  {
   "cell_type": "markdown",
   "metadata": {},
   "source": [
    "### Solution"
   ]
  },
  {
   "cell_type": "code",
   "execution_count": null,
   "metadata": {},
   "outputs": [],
   "source": [
    "def fibo_recursive_func(n):\n",
    "    global recursive_num\n",
    "    recursive_num += 1\n",
    "    if n == 1 or n == 2:\n",
    "        recursive_num -= 1\n",
    "        return 1\n",
    "    else:\n",
    "        return fibo_recursive_func(n - 1) + fibo_recursive_func(n - 2)\n",
    "\n",
    "\n",
    "def fibo_dynamic_func(n):\n",
    "    func_exec_num = 0\n",
    "    fibo_list = [0, 1, 1]\n",
    "    \n",
    "    for idx in range(3, n + 1):\n",
    "        fibo_list.append(fibo_list[idx-1] + fibo_list[idx-2])\n",
    "        func_exec_num += 1\n",
    "    return func_exec_num\n",
    "\n",
    "\n",
    "if __name__ == \"__main__\":\n",
    "    n = int(input())\n",
    "    \n",
    "    recursive_num = 0\n",
    "    \n",
    "    fibo_recursive_func(n)\n",
    "    dynamic_num = fibo_dynamic_func(n)\n",
    "    \n",
    "    print(recursive_num+1, dynamic_num)"
   ]
  }
 ],
 "metadata": {
  "kernelspec": {
   "display_name": "Python 3",
   "language": "python",
   "name": "python3"
  },
  "language_info": {
   "codemirror_mode": {
    "name": "ipython",
    "version": 3
   },
   "file_extension": ".py",
   "mimetype": "text/x-python",
   "name": "python",
   "nbconvert_exporter": "python",
   "pygments_lexer": "ipython3",
   "version": "3.7.3"
  }
 },
 "nbformat": 4,
 "nbformat_minor": 2
}
