{
 "cells": [
  {
   "cell_type": "markdown",
   "metadata": {},
   "source": [
    "## 2022년 5월 16일 월요일\n",
    "### BaekJoon - 연세대학교 (Python) \n",
    "### 문제 : https://www.acmicpc.net/problem/15680\n",
    "### 블로그 : https://somjang.tistory.com/entry/BaekJoon-15680%EB%B2%88-%EC%97%B0%EC%84%B8%EB%8C%80%ED%95%99%EA%B5%90-Python"
   ]
  },
  {
   "cell_type": "markdown",
   "metadata": {},
   "source": [
    "### Solution"
   ]
  },
  {
   "cell_type": "code",
   "execution_count": null,
   "metadata": {},
   "outputs": [],
   "source": [
    "def yonsei_university(N):\n",
    "    return \"YONSEI\" if N == 0 else \"Leading the Way to the Future\"\n",
    "\n",
    "\n",
    "if __name__ == \"__main__\":\n",
    "    N = int(input())\n",
    "    print(yonsei_university(N))"
   ]
  }
 ],
 "metadata": {
  "kernelspec": {
   "display_name": "Python 3",
   "language": "python",
   "name": "python3"
  },
  "language_info": {
   "codemirror_mode": {
    "name": "ipython",
    "version": 3
   },
   "file_extension": ".py",
   "mimetype": "text/x-python",
   "name": "python",
   "nbconvert_exporter": "python",
   "pygments_lexer": "ipython3",
   "version": "3.7.3"
  }
 },
 "nbformat": 4,
 "nbformat_minor": 2
}
