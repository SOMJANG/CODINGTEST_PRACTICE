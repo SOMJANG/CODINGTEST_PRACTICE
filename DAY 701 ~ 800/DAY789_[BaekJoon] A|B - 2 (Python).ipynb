{
 "cells": [
  {
   "cell_type": "markdown",
   "metadata": {},
   "source": [
    "## 2022년 8월 21일 일요일\n",
    "### BaekJoon - 악마의 연차 계산기 (Python)  \n",
    "### 문제 : https://www.acmicpc.net/problem/23628\n",
    "### 블로그 : https://somjang.tistory.com/entry/BaekJoon-15792%EB%B2%88-AB-2-Python"
   ]
  },
  {
   "cell_type": "markdown",
   "metadata": {},
   "source": [
    "### Solution"
   ]
  },
  {
   "cell_type": "code",
   "execution_count": null,
   "metadata": {},
   "outputs": [],
   "source": [
    "def a_b_2(A, B):\n",
    "    answer = str(A // B)\n",
    "    \n",
    "    if A % B != 0:\n",
    "        answer += \".\"\n",
    "        idx = 0\n",
    "        \n",
    "        while A % B != 0 and idx < 1000:\n",
    "            A = A % B * 10\n",
    "            idx += 1\n",
    "            \n",
    "            answer += str(A // B)\n",
    "            \n",
    "    return answer\n",
    "\n",
    "\n",
    "if __name__ == \"__main__\":\n",
    "    A, B = map(int, input().split())\n",
    "    print(a_b_2(A, B))"
   ]
  }
 ],
 "metadata": {
  "kernelspec": {
   "display_name": "Python 3",
   "language": "python",
   "name": "python3"
  },
  "language_info": {
   "codemirror_mode": {
    "name": "ipython",
    "version": 3
   },
   "file_extension": ".py",
   "mimetype": "text/x-python",
   "name": "python",
   "nbconvert_exporter": "python",
   "pygments_lexer": "ipython3",
   "version": "3.7.3"
  }
 },
 "nbformat": 4,
 "nbformat_minor": 2
}
