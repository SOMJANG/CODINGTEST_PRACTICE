{
 "cells": [
  {
   "cell_type": "markdown",
   "metadata": {},
   "source": [
    "## 2022년 5월 14일 토요일\n",
    "### BaekJoon - 킹, 퀸, 룩, 비숍, 나이트, 폰 (Python) \n",
    "### 문제 : https://www.acmicpc.net/problem/3003\n",
    "### 블로그 : https://somjang.tistory.com/entry/BaekJoon-3003%EB%B2%88-%ED%82%B9-%ED%80%B8-%EB%A3%A9-%EB%B9%84%EC%88%8D-%EB%82%98%EC%9D%B4%ED%8A%B8-%ED%8F%B0-Python"
   ]
  },
  {
   "cell_type": "markdown",
   "metadata": {},
   "source": [
    "### Solution"
   ]
  },
  {
   "cell_type": "code",
   "execution_count": null,
   "metadata": {},
   "outputs": [],
   "source": [
    "def king_queen_rook_bishop_knight_pawn(donghyuk_found):\n",
    "    king, queen, rook, bishop, knight, pawn = 1, 1, 2, 2, 2, 8\n",
    "    \n",
    "    chess_piece = [king, queen, rook, bishop, knight, pawn]\n",
    "    \n",
    "    answer = [(piece - donghyuk_found[idx]) for idx, piece in enumerate(chess_piece)]\n",
    "        \n",
    "    return \" \".join(map(str, answer))\n",
    "\n",
    "\n",
    "if __name__ == \"__main__\":\n",
    "    donghyuk_found = list(map(int, input().split()))\n",
    "    \n",
    "    print(king_queen_rook_bishop_knight_pawn(donghyuk_found))"
   ]
  }
 ],
 "metadata": {
  "kernelspec": {
   "display_name": "Python 3",
   "language": "python",
   "name": "python3"
  },
  "language_info": {
   "codemirror_mode": {
    "name": "ipython",
    "version": 3
   },
   "file_extension": ".py",
   "mimetype": "text/x-python",
   "name": "python",
   "nbconvert_exporter": "python",
   "pygments_lexer": "ipython3",
   "version": "3.7.3"
  }
 },
 "nbformat": 4,
 "nbformat_minor": 2
}
