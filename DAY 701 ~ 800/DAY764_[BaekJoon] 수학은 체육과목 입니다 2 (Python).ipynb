{
 "cells": [
  {
   "cell_type": "markdown",
   "metadata": {},
   "source": [
    "## 2022년 7월 21일 목요일\n",
    "### BaekJoon - 수학은 체육과목 입니다 2 (Python)   \n",
    "### 문제 : https://www.acmicpc.net/problem/17362\n",
    "### 블로그 : https://somjang.tistory.com/entry/BaekJoon-17362%EB%B2%88-%EC%88%98%ED%95%99%EC%9D%80-%EC%B2%B4%EC%9C%A1%EA%B3%BC%EB%AA%A9-%EC%9E%85%EB%8B%88%EB%8B%A4-2-Python"
   ]
  },
  {
   "cell_type": "markdown",
   "metadata": {},
   "source": [
    "### Solution"
   ]
  },
  {
   "cell_type": "code",
   "execution_count": null,
   "metadata": {},
   "outputs": [],
   "source": [
    "def mathematics_is_a_physical_education_subject(n):\n",
    "    finger_check = n % 8\n",
    "    \n",
    "    if finger_check in {1}:\n",
    "        answer = 1\n",
    "    elif finger_check in {0, 2}:\n",
    "        answer = 2\n",
    "    elif finger_check in {3, 7}:\n",
    "        answer = 3\n",
    "    elif finger_check in {4, 6}:\n",
    "        answer = 4\n",
    "    else:\n",
    "        answer = 5\n",
    "        \n",
    "    return answer\n",
    "\n",
    "\n",
    "if __name__ == \"__main__\":\n",
    "    n = int(input())\n",
    "    \n",
    "    print(mathematics_is_a_physical_education_subject(n=n))"
   ]
  }
 ],
 "metadata": {
  "kernelspec": {
   "display_name": "Python 3",
   "language": "python",
   "name": "python3"
  },
  "language_info": {
   "codemirror_mode": {
    "name": "ipython",
    "version": 3
   },
   "file_extension": ".py",
   "mimetype": "text/x-python",
   "name": "python",
   "nbconvert_exporter": "python",
   "pygments_lexer": "ipython3",
   "version": "3.7.3"
  }
 },
 "nbformat": 4,
 "nbformat_minor": 2
}
