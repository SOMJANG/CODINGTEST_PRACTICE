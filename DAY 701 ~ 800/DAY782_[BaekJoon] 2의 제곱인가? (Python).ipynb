{
 "cells": [
  {
   "cell_type": "markdown",
   "metadata": {},
   "source": [
    "## 2022년 8월 12일 금요일\n",
    "### BaekJoon - 2의 제곱인가? (Python)  \n",
    "### 문제 : https://www.acmicpc.net/problem/11966\n",
    "### 블로그 : https://somjang.tistory.com/entry/BaekJoon-11966%EB%B2%88-2%EC%9D%98-%EC%A0%9C%EA%B3%B1%EC%9D%B8%EA%B0%80-Python"
   ]
  },
  {
   "cell_type": "markdown",
   "metadata": {},
   "source": [
    "### Solution"
   ]
  },
  {
   "cell_type": "code",
   "execution_count": null,
   "metadata": {},
   "outputs": [],
   "source": [
    "def get_pow_2_list(max_n):\n",
    "    return [pow(2, n) for n in range(max_n + 1)]\n",
    "\n",
    "\n",
    "def is_pow_2(N):\n",
    "    is_pow = False\n",
    "    pow_list = get_pow_2_list(max_n=30)\n",
    "    \n",
    "    if N in pow_list:\n",
    "        is_pow = True\n",
    "        \n",
    "    return is_pow\n",
    "\n",
    "\n",
    "if __name__ == \"__main__\":\n",
    "    N = int(input())\n",
    "    \n",
    "    print(int(is_pow_2(N)))"
   ]
  }
 ],
 "metadata": {
  "kernelspec": {
   "display_name": "Python 3",
   "language": "python",
   "name": "python3"
  },
  "language_info": {
   "codemirror_mode": {
    "name": "ipython",
    "version": 3
   },
   "file_extension": ".py",
   "mimetype": "text/x-python",
   "name": "python",
   "nbconvert_exporter": "python",
   "pygments_lexer": "ipython3",
   "version": "3.7.3"
  }
 },
 "nbformat": 4,
 "nbformat_minor": 2
}
