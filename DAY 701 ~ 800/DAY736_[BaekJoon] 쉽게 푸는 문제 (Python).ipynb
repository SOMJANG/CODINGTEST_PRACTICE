{
 "cells": [
  {
   "cell_type": "markdown",
   "metadata": {},
   "source": [
    "## 2022년 6월 14일 화요일\n",
    "### BaekJoon - 쉽게 푸는 문제 (Python) \n",
    "### 문제 : https://www.acmicpc.net/problem/1292\n",
    "### 블로그 : https://somjang.tistory.com/entry/BaekJoon-1292%EB%B2%88-%EC%89%BD%EA%B2%8C-%ED%91%B8%EB%8A%94-%EB%AC%B8%EC%A0%9C-Python"
   ]
  },
  {
   "cell_type": "markdown",
   "metadata": {},
   "source": [
    "### Solution"
   ]
  },
  {
   "cell_type": "code",
   "execution_count": null,
   "metadata": {},
   "outputs": [],
   "source": [
    "def make_number_list(start, end):\n",
    "    number_list = []\n",
    "    \n",
    "    number = 1\n",
    "    \n",
    "    while True:\n",
    "        if len(number_list) > end:\n",
    "            break\n",
    "            \n",
    "        number_list += [number] * number\n",
    "        \n",
    "        number += 1\n",
    "            \n",
    "    return number_list[start-1:end]\n",
    "\n",
    "def easy_solve_problem(start, end):\n",
    "    number_list = make_number_list(start, end)\n",
    "    return sum(number_list)\n",
    "\n",
    "if __name__ == \"__main__\":\n",
    "    A, B = map(int, input().split())\n",
    "    print(easy_solve_problem(start=A, end=B))"
   ]
  }
 ],
 "metadata": {
  "kernelspec": {
   "display_name": "Python 3",
   "language": "python",
   "name": "python3"
  },
  "language_info": {
   "codemirror_mode": {
    "name": "ipython",
    "version": 3
   },
   "file_extension": ".py",
   "mimetype": "text/x-python",
   "name": "python",
   "nbconvert_exporter": "python",
   "pygments_lexer": "ipython3",
   "version": "3.7.3"
  }
 },
 "nbformat": 4,
 "nbformat_minor": 2
}
