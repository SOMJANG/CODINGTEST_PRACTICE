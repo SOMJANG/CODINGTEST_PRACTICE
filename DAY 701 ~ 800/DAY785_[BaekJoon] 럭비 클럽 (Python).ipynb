{
 "cells": [
  {
   "cell_type": "markdown",
   "metadata": {},
   "source": [
    "## 2022년 8월 15일 월요일\n",
    "### BaekJoon - 럭비 클럽 (Python)  \n",
    "### 문제 : https://www.acmicpc.net/problem/2083\n",
    "### 블로그 : https://somjang.tistory.com/entry/BaekJoon-2083%EB%B2%88-%EB%9F%AD%EB%B9%84-%ED%81%B4%EB%9F%BD-Python"
   ]
  },
  {
   "cell_type": "markdown",
   "metadata": {},
   "source": [
    "### Solution"
   ]
  },
  {
   "cell_type": "code",
   "execution_count": null,
   "metadata": {},
   "outputs": [],
   "source": [
    "def classify_member(age, weight):\n",
    "    classifying_result = \"Junior\"\n",
    "    \n",
    "    if age > 17 or weight >= 80:\n",
    "        classifying_result = \"Senior\"\n",
    "        \n",
    "    return classifying_result\n",
    "\n",
    "\n",
    "def rugby_club(member_list):\n",
    "    for member_info in member_list:\n",
    "        name, age, weight = member_info[0], int(member_info[1]), int(member_info[2])\n",
    "        \n",
    "        classifying_result = classify_member(age=age, weight=weight)\n",
    "        \n",
    "        print(f\"{name} {classifying_result}\")\n",
    "        \n",
    "        \n",
    "if __name__ == \"__main__\":\n",
    "    member_list = []\n",
    "    \n",
    "    while True:\n",
    "        member_info = list(map(str, input().split()))\n",
    "        \n",
    "        if member_info == [\"#\", \"0\", \"0\"]:\n",
    "            break\n",
    "        \n",
    "        member_list.append(member_info)\n",
    "        \n",
    "    rugby_club(member_list=member_list)"
   ]
  }
 ],
 "metadata": {
  "kernelspec": {
   "display_name": "Python 3",
   "language": "python",
   "name": "python3"
  },
  "language_info": {
   "codemirror_mode": {
    "name": "ipython",
    "version": 3
   },
   "file_extension": ".py",
   "mimetype": "text/x-python",
   "name": "python",
   "nbconvert_exporter": "python",
   "pygments_lexer": "ipython3",
   "version": "3.7.3"
  }
 },
 "nbformat": 4,
 "nbformat_minor": 2
}
