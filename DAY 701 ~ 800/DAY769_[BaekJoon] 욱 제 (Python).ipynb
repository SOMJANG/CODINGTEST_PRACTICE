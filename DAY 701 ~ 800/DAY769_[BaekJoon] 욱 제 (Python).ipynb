{
 "cells": [
  {
   "cell_type": "markdown",
   "metadata": {},
   "source": [
    "## 2022년 7월 26일 화요일\n",
    "### BaekJoon - 욱 제 (Python)  \n",
    "### 문제 : https://www.acmicpc.net/problem/17356\n",
    "### 블로그 : https://somjang.tistory.com/entry/Baekjoon-17356%EB%B2%88-%EC%9A%B1-%EC%A0%9C-Python"
   ]
  },
  {
   "cell_type": "markdown",
   "metadata": {},
   "source": [
    "### Solution"
   ]
  },
  {
   "cell_type": "code",
   "execution_count": null,
   "metadata": {},
   "outputs": [],
   "source": [
    "def wook_jae(A, B):\n",
    "    M = (B - A) / 400\n",
    "    \n",
    "    return 1 / (1 + pow(10, M))\n",
    "\n",
    "if __name__ == \"__main__\":\n",
    "    A, B = map(int, input().split())\n",
    "    \n",
    "    print(wook_jae(A, B))"
   ]
  }
 ],
 "metadata": {
  "kernelspec": {
   "display_name": "Python 3",
   "language": "python",
   "name": "python3"
  },
  "language_info": {
   "codemirror_mode": {
    "name": "ipython",
    "version": 3
   },
   "file_extension": ".py",
   "mimetype": "text/x-python",
   "name": "python",
   "nbconvert_exporter": "python",
   "pygments_lexer": "ipython3",
   "version": "3.7.3"
  }
 },
 "nbformat": 4,
 "nbformat_minor": 2
}
