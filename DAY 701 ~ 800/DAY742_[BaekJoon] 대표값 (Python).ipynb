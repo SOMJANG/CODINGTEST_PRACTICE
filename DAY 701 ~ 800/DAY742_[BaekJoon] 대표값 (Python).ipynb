{
 "cells": [
  {
   "cell_type": "markdown",
   "metadata": {},
   "source": [
    "## 2022년 6월 20일 월요일\n",
    "### BaekJoon - 대표값 (Python) \n",
    "### 문제 : https://www.acmicpc.net/problem/2592\n",
    "### 블로그 : https://somjang.tistory.com/entry/BaekJoon-2592%EB%B2%88-%EB%8C%80%ED%91%9C%EA%B0%92-Python"
   ]
  },
  {
   "cell_type": "markdown",
   "metadata": {},
   "source": [
    "### Solution"
   ]
  },
  {
   "cell_type": "code",
   "execution_count": null,
   "metadata": {},
   "outputs": [],
   "source": [
    "from collections import Counter\n",
    "\n",
    "\n",
    "def get_most_common_num(numbers):\n",
    "    return Counter(numbers).most_common(1)[0][0]\n",
    "\n",
    "\n",
    "def calcuate_avg_num(numbers):\n",
    "    return sum(numbers) // len(numbers)\n",
    "\n",
    "\n",
    "def representative_value(numbers):\n",
    "    most_common_num = get_most_common_num(numbers)\n",
    "    \n",
    "    avg = calcuate_avg_num(numbers)\n",
    "    \n",
    "    return avg, most_common_num\n",
    "\n",
    "\n",
    "if __name__ == \"__main__\":\n",
    "    numbers = []\n",
    "    \n",
    "    for _ in range(10):\n",
    "        number = int(input())\n",
    "        numbers.append(number)\n",
    "        \n",
    "    avg, most_common_num = representative_value(numbers)\n",
    "    \n",
    "    print(avg)\n",
    "    print(most_common_num)"
   ]
  }
 ],
 "metadata": {
  "kernelspec": {
   "display_name": "Python 3",
   "language": "python",
   "name": "python3"
  },
  "language_info": {
   "codemirror_mode": {
    "name": "ipython",
    "version": 3
   },
   "file_extension": ".py",
   "mimetype": "text/x-python",
   "name": "python",
   "nbconvert_exporter": "python",
   "pygments_lexer": "ipython3",
   "version": "3.7.3"
  }
 },
 "nbformat": 4,
 "nbformat_minor": 2
}
