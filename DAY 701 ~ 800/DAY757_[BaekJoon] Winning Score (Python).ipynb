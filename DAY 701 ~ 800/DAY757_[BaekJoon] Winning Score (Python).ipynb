{
 "cells": [
  {
   "cell_type": "markdown",
   "metadata": {},
   "source": [
    "## 2022년 7월 11일 월요일\n",
    "### BaekJoon - Winning Score (Python) \n",
    "### 문제 : https://www.acmicpc.net/problem/17009\n",
    "### 블로그 : https://somjang.tistory.com/entry/BaekJoon-17009%EB%B2%88-Winning-Score-Python"
   ]
  },
  {
   "cell_type": "markdown",
   "metadata": {},
   "source": [
    "### Solution"
   ]
  },
  {
   "cell_type": "code",
   "execution_count": null,
   "metadata": {},
   "outputs": [],
   "source": [
    "def calculate_basketball_score(score_list, basketball_score_rule):\n",
    "    score_list = [(score * baseket_ball_score) for score, baseket_ball_score in zip(score_list, basketball_score_rule)]\n",
    "    \n",
    "    return sum(score_list)\n",
    "\n",
    "\n",
    "def winning_score(banana_score, apple_score):\n",
    "    basketball_score_rule = [3, 2, 1]\n",
    "    banana_basketball_score = calculate_basketball_score(score_list=banana_score, \n",
    "                                                         basketball_score_rule=basketball_score_rule)\n",
    "    apple_basketball_score = calculate_basketball_score(score_list=apple_score, \n",
    "                                                        basketball_score_rule=basketball_score_rule)\n",
    "    \n",
    "    \n",
    "    if banana_basketball_score < apple_basketball_score:\n",
    "        answer = \"A\"\n",
    "    elif banana_basketball_score > apple_basketball_score:\n",
    "        answer = \"B\"\n",
    "    else:\n",
    "        answer = \"T\"\n",
    "        \n",
    "    return answer \n",
    "\n",
    "\n",
    "if __name__ == \"__main__\":\n",
    "    apple_score, banana_score = [], []\n",
    "    \n",
    "    for idx in range(6):\n",
    "        score = int(input())\n",
    "        if idx < 3:\n",
    "            apple_score.append(score)\n",
    "        else:\n",
    "            banana_score.append(score)\n",
    "            \n",
    "    print(winning_score(banana_score, apple_score))"
   ]
  }
 ],
 "metadata": {
  "kernelspec": {
   "display_name": "Python 3",
   "language": "python",
   "name": "python3"
  },
  "language_info": {
   "codemirror_mode": {
    "name": "ipython",
    "version": 3
   },
   "file_extension": ".py",
   "mimetype": "text/x-python",
   "name": "python",
   "nbconvert_exporter": "python",
   "pygments_lexer": "ipython3",
   "version": "3.7.3"
  }
 },
 "nbformat": 4,
 "nbformat_minor": 2
}
