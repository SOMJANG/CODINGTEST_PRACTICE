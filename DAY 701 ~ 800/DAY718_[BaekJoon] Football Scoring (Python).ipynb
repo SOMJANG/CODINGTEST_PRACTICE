{
 "cells": [
  {
   "cell_type": "markdown",
   "metadata": {},
   "source": [
    "## 2022년 5월 25일 수요일\n",
    "### BaekJoon - Football Scoring (Python) \n",
    "### 문제 : https://www.acmicpc.net/problem/24736\n",
    "### 블로그 : https://somjang.tistory.com/entry/BaekJoon-24736%EB%B2%88-Football-Scoring-Python"
   ]
  },
  {
   "cell_type": "markdown",
   "metadata": {},
   "source": [
    "### Solution"
   ]
  },
  {
   "cell_type": "code",
   "execution_count": null,
   "metadata": {},
   "outputs": [],
   "source": [
    "def calculate_score(team_score, score_map):\n",
    "    return sum([(team * score) for team, score in zip(team_score, score_map)])\n",
    "\n",
    "def football_scoring(team1, team2):\n",
    "    score_map = [6, 3, 2, 1, 2]\n",
    "    \n",
    "    team_1_score = calculate_score(team1, score_map)\n",
    "    team_2_score = calculate_score(team2, score_map)\n",
    "    \n",
    "    return f\"{team_1_score} {team_2_score}\"\n",
    "\n",
    "\n",
    "if __name__ == \"__main__\":\n",
    "    team1 = list(map(int, input().split()))\n",
    "    team2 = list(map(int, input().split()))\n",
    "    \n",
    "    print(football_scoring(team1, team2))"
   ]
  }
 ],
 "metadata": {
  "kernelspec": {
   "display_name": "Python 3",
   "language": "python",
   "name": "python3"
  },
  "language_info": {
   "codemirror_mode": {
    "name": "ipython",
    "version": 3
   },
   "file_extension": ".py",
   "mimetype": "text/x-python",
   "name": "python",
   "nbconvert_exporter": "python",
   "pygments_lexer": "ipython3",
   "version": "3.7.3"
  }
 },
 "nbformat": 4,
 "nbformat_minor": 2
}
