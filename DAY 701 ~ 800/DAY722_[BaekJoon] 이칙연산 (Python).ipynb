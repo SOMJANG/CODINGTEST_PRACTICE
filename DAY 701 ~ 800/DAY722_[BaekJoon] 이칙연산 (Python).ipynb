{
 "cells": [
  {
   "cell_type": "markdown",
   "metadata": {},
   "source": [
    "## 2022년 5월 29일 일요일\n",
    "### BaekJoon - 이칙연산 (Python) \n",
    "### 문제 : https://www.acmicpc.net/problem/15726\n",
    "### 블로그 : https://somjang.tistory.com/entry/BaekJoon-15726%EB%B2%88-%EC%9D%B4%EC%B9%99%EC%97%B0%EC%82%B0-Python"
   ]
  },
  {
   "cell_type": "markdown",
   "metadata": {},
   "source": [
    "### Solution"
   ]
  },
  {
   "cell_type": "code",
   "execution_count": null,
   "metadata": {},
   "outputs": [],
   "source": [
    "def case1(numbers):\n",
    "    return numbers[0] * numbers[1] // numbers[2]\n",
    "\n",
    "\n",
    "def case2(numbers):\n",
    "    return numbers[0] // numbers[1] * numbers[2]\n",
    "\n",
    "\n",
    "def arithmetic_operation(numbers):\n",
    "    case1_result = case1(numbers)\n",
    "    case2_result = case2(numbers)\n",
    "    \n",
    "    return max(case1_result, case2_result)\n",
    "\n",
    "\n",
    "if __name__ == \"__main__\":\n",
    "    numbers = list(map(int, input().split()))\n",
    "    \n",
    "    print(arithmetic_operation(numbers))"
   ]
  }
 ],
 "metadata": {
  "kernelspec": {
   "display_name": "Python 3",
   "language": "python",
   "name": "python3"
  },
  "language_info": {
   "codemirror_mode": {
    "name": "ipython",
    "version": 3
   },
   "file_extension": ".py",
   "mimetype": "text/x-python",
   "name": "python",
   "nbconvert_exporter": "python",
   "pygments_lexer": "ipython3",
   "version": "3.7.3"
  }
 },
 "nbformat": 4,
 "nbformat_minor": 2
}
