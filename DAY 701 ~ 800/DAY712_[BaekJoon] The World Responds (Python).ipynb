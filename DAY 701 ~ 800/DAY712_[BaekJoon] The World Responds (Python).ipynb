{
 "cells": [
  {
   "cell_type": "markdown",
   "metadata": {},
   "source": [
    "## 2022년 5월 19일 목요일\n",
    "### BaekJoon - The World Responds (Python) \n",
    "### 문제 : https://www.acmicpc.net/problem/23234\n",
    "### 블로그 : https://somjang.tistory.com/entry/BaekJoon-23234%EB%B2%88-The-World-Responds-Python"
   ]
  },
  {
   "cell_type": "markdown",
   "metadata": {},
   "source": [
    "### Solution"
   ]
  },
  {
   "cell_type": "code",
   "execution_count": null,
   "metadata": {},
   "outputs": [],
   "source": [
    "def the_world_responds():\n",
    "    return \"The world says hello!\"\n",
    "\n",
    "\n",
    "if __name__ == \"__main__\":\n",
    "    print(the_world_responds())"
   ]
  }
 ],
 "metadata": {
  "kernelspec": {
   "display_name": "Python 3",
   "language": "python",
   "name": "python3"
  },
  "language_info": {
   "codemirror_mode": {
    "name": "ipython",
    "version": 3
   },
   "file_extension": ".py",
   "mimetype": "text/x-python",
   "name": "python",
   "nbconvert_exporter": "python",
   "pygments_lexer": "ipython3",
   "version": "3.7.3"
  }
 },
 "nbformat": 4,
 "nbformat_minor": 2
}
