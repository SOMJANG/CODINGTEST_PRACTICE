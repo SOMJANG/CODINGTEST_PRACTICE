{
 "cells": [
  {
   "cell_type": "markdown",
   "metadata": {},
   "source": [
    "## 2022년 7월 8일 금요일\n",
    "### BaekJoon - 뜨거운 붕어빵 (Python) \n",
    "### 문제 : https://www.acmicpc.net/problem/11945\n",
    "### 블로그 : https://somjang.tistory.com/entry/BaekJoon-11945%EB%B2%88-%EB%9C%A8%EA%B1%B0%EC%9A%B4-%EB%B6%95%EC%96%B4%EB%B9%B5-Python"
   ]
  },
  {
   "cell_type": "markdown",
   "metadata": {},
   "source": [
    "### Solution"
   ]
  },
  {
   "cell_type": "code",
   "execution_count": null,
   "metadata": {},
   "outputs": [],
   "source": [
    "def hot_fish_bread(fish_bread):\n",
    "    fish_bread = [bread_piece[::-1] for bread_piece in fish_bread]\n",
    "    \n",
    "    return fish_bread\n",
    "\n",
    "\n",
    "if __name__ == \"__main__\":\n",
    "    N, M = map(int, input().split())\n",
    "    \n",
    "    fish_bread = []\n",
    "    \n",
    "    for _ in range(N):\n",
    "        bread_piece = input()\n",
    "        \n",
    "        fish_bread.append(bread_piece)\n",
    "    \n",
    "    fish_bread = hot_fish_bread(fish_bread=fish_bread)\n",
    "    \n",
    "    for bread_piece in fish_bread:\n",
    "        print(bread_piece)"
   ]
  }
 ],
 "metadata": {
  "kernelspec": {
   "display_name": "Python 3",
   "language": "python",
   "name": "python3"
  },
  "language_info": {
   "codemirror_mode": {
    "name": "ipython",
    "version": 3
   },
   "file_extension": ".py",
   "mimetype": "text/x-python",
   "name": "python",
   "nbconvert_exporter": "python",
   "pygments_lexer": "ipython3",
   "version": "3.7.3"
  }
 },
 "nbformat": 4,
 "nbformat_minor": 2
}
