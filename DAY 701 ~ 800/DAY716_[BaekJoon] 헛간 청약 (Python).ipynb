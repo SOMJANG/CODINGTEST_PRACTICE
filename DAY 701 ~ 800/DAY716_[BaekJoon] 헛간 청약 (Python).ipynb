{
 "cells": [
  {
   "cell_type": "markdown",
   "metadata": {},
   "source": [
    "## 2022년 5월 23일 월요일\n",
    "### BaekJoon - 헛간 청약 (Python) \n",
    "### 문제 : https://www.acmicpc.net/problem/19698\n",
    "### 블로그 : https://somjang.tistory.com/entry/BaekJoon-19698%EB%B2%88-%ED%97%9B%EA%B0%84-%EC%B2%AD%EC%95%BD-Python"
   ]
  },
  {
   "cell_type": "markdown",
   "metadata": {},
   "source": [
    "### Solution"
   ]
  },
  {
   "cell_type": "code",
   "execution_count": null,
   "metadata": {},
   "outputs": [],
   "source": [
    "def barn_subscription(N, W, H, L):\n",
    "    answer = N\n",
    "    width_cow = W // L\n",
    "    height_cow = H // L\n",
    "    \n",
    "    cow_num = width_cow * height_cow\n",
    "    \n",
    "    if cow_num < N:\n",
    "        answer = cow_num\n",
    "        \n",
    "    return answer \n",
    "\n",
    "\n",
    "if __name__ == \"__main__\":\n",
    "    N, W, H, L = map(int, input().split())\n",
    "    print(barn_subscription(N, W, H, L))"
   ]
  }
 ],
 "metadata": {
  "kernelspec": {
   "display_name": "Python 3",
   "language": "python",
   "name": "python3"
  },
  "language_info": {
   "codemirror_mode": {
    "name": "ipython",
    "version": 3
   },
   "file_extension": ".py",
   "mimetype": "text/x-python",
   "name": "python",
   "nbconvert_exporter": "python",
   "pygments_lexer": "ipython3",
   "version": "3.7.3"
  }
 },
 "nbformat": 4,
 "nbformat_minor": 2
}
