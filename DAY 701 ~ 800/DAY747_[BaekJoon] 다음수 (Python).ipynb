{
 "cells": [
  {
   "cell_type": "markdown",
   "metadata": {},
   "source": [
    "## 2022년 6월 28일 화요일\n",
    "### BaekJoon - 다음수 (Python) \n",
    "### 문제 : https://www.acmicpc.net/problem/4880\n",
    "### 블로그 : https://somjang.tistory.com/entry/BaekJoon-4880%EB%B2%88-%EB%8B%A4%EC%9D%8C%EC%88%98-Python"
   ]
  },
  {
   "cell_type": "markdown",
   "metadata": {},
   "source": [
    "### Solution"
   ]
  },
  {
   "cell_type": "code",
   "execution_count": null,
   "metadata": {},
   "outputs": [],
   "source": [
    "def daumsu(number_list):\n",
    "    if (number_list[1] - number_list[0]) == (number_list[2] - number_list[1]):\n",
    "        answer = f\"AP {number_list[2] + number_list[1] - number_list[0]}\"\n",
    "    else:\n",
    "        answer = f\"GP {number_list[2] * (number_list[1] // number_list[0])}\"\n",
    "        \n",
    "    return answer\n",
    "\n",
    "\n",
    "if __name__ == \"__main__\":\n",
    "    while True:\n",
    "        number_list = list(map(int, input().split()))\n",
    "        \n",
    "        if number_list == [0, 0, 0]:\n",
    "            break\n",
    "            \n",
    "        print(daumsu(number_list))"
   ]
  }
 ],
 "metadata": {
  "kernelspec": {
   "display_name": "Python 3",
   "language": "python",
   "name": "python3"
  },
  "language_info": {
   "codemirror_mode": {
    "name": "ipython",
    "version": 3
   },
   "file_extension": ".py",
   "mimetype": "text/x-python",
   "name": "python",
   "nbconvert_exporter": "python",
   "pygments_lexer": "ipython3",
   "version": "3.7.3"
  }
 },
 "nbformat": 4,
 "nbformat_minor": 2
}
