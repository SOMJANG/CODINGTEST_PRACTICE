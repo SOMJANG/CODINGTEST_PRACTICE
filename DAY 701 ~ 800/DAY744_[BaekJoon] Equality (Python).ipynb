{
 "cells": [
  {
   "cell_type": "markdown",
   "metadata": {},
   "source": [
    "## 2022년 6월 23일 목요일\n",
    "### BaekJoon - Equality (Python) \n",
    "### 문제 : https://www.acmicpc.net/problem/13985\n",
    "### 블로그 : https://somjang.tistory.com/entry/BaekJoon-13985%EB%B2%88-Equality-Python"
   ]
  },
  {
   "cell_type": "markdown",
   "metadata": {},
   "source": [
    "### Solution"
   ]
  },
  {
   "cell_type": "code",
   "execution_count": null,
   "metadata": {},
   "outputs": [],
   "source": [
    "def equality(string):\n",
    "    answer = \"NO\"\n",
    "    \n",
    "    num1, operator, num2, equal_sign, num3 = string.split()\n",
    "    \n",
    "    if int(num1) + int(num2) == int(num3):\n",
    "        answer = \"YES\"\n",
    "        \n",
    "    return answer\n",
    "\n",
    "\n",
    "if __name__ == \"__main__\":\n",
    "    string = input()\n",
    "    print(equality(string))"
   ]
  }
 ],
 "metadata": {
  "kernelspec": {
   "display_name": "Python 3",
   "language": "python",
   "name": "python3"
  },
  "language_info": {
   "codemirror_mode": {
    "name": "ipython",
    "version": 3
   },
   "file_extension": ".py",
   "mimetype": "text/x-python",
   "name": "python",
   "nbconvert_exporter": "python",
   "pygments_lexer": "ipython3",
   "version": "3.7.3"
  }
 },
 "nbformat": 4,
 "nbformat_minor": 2
}
