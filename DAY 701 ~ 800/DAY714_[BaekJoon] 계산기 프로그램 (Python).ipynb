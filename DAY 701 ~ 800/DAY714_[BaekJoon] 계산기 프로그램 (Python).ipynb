{
 "cells": [
  {
   "cell_type": "markdown",
   "metadata": {},
   "source": [
    "## 2022년 5월 21일 토요일\n",
    "### BaekJoon - 계산기 프로그램 (Python) \n",
    "### 문제 : https://www.acmicpc.net/problem/5613\n",
    "### 블로그 : https://somjang.tistory.com/entry/BaekJoon-5613%EB%B2%88-%EA%B3%84%EC%82%B0%EA%B8%B0-%ED%94%84%EB%A1%9C%EA%B7%B8%EB%9E%A8-Python"
   ]
  },
  {
   "cell_type": "markdown",
   "metadata": {},
   "source": [
    "### Solution"
   ]
  },
  {
   "cell_type": "code",
   "execution_count": null,
   "metadata": {},
   "outputs": [],
   "source": [
    "def calculate_program(num_and_operator):\n",
    "    for i in range(len(num_and_operator) - 2):\n",
    "        if num_and_operator[i+1] == \"-\":\n",
    "            num_and_operator[i+2] = str(int(num_and_operator[i]) - int(num_and_operator[i+2]))\n",
    "        elif num_and_operator[i+1] == \"+\":\n",
    "            num_and_operator[i+2] = str(int(num_and_operator[i]) + int(num_and_operator[i+2]))\n",
    "        elif num_and_operator[i+1] == \"*\":\n",
    "            num_and_operator[i+2] = str(int(num_and_operator[i]) * int(num_and_operator[i+2]))\n",
    "        elif num_and_operator[i+1] == \"//\":\n",
    "            num_and_operator[i+2] = str(int(num_and_operator[i]) // int(num_and_operator[i+2]))\n",
    "    return num_and_operator[-1]\n",
    "    \n",
    "\n",
    "if __name__ == \"__main__\":\n",
    "    num_and_operator = []\n",
    "    \n",
    "    while True:\n",
    "        num_oper = input()\n",
    "        if num_oper == \"=\":\n",
    "            break\n",
    "            \n",
    "        if num_oper == \"/\":\n",
    "            num_oper = \"//\"\n",
    "            \n",
    "        num_and_operator.append(num_oper)\n",
    "        \n",
    "    print(calculate_program(num_and_operator))"
   ]
  }
 ],
 "metadata": {
  "kernelspec": {
   "display_name": "Python 3",
   "language": "python",
   "name": "python3"
  },
  "language_info": {
   "codemirror_mode": {
    "name": "ipython",
    "version": 3
   },
   "file_extension": ".py",
   "mimetype": "text/x-python",
   "name": "python",
   "nbconvert_exporter": "python",
   "pygments_lexer": "ipython3",
   "version": "3.7.3"
  }
 },
 "nbformat": 4,
 "nbformat_minor": 2
}
