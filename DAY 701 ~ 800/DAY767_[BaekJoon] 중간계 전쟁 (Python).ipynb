{
 "cells": [
  {
   "cell_type": "markdown",
   "metadata": {},
   "source": [
    "## 2022년 7월 24일 일요일\n",
    "### BaekJoon - 중간계 전쟁 (Python)  \n",
    "### 문제 : https://www.acmicpc.net/problem/4435\n",
    "### 블로그 : https://somjang.tistory.com/entry/BaekJoon-4435%EB%B2%88-%EC%A4%91%EA%B0%84%EA%B3%84-%EC%A0%84%EC%9F%81-Python"
   ]
  },
  {
   "cell_type": "markdown",
   "metadata": {},
   "source": [
    "### Solution"
   ]
  },
  {
   "cell_type": "code",
   "execution_count": null,
   "metadata": {},
   "outputs": [],
   "source": [
    "def gandalf_vs_sauron(battle):    \n",
    "    gandalf_soldier_score_info = [1, 2, 3, 3, 4, 10]\n",
    "    sauron_soldier_score_info = [1, 2, 2, 2, 3, 5, 10]\n",
    "    \n",
    "    gandalf_soldier_list, sauron_soldier_list = battle[0], battle[1]\n",
    "    \n",
    "    gandalf_total_score = sum([(gandalf_solider * gandalf_soldier_score) for \n",
    "                               gandalf_solider, gandalf_soldier_score in \n",
    "                               zip(gandalf_soldier_list, gandalf_soldier_score_info)])\n",
    "    \n",
    "    sauron_total_score = sum([(sauron_solider * sauron_soldier_score) for \n",
    "                               sauron_solider, sauron_soldier_score in \n",
    "                               zip(sauron_soldier_list, sauron_soldier_score_info)])\n",
    "    \n",
    "    \n",
    "    if gandalf_total_score > sauron_total_score:\n",
    "        winner = \"gandalf\"\n",
    "    elif gandalf_total_score == sauron_total_score:\n",
    "        winner = \"no one\"\n",
    "    else:\n",
    "        winner = \"sauron\"\n",
    "    \n",
    "    return winner\n",
    "    \n",
    "\n",
    "\n",
    "def middle_earth_war(battle_list):\n",
    "    battle_str_dict = {\n",
    "        \"gandalf\": \"Good triumphs over Evil\",\n",
    "        \"sauron\": \"Evil eradicates all trace of Good\",\n",
    "        \"no one\": \"No victor on this battle field\"\n",
    "    }\n",
    "    for battle_idx, battle in enumerate(battle_list, start=1):\n",
    "        winner = gandalf_vs_sauron(battle=battle)\n",
    "        \n",
    "        print(f\"Battle {battle_idx}: {battle_str_dict[winner]}\")\n",
    "        \n",
    "    \n",
    "    \n",
    "if __name__ == \"__main__\":\n",
    "    battle_list = []\n",
    "    \n",
    "    for _ in range(int(input())):\n",
    "        gandalf_soldier_list = list(map(int, input().split()))\n",
    "        sauron_soldier_list = list(map(int, input().split()))\n",
    "        \n",
    "        battle_detail = [gandalf_soldier_list, sauron_soldier_list]\n",
    "        \n",
    "        battle_list.append(battle_detail)\n",
    "        \n",
    "    middle_earth_war(battle_list)"
   ]
  }
 ],
 "metadata": {
  "kernelspec": {
   "display_name": "Python 3",
   "language": "python",
   "name": "python3"
  },
  "language_info": {
   "codemirror_mode": {
    "name": "ipython",
    "version": 3
   },
   "file_extension": ".py",
   "mimetype": "text/x-python",
   "name": "python",
   "nbconvert_exporter": "python",
   "pygments_lexer": "ipython3",
   "version": "3.7.3"
  }
 },
 "nbformat": 4,
 "nbformat_minor": 2
}
