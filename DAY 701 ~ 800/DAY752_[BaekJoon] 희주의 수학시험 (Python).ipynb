{
 "cells": [
  {
   "cell_type": "markdown",
   "metadata": {},
   "source": [
    "## 2022년 7월 4일 월요일\n",
    "### BaekJoon - 희주의 수학시험 (Python) \n",
    "### 문제 : https://www.acmicpc.net/problem/8974\n",
    "### 블로그 : https://somjang.tistory.com/entry/BaekJoon-8974%EB%B2%88-%ED%9D%AC%EC%A3%BC%EC%9D%98-%EC%88%98%ED%95%99%EC%8B%9C%ED%97%98-Python"
   ]
  },
  {
   "cell_type": "markdown",
   "metadata": {},
   "source": [
    "### Solution"
   ]
  },
  {
   "cell_type": "code",
   "execution_count": null,
   "metadata": {},
   "outputs": [],
   "source": [
    "def heeju_math_test(A, B):\n",
    "    number_list = []\n",
    "    \n",
    "    number = 1\n",
    "    \n",
    "    while True:\n",
    "        if len(number_list) >= B:\n",
    "            break\n",
    "            \n",
    "        number_list += [number] * number\n",
    "        \n",
    "        number += 1\n",
    "        \n",
    "    return sum(number_list[A-1:B])\n",
    "\n",
    "\n",
    "if __name__ == \"__main__\":\n",
    "    A, B = map(int, input().split())\n",
    "    print(heeju_math_test(A, B))"
   ]
  }
 ],
 "metadata": {
  "kernelspec": {
   "display_name": "Python 3",
   "language": "python",
   "name": "python3"
  },
  "language_info": {
   "codemirror_mode": {
    "name": "ipython",
    "version": 3
   },
   "file_extension": ".py",
   "mimetype": "text/x-python",
   "name": "python",
   "nbconvert_exporter": "python",
   "pygments_lexer": "ipython3",
   "version": "3.7.3"
  }
 },
 "nbformat": 4,
 "nbformat_minor": 2
}
