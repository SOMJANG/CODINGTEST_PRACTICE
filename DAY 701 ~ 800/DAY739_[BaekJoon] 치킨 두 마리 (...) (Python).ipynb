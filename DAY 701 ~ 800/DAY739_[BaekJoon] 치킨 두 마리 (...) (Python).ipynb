{
 "cells": [
  {
   "cell_type": "markdown",
   "metadata": {},
   "source": [
    "## 2022년 6월 17일 금요일\n",
    "### BaekJoon - 치킨 두 마리 (...) (Python) \n",
    "### 문제 : https://www.acmicpc.net/problem/14489\n",
    "### 블로그 : https://somjang.tistory.com/entry/BaekJoon-14489%EB%B2%88-%EC%B9%98%ED%82%A8-%EB%91%90-%EB%A7%88%EB%A6%AC-Python"
   ]
  },
  {
   "cell_type": "markdown",
   "metadata": {},
   "source": [
    "### Solution"
   ]
  },
  {
   "cell_type": "code",
   "execution_count": null,
   "metadata": {},
   "outputs": [],
   "source": [
    "def chicken(A, B, C):\n",
    "    answer = A + B\n",
    "    \n",
    "    if A + B >= C * 2:\n",
    "        answer -= C * 2\n",
    "        \n",
    "    return answer \n",
    "\n",
    "if __name__ == \"__main__\":\n",
    "    A, B = map(int, input().split())\n",
    "    C = int(input())\n",
    "    \n",
    "    print(chicken(A, B, C))"
   ]
  }
 ],
 "metadata": {
  "kernelspec": {
   "display_name": "Python 3",
   "language": "python",
   "name": "python3"
  },
  "language_info": {
   "codemirror_mode": {
    "name": "ipython",
    "version": 3
   },
   "file_extension": ".py",
   "mimetype": "text/x-python",
   "name": "python",
   "nbconvert_exporter": "python",
   "pygments_lexer": "ipython3",
   "version": "3.7.3"
  }
 },
 "nbformat": 4,
 "nbformat_minor": 2
}
