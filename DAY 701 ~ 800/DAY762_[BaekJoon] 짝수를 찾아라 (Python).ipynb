{
 "cells": [
  {
   "cell_type": "markdown",
   "metadata": {},
   "source": [
    "## 2022년 7월 17일 일요일\n",
    "### BaekJoon - 짝수를 찾아라 (Python) \n",
    "### 문제 : https://www.acmicpc.net/problem/3058\n",
    "### 블로그 : https://somjang.tistory.com/entry/BaekJoon-3058%EB%B2%88-%EC%A7%9D%EC%88%98%EB%A5%BC-%EC%B0%BE%EC%95%84%EB%9D%BC-Python"
   ]
  },
  {
   "cell_type": "markdown",
   "metadata": {},
   "source": [
    "### Solution"
   ]
  },
  {
   "cell_type": "code",
   "execution_count": null,
   "metadata": {},
   "outputs": [],
   "source": [
    "def find_even_number(numbers):\n",
    "    even_numbers = [number for number in numbers if number % 2 == 0]\n",
    "    \n",
    "    return f\"{sum(even_numbers)} {min(even_numbers)}\"\n",
    "\n",
    "\n",
    "if __name__ == \"__main__\":\n",
    "    N = int(input())\n",
    "    \n",
    "    for _ in range(N):\n",
    "        numbers = list(map(int, input().split()))\n",
    "        \n",
    "        print(find_even_number(numbers))"
   ]
  }
 ],
 "metadata": {
  "kernelspec": {
   "display_name": "Python 3",
   "language": "python",
   "name": "python3"
  },
  "language_info": {
   "codemirror_mode": {
    "name": "ipython",
    "version": 3
   },
   "file_extension": ".py",
   "mimetype": "text/x-python",
   "name": "python",
   "nbconvert_exporter": "python",
   "pygments_lexer": "ipython3",
   "version": "3.7.3"
  }
 },
 "nbformat": 4,
 "nbformat_minor": 2
}
