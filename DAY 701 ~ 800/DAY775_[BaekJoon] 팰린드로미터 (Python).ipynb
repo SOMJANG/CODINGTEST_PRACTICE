{
 "cells": [
  {
   "cell_type": "markdown",
   "metadata": {},
   "source": [
    "## 2022년 8월 2일 화요일\n",
    "### BaekJoon - 팰린드로미터 (Python)  \n",
    "### 문제 : https://www.acmicpc.net/problem/4096\n",
    "### 블로그 : https://somjang.tistory.com/entry/BaekJoon-4096%EB%B2%88-%ED%8C%B0%EB%A6%B0%EB%93%9C%EB%A1%9C%EB%AF%B8%ED%84%B0-Python"
   ]
  },
  {
   "cell_type": "markdown",
   "metadata": {},
   "source": [
    "### Solution 1"
   ]
  },
  {
   "cell_type": "code",
   "execution_count": null,
   "metadata": {},
   "outputs": [],
   "source": [
    "def is_palindrome(meter):\n",
    "    return meter == meter[::-1]\n",
    "\n",
    "\n",
    "def palindrometer(meter):\n",
    "    answer = 0\n",
    "    fill_zero_num = len(meter)\n",
    "    \n",
    "    while True:\n",
    "        if is_palindrome(meter):\n",
    "            break\n",
    "        meter = str(int(meter) + 1).zfill(fill_zero_num)\n",
    "        \n",
    "        answer += 1\n",
    "        \n",
    "    return answer\n",
    "        \n",
    "\n",
    "if __name__ == \"__main__\":\n",
    "    while True:\n",
    "        meter = input()\n",
    "        \n",
    "        if meter == \"0\":\n",
    "            break\n",
    "            \n",
    "        print(palindrometer(meter=meter))  "
   ]
  }
 ],
 "metadata": {
  "kernelspec": {
   "display_name": "Python 3",
   "language": "python",
   "name": "python3"
  },
  "language_info": {
   "codemirror_mode": {
    "name": "ipython",
    "version": 3
   },
   "file_extension": ".py",
   "mimetype": "text/x-python",
   "name": "python",
   "nbconvert_exporter": "python",
   "pygments_lexer": "ipython3",
   "version": "3.7.3"
  }
 },
 "nbformat": 4,
 "nbformat_minor": 2
}
