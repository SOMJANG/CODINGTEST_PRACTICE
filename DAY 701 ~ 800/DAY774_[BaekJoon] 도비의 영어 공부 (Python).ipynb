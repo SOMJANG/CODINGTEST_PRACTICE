{
 "cells": [
  {
   "cell_type": "markdown",
   "metadata": {},
   "source": [
    "## 2022년 8월 1일 월요일\n",
    "### BaekJoon - 도비의 영어 공부 (Python)  \n",
    "### 문제 : https://www.acmicpc.net/problem/2386\n",
    "### 블로그 : https://somjang.tistory.com/entry/BaekJoon-2386%EB%B2%88-%EB%8F%84%EB%B9%84%EC%9D%98-%EC%98%81%EC%96%B4-%EA%B3%B5%EB%B6%80-Python"
   ]
  },
  {
   "cell_type": "markdown",
   "metadata": {},
   "source": [
    "### Solution 1"
   ]
  },
  {
   "cell_type": "code",
   "execution_count": null,
   "metadata": {},
   "outputs": [],
   "source": [
    "from collections import Counter\n",
    "\n",
    "\n",
    "def count_word(sentence, word):\n",
    "    count = 0\n",
    "    \n",
    "    sentence = list(sentence)\n",
    "    cnt = Counter(sentence)\n",
    "    \n",
    "    if word in cnt:\n",
    "        count = cnt[word]\n",
    "        \n",
    "    return count\n",
    "\n",
    "def dobbys_english_study(study_list):\n",
    "    answer_list = []\n",
    "    for study in study_list:\n",
    "        count = count_word(sentence=study[1], word=study[0])\n",
    "        \n",
    "        answer = f\"{study[0]} {count}\"\n",
    "        \n",
    "        answer_list.append(answer)\n",
    "        \n",
    "    return answer_list\n",
    "\n",
    "\n",
    "if __name__ == \"__main__\":\n",
    "    study_list = []\n",
    "    \n",
    "    while True:\n",
    "        study = input()\n",
    "        \n",
    "        if study == \"#\":\n",
    "            break\n",
    "            \n",
    "        study = study.split()\n",
    "        word, sentence = study[0], \" \".join(study[1:]).lower()\n",
    "        study_list.append((word, sentence))\n",
    "        \n",
    "    answer_list = dobbys_english_study(study_list=study_list)\n",
    "    \n",
    "    for answer in answer_list:\n",
    "        print(answer)"
   ]
  }
 ],
 "metadata": {
  "kernelspec": {
   "display_name": "Python 3",
   "language": "python",
   "name": "python3"
  },
  "language_info": {
   "codemirror_mode": {
    "name": "ipython",
    "version": 3
   },
   "file_extension": ".py",
   "mimetype": "text/x-python",
   "name": "python",
   "nbconvert_exporter": "python",
   "pygments_lexer": "ipython3",
   "version": "3.7.3"
  }
 },
 "nbformat": 4,
 "nbformat_minor": 2
}
