{
 "cells": [
  {
   "cell_type": "markdown",
   "metadata": {},
   "source": [
    "## 2022년 6월 15일 수요일\n",
    "### BaekJoon - 피보나치 수 5 (Python) \n",
    "### 문제 : https://www.acmicpc.net/problem/10870\n",
    "### 블로그 : https://somjang.tistory.com/entry/BaekJoon-10870%EB%B2%88-%ED%94%BC%EB%B3%B4%EB%82%98%EC%B9%98-%EC%88%98-5-Python"
   ]
  },
  {
   "cell_type": "markdown",
   "metadata": {},
   "source": [
    "### Solution"
   ]
  },
  {
   "cell_type": "code",
   "execution_count": null,
   "metadata": {},
   "outputs": [],
   "source": [
    "def fibo_5(n):\n",
    "    fibo_numbers = [0, 1, 1]\n",
    "    \n",
    "    if n > 2:\n",
    "        for idx in range(n-2):\n",
    "            new_fibo_num = fibo_numbers[idx+1] + fibo_numbers[idx+2]\n",
    "            \n",
    "            fibo_numbers.append(new_fibo_num)\n",
    "            \n",
    "    return fibo_numbers[n]\n",
    "\n",
    "\n",
    "if __name__ == \"__main__\":\n",
    "    n = int(input())\n",
    "    print(fibo_5(n))"
   ]
  }
 ],
 "metadata": {
  "kernelspec": {
   "display_name": "Python 3",
   "language": "python",
   "name": "python3"
  },
  "language_info": {
   "codemirror_mode": {
    "name": "ipython",
    "version": 3
   },
   "file_extension": ".py",
   "mimetype": "text/x-python",
   "name": "python",
   "nbconvert_exporter": "python",
   "pygments_lexer": "ipython3",
   "version": "3.7.3"
  }
 },
 "nbformat": 4,
 "nbformat_minor": 2
}
