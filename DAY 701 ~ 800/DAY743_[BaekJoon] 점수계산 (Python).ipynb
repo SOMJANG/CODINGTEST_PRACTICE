{
 "cells": [
  {
   "cell_type": "markdown",
   "metadata": {},
   "source": [
    "## 2022년 6월 21일 화요일\n",
    "### BaekJoon - 점수계산 (Python) \n",
    "### 문제 : https://www.acmicpc.net/problem/2506\n",
    "### 블로그 : https://somjang.tistory.com/entry/BaekJoon-2506%EB%B2%88-%EC%A0%90%EC%88%98%EA%B3%84%EC%82%B0-Python"
   ]
  },
  {
   "cell_type": "markdown",
   "metadata": {},
   "source": [
    "### Solution"
   ]
  },
  {
   "cell_type": "code",
   "execution_count": null,
   "metadata": {},
   "outputs": [],
   "source": [
    "from itertools import accumulate\n",
    "\n",
    "\n",
    "def get_accumulate_list(N):\n",
    "    return list(accumulate(range(1, N+1)))\n",
    "\n",
    "\n",
    "def calculate_score(score_str, N):\n",
    "    score_str = score_str.replace(\" \", \"\")\n",
    "    \n",
    "    accumulate_list = get_accumulate_list(N)\n",
    "    \n",
    "    score_list = [accumulate_list[len(score)-1] for score in score_str.split(\"0\") if len(score) != 0]\n",
    "    \n",
    "    return sum(score_list)\n",
    "    \n",
    "\n",
    "if __name__ == \"__main__\":\n",
    "    N = int(input())\n",
    "    score_str = input()\n",
    "    \n",
    "    print(calculate_score(score_str, N))"
   ]
  }
 ],
 "metadata": {
  "kernelspec": {
   "display_name": "Python 3",
   "language": "python",
   "name": "python3"
  },
  "language_info": {
   "codemirror_mode": {
    "name": "ipython",
    "version": 3
   },
   "file_extension": ".py",
   "mimetype": "text/x-python",
   "name": "python",
   "nbconvert_exporter": "python",
   "pygments_lexer": "ipython3",
   "version": "3.7.3"
  }
 },
 "nbformat": 4,
 "nbformat_minor": 2
}
