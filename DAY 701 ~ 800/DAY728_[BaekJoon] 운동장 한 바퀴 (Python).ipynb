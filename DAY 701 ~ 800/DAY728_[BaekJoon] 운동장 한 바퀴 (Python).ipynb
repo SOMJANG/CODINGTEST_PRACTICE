{
 "cells": [
  {
   "cell_type": "markdown",
   "metadata": {},
   "source": [
    "## 2022년 6월 4일 토요일\n",
    "### BaekJoon - 운동장 한 바퀴 (Python) \n",
    "### 문제 : https://www.acmicpc.net/problem/16486\n",
    "### 블로그 : https://somjang.tistory.com/entry/BaekJoon-16468%EB%B2%88-%EC%9A%B4%EB%8F%99%EC%9E%A5-%ED%95%9C-%EB%B0%94%ED%80%B4-Python"
   ]
  },
  {
   "cell_type": "markdown",
   "metadata": {},
   "source": [
    "### Solution"
   ]
  },
  {
   "cell_type": "code",
   "execution_count": null,
   "metadata": {},
   "outputs": [],
   "source": [
    "def play_ground(d1, d2):\n",
    "    return round((3.141592 * 2 * d2 ) + (2 * d1), 6)\n",
    "\n",
    "\n",
    "if __name__ == \"__main__\":\n",
    "    d1 = int(input())\n",
    "    d2 = int(input())\n",
    "    \n",
    "    print(play_ground(d1, d2))"
   ]
  }
 ],
 "metadata": {
  "kernelspec": {
   "display_name": "Python 3",
   "language": "python",
   "name": "python3"
  },
  "language_info": {
   "codemirror_mode": {
    "name": "ipython",
    "version": 3
   },
   "file_extension": ".py",
   "mimetype": "text/x-python",
   "name": "python",
   "nbconvert_exporter": "python",
   "pygments_lexer": "ipython3",
   "version": "3.7.3"
  }
 },
 "nbformat": 4,
 "nbformat_minor": 2
}
