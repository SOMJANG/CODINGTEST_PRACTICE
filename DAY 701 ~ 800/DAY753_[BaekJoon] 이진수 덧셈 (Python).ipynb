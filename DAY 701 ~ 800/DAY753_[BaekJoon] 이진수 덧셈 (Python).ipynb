{
 "cells": [
  {
   "cell_type": "markdown",
   "metadata": {},
   "source": [
    "## 2022년 7월 5일 화요일\n",
    "### BaekJoon - 이진수 덧셈 (Python) \n",
    "### 문제 : https://www.acmicpc.net/problem/2729\n",
    "### 블로그 : https://somjang.tistory.com/entry/BaekJoon-2729%EB%B2%88-%EC%9D%B4%EC%A7%84%EC%88%98-%EB%8D%A7%EC%85%88-Python"
   ]
  },
  {
   "cell_type": "markdown",
   "metadata": {},
   "source": [
    "### Solution"
   ]
  },
  {
   "cell_type": "code",
   "execution_count": null,
   "metadata": {},
   "outputs": [],
   "source": [
    "def bin_sum(N, bin_list):\n",
    "    answer_list = []\n",
    "    \n",
    "    for idx in range(N):\n",
    "        bin_a, bin_b = bin_list[idx].split()\n",
    "        \n",
    "        int_a, int_b = int(bin_a, 2), int(bin_b, 2)\n",
    "        \n",
    "        answer = bin(int_a + int_b)[2:]\n",
    "        \n",
    "        answer_list.append(answer)\n",
    "        \n",
    "    return answer_list\n",
    "\n",
    "\n",
    "if __name__ == \"__main__\":\n",
    "    N = int(input())\n",
    "    bin_list = []\n",
    "    \n",
    "    for _ in range(N):\n",
    "        bin_input = input()\n",
    "        \n",
    "        bin_list.append(bin_input)\n",
    "        \n",
    "    answer_list = bin_sum(N, bin_list)\n",
    "    \n",
    "    for answer in answer_list:\n",
    "        print(answer)"
   ]
  }
 ],
 "metadata": {
  "kernelspec": {
   "display_name": "Python 3",
   "language": "python",
   "name": "python3"
  },
  "language_info": {
   "codemirror_mode": {
    "name": "ipython",
    "version": 3
   },
   "file_extension": ".py",
   "mimetype": "text/x-python",
   "name": "python",
   "nbconvert_exporter": "python",
   "pygments_lexer": "ipython3",
   "version": "3.7.3"
  }
 },
 "nbformat": 4,
 "nbformat_minor": 2
}
