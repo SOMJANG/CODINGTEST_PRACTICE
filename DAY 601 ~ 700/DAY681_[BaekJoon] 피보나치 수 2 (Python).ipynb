{
 "cells": [
  {
   "cell_type": "markdown",
   "metadata": {},
   "source": [
    "## 2022년 4월 18일 월요일\n",
    "### BaekJoon - 피보나치 수 2 (Python) \n",
    "### 문제 : https://www.acmicpc.net/problem/2748\n",
    "### 블로그 : https://somjang.tistory.com/entry/BaekJoon-2748%EB%B2%88-%ED%94%BC%EB%B3%B4%EB%82%98%EC%B9%98-%EC%88%98-2-Python"
   ]
  },
  {
   "cell_type": "markdown",
   "metadata": {},
   "source": [
    "### Solution"
   ]
  },
  {
   "cell_type": "code",
   "execution_count": null,
   "metadata": {},
   "outputs": [],
   "source": [
    "def fibo_num(N): \n",
    "    fibo_num_list = [0, 1] \n",
    "    \n",
    "    for i in range(N-1): \n",
    "        fibo_num_list.append(fibo_num_list[i]+fibo_num_list[i+1]) \n",
    "        \n",
    "    return fibo_num_list[N] \n",
    "\n",
    "if __name__ == \"__main__\": \n",
    "    N = int(input()) \n",
    "    print(fibo_num(N))"
   ]
  }
 ],
 "metadata": {
  "kernelspec": {
   "display_name": "Python 3",
   "language": "python",
   "name": "python3"
  },
  "language_info": {
   "codemirror_mode": {
    "name": "ipython",
    "version": 3
   },
   "file_extension": ".py",
   "mimetype": "text/x-python",
   "name": "python",
   "nbconvert_exporter": "python",
   "pygments_lexer": "ipython3",
   "version": "3.7.3"
  }
 },
 "nbformat": 4,
 "nbformat_minor": 2
}
