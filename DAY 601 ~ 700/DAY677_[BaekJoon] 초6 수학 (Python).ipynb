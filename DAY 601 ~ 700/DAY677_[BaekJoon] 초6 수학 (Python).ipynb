{
 "cells": [
  {
   "cell_type": "markdown",
   "metadata": {},
   "source": [
    "## 2022년 4월 14일 목요일\n",
    "### BaekJoon - 초6 수학 (Python) \n",
    "### 문제 : https://www.acmicpc.net/problem/2702\n",
    "### 블로그 : https://somjang.tistory.com/entry/BaekJoon-2702%EB%B2%88-%EC%B4%886-%EC%88%98%ED%95%99-Python"
   ]
  },
  {
   "cell_type": "markdown",
   "metadata": {},
   "source": [
    "### Solution"
   ]
  },
  {
   "cell_type": "code",
   "execution_count": null,
   "metadata": {},
   "outputs": [],
   "source": [
    "def gcd(a, b): \n",
    "    mod = a % b \n",
    "    while mod > 0: \n",
    "        a = b \n",
    "        b = mod \n",
    "        mod = a % b \n",
    "    \n",
    "    return b \n",
    "\n",
    "def lcm(a, b): \n",
    "    return a * b // gcd(a, b)\n",
    "\n",
    "def elementary_6_math(a, b):\n",
    "    return lcm(a, b), gcd(a, b)\n",
    "\n",
    "\n",
    "if __name__ == \"__main__\":\n",
    "    for _ in range(int(input())):\n",
    "        a, b = map(int, input().split())\n",
    "        lcm_num, gcd_num = elementary_6_math(a, b)\n",
    "        print(lcm_num, gcd_num)"
   ]
  }
 ],
 "metadata": {
  "kernelspec": {
   "display_name": "Python 3",
   "language": "python",
   "name": "python3"
  },
  "language_info": {
   "codemirror_mode": {
    "name": "ipython",
    "version": 3
   },
   "file_extension": ".py",
   "mimetype": "text/x-python",
   "name": "python",
   "nbconvert_exporter": "python",
   "pygments_lexer": "ipython3",
   "version": "3.7.3"
  }
 },
 "nbformat": 4,
 "nbformat_minor": 2
}
