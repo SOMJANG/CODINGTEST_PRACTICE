{
 "cells": [
  {
   "cell_type": "markdown",
   "metadata": {},
   "source": [
    "## 2022년 4월 11일 월요일\n",
    "### BaekJoon - 카드 게임 (Python) \n",
    "### 문제 : https://www.acmicpc.net/problem/5522\n",
    "### 블로그 : https://somjang.tistory.com/entry/BaekJoon-5522%EB%B2%88-%EC%B9%B4%EB%93%9C-%EA%B2%8C%EC%9E%84-Python"
   ]
  },
  {
   "cell_type": "markdown",
   "metadata": {},
   "source": [
    "### Solution"
   ]
  },
  {
   "cell_type": "code",
   "execution_count": null,
   "metadata": {},
   "outputs": [],
   "source": [
    "def card_game(JOI):\n",
    "    return sum(JOI)\n",
    "\n",
    "if __name__ == \"__main__\":\n",
    "    JOI = []\n",
    "    for _ in range(5):\n",
    "        score = int(input())\n",
    "        JOI.append(score)\n",
    "        \n",
    "    print(card_game(JOI))"
   ]
  }
 ],
 "metadata": {
  "kernelspec": {
   "display_name": "Python 3",
   "language": "python",
   "name": "python3"
  },
  "language_info": {
   "codemirror_mode": {
    "name": "ipython",
    "version": 3
   },
   "file_extension": ".py",
   "mimetype": "text/x-python",
   "name": "python",
   "nbconvert_exporter": "python",
   "pygments_lexer": "ipython3",
   "version": "3.7.3"
  }
 },
 "nbformat": 4,
 "nbformat_minor": 2
}
