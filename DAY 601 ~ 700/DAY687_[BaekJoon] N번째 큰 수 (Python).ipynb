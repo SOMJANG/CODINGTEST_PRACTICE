{
 "cells": [
  {
   "cell_type": "markdown",
   "metadata": {},
   "source": [
    "## 2022년 4월 24일 일요일\n",
    "### BaekJoon - N번째 큰 수 (Python) \n",
    "### 문제 : https://www.acmicpc.net/problem/2693\n",
    "### 블로그 : https://somjang.tistory.com/entry/BaekJoon-2693%EB%B2%88-N%EB%B2%88%EC%A7%B8-%ED%81%B0-%EC%88%98-Python"
   ]
  },
  {
   "cell_type": "markdown",
   "metadata": {},
   "source": [
    "### Solution"
   ]
  },
  {
   "cell_type": "code",
   "execution_count": null,
   "metadata": {},
   "outputs": [],
   "source": [
    "def nth_big_number(numbers, n):\n",
    "    sorted_numbers = sorted(numbers, reverse=True)\n",
    "    \n",
    "    return sorted_numbers[n-1]\n",
    "\n",
    "\n",
    "if __name__ == \"__main__\":\n",
    "    for _ in range(int(input())):\n",
    "        numbers = list(map(int, input().split()))\n",
    "        print(nth_big_number(numbers, 3))"
   ]
  }
 ],
 "metadata": {
  "kernelspec": {
   "display_name": "Python 3",
   "language": "python",
   "name": "python3"
  },
  "language_info": {
   "codemirror_mode": {
    "name": "ipython",
    "version": 3
   },
   "file_extension": ".py",
   "mimetype": "text/x-python",
   "name": "python",
   "nbconvert_exporter": "python",
   "pygments_lexer": "ipython3",
   "version": "3.7.3"
  }
 },
 "nbformat": 4,
 "nbformat_minor": 2
}
