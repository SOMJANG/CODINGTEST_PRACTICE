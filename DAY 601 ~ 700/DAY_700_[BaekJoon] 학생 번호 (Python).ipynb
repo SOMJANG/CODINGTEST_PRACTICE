{
 "cells": [
  {
   "cell_type": "markdown",
   "metadata": {},
   "source": [
    "## 2022년 5월 6일 금요일\n",
    "### BaekJoon - 학생 번호 (Python) \n",
    "### 문제 : https://www.acmicpc.net/problem/1235\n",
    "### 블로그 : https://somjang.tistory.com/entry/BaekJoon-1235%EB%B2%88-%ED%95%99%EC%83%9D-%EB%B2%88%ED%98%B8-Python"
   ]
  },
  {
   "cell_type": "markdown",
   "metadata": {},
   "source": [
    "### Solution"
   ]
  },
  {
   "cell_type": "code",
   "execution_count": null,
   "metadata": {},
   "outputs": [],
   "source": [
    "def student_number(numbers):\n",
    "    answer = 0\n",
    "    for idx in range(1, len(numbers[0]) + 1):\n",
    "        temp = [num[:idx] for num in numbers]\n",
    "        \n",
    "        if len(temp) == len(set(temp)):\n",
    "            answer = idx\n",
    "            break\n",
    "            \n",
    "    return answer\n",
    "\n",
    "\n",
    "if __name__ == \"__main__\":\n",
    "    numbers = []\n",
    "    \n",
    "    for _ in range(int(input())):\n",
    "        number = input()\n",
    "        numbers.append(number[::-1])\n",
    "        \n",
    "    print(student_number(numbers))"
   ]
  }
 ],
 "metadata": {
  "kernelspec": {
   "display_name": "Python 3",
   "language": "python",
   "name": "python3"
  },
  "language_info": {
   "codemirror_mode": {
    "name": "ipython",
    "version": 3
   },
   "file_extension": ".py",
   "mimetype": "text/x-python",
   "name": "python",
   "nbconvert_exporter": "python",
   "pygments_lexer": "ipython3",
   "version": "3.7.3"
  }
 },
 "nbformat": 4,
 "nbformat_minor": 2
}
