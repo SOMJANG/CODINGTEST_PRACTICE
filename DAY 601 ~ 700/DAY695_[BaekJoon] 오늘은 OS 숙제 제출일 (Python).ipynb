{
 "cells": [
  {
   "cell_type": "markdown",
   "metadata": {},
   "source": [
    "## 2022년 5월 2일 월요일\n",
    "### BaekJoon - 오늘은 OS 숙제 제출일 (Python) \n",
    "### 문제 : https://www.acmicpc.net/problem/2730\n",
    "### 블로그 : https://somjang.tistory.com/entry/BaekJoon-2730%EB%B2%88-%EC%98%A4%EB%8A%98%EC%9D%80-OS-%EC%88%99%EC%A0%9C-%EC%A0%9C%EC%B6%9C%EC%9D%BC-Python"
   ]
  },
  {
   "cell_type": "markdown",
   "metadata": {},
   "source": [
    "### Solution"
   ]
  },
  {
   "cell_type": "code",
   "execution_count": null,
   "metadata": {},
   "outputs": [],
   "source": [
    "from datetime import datetime\n",
    "\n",
    "def is_need_check_next_year(submission_month, deadline_month, submission_year):\n",
    "    is_need_check = False\n",
    "    deadline_year = submission_year\n",
    "    if submission_month == 12 and deadline_month == 1:\n",
    "        is_need_check = True\n",
    "        deadline_year += 1\n",
    "    elif submission_month == 1 and deadline_month == 12:\n",
    "        is_need_check = True\n",
    "        deadline_year -= 1\n",
    "        \n",
    "    return is_need_check, deadline_year\n",
    "\n",
    "\n",
    "def is_leap_year(year):\n",
    "    is_leap = False\n",
    "    \n",
    "    if (year % 4 == 0 and year % 100 != 0) or year % 400 == 0:\n",
    "        is_leap = True\n",
    "        \n",
    "    return is_leap\n",
    "\n",
    "\n",
    "def datetime_to_string(date):\n",
    "    return '{dt.month}/{dt.day}/{dt.year}'.format(dt=date)\n",
    "\n",
    "\n",
    "def is_grade_homework(term, submission_day, deadline_day):\n",
    "    day_status = \"SAME DAY\"\n",
    "    if term < -7 or term > 7:\n",
    "        day_status = \"OUT OF RANGE\"\n",
    "    elif 0 < term < 8:\n",
    "        day_status = f\"{datetime_to_string(deadline_day)} IS {term} {'DAYS' if term > 1 else 'DAY'} AFTER\"\n",
    "    elif -8 < term < 0:\n",
    "        day_status = f\"{datetime_to_string(deadline_day)} IS {abs(term)} {'DAYS' if abs(term) > 1 else 'DAY'} PRIOR\"\n",
    "        \n",
    "    return day_status\n",
    "\n",
    "\n",
    "def calculate_date_term(submission_month, submission_day, submission_year, \n",
    "                        deadline_month, deadline_day):\n",
    "    \n",
    "    is_submission_year_leap = is_leap_year(submission_year)\n",
    "\n",
    "    is_need_check, deadline_year = is_need_check_next_year(submission_month, deadline_month, submission_year)\n",
    "    \n",
    "    if not is_submission_year_leap:\n",
    "        if deadline_month == 2 and deadline_day == 29:\n",
    "            deadline_year = 2004\n",
    "    \n",
    "    submission_day = datetime(year=submission_year, month=submission_month, day=submission_day)\n",
    "    deadline_day = datetime(year=deadline_year, month=deadline_month, day=deadline_day)\n",
    "\n",
    "    term = (deadline_day - submission_day).days\n",
    "    \n",
    "    return term, submission_day, deadline_day\n",
    "\n",
    "\n",
    "def os_homework_submission_date(submission_date, deadline):\n",
    "    submission_month, submission_day, submission_year = map(int, submission_date.split(\"/\"))\n",
    "    deadline_month, deadline_day = map(int, deadline.split(\"/\"))\n",
    "    \n",
    "    term, submission_day, deadline_day = calculate_date_term(submission_month, submission_day, submission_year,deadline_month, deadline_day)\n",
    "    \n",
    "    return is_grade_homework(term, submission_day, deadline_day)\n",
    "\n",
    "\n",
    "if __name__ == \"__main__\":\n",
    "    for _ in range(int(input())):\n",
    "        submission_date, deadline = input().split()\n",
    "        print(os_homework_submission_date(submission_date, deadline))"
   ]
  }
 ],
 "metadata": {
  "kernelspec": {
   "display_name": "Python 3",
   "language": "python",
   "name": "python3"
  },
  "language_info": {
   "codemirror_mode": {
    "name": "ipython",
    "version": 3
   },
   "file_extension": ".py",
   "mimetype": "text/x-python",
   "name": "python",
   "nbconvert_exporter": "python",
   "pygments_lexer": "ipython3",
   "version": "3.7.3"
  }
 },
 "nbformat": 4,
 "nbformat_minor": 2
}
