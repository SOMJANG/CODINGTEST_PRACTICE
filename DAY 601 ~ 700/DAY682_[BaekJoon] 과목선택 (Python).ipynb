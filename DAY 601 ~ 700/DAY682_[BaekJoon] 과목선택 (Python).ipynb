{
 "cells": [
  {
   "cell_type": "markdown",
   "metadata": {},
   "source": [
    "## 2022년 4월 19일 화요일\n",
    "### BaekJoon - 과목선택 (Python) \n",
    "### 문제 : https://www.acmicpc.net/problem/11948\n",
    "### 블로그 : https://somjang.tistory.com/entry/BaekJoon-11948%EB%B2%88-%EA%B3%BC%EB%AA%A9%EC%84%A0%ED%83%9D-Python"
   ]
  },
  {
   "cell_type": "markdown",
   "metadata": {},
   "source": [
    "### Solution"
   ]
  },
  {
   "cell_type": "code",
   "execution_count": null,
   "metadata": {},
   "outputs": [],
   "source": [
    "def test_subject(A, B, C, D, E, F):\n",
    "    sorted_score1 = sorted([A, B, C, D])[1:]\n",
    "    sorted_score2 = sorted([E, F])[1:]\n",
    "    \n",
    "    return sum(sorted_score1) + sum(sorted_score2)\n",
    "\n",
    "\n",
    "if __name__ == \"__main__\":\n",
    "    A = int(input())\n",
    "    B = int(input())\n",
    "    C = int(input())\n",
    "    D = int(input())\n",
    "    E = int(input())\n",
    "    F = int(input())\n",
    "    \n",
    "    print(test_subject(A, B, C, D, E, F))"
   ]
  }
 ],
 "metadata": {
  "kernelspec": {
   "display_name": "Python 3",
   "language": "python",
   "name": "python3"
  },
  "language_info": {
   "codemirror_mode": {
    "name": "ipython",
    "version": 3
   },
   "file_extension": ".py",
   "mimetype": "text/x-python",
   "name": "python",
   "nbconvert_exporter": "python",
   "pygments_lexer": "ipython3",
   "version": "3.7.3"
  }
 },
 "nbformat": 4,
 "nbformat_minor": 2
}
