{
 "cells": [
  {
   "cell_type": "markdown",
   "metadata": {},
   "source": [
    "## 2022년 5월 5일 목요일\n",
    "### BaekJoon - 나이 계산하기 (Python) \n",
    "### 문제 : https://www.acmicpc.net/problem/16199\n",
    "### 블로그 : https://somjang.tistory.com/entry/BaekJoon-16199%EB%B2%88-%EB%82%98%EC%9D%B4-%EA%B3%84%EC%82%B0%ED%95%98%EA%B8%B0-Python"
   ]
  },
  {
   "cell_type": "markdown",
   "metadata": {},
   "source": [
    "### Solution"
   ]
  },
  {
   "cell_type": "code",
   "execution_count": null,
   "metadata": {},
   "outputs": [],
   "source": [
    "from datetime import datetime\n",
    "\n",
    "\n",
    "def american_age(birthday, standard):\n",
    "    if standard.month - birthday.month > 0:\n",
    "        age = standard.year - birthday.year\n",
    "    elif standard.month == birthday.month:\n",
    "        if standard.day - birthday.day >= 0:\n",
    "            age = standard.year - birthday.year\n",
    "        else:\n",
    "            age = standard.year - birthday.year - 1\n",
    "    else:\n",
    "        age = standard.year - birthday.year - 1\n",
    "    \n",
    "    return age\n",
    "    \n",
    "    \n",
    "def korean_age(birthday, standard):\n",
    "    age = standard.year - birthday.year + 1\n",
    "    \n",
    "    return age\n",
    "    \n",
    "def year_age(birthday, standard):\n",
    "    \n",
    "    age = standard.year - birthday.year\n",
    "    \n",
    "    return age\n",
    "\n",
    "\n",
    "def three_ages_used_in_korea(birthday, standard):\n",
    "    birth_year, birth_month, birth_day = map(int, birthday.split())\n",
    "    standard_year, standard_month, standard_day = map(int, standard.split())\n",
    "    \n",
    "    birthday = datetime(year=birth_year, month=birth_month, day=birth_day)\n",
    "    standard = datetime(year=standard_year, month=standard_month, day=standard_day)\n",
    "    \n",
    "    age_1 = american_age(birthday, standard)\n",
    "    age_2 = korean_age(birthday, standard)\n",
    "    age_3 = year_age(birthday, standard)\n",
    "    \n",
    "    return age_1, age_2, age_3\n",
    "\n",
    "\n",
    "if __name__ == \"__main__\":\n",
    "    birthday = input()\n",
    "    standard = input()\n",
    "    age_1, age_2, age_3 = three_ages_used_in_korea(birthday, standard)\n",
    "    \n",
    "    print(age_1)\n",
    "    print(age_2)\n",
    "    print(age_3)"
   ]
  }
 ],
 "metadata": {
  "kernelspec": {
   "display_name": "Python 3",
   "language": "python",
   "name": "python3"
  },
  "language_info": {
   "codemirror_mode": {
    "name": "ipython",
    "version": 3
   },
   "file_extension": ".py",
   "mimetype": "text/x-python",
   "name": "python",
   "nbconvert_exporter": "python",
   "pygments_lexer": "ipython3",
   "version": "3.7.3"
  }
 },
 "nbformat": 4,
 "nbformat_minor": 2
}
