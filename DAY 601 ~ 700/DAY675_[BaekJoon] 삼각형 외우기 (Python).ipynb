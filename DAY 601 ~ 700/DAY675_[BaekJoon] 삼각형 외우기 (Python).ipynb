{
 "cells": [
  {
   "cell_type": "markdown",
   "metadata": {},
   "source": [
    "## 2022년 4월 10일 일요일\n",
    "### BaekJoon - 삼각형 외우기 (Python) \n",
    "### 문제 : https://www.acmicpc.net/problem/10101\n",
    "### 블로그 : https://somjang.tistory.com/entry/BaekJoon-10101%EB%B2%88-%EC%82%BC%EA%B0%81%ED%98%95-%EC%99%B8%EC%9A%B0%EA%B8%B0-Python"
   ]
  },
  {
   "cell_type": "markdown",
   "metadata": {},
   "source": [
    "### Solution"
   ]
  },
  {
   "cell_type": "code",
   "execution_count": null,
   "metadata": {},
   "outputs": [],
   "source": [
    "def triangle(angle1, angle2, angle3):    \n",
    "    angle_list = [angle1, angle2, angle3]\n",
    "    angle_set = set(angle_list)\n",
    "    \n",
    "    if sum(angle_list) != 180:\n",
    "        answer = \"Error\"\n",
    "    elif angle_set == set([60]):\n",
    "        answer = \"Equilateral\"\n",
    "    elif sum(angle_list) == 180 and len(angle_set) == 2:\n",
    "        answer = \"Isosceles\"\n",
    "    elif sum(angle_list) == 180 and len(angle_set) == 3:\n",
    "        answer = \"Scalene\"\n",
    "        \n",
    "    return answer\n",
    "\n",
    "\n",
    "if __name__ == \"__main__\":\n",
    "    angle1 = int(input())\n",
    "    angle2 = int(input())\n",
    "    angle3 = int(input())\n",
    "    \n",
    "    print(triangle(angle1, angle2, angle3))"
   ]
  }
 ],
 "metadata": {
  "kernelspec": {
   "display_name": "Python 3",
   "language": "python",
   "name": "python3"
  },
  "language_info": {
   "codemirror_mode": {
    "name": "ipython",
    "version": 3
   },
   "file_extension": ".py",
   "mimetype": "text/x-python",
   "name": "python",
   "nbconvert_exporter": "python",
   "pygments_lexer": "ipython3",
   "version": "3.7.3"
  }
 },
 "nbformat": 4,
 "nbformat_minor": 2
}
