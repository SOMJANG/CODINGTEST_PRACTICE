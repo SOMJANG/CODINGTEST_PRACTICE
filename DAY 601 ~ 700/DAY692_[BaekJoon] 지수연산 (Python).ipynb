{
 "cells": [
  {
   "cell_type": "markdown",
   "metadata": {},
   "source": [
    "## 2022년 4월 29일 금요일\n",
    "### BaekJoon - 지수연산 (Python) \n",
    "### 문제 : https://www.acmicpc.net/problem/2052\n",
    "### 블로그 : https://somjang.tistory.com/entry/BaekJoon-2052%EB%B2%88-%EC%A7%80%EC%88%98%EC%97%B0%EC%82%B0-Python"
   ]
  },
  {
   "cell_type": "markdown",
   "metadata": {},
   "source": [
    "### Solution"
   ]
  },
  {
   "cell_type": "code",
   "execution_count": null,
   "metadata": {},
   "outputs": [],
   "source": [
    "def exponentiation(N):\n",
    "    answer = \"%.300f\" % (1 / pow(2, N))\n",
    "    \n",
    "#     answer = \"{:.300f}\".format((1 / pow(2, N))\n",
    "    \n",
    "    slice_idx = len(answer)\n",
    "    \n",
    "    for idx in range(len(answer)-1, 1, -1):\n",
    "        if answer[idx] != '0':\n",
    "            slice_idx = idx + 1\n",
    "            break\n",
    "    \n",
    "    return answer[:slice_idx]\n",
    "\n",
    "if __name__ == \"__main__\":\n",
    "    N = int(input())\n",
    "    print(exponentiation(N))"
   ]
  }
 ],
 "metadata": {
  "kernelspec": {
   "display_name": "Python 3",
   "language": "python",
   "name": "python3"
  },
  "language_info": {
   "codemirror_mode": {
    "name": "ipython",
    "version": 3
   },
   "file_extension": ".py",
   "mimetype": "text/x-python",
   "name": "python",
   "nbconvert_exporter": "python",
   "pygments_lexer": "ipython3",
   "version": "3.7.3"
  }
 },
 "nbformat": 4,
 "nbformat_minor": 2
}
