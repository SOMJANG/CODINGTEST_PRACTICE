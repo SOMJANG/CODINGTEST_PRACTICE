{
 "cells": [
  {
   "cell_type": "markdown",
   "metadata": {},
   "source": [
    "## 2022년 4월 28일 목요일\n",
    "### BaekJoon - 특별한 날 (Python) \n",
    "### 문제 : https://www.acmicpc.net/problem/10768\n",
    "### 블로그 : https://somjang.tistory.com/entry/BaekJoon-10768%EB%B2%88-%ED%8A%B9%EB%B3%84%ED%95%9C-%EB%82%A0-Python"
   ]
  },
  {
   "cell_type": "markdown",
   "metadata": {},
   "source": [
    "### Solution"
   ]
  },
  {
   "cell_type": "code",
   "execution_count": null,
   "metadata": {},
   "outputs": [],
   "source": [
    "def special_day(month, day):\n",
    "    answer = \"After\"\n",
    "    \n",
    "    if f\"{month} {day}\" == \"2 18\":\n",
    "        answer = \"Special\"\n",
    "    elif (month <= 2 and day < 18) or (month == 1 and day < 32):\n",
    "        answer = \"Before\"\n",
    "        \n",
    "    return answer\n",
    "\n",
    "\n",
    "if __name__ == \"__main__\":\n",
    "    month = int(input())\n",
    "    day = int(input())\n",
    "    \n",
    "    print(special_day(month, day))"
   ]
  }
 ],
 "metadata": {
  "kernelspec": {
   "display_name": "Python 3",
   "language": "python",
   "name": "python3"
  },
  "language_info": {
   "codemirror_mode": {
    "name": "ipython",
    "version": 3
   },
   "file_extension": ".py",
   "mimetype": "text/x-python",
   "name": "python",
   "nbconvert_exporter": "python",
   "pygments_lexer": "ipython3",
   "version": "3.7.3"
  }
 },
 "nbformat": 4,
 "nbformat_minor": 2
}
