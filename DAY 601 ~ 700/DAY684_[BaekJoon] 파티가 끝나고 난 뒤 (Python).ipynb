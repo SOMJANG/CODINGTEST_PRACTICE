{
 "cells": [
  {
   "cell_type": "markdown",
   "metadata": {},
   "source": [
    "## 2022년 4월 21일 목요일\n",
    "### BaekJoon - 파티가 끝나고 난 뒤 (Python) \n",
    "### 문제 : https://www.acmicpc.net/problem/2845\n",
    "### 블로그 : https://somjang.tistory.com/entry/BaekJoon-2845%EB%B2%88-%ED%8C%8C%ED%8B%B0%EA%B0%80-%EB%81%9D%EB%82%98%EA%B3%A0-%EB%82%9C-%EB%92%A4-Python"
   ]
  },
  {
   "cell_type": "markdown",
   "metadata": {},
   "source": [
    "### Solution"
   ]
  },
  {
   "cell_type": "code",
   "execution_count": null,
   "metadata": {},
   "outputs": [],
   "source": [
    "def cacluate_total_participant(L, P):\n",
    "    return L * P\n",
    "\n",
    "\n",
    "def get_error_num(total_participant, article_num):\n",
    "    return article_num - total_participant\n",
    "\n",
    "\n",
    "def after_finish_party(L, P, article_info):\n",
    "    answer = []\n",
    "    total_participant = cacluate_total_participant(L, P)\n",
    "    \n",
    "    for article_num in article_info:\n",
    "        answer.append(str(get_error_num(total_participant, article_num)))\n",
    "        \n",
    "        \n",
    "    return \" \".join(answer)\n",
    "\n",
    "\n",
    "if __name__ == \"__main__\":\n",
    "    L, P = map(int, input().split())\n",
    "    article_info = list(map(int, input().split()))\n",
    "    print(after_finish_party(L, P, article_info))"
   ]
  }
 ],
 "metadata": {
  "kernelspec": {
   "display_name": "Python 3",
   "language": "python",
   "name": "python3"
  },
  "language_info": {
   "codemirror_mode": {
    "name": "ipython",
    "version": 3
   },
   "file_extension": ".py",
   "mimetype": "text/x-python",
   "name": "python",
   "nbconvert_exporter": "python",
   "pygments_lexer": "ipython3",
   "version": "3.7.3"
  }
 },
 "nbformat": 4,
 "nbformat_minor": 2
}
