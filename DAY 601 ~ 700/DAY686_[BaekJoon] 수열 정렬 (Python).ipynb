{
 "cells": [
  {
   "cell_type": "markdown",
   "metadata": {},
   "source": [
    "## 2022년 4월 23일 토요일\n",
    "### BaekJoon - 수열 정렬 (Python) \n",
    "### 문제 : https://www.acmicpc.net/problem/1015\n",
    "### 블로그 : https://somjang.tistory.com/entry/BaekJoon-1015%EB%B2%88-%EC%88%98%EC%97%B4-%EC%A0%95%EB%A0%AC-Python"
   ]
  },
  {
   "cell_type": "markdown",
   "metadata": {},
   "source": [
    "### Solution"
   ]
  },
  {
   "cell_type": "code",
   "execution_count": null,
   "metadata": {},
   "outputs": [],
   "source": [
    "def sorting_array(N, A):\n",
    "    temp_list = [[idx, num] for idx, num in enumerate(A)]\n",
    "    \n",
    "    sorted_temp = sorted(temp_list, key=lambda x: x[1])\n",
    "    \n",
    "    for idx, temp in enumerate(sorted_temp):\n",
    "        temp.append(idx)\n",
    "        \n",
    "    P = [p[2] for p in sorted(sorted_temp, key=lambda x: x[0])]\n",
    "    \n",
    "    return \" \".join(list(map(str, P)))\n",
    "\n",
    "\n",
    "if __name__ == \"__main__\":\n",
    "    N = int(input())\n",
    "    A = list(map(int, input().split()))\n",
    "    \n",
    "    print(sorting_array(N, A))"
   ]
  }
 ],
 "metadata": {
  "kernelspec": {
   "display_name": "Python 3",
   "language": "python",
   "name": "python3"
  },
  "language_info": {
   "codemirror_mode": {
    "name": "ipython",
    "version": 3
   },
   "file_extension": ".py",
   "mimetype": "text/x-python",
   "name": "python",
   "nbconvert_exporter": "python",
   "pygments_lexer": "ipython3",
   "version": "3.7.3"
  }
 },
 "nbformat": 4,
 "nbformat_minor": 2
}
