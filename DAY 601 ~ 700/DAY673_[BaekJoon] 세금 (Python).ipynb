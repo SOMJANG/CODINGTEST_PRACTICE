{
 "cells": [
  {
   "cell_type": "markdown",
   "metadata": {},
   "source": [
    "## 2022년 4월 8일 금요일\n",
    "### BaekJoon - 세금 (Python) \n",
    "### 문제 : https://www.acmicpc.net/problem/20429\n",
    "### 블로그 : https://somjang.tistory.com/entry/BaekJoon-20429%EB%B2%88-%EC%84%B8%EA%B8%88-Python"
   ]
  },
  {
   "cell_type": "markdown",
   "metadata": {},
   "source": [
    "### Solution"
   ]
  },
  {
   "cell_type": "code",
   "execution_count": null,
   "metadata": {},
   "outputs": [],
   "source": [
    "def tax(N):\n",
    "    a_case = int(N * 0.78)\n",
    "    b_case = int(N * 0.80 + (N - N * 0.80) * 0.78)\n",
    "    return f\"{a_case} {b_case}\"\n",
    "\n",
    "\n",
    "if __name__ == \"__main__\":\n",
    "    N = int(input())\n",
    "    print(tax(N))"
   ]
  }
 ],
 "metadata": {
  "kernelspec": {
   "display_name": "Python 3",
   "language": "python",
   "name": "python3"
  },
  "language_info": {
   "codemirror_mode": {
    "name": "ipython",
    "version": 3
   },
   "file_extension": ".py",
   "mimetype": "text/x-python",
   "name": "python",
   "nbconvert_exporter": "python",
   "pygments_lexer": "ipython3",
   "version": "3.7.3"
  }
 },
 "nbformat": 4,
 "nbformat_minor": 2
}
