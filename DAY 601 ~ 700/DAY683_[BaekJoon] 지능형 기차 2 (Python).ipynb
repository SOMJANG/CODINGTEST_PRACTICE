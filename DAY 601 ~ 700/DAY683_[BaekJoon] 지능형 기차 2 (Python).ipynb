{
 "cells": [
  {
   "cell_type": "markdown",
   "metadata": {},
   "source": [
    "## 2022년 4월 20일 수요일\n",
    "### BaekJoon - 지능형 기차 2 (Python) \n",
    "### 문제 : https://www.acmicpc.net/problem/2460\n",
    "### 블로그 : https://somjang.tistory.com/entry/BaekJoon-2460%EB%B2%88-%EC%A7%80%EB%8A%A5%ED%98%95-%EA%B8%B0%EC%B0%A8-2-Python"
   ]
  },
  {
   "cell_type": "markdown",
   "metadata": {},
   "source": [
    "### Solution"
   ]
  },
  {
   "cell_type": "code",
   "execution_count": null,
   "metadata": {},
   "outputs": [],
   "source": [
    "def calculate_train_people(current, train_out, train_in):\n",
    "    return current - train_out + train_in\n",
    "\n",
    "def smart_train_2(in_out_list):\n",
    "    train_people_list = []\n",
    "    current_people = 0\n",
    "    \n",
    "    for in_out in in_out_list:\n",
    "        train_out, train_in = map(int, in_out.split())\n",
    "        current_people = calculate_train_people(current_people, train_out, train_in)\n",
    "        \n",
    "        train_people_list.append(current_people)\n",
    "        \n",
    "    return max(train_people_list)\n",
    "\n",
    "\n",
    "if __name__ == \"__main__\":\n",
    "    in_out_list = []\n",
    "    for _ in range(10):\n",
    "        in_out = input()\n",
    "        in_out_list.append(in_out)\n",
    "        \n",
    "    print(smart_train_2(in_out_list))"
   ]
  }
 ],
 "metadata": {
  "kernelspec": {
   "display_name": "Python 3",
   "language": "python",
   "name": "python3"
  },
  "language_info": {
   "codemirror_mode": {
    "name": "ipython",
    "version": 3
   },
   "file_extension": ".py",
   "mimetype": "text/x-python",
   "name": "python",
   "nbconvert_exporter": "python",
   "pygments_lexer": "ipython3",
   "version": "3.7.3"
  }
 },
 "nbformat": 4,
 "nbformat_minor": 2
}
