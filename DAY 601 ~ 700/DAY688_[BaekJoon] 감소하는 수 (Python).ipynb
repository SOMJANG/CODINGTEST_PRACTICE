{
 "cells": [
  {
   "cell_type": "markdown",
   "metadata": {},
   "source": [
    "## 2022년 4월 25일 월요일\n",
    "### BaekJoon - 감소하는 수 (Python) \n",
    "### 문제 : https://www.acmicpc.net/problem/1038\n",
    "### 블로그 : https://somjang.tistory.com/entry/BaekJoon-1038%EB%B2%88-%EA%B0%90%EC%86%8C%ED%95%98%EB%8A%94-%EC%88%98-Python"
   ]
  },
  {
   "cell_type": "markdown",
   "metadata": {},
   "source": [
    "### Solution"
   ]
  },
  {
   "cell_type": "code",
   "execution_count": null,
   "metadata": {},
   "outputs": [],
   "source": [
    "from itertools import combinations\n",
    "\n",
    "def get_all_decreasing_number():\n",
    "    decreasing_number = []\n",
    "    range_numbers = list(map(str, range(10)))\n",
    "    for i in range(10):\n",
    "        comb_list = [int(\"\".join(sorted(comb, reverse=True))) \n",
    "                     for comb in list(combinations(range_numbers, i+1))]\n",
    "        decreasing_number += comb_list\n",
    "        \n",
    "        \n",
    "    decreasing_number = sorted(decreasing_number)    \n",
    "    \n",
    "    return decreasing_number\n",
    "\n",
    "def nth_decreasing_number(N):\n",
    "    answer = -1\n",
    "    decreasing_number = get_all_decreasing_number()\n",
    "    \n",
    "    if N < len(decreasing_number):\n",
    "        answer = decreasing_number[N]\n",
    "        \n",
    "    return answer\n",
    "\n",
    "\n",
    "if __name__ == \"__main__\":\n",
    "    N = int(input())\n",
    "    print(nth_decreasing_number(N))    "
   ]
  }
 ],
 "metadata": {
  "kernelspec": {
   "display_name": "Python 3",
   "language": "python",
   "name": "python3"
  },
  "language_info": {
   "codemirror_mode": {
    "name": "ipython",
    "version": 3
   },
   "file_extension": ".py",
   "mimetype": "text/x-python",
   "name": "python",
   "nbconvert_exporter": "python",
   "pygments_lexer": "ipython3",
   "version": "3.7.3"
  }
 },
 "nbformat": 4,
 "nbformat_minor": 2
}
