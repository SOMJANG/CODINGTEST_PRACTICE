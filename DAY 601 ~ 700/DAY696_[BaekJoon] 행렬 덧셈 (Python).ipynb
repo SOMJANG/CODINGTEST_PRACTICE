{
 "cells": [
  {
   "cell_type": "markdown",
   "metadata": {},
   "source": [
    "## 2022년 5월 3일 화요일\n",
    "### BaekJoon - 행렬 덧셈 (Python) \n",
    "### 문제 : https://www.acmicpc.net/problem/2738\n",
    "### 블로그 : https://somjang.tistory.com/entry/BaekJoon-2738%EB%B2%88-%ED%96%89%EB%A0%AC-%EB%8D%A7%EC%85%88-Python"
   ]
  },
  {
   "cell_type": "markdown",
   "metadata": {},
   "source": [
    "### Solution"
   ]
  },
  {
   "cell_type": "code",
   "execution_count": null,
   "metadata": {},
   "outputs": [],
   "source": [
    "def matrix_sum(N, M, A, B):\n",
    "    sum_matrix = []\n",
    "    for i in range(N):\n",
    "        row = []\n",
    "        for j in range(M):\n",
    "            row.append(str(A[i][j] + B[i][j]))\n",
    "            \n",
    "        sum_matrix.append(\" \".join(row))\n",
    "        \n",
    "    return sum_matrix\n",
    "    \n",
    "    \n",
    "if __name__ == \"__main__\":\n",
    "    A, B = [], []\n",
    "    \n",
    "    N, M = map(int, input().split())\n",
    "    \n",
    "    for _ in range(N):\n",
    "        row = list(map(int, input().split()))\n",
    "        A.append(row)\n",
    "    for _ in range(N):\n",
    "        row = list(map(int, input().split()))\n",
    "        B.append(row)\n",
    "\n",
    "    sum_matrix = matrix_sum(N, M, A, B)\n",
    "    \n",
    "    for matrix in sum_matrix:\n",
    "        print(matrix)"
   ]
  }
 ],
 "metadata": {
  "kernelspec": {
   "display_name": "Python 3",
   "language": "python",
   "name": "python3"
  },
  "language_info": {
   "codemirror_mode": {
    "name": "ipython",
    "version": 3
   },
   "file_extension": ".py",
   "mimetype": "text/x-python",
   "name": "python",
   "nbconvert_exporter": "python",
   "pygments_lexer": "ipython3",
   "version": "3.7.3"
  }
 },
 "nbformat": 4,
 "nbformat_minor": 2
}
