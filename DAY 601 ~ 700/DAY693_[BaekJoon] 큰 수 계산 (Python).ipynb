{
 "cells": [
  {
   "cell_type": "markdown",
   "metadata": {},
   "source": [
    "## 2022년 4월 30일 토요일\n",
    "### BaekJoon - 큰 수 계산 (Python) \n",
    "### 문제 : https://www.acmicpc.net/problem/2408\n",
    "### 블로그 : https://somjang.tistory.com/entry/BaekJoon-2408%EB%B2%88-%ED%81%B0-%EC%88%98-%EA%B3%84%EC%82%B0-Python"
   ]
  },
  {
   "cell_type": "markdown",
   "metadata": {},
   "source": [
    "### Solution"
   ]
  },
  {
   "cell_type": "code",
   "execution_count": null,
   "metadata": {},
   "outputs": [],
   "source": [
    "def big_number_cacluation(formula):\n",
    "    return eval(formula)\n",
    "        \n",
    "        \n",
    "if __name__ == \"__main__\":\n",
    "    formula = []\n",
    "    \n",
    "    number_len = int(input())\n",
    "    \n",
    "    for _ in range(number_len * 2 - 1):\n",
    "        num_or_operator = input()\n",
    "        \n",
    "        formula.append(num_or_operator)\n",
    "        \n",
    "    formula = \"\".join(formula).replace(\"/\", \"//\")\n",
    "    \n",
    "    print(big_number_cacluation(formula))"
   ]
  }
 ],
 "metadata": {
  "kernelspec": {
   "display_name": "Python 3",
   "language": "python",
   "name": "python3"
  },
  "language_info": {
   "codemirror_mode": {
    "name": "ipython",
    "version": 3
   },
   "file_extension": ".py",
   "mimetype": "text/x-python",
   "name": "python",
   "nbconvert_exporter": "python",
   "pygments_lexer": "ipython3",
   "version": "3.7.3"
  }
 },
 "nbformat": 4,
 "nbformat_minor": 2
}
