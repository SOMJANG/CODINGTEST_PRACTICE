{
 "cells": [
  {
   "cell_type": "markdown",
   "metadata": {},
   "source": [
    "## 2022년 4월 15일 금요일\n",
    "### BaekJoon - AFC 윔블던 (Python) \n",
    "### 문제 : https://www.acmicpc.net/problem/4299\n",
    "### 블로그 : https://somjang.tistory.com/entry/BaekJoon-4299%EB%B2%88-AFC-%EC%9C%94%EB%B8%94%EB%8D%98-Python"
   ]
  },
  {
   "cell_type": "markdown",
   "metadata": {},
   "source": [
    "### Solution"
   ]
  },
  {
   "cell_type": "code",
   "execution_count": null,
   "metadata": {},
   "outputs": [],
   "source": [
    "def AFC_Wimbledon(sum_score, sub_score):\n",
    "    A = (sum_score + sub_score) // 2\n",
    "    B = (sum_score - sub_score) // 2\n",
    "    \n",
    "    answer = f\"{A} {B}\"\n",
    "    \n",
    "    if A < 0 or B < 0 or (sum_score + sub_score) % 2:\n",
    "        answer = -1\n",
    "        \n",
    "    return answer\n",
    "\n",
    "if __name__ == \"__main__\":\n",
    "    sum_score, sub_score = map(int, input().split())\n",
    "    print(AFC_Wimbledon(sum_score, sub_score))"
   ]
  }
 ],
 "metadata": {
  "kernelspec": {
   "display_name": "Python 3",
   "language": "python",
   "name": "python3"
  },
  "language_info": {
   "codemirror_mode": {
    "name": "ipython",
    "version": 3
   },
   "file_extension": ".py",
   "mimetype": "text/x-python",
   "name": "python",
   "nbconvert_exporter": "python",
   "pygments_lexer": "ipython3",
   "version": "3.7.3"
  }
 },
 "nbformat": 4,
 "nbformat_minor": 2
}
