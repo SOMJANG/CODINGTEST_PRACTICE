{
 "cells": [
  {
   "cell_type": "markdown",
   "metadata": {},
   "source": [
    "## 2022년 4월 16일 토요일\n",
    "### BaekJoon - 24 (Python) \n",
    "### 문제 : https://www.acmicpc.net/problem/1408\n",
    "### 블로그 : https://somjang.tistory.com/entry/BaekJoon-1408%EB%B2%88-24-Python"
   ]
  },
  {
   "cell_type": "markdown",
   "metadata": {},
   "source": [
    "### Solution"
   ]
  },
  {
   "cell_type": "code",
   "execution_count": null,
   "metadata": {},
   "outputs": [],
   "source": [
    "from datetime import datetime\n",
    "\n",
    "\n",
    "def convert_second_to_hour_minute_second(second): \n",
    "    hour = second // 3600 \n",
    "    minute = (second // 60) - (hour * 60) \n",
    "    sec = second - (minute * 60) - (hour * 3600) \n",
    "    \n",
    "    return hour, minute, sec\n",
    "\n",
    "\n",
    "def fill_zero(num):\n",
    "    return str(num).zfill(2)\n",
    "\n",
    "\n",
    "def twenty_four(now, nuclear):\n",
    "    now_time = datetime.strptime(now, '%H:%M:%S')\n",
    "    nuclear_time = datetime.strptime(nuclear, '%H:%M:%S') \n",
    "    \n",
    "    remaining_time = nuclear_time - now_time\n",
    "    \n",
    "    remaining_sec = remaining_time.seconds\n",
    "    \n",
    "    hour, minute, sec = convert_second_to_hour_minute_second(remaining_sec)\n",
    "    \n",
    "    return f\"{fill_zero(hour)}:{fill_zero(minute)}:{fill_zero(sec)}\"\n",
    "    \n",
    "\n",
    "if __name__ == \"__main__\":\n",
    "    now = input()\n",
    "    nuclear = input()\n",
    "    \n",
    "    print(twenty_four(now, nuclear))"
   ]
  }
 ],
 "metadata": {
  "kernelspec": {
   "display_name": "Python 3",
   "language": "python",
   "name": "python3"
  },
  "language_info": {
   "codemirror_mode": {
    "name": "ipython",
    "version": 3
   },
   "file_extension": ".py",
   "mimetype": "text/x-python",
   "name": "python",
   "nbconvert_exporter": "python",
   "pygments_lexer": "ipython3",
   "version": "3.7.3"
  }
 },
 "nbformat": 4,
 "nbformat_minor": 2
}
