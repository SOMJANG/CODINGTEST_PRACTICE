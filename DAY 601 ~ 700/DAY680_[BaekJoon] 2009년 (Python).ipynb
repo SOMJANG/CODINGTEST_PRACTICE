{
 "cells": [
  {
   "cell_type": "markdown",
   "metadata": {},
   "source": [
    "## 2022년 4월 17일 일요일\n",
    "### BaekJoon - 2009년 (Python) \n",
    "### 문제 : https://www.acmicpc.net/problem/2948\n",
    "### 블로그 : https://somjang.tistory.com/entry/BaekJoon-2948%EB%B2%88-2009%EB%85%84-Python"
   ]
  },
  {
   "cell_type": "markdown",
   "metadata": {},
   "source": [
    "### Solution"
   ]
  },
  {
   "cell_type": "code",
   "execution_count": null,
   "metadata": {},
   "outputs": [],
   "source": [
    "from datetime import datetime\n",
    "\n",
    "def year_2009(D, M):\n",
    "    weekday_list = ['Monday', 'Tuesday', 'Wednesday', 'Thursday', 'Friday', 'Saturday', 'Sunday']\n",
    "    \n",
    "    return weekday_list[datetime(year=2009, month=M, day=D).weekday()]\n",
    "\n",
    "\n",
    "if __name__ == \"__main__\":\n",
    "    D, M = map(int, input().split())\n",
    "    print(year_2009(D, M))"
   ]
  }
 ],
 "metadata": {
  "kernelspec": {
   "display_name": "Python 3",
   "language": "python",
   "name": "python3"
  },
  "language_info": {
   "codemirror_mode": {
    "name": "ipython",
    "version": 3
   },
   "file_extension": ".py",
   "mimetype": "text/x-python",
   "name": "python",
   "nbconvert_exporter": "python",
   "pygments_lexer": "ipython3",
   "version": "3.7.3"
  }
 },
 "nbformat": 4,
 "nbformat_minor": 2
}
