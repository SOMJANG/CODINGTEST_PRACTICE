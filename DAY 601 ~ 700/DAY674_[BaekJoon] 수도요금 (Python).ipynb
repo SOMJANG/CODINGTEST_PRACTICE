{
 "cells": [
  {
   "cell_type": "markdown",
   "metadata": {},
   "source": [
    "## 2022년 4월 9일 토요일\n",
    "### BaekJoon - 수도요금 (Python) \n",
    "### 문제 : https://www.acmicpc.net/problem/10707\n",
    "### 블로그 : https://somjang.tistory.com/entry/BaekJoon-10707%EB%B2%88-%EC%88%98%EB%8F%84%EC%9A%94%EA%B8%88-Python"
   ]
  },
  {
   "cell_type": "markdown",
   "metadata": {},
   "source": [
    "### Solution"
   ]
  },
  {
   "cell_type": "code",
   "execution_count": null,
   "metadata": {},
   "outputs": [],
   "source": [
    "def x_company(A, P):\n",
    "    return A * P\n",
    "\n",
    "\n",
    "def y_company(B, C, D, P):\n",
    "    extra_p = P - C\n",
    "    extra_bill = 0\n",
    "    \n",
    "    if extra_p > 0:\n",
    "        extra_bill = extra_p * D\n",
    "    \n",
    "    y_company_bill = B + extra_bill\n",
    "    \n",
    "    return y_company_bill\n",
    "\n",
    "\n",
    "def water_bill(A, B, C, D, P):\n",
    "    x_company_bill = x_company(A, P)\n",
    "    y_company_bill = y_company(B, C, D, P)\n",
    "    \n",
    "    return min(x_company_bill, y_company_bill)\n",
    "\n",
    "\n",
    "if __name__ == \"__main__\":\n",
    "    A = int(input())\n",
    "    B = int(input())\n",
    "    C = int(input())\n",
    "    D = int(input())\n",
    "    P = int(input())\n",
    "    \n",
    "    print(water_bill(A, B, C, D, P))"
   ]
  }
 ],
 "metadata": {
  "kernelspec": {
   "display_name": "Python 3",
   "language": "python",
   "name": "python3"
  },
  "language_info": {
   "codemirror_mode": {
    "name": "ipython",
    "version": 3
   },
   "file_extension": ".py",
   "mimetype": "text/x-python",
   "name": "python",
   "nbconvert_exporter": "python",
   "pygments_lexer": "ipython3",
   "version": "3.7.3"
  }
 },
 "nbformat": 4,
 "nbformat_minor": 2
}
