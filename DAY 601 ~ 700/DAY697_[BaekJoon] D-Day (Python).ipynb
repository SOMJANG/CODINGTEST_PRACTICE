{
 "cells": [
  {
   "cell_type": "markdown",
   "metadata": {},
   "source": [
    "## 2022년 5월 4일 수요일\n",
    "### BaekJoon - D-Day (Python) \n",
    "### 문제 : https://www.acmicpc.net/problem/1308\n",
    "### 블로그 : https://somjang.tistory.com/entry/BaekJoon-1308%EB%B2%88-D-Day-Python"
   ]
  },
  {
   "cell_type": "markdown",
   "metadata": {},
   "source": [
    "### Solution"
   ]
  },
  {
   "cell_type": "code",
   "execution_count": null,
   "metadata": {},
   "outputs": [],
   "source": [
    "from datetime import datetime\n",
    "\n",
    "def get_1000_year_day(start_year):\n",
    "    year_day_1000 = 0\n",
    "    \n",
    "    for year in range(start_year, start_year + 1000):\n",
    "        if year % 400 == 0:\n",
    "            year_day_1000 += 366\n",
    "        elif year % 100 == 0:\n",
    "            year_day_1000 += 365\n",
    "        elif year % 4 == 0:\n",
    "            year_day_1000 += 366\n",
    "        else:\n",
    "            year_day_1000 += 365\n",
    "            \n",
    "    return year_day_1000\n",
    "            \n",
    "\n",
    "\n",
    "def d_day(today, dday):\n",
    "    today_date = datetime(year=today[0], month=today[1], day=today[2])\n",
    "    dday_date = datetime(year=dday[0], month=dday[1], day=dday[2])\n",
    "    \n",
    "    dday_day = (dday_date - today_date).days\n",
    "    \n",
    "    year_day_1000 = get_1000_year_day(start_year=today[0])\n",
    "    \n",
    "    if dday_day >= year_day_1000:\n",
    "        dday_day = \"gg\"\n",
    "    else:\n",
    "        dday_day = f\"D-{dday_day}\"\n",
    "    \n",
    "    return dday_day\n",
    "\n",
    "\n",
    "if __name__ == \"__main__\":\n",
    "    today = list(map(int, input().split()))\n",
    "    dday = list(map(int, input().split()))\n",
    "    print(d_day(today, dday))"
   ]
  }
 ],
 "metadata": {
  "kernelspec": {
   "display_name": "Python 3",
   "language": "python",
   "name": "python3"
  },
  "language_info": {
   "codemirror_mode": {
    "name": "ipython",
    "version": 3
   },
   "file_extension": ".py",
   "mimetype": "text/x-python",
   "name": "python",
   "nbconvert_exporter": "python",
   "pygments_lexer": "ipython3",
   "version": "3.7.3"
  }
 },
 "nbformat": 4,
 "nbformat_minor": 2
}
