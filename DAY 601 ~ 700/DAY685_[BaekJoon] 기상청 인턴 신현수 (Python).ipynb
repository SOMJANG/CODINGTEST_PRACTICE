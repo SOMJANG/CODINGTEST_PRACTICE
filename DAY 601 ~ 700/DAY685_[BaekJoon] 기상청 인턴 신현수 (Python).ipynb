{
 "cells": [
  {
   "cell_type": "markdown",
   "metadata": {},
   "source": [
    "## 2022년 4월 22일 금요일\n",
    "### BaekJoon - 기상청 인턴 신현수 (Python) \n",
    "### 문제 : https://www.acmicpc.net/problem/2435\n",
    "### 블로그 : https://somjang.tistory.com/entry/BaekJoon-2435%EB%B2%88-%EA%B8%B0%EC%83%81%EC%B2%AD-%EC%9D%B8%ED%84%B4-%EC%8B%A0%ED%98%84%EC%88%98-Python"
   ]
  },
  {
   "cell_type": "markdown",
   "metadata": {},
   "source": [
    "### Solution"
   ]
  },
  {
   "cell_type": "code",
   "execution_count": null,
   "metadata": {},
   "outputs": [],
   "source": [
    "def calculate_max_K_days_temperature(N, K, temperature_list):\n",
    "    K_days_temperature_list = []\n",
    "    for i in range(N-K + 1):\n",
    "        K_days_temperature = sum(temperature_list[i:i+K])\n",
    "        K_days_temperature_list.append(K_days_temperature)\n",
    "        \n",
    "    return max(K_days_temperature_list)\n",
    "\n",
    "\n",
    "if __name__ == \"__main__\":\n",
    "    N, K = map(int, input().split())\n",
    "    temperature_list = list(map(int, input().split()))\n",
    "    \n",
    "    print(calculate_max_K_days_temperature(N, K, temperature_list))"
   ]
  }
 ],
 "metadata": {
  "kernelspec": {
   "display_name": "Python 3",
   "language": "python",
   "name": "python3"
  },
  "language_info": {
   "codemirror_mode": {
    "name": "ipython",
    "version": 3
   },
   "file_extension": ".py",
   "mimetype": "text/x-python",
   "name": "python",
   "nbconvert_exporter": "python",
   "pygments_lexer": "ipython3",
   "version": "3.7.3"
  }
 },
 "nbformat": 4,
 "nbformat_minor": 2
}
