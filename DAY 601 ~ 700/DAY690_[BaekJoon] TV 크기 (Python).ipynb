{
 "cells": [
  {
   "cell_type": "markdown",
   "metadata": {},
   "source": [
    "## 2022년 4월 27일 수요일\n",
    "### BaekJoon - TV 크기 (Python) \n",
    "### 문제 : https://www.acmicpc.net/problem/1297\n",
    "### 블로그 : https://somjang.tistory.com/entry/BaekJoon-1297%EB%B2%88-TV-%ED%81%AC%EA%B8%B0-Python"
   ]
  },
  {
   "cell_type": "markdown",
   "metadata": {},
   "source": [
    "### Solution"
   ]
  },
  {
   "cell_type": "code",
   "execution_count": null,
   "metadata": {},
   "outputs": [],
   "source": [
    "def TV(D, H, W):\n",
    "    R = D / pow((pow(H, 2) + pow(W, 2)), 0.5)\n",
    "    \n",
    "    return f\"{int(H * R)} {int(W * R)}\"\n",
    "\n",
    "if __name__ == \"__main__\":\n",
    "    D, H, W = map(int, input().split())\n",
    "    print(TV(D, H, W))"
   ]
  }
 ],
 "metadata": {
  "kernelspec": {
   "display_name": "Python 3",
   "language": "python",
   "name": "python3"
  },
  "language_info": {
   "codemirror_mode": {
    "name": "ipython",
    "version": 3
   },
   "file_extension": ".py",
   "mimetype": "text/x-python",
   "name": "python",
   "nbconvert_exporter": "python",
   "pygments_lexer": "ipython3",
   "version": "3.7.3"
  }
 },
 "nbformat": 4,
 "nbformat_minor": 2
}
