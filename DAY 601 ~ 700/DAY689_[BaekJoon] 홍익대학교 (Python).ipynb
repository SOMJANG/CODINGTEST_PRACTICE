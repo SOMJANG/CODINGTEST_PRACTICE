{
 "cells": [
  {
   "cell_type": "markdown",
   "metadata": {},
   "source": [
    "## 2022년 4월 26일 화요일\n",
    "### BaekJoon - 홍익대학교 (Python) \n",
    "### 문제 : https://www.acmicpc.net/problem/16394\n",
    "### 블로그 : https://somjang.tistory.com/entry/BaekJoon-16394%EB%B2%88-%ED%99%8D%EC%9D%B5%EB%8C%80%ED%95%99%EA%B5%90-Python"
   ]
  },
  {
   "cell_type": "markdown",
   "metadata": {},
   "source": [
    "### Solution"
   ]
  },
  {
   "cell_type": "code",
   "execution_count": null,
   "metadata": {},
   "outputs": [],
   "source": [
    "def Hongik_University(year):\n",
    "    return year - 1946\n",
    "\n",
    "\n",
    "if __name__ == \"__main__\":\n",
    "    year = int(input())\n",
    "    print(Hongik_University(year))"
   ]
  }
 ],
 "metadata": {
  "kernelspec": {
   "display_name": "Python 3",
   "language": "python",
   "name": "python3"
  },
  "language_info": {
   "codemirror_mode": {
    "name": "ipython",
    "version": 3
   },
   "file_extension": ".py",
   "mimetype": "text/x-python",
   "name": "python",
   "nbconvert_exporter": "python",
   "pygments_lexer": "ipython3",
   "version": "3.7.3"
  }
 },
 "nbformat": 4,
 "nbformat_minor": 2
}
