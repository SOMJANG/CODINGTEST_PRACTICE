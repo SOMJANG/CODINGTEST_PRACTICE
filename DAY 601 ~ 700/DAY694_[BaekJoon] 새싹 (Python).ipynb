{
 "cells": [
  {
   "cell_type": "markdown",
   "metadata": {},
   "source": [
    "## 2022년 5월 1일 일요일\n",
    "### BaekJoon - 새싹 (Python) \n",
    "### 문제 : https://www.acmicpc.net/problem/25083\n",
    "### 블로그 : https://somjang.tistory.com/entry/BaekJoon-25083%EB%B2%88-%EC%83%88%EC%8B%B9-Python"
   ]
  },
  {
   "cell_type": "markdown",
   "metadata": {},
   "source": [
    "### Solution"
   ]
  },
  {
   "cell_type": "code",
   "execution_count": null,
   "metadata": {},
   "outputs": [],
   "source": [
    "def sprout():\n",
    "    return \"\"\"         ,r'\"7\n",
    "r`-_   ,'  ,/\n",
    " \\. \". L_r'\n",
    "   `~\\/\n",
    "      |\n",
    "      |\"\"\"\n",
    "\n",
    "if __name__ == \"__main__\":\n",
    "    print(sprout())"
   ]
  }
 ],
 "metadata": {
  "kernelspec": {
   "display_name": "Python 3",
   "language": "python",
   "name": "python3"
  },
  "language_info": {
   "codemirror_mode": {
    "name": "ipython",
    "version": 3
   },
   "file_extension": ".py",
   "mimetype": "text/x-python",
   "name": "python",
   "nbconvert_exporter": "python",
   "pygments_lexer": "ipython3",
   "version": "3.7.3"
  }
 },
 "nbformat": 4,
 "nbformat_minor": 2
}
