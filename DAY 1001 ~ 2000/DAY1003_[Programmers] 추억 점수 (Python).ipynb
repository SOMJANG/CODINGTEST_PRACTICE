{
 "cells": [
  {
   "cell_type": "markdown",
   "metadata": {},
   "source": [
    "## 2023년 4월 22일 토요일\n",
    "### Programmers - 추억 점수 (Python)\n",
    "### 문제 : https://school.programmers.co.kr/learn/courses/30/lessons/176963\n",
    "### 블로그 : https://somjang.tistory.com/entry/Programmers-%EC%B6%94%EC%96%B5-%EC%A0%90%EC%88%98-Python-featChatGPT"
   ]
  },
  {
   "cell_type": "markdown",
   "metadata": {},
   "source": [
    "### Solution - SOMJANG"
   ]
  },
  {
   "cell_type": "code",
   "execution_count": null,
   "metadata": {},
   "outputs": [],
   "source": [
    "def make_yearning_dict(name, yearning):\n",
    "    new_yearning_dict = {}\n",
    "    for name_value, yearning_value in zip(name, yearning):\n",
    "        new_yearning_dict[name_value] = yearning_value\n",
    "        \n",
    "    return new_yearning_dict\n",
    "\n",
    "\n",
    "def solution(name, yearning, photo):\n",
    "    answer = []\n",
    "    \n",
    "    yearning_dict = make_yearning_dict(\n",
    "        name=name, yearning=yearning\n",
    "    )\n",
    "    \n",
    "    for picture in photo:\n",
    "        score = 0\n",
    "        \n",
    "        for name in picture:\n",
    "            if name in yearning_dict:\n",
    "                score += yearning_dict[name]\n",
    "        answer.append(score)\n",
    "    \n",
    "    return answer"
   ]
  },
  {
   "cell_type": "markdown",
   "metadata": {},
   "source": [
    "### Solution - ChatGPT"
   ]
  },
  {
   "cell_type": "code",
   "execution_count": null,
   "metadata": {},
   "outputs": [],
   "source": [
    "def solution(name, yearning, photo):\n",
    "    answer = [] # answer list\n",
    "    for people in photo: # iterate photos\n",
    "        total_score = 0 # set total score to 0\n",
    "        for person in people: # iterate people in photo\n",
    "            if person in name: # if person in the name list\n",
    "                idx = name.index(person) # find the index of the person\n",
    "                total_score += yearning[idx] # add person's yearning score to the total score\n",
    "        answer.append(total_score) # add the total score to the answer list\n",
    "    return answer # return the answer list"
   ]
  }
 ],
 "metadata": {
  "kernelspec": {
   "display_name": "Python 3 (ipykernel)",
   "language": "python",
   "name": "python3"
  },
  "language_info": {
   "codemirror_mode": {
    "name": "ipython",
    "version": 3
   },
   "file_extension": ".py",
   "mimetype": "text/x-python",
   "name": "python",
   "nbconvert_exporter": "python",
   "pygments_lexer": "ipython3",
   "version": "3.9.13"
  }
 },
 "nbformat": 4,
 "nbformat_minor": 2
}
