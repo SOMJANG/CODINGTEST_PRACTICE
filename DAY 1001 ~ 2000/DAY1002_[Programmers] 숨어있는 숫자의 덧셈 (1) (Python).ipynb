{
 "cells": [
  {
   "cell_type": "markdown",
   "metadata": {},
   "source": [
    "## 2023년 4월 21일 금요일\n",
    "### Programmers - 숨어있는 숫자의 덧셈 (1) (Python)\n",
    "### 문제 : https://school.programmers.co.kr/learn/courses/30/lessons/120851\n",
    "### 블로그 : https://somjang.tistory.com/entry/Programmers-%EC%88%A8%EC%96%B4%EC%9E%88%EB%8A%94-%EC%88%AB%EC%9E%90%EC%9D%98-%EB%8D%A7%EC%85%88-1-Python"
   ]
  },
  {
   "cell_type": "markdown",
   "metadata": {},
   "source": [
    "### Solution - SOMJANG"
   ]
  },
  {
   "cell_type": "code",
   "execution_count": null,
   "metadata": {},
   "outputs": [],
   "source": [
    "def solution(my_string):\n",
    "    answer = sum([int(word) for word in list(my_string) if word.isdigit()])\n",
    "    \n",
    "    return answer"
   ]
  },
  {
   "cell_type": "markdown",
   "metadata": {},
   "source": [
    "### Solution - ChatGPT"
   ]
  },
  {
   "cell_type": "code",
   "execution_count": null,
   "metadata": {},
   "outputs": [],
   "source": [
    "def solution(my_string):\n",
    "    numbers = []  # 자연수들을 저장할 리스트 생성\n",
    "    for char in my_string:\n",
    "        if char.isdigit():  # 문자열이 숫자인 경우\n",
    "            numbers.append(int(char))  # 숫자를 자연수로 변환하여 리스트에 추가\n",
    "    return sum(numbers)  # 자연수들의 합 반환"
   ]
  }
 ],
 "metadata": {
  "kernelspec": {
   "display_name": "Python 3 (ipykernel)",
   "language": "python",
   "name": "python3"
  },
  "language_info": {
   "codemirror_mode": {
    "name": "ipython",
    "version": 3
   },
   "file_extension": ".py",
   "mimetype": "text/x-python",
   "name": "python",
   "nbconvert_exporter": "python",
   "pygments_lexer": "ipython3",
   "version": "3.9.13"
  }
 },
 "nbformat": 4,
 "nbformat_minor": 2
}
