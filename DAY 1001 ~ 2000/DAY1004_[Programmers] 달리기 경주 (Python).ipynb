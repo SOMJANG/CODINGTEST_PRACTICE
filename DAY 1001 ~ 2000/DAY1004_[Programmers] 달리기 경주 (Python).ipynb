{
 "cells": [
  {
   "cell_type": "markdown",
   "metadata": {},
   "source": [
    "## 2023년 4월 23일 일요일\n",
    "### Programmers - 달리기 경주 (Python)\n",
    "### 문제 : https://school.programmers.co.kr/learn/courses/30/lessons/178871\n",
    "### 블로그 : https://somjang.tistory.com/entry/Programmers-%EB%8B%AC%EB%A6%AC%EA%B8%B0-%EA%B2%BD%EC%A3%BC-Python-featChatGPT"
   ]
  },
  {
   "cell_type": "markdown",
   "metadata": {},
   "source": [
    "### Solution - SOMJANG"
   ]
  },
  {
   "cell_type": "code",
   "execution_count": null,
   "metadata": {},
   "outputs": [],
   "source": [
    "def solution(players, callings):    \n",
    "    player_dict = {player:rank for rank, player in enumerate(players)}\n",
    "    rank_dict = {rank:player for rank, player in enumerate(players)}\n",
    "    \n",
    "    for call in callings:\n",
    "        rank = player_dict[call]\n",
    "        \n",
    "        player_dict[rank_dict[rank-1]], player_dict[rank_dict[rank]] = player_dict[rank_dict[rank]], player_dict[rank_dict[rank-1]]\n",
    "        rank_dict[rank-1], rank_dict[rank] = rank_dict[rank], rank_dict[rank-1]\n",
    "    \n",
    "    return list(rank_dict.values())"
   ]
  },
  {
   "cell_type": "markdown",
   "metadata": {},
   "source": [
    "### Solution - ChatGPT"
   ]
  },
  {
   "cell_type": "markdown",
   "metadata": {},
   "source": [
    "### Fail"
   ]
  }
 ],
 "metadata": {
  "kernelspec": {
   "display_name": "Python 3 (ipykernel)",
   "language": "python",
   "name": "python3"
  },
  "language_info": {
   "codemirror_mode": {
    "name": "ipython",
    "version": 3
   },
   "file_extension": ".py",
   "mimetype": "text/x-python",
   "name": "python",
   "nbconvert_exporter": "python",
   "pygments_lexer": "ipython3",
   "version": "3.9.13"
  }
 },
 "nbformat": 4,
 "nbformat_minor": 2
}
