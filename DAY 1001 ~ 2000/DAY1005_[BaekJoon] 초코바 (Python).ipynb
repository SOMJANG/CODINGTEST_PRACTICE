{
 "cells": [
  {
   "cell_type": "markdown",
   "metadata": {},
   "source": [
    "## 2023년 4월 29일 토요일\n",
    "### BaekJoon - 초코바 (Python)\n",
    "### 문제 : https://www.acmicpc.net/problem/27959\n",
    "### 블로그 : https://somjang.tistory.com/entry/BaekJoon-27959%EB%B2%88-%EC%B4%88%EC%BD%94%EB%B0%94-Python-featChatGPT"
   ]
  },
  {
   "cell_type": "markdown",
   "metadata": {},
   "source": [
    "### Solution - SOMJANG"
   ]
  },
  {
   "cell_type": "code",
   "execution_count": null,
   "metadata": {},
   "outputs": [],
   "source": [
    "def chocobar(N, M):\n",
    "    return \"Yes\" if N * 100 >= M else \"No\"\n",
    "\n",
    "\n",
    "if __name__ == \"__main__\":\n",
    "    N, M = map(int, input().split())\n",
    "    \n",
    "    print(chocobar(N=N, M=M))"
   ]
  },
  {
   "cell_type": "markdown",
   "metadata": {},
   "source": [
    "### Solution - ChatGPT"
   ]
  },
  {
   "cell_type": "code",
   "execution_count": null,
   "metadata": {},
   "outputs": [],
   "source": [
    "n, m = map(int, input().split())\n",
    "\n",
    "# N개의 100원 동전으로 만들 수 있는 최대 금액 계산\n",
    "max_money = n * 100\n",
    "\n",
    "# 최대 금액이 초코바의 가격보다 크거나 같은지 확인\n",
    "if max_money >= m:\n",
    "    print(\"Yes\")\n",
    "else:\n",
    "    print(\"No\")"
   ]
  }
 ],
 "metadata": {
  "kernelspec": {
   "display_name": "Python 3 (ipykernel)",
   "language": "python",
   "name": "python3"
  },
  "language_info": {
   "codemirror_mode": {
    "name": "ipython",
    "version": 3
   },
   "file_extension": ".py",
   "mimetype": "text/x-python",
   "name": "python",
   "nbconvert_exporter": "python",
   "pygments_lexer": "ipython3",
   "version": "3.9.13"
  }
 },
 "nbformat": 4,
 "nbformat_minor": 2
}
