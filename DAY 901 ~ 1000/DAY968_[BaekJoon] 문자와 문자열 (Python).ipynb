{
 "cells": [
  {
   "cell_type": "markdown",
   "metadata": {},
   "source": [
    "## 2023년 3월 8일 수요일\n",
    "### BaekJoon - 문자와 문자열 (Python)\n",
    "### 문제 : https://www.acmicpc.net/problem/27866\n",
    "### 블로그 : https://somjang.tistory.com/entry/BaekJoon-27866%EB%B2%88-%EB%AC%B8%EC%9E%90%EC%99%80-%EB%AC%B8%EC%9E%90%EC%97%B4-Python"
   ]
  },
  {
   "cell_type": "markdown",
   "metadata": {},
   "source": [
    "### Solution"
   ]
  },
  {
   "cell_type": "code",
   "execution_count": null,
   "metadata": {},
   "outputs": [],
   "source": [
    "def char_and_string(S, i):\n",
    "    return S[i-1]\n",
    "\n",
    "\n",
    "if __name__ == \"__main__\":\n",
    "    S = input()\n",
    "    i = int(input())\n",
    "    \n",
    "    print(char_and_string(S=S, i=i))"
   ]
  }
 ],
 "metadata": {
  "kernelspec": {
   "display_name": "Python 3 (ipykernel)",
   "language": "python",
   "name": "python3"
  },
  "language_info": {
   "codemirror_mode": {
    "name": "ipython",
    "version": 3
   },
   "file_extension": ".py",
   "mimetype": "text/x-python",
   "name": "python",
   "nbconvert_exporter": "python",
   "pygments_lexer": "ipython3",
   "version": "3.9.13"
  }
 },
 "nbformat": 4,
 "nbformat_minor": 2
}
