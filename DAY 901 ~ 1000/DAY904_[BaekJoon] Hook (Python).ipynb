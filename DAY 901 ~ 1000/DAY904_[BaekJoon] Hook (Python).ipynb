{
 "cells": [
  {
   "cell_type": "markdown",
   "metadata": {},
   "source": [
    "## 2022년 12월 22일 목요일\n",
    "### BaekJoon - Hook (Python)  \n",
    "### 문제 : https://www.acmicpc.net/problem/10189\n",
    "### 블로그 : https://somjang.tistory.com/entry/BaekJoon-10189%EB%B2%88-Hook-Python"
   ]
  },
  {
   "cell_type": "markdown",
   "metadata": {},
   "source": [
    "### Solution"
   ]
  },
  {
   "cell_type": "code",
   "execution_count": null,
   "metadata": {},
   "outputs": [],
   "source": [
    "def hook():\n",
    "    return \"\"\"#  # #### #### #  #\n",
    "#### #  # #  # # #\n",
    "#### #  # #  # # #\n",
    "#  # #### #### #  #\"\"\"\n",
    "\n",
    "\n",
    "if __name__ == \"__main__\":\n",
    "    print(hook())"
   ]
  }
 ],
 "metadata": {
  "kernelspec": {
   "display_name": "Python 3 (ipykernel)",
   "language": "python",
   "name": "python3"
  },
  "language_info": {
   "codemirror_mode": {
    "name": "ipython",
    "version": 3
   },
   "file_extension": ".py",
   "mimetype": "text/x-python",
   "name": "python",
   "nbconvert_exporter": "python",
   "pygments_lexer": "ipython3",
   "version": "3.9.13"
  }
 },
 "nbformat": 4,
 "nbformat_minor": 2
}
