{
 "cells": [
  {
   "cell_type": "markdown",
   "metadata": {},
   "source": [
    "## 2023년 2월 16일 목요일\n",
    "### Programmers - OX퀴즈 (Python)\n",
    "### 문제 : https://school.programmers.co.kr/learn/courses/30/lessons/120907\n",
    "### 블로그 : https://somjang.tistory.com/entry/Programmers-OX%ED%80%B4%EC%A6%88-Python"
   ]
  },
  {
   "cell_type": "markdown",
   "metadata": {},
   "source": [
    "### Solution"
   ]
  },
  {
   "cell_type": "code",
   "execution_count": null,
   "metadata": {},
   "outputs": [],
   "source": [
    "def plus(X, Y):\n",
    "    return int(X) + int(Y)\n",
    "\n",
    "\n",
    "def minus(X, Y):\n",
    "    return int(X) - int(Y)\n",
    "\n",
    "\n",
    "def calculator(X, Y, operator):\n",
    "    calc_dict = {\n",
    "        \"+\": plus, \"-\": minus\n",
    "    }\n",
    "    \n",
    "    return calc_dict[operator](X, Y)\n",
    "    \n",
    "\n",
    "def solution(quiz_list):\n",
    "    answer = []\n",
    "    \n",
    "    for quiz in quiz_list:\n",
    "        X, operator, Y, equal, Z = quiz.split()\n",
    "        \n",
    "        if calculator(X=X, Y=Y, operator=operator) == int(Z):\n",
    "            answer.append(\"O\")\n",
    "        else:\n",
    "            answer.append(\"X\")\n",
    "        \n",
    "    return answer"
   ]
  }
 ],
 "metadata": {
  "kernelspec": {
   "display_name": "Python 3 (ipykernel)",
   "language": "python",
   "name": "python3"
  },
  "language_info": {
   "codemirror_mode": {
    "name": "ipython",
    "version": 3
   },
   "file_extension": ".py",
   "mimetype": "text/x-python",
   "name": "python",
   "nbconvert_exporter": "python",
   "pygments_lexer": "ipython3",
   "version": "3.9.13"
  }
 },
 "nbformat": 4,
 "nbformat_minor": 2
}
