{
 "cells": [
  {
   "cell_type": "markdown",
   "metadata": {},
   "source": [
    "## 2023년 2월 4일 토요일\n",
    "### BaekJoon - Letter Frequency (Python)  \n",
    "### 문제 : https://www.acmicpc.net/problem/25775\n",
    "### 블로그 : https://somjang.tistory.com/entry/BaekJoon-25775%EB%B2%88-Letter-Frequency-Python"
   ]
  },
  {
   "cell_type": "markdown",
   "metadata": {},
   "source": [
    "### Solution"
   ]
  },
  {
   "cell_type": "code",
   "execution_count": null,
   "metadata": {},
   "outputs": [],
   "source": [
    "from collections import Counter\n",
    "\n",
    "def letter_frequency(word_list):\n",
    "    max_word_len = max([len(word) for word in word_list])\n",
    "    \n",
    "    freq_dict = {}\n",
    "    \n",
    "    for letter_idx in range(max_word_len):\n",
    "        freq_dict[letter_idx + 1] = Counter([\n",
    "            word[letter_idx:letter_idx+1] for word in word_list \n",
    "            if word[letter_idx:letter_idx+1] != ''\n",
    "        ]).most_common()\n",
    "        \n",
    "    \n",
    "    return freq_dict\n",
    "\n",
    "\n",
    "def make_answer_string(freq_dict):\n",
    "    answer_string = []\n",
    "    \n",
    "    for freq_num in freq_dict.keys():\n",
    "        freq_str = \" \".join([\n",
    "            f\"{freq_num}:\", \n",
    "            \" \".join(sorted([freq_item[0] for freq_item in freq_dict[freq_num] if freq_dict[freq_num][0][1] == freq_item[1]]))\n",
    "        ])\n",
    "        \n",
    "        answer_string.append(freq_str)\n",
    "        \n",
    "    return \"\\n\".join(answer_string)\n",
    "        \n",
    "    \n",
    "\n",
    "if __name__ == \"__main__\":\n",
    "    word_list = []\n",
    "    \n",
    "    for _ in range(int(input())):\n",
    "        word = input()\n",
    "        word_list.append(word)\n",
    "        \n",
    "    freq_dict = letter_frequency(word_list=word_list)\n",
    "    \n",
    "    print(make_answer_string(freq_dict=freq_dict))"
   ]
  }
 ],
 "metadata": {
  "kernelspec": {
   "display_name": "Python 3 (ipykernel)",
   "language": "python",
   "name": "python3"
  },
  "language_info": {
   "codemirror_mode": {
    "name": "ipython",
    "version": 3
   },
   "file_extension": ".py",
   "mimetype": "text/x-python",
   "name": "python",
   "nbconvert_exporter": "python",
   "pygments_lexer": "ipython3",
   "version": "3.9.13"
  }
 },
 "nbformat": 4,
 "nbformat_minor": 2
}
