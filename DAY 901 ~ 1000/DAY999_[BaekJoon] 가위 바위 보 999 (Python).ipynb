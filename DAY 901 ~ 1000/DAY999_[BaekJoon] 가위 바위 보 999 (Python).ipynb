{
 "cells": [
  {
   "cell_type": "markdown",
   "metadata": {},
   "source": [
    "## 2023년 4월 15일 토요일\n",
    "### BaekJoon - 가위 바위 보 999 (Python)\n",
    "### 문제 : https://www.acmicpc.net/problem/15913\n",
    "### 블로그 : https://somjang.tistory.com/entry/BaekJoon-15913%EB%B2%88-%EA%B0%80%EC%9C%84-%EB%B0%94%EC%9C%84-%EB%B3%B4-999-Python-featChatGPT"
   ]
  },
  {
   "cell_type": "markdown",
   "metadata": {},
   "source": [
    "### Solution"
   ]
  },
  {
   "cell_type": "code",
   "execution_count": null,
   "metadata": {},
   "outputs": [],
   "source": [
    "import random\n",
    "\n",
    "def rock_scissors_paper():\n",
    "    rand_nums = [random.randint(0, 2) for _ in range(3)]\n",
    "    return rand_nums[random.randint(0, 2)]\n",
    "\n",
    "\n",
    "if __name__ == \"__main__\":\n",
    "    print(rock_scissors_paper())"
   ]
  }
 ],
 "metadata": {
  "kernelspec": {
   "display_name": "Python 3 (ipykernel)",
   "language": "python",
   "name": "python3"
  },
  "language_info": {
   "codemirror_mode": {
    "name": "ipython",
    "version": 3
   },
   "file_extension": ".py",
   "mimetype": "text/x-python",
   "name": "python",
   "nbconvert_exporter": "python",
   "pygments_lexer": "ipython3",
   "version": "3.9.13"
  }
 },
 "nbformat": 4,
 "nbformat_minor": 2
}
