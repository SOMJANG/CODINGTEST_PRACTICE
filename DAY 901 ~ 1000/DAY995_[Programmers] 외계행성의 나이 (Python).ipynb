{
 "cells": [
  {
   "cell_type": "markdown",
   "metadata": {},
   "source": [
    "## 2023년 4월 11일 화요일\n",
    "### Programmers - 외계행성의 나이 (Python)\n",
    "### 문제 : https://school.programmers.co.kr/learn/courses/30/lessons/120834\n",
    "### 블로그 : https://somjang.tistory.com/entry/Programmers-%EC%99%B8%EA%B3%84%ED%96%89%EC%84%B1%EC%9D%98-%EB%82%98%EC%9D%B4-Python"
   ]
  },
  {
   "cell_type": "markdown",
   "metadata": {},
   "source": [
    "### Solution - SOMJANG"
   ]
  },
  {
   "cell_type": "code",
   "execution_count": null,
   "metadata": {},
   "outputs": [],
   "source": [
    "def solution(age):    \n",
    "    return \"\".join([chr(int(num) + ord('a')) for num in list(str(age))])"
   ]
  },
  {
   "cell_type": "markdown",
   "metadata": {},
   "source": [
    "### Solution - ChatGPT"
   ]
  },
  {
   "cell_type": "code",
   "execution_count": null,
   "metadata": {},
   "outputs": [],
   "source": [
    "def solution(age):\n",
    "    answer = ''\n",
    "    num_digits = len(str(age))\n",
    "\n",
    "    while age > 0:\n",
    "        remainder = age % 10\n",
    "        age //= 10\n",
    "\n",
    "        if remainder == 0:\n",
    "            answer = 'a' + answer\n",
    "        else:\n",
    "            answer = chr(ord('a') + remainder) + answer\n",
    "\n",
    "    if len(answer) < num_digits:\n",
    "        answer = 'a' * (num_digits - len(answer)) + answer\n",
    "\n",
    "    return answer\n"
   ]
  }
 ],
 "metadata": {
  "kernelspec": {
   "display_name": "Python 3 (ipykernel)",
   "language": "python",
   "name": "python3"
  },
  "language_info": {
   "codemirror_mode": {
    "name": "ipython",
    "version": 3
   },
   "file_extension": ".py",
   "mimetype": "text/x-python",
   "name": "python",
   "nbconvert_exporter": "python",
   "pygments_lexer": "ipython3",
   "version": "3.9.13"
  }
 },
 "nbformat": 4,
 "nbformat_minor": 2
}
