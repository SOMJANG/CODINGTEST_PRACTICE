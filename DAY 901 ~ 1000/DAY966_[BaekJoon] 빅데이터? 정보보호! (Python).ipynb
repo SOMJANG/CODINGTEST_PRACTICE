{
 "cells": [
  {
   "cell_type": "markdown",
   "metadata": {},
   "source": [
    "## 2023년 3월 6일 화요일\n",
    "### BaekJoon - 빅데이터? 정보보호! (Python)  \n",
    "### 문제 : https://www.acmicpc.net/problem/26264\n",
    "### 블로그 : https://somjang.tistory.com/entry/BaekJoon-26264%EB%B2%88-%EB%B9%85%EB%8D%B0%EC%9D%B4%ED%84%B0-%EC%A0%95%EB%B3%B4%EB%B3%B4%ED%98%B8-Python"
   ]
  },
  {
   "cell_type": "markdown",
   "metadata": {},
   "source": [
    "### Solution"
   ]
  },
  {
   "cell_type": "code",
   "execution_count": null,
   "metadata": {},
   "outputs": [],
   "source": [
    "def bigdata_or_sercurity(N, student_list):\n",
    "    answer = \"bigdata? security!\"\n",
    "    idx = 0\n",
    "    \n",
    "    security, bigdata = 0, 0\n",
    "    \n",
    "    for _ in range(N):\n",
    "        if student_list[idx] == \"s\":\n",
    "            security += 1\n",
    "            idx += len(\"security\")\n",
    "        elif student_list[idx] == \"b\":\n",
    "            bigdata += 1\n",
    "            idx += len(\"bigdata\")\n",
    "            \n",
    "    if security > bigdata:\n",
    "        answer = \"security!\"\n",
    "    elif security < bigdata:\n",
    "        answer = \"bigdata?\"\n",
    "    \n",
    "    return answer\n",
    "\n",
    "\n",
    "if __name__ == \"__main__\":\n",
    "    N = int(input())\n",
    "    student_list = input()\n",
    "    \n",
    "    print(bigdata_or_sercurity(N=N, student_list=student_list))"
   ]
  }
 ],
 "metadata": {
  "kernelspec": {
   "display_name": "Python 3 (ipykernel)",
   "language": "python",
   "name": "python3"
  },
  "language_info": {
   "codemirror_mode": {
    "name": "ipython",
    "version": 3
   },
   "file_extension": ".py",
   "mimetype": "text/x-python",
   "name": "python",
   "nbconvert_exporter": "python",
   "pygments_lexer": "ipython3",
   "version": "3.9.13"
  }
 },
 "nbformat": 4,
 "nbformat_minor": 2
}
