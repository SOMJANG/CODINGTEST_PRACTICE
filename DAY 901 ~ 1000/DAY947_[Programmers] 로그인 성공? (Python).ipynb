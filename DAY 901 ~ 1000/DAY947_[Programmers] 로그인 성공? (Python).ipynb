{
 "cells": [
  {
   "cell_type": "markdown",
   "metadata": {},
   "source": [
    "## 2023년 2월 14일 화요일\n",
    "### Programmers - 로그인 성공? (Python)\n",
    "### 문제 : https://school.programmers.co.kr/learn/courses/30/lessons/120883\n",
    "### 블로그 : https://somjang.tistory.com/entry/Programmers-%EB%A1%9C%EA%B7%B8%EC%9D%B8-%EC%84%B1%EA%B3%B5-Python"
   ]
  },
  {
   "cell_type": "markdown",
   "metadata": {},
   "source": [
    "### Solution"
   ]
  },
  {
   "cell_type": "code",
   "execution_count": null,
   "metadata": {},
   "outputs": [],
   "source": [
    "def solution(id_pw, db):\n",
    "    answer = 'fail'\n",
    "    \n",
    "    login_id, login_pw = id_pw\n",
    "    \n",
    "    for db_data in db:\n",
    "        db_login_id, db_login_pw = db_data\n",
    "        \n",
    "        if db_login_id == login_id:\n",
    "            if db_login_pw == login_pw:\n",
    "                answer = \"login\"\n",
    "            elif db_login_pw != login_pw:\n",
    "                answer = \"wrong pw\"\n",
    "            break\n",
    "    \n",
    "    return answer"
   ]
  }
 ],
 "metadata": {
  "kernelspec": {
   "display_name": "Python 3 (ipykernel)",
   "language": "python",
   "name": "python3"
  },
  "language_info": {
   "codemirror_mode": {
    "name": "ipython",
    "version": 3
   },
   "file_extension": ".py",
   "mimetype": "text/x-python",
   "name": "python",
   "nbconvert_exporter": "python",
   "pygments_lexer": "ipython3",
   "version": "3.9.13"
  }
 },
 "nbformat": 4,
 "nbformat_minor": 2
}
