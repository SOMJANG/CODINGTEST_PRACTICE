{
 "cells": [
  {
   "cell_type": "markdown",
   "metadata": {},
   "source": [
    "## 2023년 1월 1일 일요일\n",
    "### BaekJoon - 나무 조각 (Python)  \n",
    "### 문제 : https://www.acmicpc.net/problem/2947\n",
    "### 블로그 : https://somjang.tistory.com/entry/BaekJoon-2947%EB%B2%88-%EB%82%98%EB%AC%B4-%EC%A1%B0%EA%B0%81-Python"
   ]
  },
  {
   "cell_type": "markdown",
   "metadata": {},
   "source": [
    "### Solution"
   ]
  },
  {
   "cell_type": "code",
   "execution_count": null,
   "metadata": {},
   "outputs": [],
   "source": [
    "def piece_of_wood(piece_list):\n",
    "    answer_list = []\n",
    "    \n",
    "    final_result = sorted(piece_list)\n",
    "    \n",
    "    copy_piece_list = [piece for piece in piece_list]\n",
    "    \n",
    "    is_break = False\n",
    "    \n",
    "    while True:\n",
    "        for idx in range(len(piece_list) - 1):\n",
    "            if copy_piece_list[idx] > copy_piece_list[idx+1]:\n",
    "                copy_piece_list[idx], copy_piece_list[idx+1] = copy_piece_list[idx+1], copy_piece_list[idx]\n",
    "                \n",
    "                if piece_list != copy_piece_list:\n",
    "                    answer_list.append(\" \".join(list(map(str, copy_piece_list))))\n",
    "                    \n",
    "            if copy_piece_list == final_result:\n",
    "                is_break = True\n",
    "                \n",
    "        if is_break:\n",
    "            break\n",
    "            \n",
    "    return answer_list\n",
    "\n",
    "\n",
    "def print_answer(answer_list):\n",
    "    for answer in answer_list:\n",
    "        print(answer)\n",
    "        \n",
    "        \n",
    "if __name__ == \"__main__\":\n",
    "    piece_list = list(map(int, input().split()))\n",
    "    \n",
    "    answer_list = piece_of_wood(\n",
    "        piece_list=piece_list\n",
    "    )\n",
    "    \n",
    "    print_answer(\n",
    "        answer_list=answer_list\n",
    "    )"
   ]
  }
 ],
 "metadata": {
  "kernelspec": {
   "display_name": "Python 3 (ipykernel)",
   "language": "python",
   "name": "python3"
  },
  "language_info": {
   "codemirror_mode": {
    "name": "ipython",
    "version": 3
   },
   "file_extension": ".py",
   "mimetype": "text/x-python",
   "name": "python",
   "nbconvert_exporter": "python",
   "pygments_lexer": "ipython3",
   "version": "3.9.13"
  }
 },
 "nbformat": 4,
 "nbformat_minor": 2
}
