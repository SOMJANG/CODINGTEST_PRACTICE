{
 "cells": [
  {
   "cell_type": "markdown",
   "metadata": {},
   "source": [
    "## 2022년 12월 27일 화요일\n",
    "### BaekJoon - Copier (Python)  \n",
    "### 문제 : https://www.acmicpc.net/problem/26574\n",
    "### 블로그 : https://somjang.tistory.com/entry/BaekJoon-26574%EB%B2%88-Copier-Python"
   ]
  },
  {
   "cell_type": "markdown",
   "metadata": {},
   "source": [
    "### Solution"
   ]
  },
  {
   "cell_type": "code",
   "execution_count": null,
   "metadata": {},
   "outputs": [],
   "source": [
    "def copier(number_list):\n",
    "    for number in number_list:\n",
    "        print(f\"{number} {number}\")\n",
    "        \n",
    "        \n",
    "if __name__ == \"__main__\":\n",
    "    number_list = []\n",
    "    \n",
    "    for _ in range(int(input())):\n",
    "        number_list.append(int(input()))\n",
    "        \n",
    "    copier(number_list=number_list)"
   ]
  }
 ],
 "metadata": {
  "kernelspec": {
   "display_name": "Python 3 (ipykernel)",
   "language": "python",
   "name": "python3"
  },
  "language_info": {
   "codemirror_mode": {
    "name": "ipython",
    "version": 3
   },
   "file_extension": ".py",
   "mimetype": "text/x-python",
   "name": "python",
   "nbconvert_exporter": "python",
   "pygments_lexer": "ipython3",
   "version": "3.9.13"
  }
 },
 "nbformat": 4,
 "nbformat_minor": 2
}
