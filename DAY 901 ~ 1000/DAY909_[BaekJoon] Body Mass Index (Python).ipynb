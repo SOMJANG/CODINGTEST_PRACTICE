{
 "cells": [
  {
   "cell_type": "markdown",
   "metadata": {},
   "source": [
    "## 2022년 12월 29일 목요일\n",
    "### BaekJoon - Body Mass Index (Python)  \n",
    "### 문제 : https://www.acmicpc.net/problem/6825\n",
    "### 블로그 : https://somjang.tistory.com/entry/BaekJoon-6825%EB%B2%88-Body-Mass-Index-Python"
   ]
  },
  {
   "cell_type": "markdown",
   "metadata": {},
   "source": [
    "### Solution"
   ]
  },
  {
   "cell_type": "code",
   "execution_count": null,
   "metadata": {},
   "outputs": [],
   "source": [
    "def get_bmi(weight, height):\n",
    "    return weight / (height * height)\n",
    "\n",
    "\n",
    "def body_mass_index(weight, height):\n",
    "    check_result = \"\"\n",
    "    \n",
    "    bmi = get_bmi(\n",
    "        weight=weight, height=height\n",
    "    )\n",
    "    \n",
    "    if bmi < 18.5:\n",
    "        check_result = \"Underweight\"\n",
    "    elif 18.5 <= bmi < 25:\n",
    "        check_result = \"Normal weight\"\n",
    "    elif bmi >= 25:\n",
    "        check_result = \"Overweight\"\n",
    "        \n",
    "    return check_result\n",
    "\n",
    "\n",
    "if __name__ == \"__main__\":\n",
    "    weight = float(input())\n",
    "    height = float(input())\n",
    "    \n",
    "    print(body_mass_index(weight=weight, height=height))"
   ]
  }
 ],
 "metadata": {
  "kernelspec": {
   "display_name": "Python 3 (ipykernel)",
   "language": "python",
   "name": "python3"
  },
  "language_info": {
   "codemirror_mode": {
    "name": "ipython",
    "version": 3
   },
   "file_extension": ".py",
   "mimetype": "text/x-python",
   "name": "python",
   "nbconvert_exporter": "python",
   "pygments_lexer": "ipython3",
   "version": "3.9.13"
  }
 },
 "nbformat": 4,
 "nbformat_minor": 2
}
