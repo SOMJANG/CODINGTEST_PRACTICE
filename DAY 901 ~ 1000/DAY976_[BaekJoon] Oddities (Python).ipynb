{
 "cells": [
  {
   "cell_type": "markdown",
   "metadata": {},
   "source": [
    "## 2023년 3월 17일 금요일\n",
    "### BaekJoon - Oddities (Python)\n",
    "### 문제 : https://www.acmicpc.net/problem/10480\n",
    "### 블로그 : https://somjang.tistory.com/entry/BaekJoon-10480%EB%B2%88-Oddities-Python"
   ]
  },
  {
   "cell_type": "markdown",
   "metadata": {},
   "source": [
    "### Solution"
   ]
  },
  {
   "cell_type": "code",
   "execution_count": null,
   "metadata": {},
   "outputs": [],
   "source": [
    "def oddities(n):\n",
    "    return f\"{n} is even\" if n % 2 == 0 else f\"{n} is odd\"\n",
    "\n",
    "\n",
    "if __name__ == \"__main__\":\n",
    "    for _ in range(int(input())):\n",
    "        n = int(input())\n",
    "        print(oddities(n=n))"
   ]
  }
 ],
 "metadata": {
  "kernelspec": {
   "display_name": "Python 3 (ipykernel)",
   "language": "python",
   "name": "python3"
  },
  "language_info": {
   "codemirror_mode": {
    "name": "ipython",
    "version": 3
   },
   "file_extension": ".py",
   "mimetype": "text/x-python",
   "name": "python",
   "nbconvert_exporter": "python",
   "pygments_lexer": "ipython3",
   "version": "3.9.13"
  }
 },
 "nbformat": 4,
 "nbformat_minor": 2
}
