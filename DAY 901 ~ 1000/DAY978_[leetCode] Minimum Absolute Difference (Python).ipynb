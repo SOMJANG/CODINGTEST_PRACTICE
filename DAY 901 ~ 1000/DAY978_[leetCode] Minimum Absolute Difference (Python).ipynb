{
 "cells": [
  {
   "cell_type": "markdown",
   "metadata": {},
   "source": [
    "## 2023년 3월 21일 화요일\n",
    "### leetCode - 1200. Minimum Absolute Difference (Python)\n",
    "### 문제 : https://leetcode.com/problems/minimum-absolute-difference/description/\n",
    "### 블로그 : https://somjang.tistory.com/entry/leetCode-1200-Minimum-Absolute-Difference-Python-featChatGPT"
   ]
  },
  {
   "cell_type": "markdown",
   "metadata": {},
   "source": [
    "### Solution - SOMJANG"
   ]
  },
  {
   "cell_type": "code",
   "execution_count": null,
   "metadata": {},
   "outputs": [],
   "source": [
    "class Solution:\n",
    "    def minimumAbsDifference(self, arr: List[int]) -> List[List[int]]:\n",
    "        sorted_arr = sorted(arr)\n",
    "\n",
    "        min_distance = abs(sorted_arr[1] - sorted_arr[0])\n",
    "\n",
    "        distance_dict = {min_distance: []}\n",
    "\n",
    "        for idx in range(len(sorted_arr) - 1):\n",
    "            pair, distance = [sorted_arr[idx], sorted_arr[idx+1]], abs(sorted_arr[idx] - sorted_arr[idx+1])\n",
    "\n",
    "            if distance not in distance_dict and min_distance > distance:\n",
    "                distance_dict[distance] = []\n",
    "                min_distance = distance\n",
    "\n",
    "            if distance in distance_dict and min_distance == distance:\n",
    "                distance_dict[distance].append(pair)\n",
    "\n",
    "        return distance_dict[min_distance]"
   ]
  },
  {
   "cell_type": "markdown",
   "metadata": {},
   "source": [
    "### Solution - ChatGPT"
   ]
  },
  {
   "cell_type": "code",
   "execution_count": null,
   "metadata": {},
   "outputs": [],
   "source": [
    "class Solution:\n",
    "    def minimumAbsDifference(self, arr: List[int]) -> List[List[int]]:\n",
    "        arr.sort() # sort the array in ascending order\n",
    "        min_diff = float('inf') # set minimum difference to infinity\n",
    "        result = [] # initialize an empty result list\n",
    "        \n",
    "        # loop through the array and compare adjacent elements\n",
    "        for i in range(len(arr) - 1):\n",
    "            diff = arr[i+1] - arr[i] # calculate the difference between adjacent elements\n",
    "            \n",
    "            if diff < min_diff: # if difference is less than the current minimum difference\n",
    "                min_diff = diff # update the minimum difference\n",
    "                result = [[arr[i], arr[i+1]]] # start a new result list with the current pair\n",
    "            elif diff == min_diff: # if difference is equal to the current minimum difference\n",
    "                result.append([arr[i], arr[i+1]]) # add the current pair to the result list\n",
    "                \n",
    "        return result"
   ]
  }
 ],
 "metadata": {
  "kernelspec": {
   "display_name": "Python 3 (ipykernel)",
   "language": "python",
   "name": "python3"
  },
  "language_info": {
   "codemirror_mode": {
    "name": "ipython",
    "version": 3
   },
   "file_extension": ".py",
   "mimetype": "text/x-python",
   "name": "python",
   "nbconvert_exporter": "python",
   "pygments_lexer": "ipython3",
   "version": "3.9.13"
  }
 },
 "nbformat": 4,
 "nbformat_minor": 2
}
