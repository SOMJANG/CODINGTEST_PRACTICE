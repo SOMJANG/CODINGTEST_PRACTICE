{
 "cells": [
  {
   "cell_type": "markdown",
   "metadata": {},
   "source": [
    "## 2023년 3월 3일 금요일\n",
    "### Programmers - 순서쌍의 개수 (Python)\n",
    "### 문제 : https://school.programmers.co.kr/learn/courses/30/lessons/120836\n",
    "### 블로그 : https://somjang.tistory.com/entry/Programmers-%EC%88%9C%EC%84%9C%EC%8C%8D%EC%9D%98-%EA%B0%9C%EC%88%98-Python"
   ]
  },
  {
   "cell_type": "markdown",
   "metadata": {},
   "source": [
    "### Solution"
   ]
  },
  {
   "cell_type": "code",
   "execution_count": null,
   "metadata": {},
   "outputs": [],
   "source": [
    "def find_a_factor(n):\n",
    "    factor_list = []    \n",
    "    for num in range(1, (n // 2) + 1):\n",
    "        if n % num == 0:\n",
    "            factor_list.append(num)\n",
    "    factor_list.append(n)\n",
    "    return factor_list\n",
    "\n",
    "def solution(n):    \n",
    "    return len(find_a_factor(n=n))"
   ]
  }
 ],
 "metadata": {
  "kernelspec": {
   "display_name": "Python 3 (ipykernel)",
   "language": "python",
   "name": "python3"
  },
  "language_info": {
   "codemirror_mode": {
    "name": "ipython",
    "version": 3
   },
   "file_extension": ".py",
   "mimetype": "text/x-python",
   "name": "python",
   "nbconvert_exporter": "python",
   "pygments_lexer": "ipython3",
   "version": "3.9.13"
  }
 },
 "nbformat": 4,
 "nbformat_minor": 2
}
