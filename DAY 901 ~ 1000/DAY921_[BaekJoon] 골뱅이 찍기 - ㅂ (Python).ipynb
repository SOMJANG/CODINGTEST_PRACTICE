{
 "cells": [
  {
   "cell_type": "markdown",
   "metadata": {},
   "source": [
    "## 2023년 1월 13일 금요일\n",
    "### BaekJoon - 골뱅이 찍기 - ㅂ (Python)  \n",
    "### 문제 : https://www.acmicpc.net/problem/23808\n",
    "### 블로그 : https://somjang.tistory.com/entry/BaekJoon-23808-%EA%B3%A8%EB%B1%85%EC%9D%B4-%EC%B0%8D%EA%B8%B0-%E3%85%82-python"
   ]
  },
  {
   "cell_type": "markdown",
   "metadata": {},
   "source": [
    "### Solution"
   ]
  },
  {
   "cell_type": "code",
   "execution_count": null,
   "metadata": {},
   "outputs": [],
   "source": [
    "def golbange_print_ㅂ(N):\n",
    "    answer = ['' for _ in range(N * 5)]\n",
    "    \n",
    "    for idx in range(N*5):\n",
    "        if 2 * N - 1  < idx < 2 * N + N or idx >= N * 5 - N:\n",
    "            answer[idx] = \"@\" * (N * 5)\n",
    "        else:\n",
    "            answer[idx] = f\"{'@' * N}{' ' * (N * 5 - N * 2)}{'@' * N}\"\n",
    "        \n",
    "    return \"\\n\".join(answer)\n",
    "\n",
    "\n",
    "if __name__ == \"__main__\":\n",
    "    N = int(input())\n",
    "    \n",
    "    print(golbange_print_ㅂ(N=N))"
   ]
  }
 ],
 "metadata": {
  "kernelspec": {
   "display_name": "Python 3",
   "language": "python",
   "name": "python3"
  },
  "language_info": {
   "codemirror_mode": {
    "name": "ipython",
    "version": 3
   },
   "file_extension": ".py",
   "mimetype": "text/x-python",
   "name": "python",
   "nbconvert_exporter": "python",
   "pygments_lexer": "ipython3",
   "version": "3.7.3"
  }
 },
 "nbformat": 4,
 "nbformat_minor": 2
}
