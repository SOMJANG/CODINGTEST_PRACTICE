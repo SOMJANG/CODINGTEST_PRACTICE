{
 "cells": [
  {
   "cell_type": "markdown",
   "metadata": {},
   "source": [
    "## 2023년 1월 31일 화요일\n",
    "### BaekJoon - 時間 (Hour) (Python)  \n",
    "### 문제 : https://www.acmicpc.net/problem/27327\n",
    "### 블로그 : https://somjang.tistory.com/entry/BaekJoon-27327%EB%B2%88-%E6%99%82%E9%96%93-Hour-Python"
   ]
  },
  {
   "cell_type": "markdown",
   "metadata": {},
   "source": [
    "### Solution"
   ]
  },
  {
   "cell_type": "code",
   "execution_count": null,
   "metadata": {},
   "outputs": [],
   "source": [
    "def hour(X):\n",
    "    return X * 24\n",
    "\n",
    "\n",
    "if __name__ == \"__main__\":\n",
    "    X = int(input())\n",
    "    print(hour(X=X))"
   ]
  }
 ],
 "metadata": {
  "kernelspec": {
   "display_name": "Python 3 (ipykernel)",
   "language": "python",
   "name": "python3"
  },
  "language_info": {
   "codemirror_mode": {
    "name": "ipython",
    "version": 3
   },
   "file_extension": ".py",
   "mimetype": "text/x-python",
   "name": "python",
   "nbconvert_exporter": "python",
   "pygments_lexer": "ipython3",
   "version": "3.9.13"
  }
 },
 "nbformat": 4,
 "nbformat_minor": 2
}
