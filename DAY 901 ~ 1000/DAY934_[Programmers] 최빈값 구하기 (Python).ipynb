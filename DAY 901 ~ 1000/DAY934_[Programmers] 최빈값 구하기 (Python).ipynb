{
 "cells": [
  {
   "cell_type": "markdown",
   "metadata": {},
   "source": [
    "## 2023년 1월 28일 토요일\n",
    "### Programmers - 최빈값 구하기 (Python)\n",
    "### 문제 : https://school.programmers.co.kr/learn/courses/30/lessons/120812\n",
    "### 블로그 : https://somjang.tistory.com/entry/Programmers-%EC%B5%9C%EB%B9%88%EA%B0%92-%EA%B5%AC%ED%95%98%EA%B8%B0-Python"
   ]
  },
  {
   "cell_type": "markdown",
   "metadata": {},
   "source": [
    "### Solution"
   ]
  },
  {
   "cell_type": "code",
   "execution_count": null,
   "metadata": {},
   "outputs": [],
   "source": [
    "def solution(array):\n",
    "    answer = -1\n",
    "    \n",
    "    freq_check = {}\n",
    "    \n",
    "    for num in array:\n",
    "        if num not in freq_check:\n",
    "            freq_check[num] = 0\n",
    "        freq_check[num] += 1\n",
    "        \n",
    "    freq_items = sorted(freq_check.items(), key=lambda x: (-x[1]))\n",
    "    \n",
    "    if (len(freq_items) > 1 and freq_items[0][1] != freq_items[1][1]) or len(freq_items) == 1:\n",
    "        answer = freq_items[0][0]\n",
    "    \n",
    "    return answer"
   ]
  }
 ],
 "metadata": {
  "kernelspec": {
   "display_name": "Python 3 (ipykernel)",
   "language": "python",
   "name": "python3"
  },
  "language_info": {
   "codemirror_mode": {
    "name": "ipython",
    "version": 3
   },
   "file_extension": ".py",
   "mimetype": "text/x-python",
   "name": "python",
   "nbconvert_exporter": "python",
   "pygments_lexer": "ipython3",
   "version": "3.9.13"
  }
 },
 "nbformat": 4,
 "nbformat_minor": 2
}
