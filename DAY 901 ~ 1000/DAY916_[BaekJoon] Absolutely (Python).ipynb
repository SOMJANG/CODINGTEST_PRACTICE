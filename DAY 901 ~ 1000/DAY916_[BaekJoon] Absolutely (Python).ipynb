{
 "cells": [
  {
   "cell_type": "markdown",
   "metadata": {},
   "source": [
    "## 2023년 1월 7일 토요일\n",
    "### BaekJoon - Absolutely (Python)  \n",
    "### 문제 : https://www.acmicpc.net/problem/26500\n",
    "### 블로그 : https://somjang.tistory.com/entry/BaekJoon-26500%EB%B2%88-Absolutely-Python"
   ]
  },
  {
   "cell_type": "markdown",
   "metadata": {},
   "source": [
    "### Solution"
   ]
  },
  {
   "cell_type": "code",
   "execution_count": null,
   "metadata": {},
   "outputs": [],
   "source": [
    "def absolutely(value1, value2):\n",
    "    return round(abs(value1-value2), 1)\n",
    "\n",
    "\n",
    "if __name__ == \"__main__\":\n",
    "    for _ in range(int(input())):\n",
    "        value1, value2 = map(float, input().split())\n",
    "        \n",
    "        print(absolutely(value1=value1, value2=value2))"
   ]
  }
 ],
 "metadata": {
  "kernelspec": {
   "display_name": "Python 3 (ipykernel)",
   "language": "python",
   "name": "python3"
  },
  "language_info": {
   "codemirror_mode": {
    "name": "ipython",
    "version": 3
   },
   "file_extension": ".py",
   "mimetype": "text/x-python",
   "name": "python",
   "nbconvert_exporter": "python",
   "pygments_lexer": "ipython3",
   "version": "3.9.13"
  }
 },
 "nbformat": 4,
 "nbformat_minor": 2
}
