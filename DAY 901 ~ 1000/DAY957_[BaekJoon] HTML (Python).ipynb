{
 "cells": [
  {
   "cell_type": "markdown",
   "metadata": {},
   "source": [
    "## 2023년 2월 26일 일요일\n",
    "### BaekJoon - HTML (Python)  \n",
    "### 문제 : https://www.acmicpc.net/problem/6581\n",
    "### 블로그 : https://somjang.tistory.com/entry/BaekJoon-6581%EB%B2%88-HTML-Python"
   ]
  },
  {
   "cell_type": "markdown",
   "metadata": {},
   "source": [
    "### Solution"
   ]
  },
  {
   "cell_type": "code",
   "execution_count": null,
   "metadata": {},
   "outputs": [],
   "source": [
    "def replace_tag_to_str(html_text):\n",
    "    tag_replace_map = {\n",
    "        \"<br>\": \"\\n\",\n",
    "        \"<hr>\": f\"{'-' * 80}\\n\"\n",
    "    }\n",
    "    \n",
    "    split_line = [tag_replace_map[word] if word in tag_replace_map else word for word in html_text.split(\" \")]\n",
    "    \n",
    "    return ' '.join(split_line)\n",
    "    \n",
    "def split_text_len_80(text):\n",
    "    if len(text) <= 80:\n",
    "        return text\n",
    "    \n",
    "    new_text = []\n",
    "    \n",
    "    temp = []\n",
    "    for word in text.split():\n",
    "        if len(\" \".join(temp)) < 80:\n",
    "            temp.append(word)\n",
    "            \n",
    "            if len(\" \".join(temp)) >= 80:\n",
    "                pop = temp.pop()\n",
    "                new_text.append(\" \".join(temp))\n",
    "                temp = [pop]\n",
    "    if temp:\n",
    "        new_text.append(\" \".join(temp))\n",
    "        \n",
    "    return \"\\n\".join(new_text)\n",
    "    \n",
    "\n",
    "def HTML(original_html_text):\n",
    "    replaced_html = []\n",
    "    \n",
    "    html_text = \" \".join(original_html_text.split(\"\\n\"))\n",
    "    \n",
    "    replaced_html_text = replace_tag_to_str(\n",
    "        html_text=html_text\n",
    "    )\n",
    "    \n",
    "    for line_text in replaced_html_text.split(\"\\n\"):\n",
    "        line_text = \" \".join(line_text.split())\n",
    "        \n",
    "        replaced_html.append(split_text_len_80(text=line_text))\n",
    "\n",
    "    return \"\\n\".join(replaced_html)\n",
    "    \n",
    "    \n",
    "if __name__ == \"__main__\":\n",
    "    original_html_text = []\n",
    "    \n",
    "    while True:\n",
    "        try:\n",
    "            html_line = input()\n",
    "            original_html_text.append(html_line)\n",
    "        except EOFError:\n",
    "            break\n",
    "            \n",
    "    original_html_text = \"\\n\".join(original_html_text)\n",
    "    \n",
    "    print(HTML(original_html_text=original_html_text))"
   ]
  }
 ],
 "metadata": {
  "kernelspec": {
   "display_name": "Python 3 (ipykernel)",
   "language": "python",
   "name": "python3"
  },
  "language_info": {
   "codemirror_mode": {
    "name": "ipython",
    "version": 3
   },
   "file_extension": ".py",
   "mimetype": "text/x-python",
   "name": "python",
   "nbconvert_exporter": "python",
   "pygments_lexer": "ipython3",
   "version": "3.9.13"
  }
 },
 "nbformat": 4,
 "nbformat_minor": 2
}
