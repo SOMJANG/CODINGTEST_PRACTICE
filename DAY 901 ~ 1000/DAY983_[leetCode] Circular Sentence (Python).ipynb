{
 "cells": [
  {
   "cell_type": "markdown",
   "metadata": {},
   "source": [
    "## 2023년 3월 27일 월요일\n",
    "### leetCode - 2490. Circular Sentence (Python)\n",
    "### 문제 : https://leetcode.com/problems/circular-sentence/description/\n",
    "### 블로그 : https://somjang.tistory.com/entry/leetCode-2490-Circular-Sentence-Python-featChatGPT"
   ]
  },
  {
   "cell_type": "markdown",
   "metadata": {},
   "source": [
    "### Solution - SOMJANG - 1회차"
   ]
  },
  {
   "cell_type": "code",
   "execution_count": null,
   "metadata": {},
   "outputs": [],
   "source": [
    "class Solution:\n",
    "    def isCircularSentence(self, sentence: str) -> bool:\n",
    "        is_circular = True\n",
    "\n",
    "        word_list = sentence.split()\n",
    "\n",
    "        for idx in range(len(word_list) - 1):\n",
    "            if word_list[idx][-1] != word_list[idx+1][0]:\n",
    "                is_circular = False\n",
    "                break\n",
    "\n",
    "        if word_list[-1][-1] != word_list[0][0]:\n",
    "            is_circular = False\n",
    "\n",
    "        return is_circular"
   ]
  },
  {
   "cell_type": "markdown",
   "metadata": {},
   "source": [
    "### Solution - ChatGPT"
   ]
  },
  {
   "cell_type": "code",
   "execution_count": null,
   "metadata": {},
   "outputs": [],
   "source": [
    "class Solution:\n",
    "    def isCircularSentence(self, sentence: str) -> bool:\n",
    "        words = sentence.split()\n",
    "        n = len(words)\n",
    "        for i in range(n):\n",
    "            if words[i][-1] != words[(i+1)%n][0]:\n",
    "                return False\n",
    "        return True"
   ]
  }
 ],
 "metadata": {
  "kernelspec": {
   "display_name": "Python 3 (ipykernel)",
   "language": "python",
   "name": "python3"
  },
  "language_info": {
   "codemirror_mode": {
    "name": "ipython",
    "version": 3
   },
   "file_extension": ".py",
   "mimetype": "text/x-python",
   "name": "python",
   "nbconvert_exporter": "python",
   "pygments_lexer": "ipython3",
   "version": "3.9.13"
  }
 },
 "nbformat": 4,
 "nbformat_minor": 2
}
