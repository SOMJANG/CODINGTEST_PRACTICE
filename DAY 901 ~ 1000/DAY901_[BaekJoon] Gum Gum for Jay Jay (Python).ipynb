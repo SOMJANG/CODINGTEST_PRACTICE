{
 "cells": [
  {
   "cell_type": "markdown",
   "metadata": {},
   "source": [
    "## 2022년 12월 18일 일요일\n",
    "### BaekJoon - Gum Gum for Jay Jay (Python)  \n",
    "### 문제 : https://www.acmicpc.net/problem/26489\n",
    "### 블로그 : https://somjang.tistory.com/entry/BaekJoon-26489%EB%B2%88-Gum-Gum-for-Jay-Jay-Python"
   ]
  },
  {
   "cell_type": "markdown",
   "metadata": {},
   "source": [
    "### Solution"
   ]
  },
  {
   "cell_type": "code",
   "execution_count": null,
   "metadata": {},
   "outputs": [],
   "source": [
    "def gum_gum_for_jay_jay():\n",
    "    answer = 0\n",
    "    \n",
    "    while True:\n",
    "        try:\n",
    "            gum_gum = input()\n",
    "            answer += 1\n",
    "        except EOFError:\n",
    "            break\n",
    "    \n",
    "    return answer\n",
    "\n",
    "\n",
    "if __name__ == \"__main__\":\n",
    "    print(gum_gum_for_jay_jay())"
   ]
  }
 ],
 "metadata": {
  "kernelspec": {
   "display_name": "Python 3 (ipykernel)",
   "language": "python",
   "name": "python3"
  },
  "language_info": {
   "codemirror_mode": {
    "name": "ipython",
    "version": 3
   },
   "file_extension": ".py",
   "mimetype": "text/x-python",
   "name": "python",
   "nbconvert_exporter": "python",
   "pygments_lexer": "ipython3",
   "version": "3.9.13"
  }
 },
 "nbformat": 4,
 "nbformat_minor": 2
}
