{
 "cells": [
  {
   "cell_type": "markdown",
   "metadata": {},
   "source": [
    "## 2023년 1월 24일 화요일\n",
    "### BaekJoon - Population (Python)  \n",
    "### 문제 : https://www.acmicpc.net/problem/26561\n",
    "### 블로그 : https://somjang.tistory.com/entry/BaekJoon-26561%EB%B2%88-Population-Python"
   ]
  },
  {
   "cell_type": "markdown",
   "metadata": {},
   "source": [
    "### Solution"
   ]
  },
  {
   "cell_type": "code",
   "execution_count": null,
   "metadata": {},
   "outputs": [],
   "source": [
    "def population(begin_num, time):\n",
    "    plus_num = time // 4\n",
    "    minus_num = time // 7\n",
    "    \n",
    "    return begin_num + plus_num - minus_num\n",
    "\n",
    "\n",
    "if __name__ == \"__main__\":\n",
    "    for _ in range(int(input())):\n",
    "        begin_num, time = map(int, input().split())\n",
    "        \n",
    "        print(population(begin_num=begin_num, time=time))"
   ]
  }
 ],
 "metadata": {
  "kernelspec": {
   "display_name": "Python 3 (ipykernel)",
   "language": "python",
   "name": "python3"
  },
  "language_info": {
   "codemirror_mode": {
    "name": "ipython",
    "version": 3
   },
   "file_extension": ".py",
   "mimetype": "text/x-python",
   "name": "python",
   "nbconvert_exporter": "python",
   "pygments_lexer": "ipython3",
   "version": "3.9.13"
  }
 },
 "nbformat": 4,
 "nbformat_minor": 2
}
