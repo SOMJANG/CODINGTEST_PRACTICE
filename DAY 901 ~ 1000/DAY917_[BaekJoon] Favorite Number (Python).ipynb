{
 "cells": [
  {
   "cell_type": "markdown",
   "metadata": {},
   "source": [
    "## 2023년 1월 8일 일요일\n",
    "### BaekJoon - Favorite Number (Python)  \n",
    "### 문제 : https://www.acmicpc.net/problem/10570\n",
    "### 블로그 : https://somjang.tistory.com/entry/BaekJoon-10570%EB%B2%88-Favorite-Number-Python"
   ]
  },
  {
   "cell_type": "markdown",
   "metadata": {},
   "source": [
    "### Solution"
   ]
  },
  {
   "cell_type": "code",
   "execution_count": null,
   "metadata": {},
   "outputs": [],
   "source": [
    "def count_number(number_list):\n",
    "    count_dict = {}\n",
    "    \n",
    "    for number in number_list:\n",
    "        if number not in count_dict:\n",
    "            count_dict[number] = 0\n",
    "            \n",
    "        count_dict[number] += 1\n",
    "        \n",
    "    return count_dict\n",
    "\n",
    "def favorite_number(number_list):\n",
    "    count_dict = count_number(\n",
    "        number_list=number_list\n",
    "    )\n",
    "    \n",
    "    sorted_count = sorted(count_dict.items(), key=lambda x: (-x[1], x[0]))\n",
    "    \n",
    "    return sorted_count[0][0]\n",
    "\n",
    "\n",
    "if __name__ == \"__main__\":\n",
    "    for _ in range(int(input())):\n",
    "        number_list = []\n",
    "        for _ in range(int(input())):\n",
    "            number = int(input())\n",
    "            number_list.append(number)\n",
    "            \n",
    "        print(favorite_number(number_list=number_list))"
   ]
  }
 ],
 "metadata": {
  "kernelspec": {
   "display_name": "Python 3 (ipykernel)",
   "language": "python",
   "name": "python3"
  },
  "language_info": {
   "codemirror_mode": {
    "name": "ipython",
    "version": 3
   },
   "file_extension": ".py",
   "mimetype": "text/x-python",
   "name": "python",
   "nbconvert_exporter": "python",
   "pygments_lexer": "ipython3",
   "version": "3.9.13"
  }
 },
 "nbformat": 4,
 "nbformat_minor": 2
}
