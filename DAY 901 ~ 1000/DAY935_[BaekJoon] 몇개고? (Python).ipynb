{
 "cells": [
  {
   "cell_type": "markdown",
   "metadata": {},
   "source": [
    "## 2023년 1월 30일 월요일\n",
    "### BaekJoon - 몇개고? (Python)  \n",
    "### 문제 : https://www.acmicpc.net/problem/27294\n",
    "### 블로그 : https://somjang.tistory.com/entry/BaekJoon-27294%EB%B2%88-%EB%AA%87%EA%B0%9C%EA%B3%A0-Python"
   ]
  },
  {
   "cell_type": "markdown",
   "metadata": {},
   "source": [
    "### Solution"
   ]
  },
  {
   "cell_type": "code",
   "execution_count": null,
   "metadata": {},
   "outputs": [],
   "source": [
    "def metgaego(T, S):\n",
    "    if (0 <= T < 12) or (16 < T <= 23)  or S == 1:\n",
    "        babal = 280\n",
    "    else:\n",
    "        babal = 320\n",
    "        \n",
    "    return babal\n",
    "        \n",
    "if __name__ == \"__main__\":\n",
    "    T, S = map(int, input().split())\n",
    "    \n",
    "    print(metgaego(T=T, S=S))"
   ]
  }
 ],
 "metadata": {
  "kernelspec": {
   "display_name": "Python 3 (ipykernel)",
   "language": "python",
   "name": "python3"
  },
  "language_info": {
   "codemirror_mode": {
    "name": "ipython",
    "version": 3
   },
   "file_extension": ".py",
   "mimetype": "text/x-python",
   "name": "python",
   "nbconvert_exporter": "python",
   "pygments_lexer": "ipython3",
   "version": "3.9.13"
  }
 },
 "nbformat": 4,
 "nbformat_minor": 2
}
