{
 "cells": [
  {
   "cell_type": "markdown",
   "metadata": {},
   "source": [
    "## 2023년 3월 22일 수요일\n",
    "### leetCode - 1073. Adding Two Negabinary Numbers (Python)\n",
    "### 문제 : https://leetcode.com/problems/adding-two-negabinary-numbers/description/\n",
    "### 블로그 : https://somjang.tistory.com/entry/leetCode-1073-Adding-Two-Negabinary-Numbers-Python-featChatGPT"
   ]
  },
  {
   "cell_type": "markdown",
   "metadata": {},
   "source": [
    "### Solution - SOMJANG"
   ]
  },
  {
   "cell_type": "code",
   "execution_count": null,
   "metadata": {},
   "outputs": [],
   "source": [
    "class Solution:\n",
    "    @staticmethod\n",
    "    def convertNegabinaryToInt(arr):\n",
    "        arr_num = 0\n",
    "\n",
    "        max_pow_num = len(arr) - 1\n",
    "\n",
    "        for num in range(max_pow_num, -1, -1):\n",
    "            if arr[max_pow_num - num]:\n",
    "                arr_num += pow(-2, num)\n",
    "\n",
    "        return arr_num\n",
    "\n",
    "    @staticmethod\n",
    "    def convertIntToNegabinary(num):\n",
    "        if num == 0:\n",
    "            negabinary = [0]\n",
    "        else:\n",
    "            negabinary = []\n",
    "            while num != 0:\n",
    "                num, remainder = divmod(num, -2)\n",
    "\n",
    "                if remainder < 0:\n",
    "                    num, remainder = num + 1, remainder + 2\n",
    "                negabinary.append(remainder)\n",
    "\n",
    "        return negabinary[::-1]\n",
    "\n",
    "    def addNegabinary(self, arr1: List[int], arr2: List[int]) -> List[int]:\n",
    "        arr1_num = self.convertNegabinaryToInt(arr=arr1)\n",
    "        arr2_num = self.convertNegabinaryToInt(arr=arr2)\n",
    "\n",
    "        add_num = arr1_num + arr2_num\n",
    "\n",
    "        return self.convertIntToNegabinary(num=add_num)"
   ]
  },
  {
   "cell_type": "markdown",
   "metadata": {},
   "source": [
    "### Solution - ChatGPT - 1"
   ]
  },
  {
   "cell_type": "code",
   "execution_count": null,
   "metadata": {},
   "outputs": [],
   "source": [
    "class Solution:\n",
    "    def addNegabinary(self, arr1: List[int], arr2: List[int]) -> List[int]:\n",
    "        i, j = len(arr1) - 1, len(arr2) - 1\n",
    "        carry = 0\n",
    "        res = []\n",
    "        \n",
    "        while i >= 0 or j >= 0 or carry:\n",
    "            if i >= 0:\n",
    "                carry += arr1[i]\n",
    "                i -= 1\n",
    "                \n",
    "            if j >= 0:\n",
    "                carry += arr2[j]\n",
    "                j -= 1\n",
    "                \n",
    "            res.append(carry & 1)\n",
    "            carry = -(carry >> 1)\n",
    "        \n",
    "        while len(res) > 1 and res[-1] == 0:\n",
    "            res.pop()\n",
    "            \n",
    "        return res[::-1]"
   ]
  },
  {
   "cell_type": "markdown",
   "metadata": {},
   "source": [
    "### Solution - ChatGPT - 2"
   ]
  },
  {
   "cell_type": "code",
   "execution_count": null,
   "metadata": {},
   "outputs": [],
   "source": [
    "class Solution:\n",
    "    def addNegabinary(self, arr1: List[int], arr2: List[int]) -> List[int]:\n",
    "        i, j = len(arr1) - 1, len(arr2) - 1\n",
    "        carry = 0\n",
    "        res = []\n",
    "        \n",
    "        while i >= 0 or j >= 0 or carry:\n",
    "            if i >= 0:\n",
    "                carry += arr1[i]\n",
    "                i -= 1\n",
    "                \n",
    "            if j >= 0:\n",
    "                carry += arr2[j]\n",
    "                j -= 1\n",
    "                \n",
    "            res.append(carry % 2)\n",
    "            carry = -(carry // 2)\n",
    "        \n",
    "        while len(res) > 1 and res[-1] == 0:\n",
    "            res.pop()\n",
    "            \n",
    "        return res[::-1]"
   ]
  }
 ],
 "metadata": {
  "kernelspec": {
   "display_name": "Python 3 (ipykernel)",
   "language": "python",
   "name": "python3"
  },
  "language_info": {
   "codemirror_mode": {
    "name": "ipython",
    "version": 3
   },
   "file_extension": ".py",
   "mimetype": "text/x-python",
   "name": "python",
   "nbconvert_exporter": "python",
   "pygments_lexer": "ipython3",
   "version": "3.9.13"
  }
 },
 "nbformat": 4,
 "nbformat_minor": 2
}
