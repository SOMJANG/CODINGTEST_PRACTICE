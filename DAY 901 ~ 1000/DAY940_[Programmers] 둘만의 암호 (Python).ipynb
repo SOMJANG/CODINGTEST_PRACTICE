{
 "cells": [
  {
   "cell_type": "markdown",
   "metadata": {},
   "source": [
    "## 2023년 2월 4일 토요일\n",
    "### Programmers - 둘만의 암호 (Python)\n",
    "### 문제 : https://school.programmers.co.kr/learn/courses/30/lessons/155652\n",
    "### 블로그 : https://somjang.tistory.com/entry/Programmers-%EB%91%98%EB%A7%8C%EC%9D%98-%EC%95%94%ED%98%B8-Python"
   ]
  },
  {
   "cell_type": "markdown",
   "metadata": {},
   "source": [
    "### Solution"
   ]
  },
  {
   "cell_type": "code",
   "execution_count": null,
   "metadata": {},
   "outputs": [],
   "source": [
    "def get_skip_alphabet_list(skip):\n",
    "    return [chr(alpha_num) for alpha_num in range(ord('a'), ord('z') + 1) if chr(alpha_num) not in skip]\n",
    "\n",
    "\n",
    "def shift_alphabet(alphabet, index, skip_alphabet_list):\n",
    "    skip_alpha_len = len(skip_alphabet_list)\n",
    "    return skip_alphabet_list[(skip_alphabet_list.index(alphabet) + index) % skip_alpha_len]\n",
    "    \n",
    "\n",
    "def solution(s, skip, index):    \n",
    "    alphabet_list = get_skip_alphabet_list(skip)\n",
    "    \n",
    "    shift_s = \"\".join([\n",
    "        shift_alphabet(alphabet, index, alphabet_list) for alphabet in list(s)\n",
    "    ])\n",
    "    \n",
    "    return shift_s"
   ]
  }
 ],
 "metadata": {
  "kernelspec": {
   "display_name": "Python 3 (ipykernel)",
   "language": "python",
   "name": "python3"
  },
  "language_info": {
   "codemirror_mode": {
    "name": "ipython",
    "version": 3
   },
   "file_extension": ".py",
   "mimetype": "text/x-python",
   "name": "python",
   "nbconvert_exporter": "python",
   "pygments_lexer": "ipython3",
   "version": "3.9.13"
  }
 },
 "nbformat": 4,
 "nbformat_minor": 2
}
