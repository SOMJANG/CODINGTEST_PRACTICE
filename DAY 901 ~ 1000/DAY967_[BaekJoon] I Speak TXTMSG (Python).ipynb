{
 "cells": [
  {
   "cell_type": "markdown",
   "metadata": {},
   "source": [
    "## 2023년 3월 7일 수요일\n",
    "### BaekJoon - I Speak TXTMSG (Python)  \n",
    "### 문제 : https://www.acmicpc.net/problem/6841\n",
    "### 블로그 : https://somjang.tistory.com/entry/BaekJoon-6841%EB%B2%88-I-Speak-TXTMSG-Python"
   ]
  },
  {
   "cell_type": "markdown",
   "metadata": {},
   "source": [
    "### Solution"
   ]
  },
  {
   "cell_type": "code",
   "execution_count": null,
   "metadata": {},
   "outputs": [],
   "source": [
    "def i_speak_txtmsg(msg):\n",
    "    msg_map = {\n",
    "        \"CU\": \"see you\",\n",
    "        \":-)\": \"I’m happy\",\n",
    "        \":-()\": \"I’m unhappy\",\n",
    "        \";-)\": \"wink\",\n",
    "        \":-P\": \"stick out my tongue\",\n",
    "        \"(~.~)\": \"sleepy\",\n",
    "        \"TA\": \"totally awesome\",\n",
    "        \"CCC\": \"Canadian Computing Competition\",\n",
    "        \"CUZ\": \"because\",\n",
    "        \"TY\": \"thank-you\",\n",
    "        \"YW\": \"you’re welcome\",\n",
    "        \"TTYL\": \"talk to you later\"\n",
    "    }\n",
    "    \n",
    "    if msg in msg_map:\n",
    "        msg = msg_map[msg]\n",
    "        \n",
    "    return msg\n",
    "\n",
    "\n",
    "if __name__ == \"__main__\":\n",
    "    while True:\n",
    "        try:\n",
    "            msg = input()\n",
    "        except EOFError:\n",
    "            break\n",
    "        print(i_speak_txtmsg(msg=msg))"
   ]
  }
 ],
 "metadata": {
  "kernelspec": {
   "display_name": "Python 3 (ipykernel)",
   "language": "python",
   "name": "python3"
  },
  "language_info": {
   "codemirror_mode": {
    "name": "ipython",
    "version": 3
   },
   "file_extension": ".py",
   "mimetype": "text/x-python",
   "name": "python",
   "nbconvert_exporter": "python",
   "pygments_lexer": "ipython3",
   "version": "3.9.13"
  }
 },
 "nbformat": 4,
 "nbformat_minor": 2
}
