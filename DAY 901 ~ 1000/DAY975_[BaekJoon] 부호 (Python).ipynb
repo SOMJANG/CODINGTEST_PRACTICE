{
 "cells": [
  {
   "cell_type": "markdown",
   "metadata": {},
   "source": [
    "## 2023년 3월 16일 목요일\n",
    "### BaekJoon - 부호 (Python)\n",
    "### 문제 : https://www.acmicpc.net/problem/1247\n",
    "### 블로그 : https://somjang.tistory.com/entry/BaekJoon-1247%EB%B2%88-%EB%B6%80%ED%98%B8-Python"
   ]
  },
  {
   "cell_type": "markdown",
   "metadata": {},
   "source": [
    "### Solution"
   ]
  },
  {
   "cell_type": "code",
   "execution_count": null,
   "metadata": {},
   "outputs": [],
   "source": [
    "import sys\n",
    "\n",
    "input = sys.stdin.readline\n",
    "\n",
    "def sign(number_list):\n",
    "    sign_result = 0\n",
    "    \n",
    "    if sum(number_list) < 0:\n",
    "        sign_result = \"-\"\n",
    "    elif sum(number_list) > 0:\n",
    "        sign_result = \"+\"\n",
    "        \n",
    "    return sign_result\n",
    "\n",
    "\n",
    "if __name__ == \"__main__\":\n",
    "    for _ in range(3):\n",
    "        number_list = []\n",
    "        for _ in range(int(input().rstrip())):\n",
    "            number = int(input().rstrip())\n",
    "            \n",
    "            number_list.append(number)\n",
    "            \n",
    "        print(sign(number_list=number_list))"
   ]
  }
 ],
 "metadata": {
  "kernelspec": {
   "display_name": "Python 3 (ipykernel)",
   "language": "python",
   "name": "python3"
  },
  "language_info": {
   "codemirror_mode": {
    "name": "ipython",
    "version": 3
   },
   "file_extension": ".py",
   "mimetype": "text/x-python",
   "name": "python",
   "nbconvert_exporter": "python",
   "pygments_lexer": "ipython3",
   "version": "3.9.13"
  }
 },
 "nbformat": 4,
 "nbformat_minor": 2
}
