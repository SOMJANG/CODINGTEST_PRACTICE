{
 "cells": [
  {
   "cell_type": "markdown",
   "metadata": {},
   "source": [
    "## 2023년 3월 10일 금요일\n",
    "### BaekJoon - 카트라이더: 드리프트 (Python)\n",
    "### 문제 : https://www.acmicpc.net/problem/27522\n",
    "### 블로그 : https://somjang.tistory.com/entry/BaekJoon-27522%EB%B2%88-%EC%B9%B4%ED%8A%B8%EB%9D%BC%EC%9D%B4%EB%8D%94-%EB%93%9C%EB%A6%AC%ED%94%84%ED%8A%B8-Python"
   ]
  },
  {
   "cell_type": "markdown",
   "metadata": {},
   "source": [
    "### Solution"
   ]
  },
  {
   "cell_type": "code",
   "execution_count": null,
   "metadata": {},
   "outputs": [],
   "source": [
    "from datetime import datetime\n",
    "\n",
    "def get_race_time_and_team_info(record):\n",
    "    race_time, team_info = record.split()\n",
    "    \n",
    "    return datetime.strptime(race_time, \"%M:%S:%f\"), team_info\n",
    "\n",
    "def cartrider_drift(racing_records):\n",
    "    score_list = [10, 8, 6, 5, 4, 3, 2, 1, 0]\n",
    "    team_name_dict = {\"R\": \"Red\", \"B\": \"Blue\"}\n",
    "    \n",
    "    red_team_score, blue_team_score = 0, 0\n",
    "    \n",
    "    racing_records = sorted([\n",
    "        get_race_time_and_team_info(record=record) for record in racing_records\n",
    "    ], key=lambda x: x[0])\n",
    "    \n",
    "\n",
    "    for rank, record in enumerate(racing_records):\n",
    "        score = score_list[rank]\n",
    "        \n",
    "        if record[1] == \"R\":\n",
    "            red_team_score += score\n",
    "        else:\n",
    "            blue_team_score += score\n",
    "        \n",
    "    return \"Red\" if red_team_score > blue_team_score else \"Blue\"\n",
    "    \n",
    "    \n",
    "    \n",
    "    \n",
    "if __name__ == \"__main__\":\n",
    "    racing_records = []\n",
    "    \n",
    "    for _ in range(8):\n",
    "        record = input()\n",
    "        racing_records.append(record)\n",
    "        \n",
    "    print(cartrider_drift(racing_records))\n"
   ]
  }
 ],
 "metadata": {
  "kernelspec": {
   "display_name": "Python 3 (ipykernel)",
   "language": "python",
   "name": "python3"
  },
  "language_info": {
   "codemirror_mode": {
    "name": "ipython",
    "version": 3
   },
   "file_extension": ".py",
   "mimetype": "text/x-python",
   "name": "python",
   "nbconvert_exporter": "python",
   "pygments_lexer": "ipython3",
   "version": "3.9.13"
  }
 },
 "nbformat": 4,
 "nbformat_minor": 2
}
