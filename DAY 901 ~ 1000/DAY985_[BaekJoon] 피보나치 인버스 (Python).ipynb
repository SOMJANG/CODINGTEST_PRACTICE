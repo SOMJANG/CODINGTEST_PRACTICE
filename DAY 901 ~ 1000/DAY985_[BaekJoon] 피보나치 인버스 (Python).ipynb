{
 "cells": [
  {
   "cell_type": "markdown",
   "metadata": {},
   "source": [
    "## 2023년 3월 30일 목요일\n",
    "### BaekJoon - 피보나치 인버스 (Python)\n",
    "### 문제 : https://www.acmicpc.net/problem/10425\n",
    "### 블로그 : https://somjang.tistory.com/entry/BaekJoon-10425%EB%B2%88-%ED%94%BC%EB%B3%B4%EB%82%98%EC%B9%98-%EC%9D%B8%EB%B2%84%EC%8A%A4-Python-feat-ChatGPT"
   ]
  },
  {
   "cell_type": "markdown",
   "metadata": {},
   "source": [
    "### Solution"
   ]
  },
  {
   "cell_type": "code",
   "execution_count": null,
   "metadata": {},
   "outputs": [],
   "source": [
    "def fibo_nums(max_n):\n",
    "    fibo_dict = {}\n",
    "    fibo = [0, 1, 1]\n",
    "    \n",
    "    idx = 3\n",
    "    while True:\n",
    "        fibo_num = fibo[idx-1] + fibo[idx-2]\n",
    "        \n",
    "        if fibo_num > max_n:\n",
    "            break\n",
    "        \n",
    "        fibo.append(fibo_num)\n",
    "        idx += 1\n",
    "    \n",
    "    for v, k in enumerate(fibo):\n",
    "        fibo_dict[k] = v\n",
    "        \n",
    "        \n",
    "    return fibo_dict\n",
    "\n",
    "\n",
    "def fibo_inverse(fibo_dict, n):\n",
    "    return fibo_dict[n]\n",
    "\n",
    "\n",
    "if __name__ == \"__main__\":\n",
    "    fibo_dict = fibo_nums(max_n=pow(10, 21000))\n",
    "    \n",
    "    for _ in range(int(input())):\n",
    "        fibo_num = int(input())\n",
    "        \n",
    "        print(fibo_inverse(fibo_dict=fibo_dict, n=fibo_num))"
   ]
  },
  {
   "cell_type": "markdown",
   "metadata": {},
   "source": [
    "### Solution - 1회차"
   ]
  },
  {
   "cell_type": "code",
   "execution_count": null,
   "metadata": {},
   "outputs": [],
   "source": [
    "def fibonacci(n):\n",
    "    fib_list = [0, 1]  # 초기값 설정\n",
    "    while True:\n",
    "        # 리스트에 저장된 마지막 두 항의 합을 계산하여 리스트에 추가\n",
    "        next_fib = fib_list[-1] + fib_list[-2]\n",
    "        if next_fib > n:  # 찾고자 하는 값보다 크면 종료\n",
    "            break\n",
    "        fib_list.append(next_fib)\n",
    "    return len(fib_list) - 1  # 인덱스는 0부터 시작하므로 1을 빼줌\n",
    "\n",
    "if __name__ == \"__main__\":    \n",
    "    for _ in range(int(input())):\n",
    "        fibo_num = int(input())\n",
    "        \n",
    "        print(fibonacci(n=fibo_num))"
   ]
  },
  {
   "cell_type": "markdown",
   "metadata": {},
   "source": [
    "### Solution - 2회차"
   ]
  },
  {
   "cell_type": "code",
   "execution_count": null,
   "metadata": {},
   "outputs": [],
   "source": [
    "import numpy as np\n",
    "\n",
    "def fibonacci(n):\n",
    "    # 피보나치 수열의 초기값을 행렬로 나타냄\n",
    "    fib_matrix = np.array([[1, 1], [1, 0]])\n",
    "\n",
    "    # (n-1)번 거듭제곱을 구함\n",
    "    fib_matrix_n = np.linalg.matrix_power(fib_matrix, n-1)\n",
    "\n",
    "    # 결과값을 계산하여 반환\n",
    "    fib_n = fib_matrix_n[0][0]\n",
    "    return fib_n\n",
    "\n",
    "\n",
    "if __name__ == \"__main__\":    \n",
    "    for _ in range(int(input())):\n",
    "        fibo_num = int(input())\n",
    "        \n",
    "        print(fibonacci(n=fibo_num))"
   ]
  }
 ],
 "metadata": {
  "kernelspec": {
   "display_name": "Python 3 (ipykernel)",
   "language": "python",
   "name": "python3"
  },
  "language_info": {
   "codemirror_mode": {
    "name": "ipython",
    "version": 3
   },
   "file_extension": ".py",
   "mimetype": "text/x-python",
   "name": "python",
   "nbconvert_exporter": "python",
   "pygments_lexer": "ipython3",
   "version": "3.9.13"
  }
 },
 "nbformat": 4,
 "nbformat_minor": 2
}
