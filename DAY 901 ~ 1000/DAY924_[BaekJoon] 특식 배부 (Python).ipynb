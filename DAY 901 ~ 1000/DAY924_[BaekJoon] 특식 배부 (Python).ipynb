{
 "cells": [
  {
   "cell_type": "markdown",
   "metadata": {},
   "source": [
    "## 2023년 1월 16일 월요일\n",
    "### BaekJoon - 특식 배부 (Python)  \n",
    "### 문제 : https://www.acmicpc.net/problem/27110\n",
    "### 블로그 : "
   ]
  },
  {
   "cell_type": "markdown",
   "metadata": {},
   "source": [
    "### Solution"
   ]
  },
  {
   "cell_type": "code",
   "execution_count": null,
   "metadata": {},
   "outputs": [],
   "source": [
    "def chicken_check(N, A, B, C):\n",
    "    후라이드치킨 = A if A < N else N\n",
    "    간장치킨 = B if B < N else N\n",
    "    양념치킨 = C if C < N else N\n",
    "    \n",
    "    return 후라이드치킨 + 간장치킨 + 양념치킨\n",
    "\n",
    "\n",
    "if __name__ == \"__main__\":\n",
    "    N = int(input())\n",
    "    A, B, C = map(int, input().split())\n",
    "    \n",
    "    print(chicken_check(N=N, A=A, B=B, C=C))"
   ]
  }
 ],
 "metadata": {
  "kernelspec": {
   "display_name": "Python 3 (ipykernel)",
   "language": "python",
   "name": "python3"
  },
  "language_info": {
   "codemirror_mode": {
    "name": "ipython",
    "version": 3
   },
   "file_extension": ".py",
   "mimetype": "text/x-python",
   "name": "python",
   "nbconvert_exporter": "python",
   "pygments_lexer": "ipython3",
   "version": "3.9.13"
  }
 },
 "nbformat": 4,
 "nbformat_minor": 2
}
