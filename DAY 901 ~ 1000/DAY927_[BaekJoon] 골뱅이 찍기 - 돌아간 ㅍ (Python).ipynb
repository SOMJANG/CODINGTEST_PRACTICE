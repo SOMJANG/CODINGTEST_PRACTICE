{
 "cells": [
  {
   "cell_type": "markdown",
   "metadata": {},
   "source": [
    "## 2023년 1월 20일 금요일\n",
    "### BaekJoon - 골뱅이 찍기 - 돌아간 ㅍ (Python)  \n",
    "### 문제 : https://www.acmicpc.net/problem/23812\n",
    "### 블로그 : https://somjang.tistory.com/entry/BaekJoon-23812%EB%B2%88-%EA%B3%A8%EB%B1%85%EC%9D%B4-%EC%B0%8D%EA%B8%B0-%EB%8F%8C%EC%95%84%EA%B0%84-%E3%85%8D-Python"
   ]
  },
  {
   "cell_type": "markdown",
   "metadata": {},
   "source": [
    "### Solution"
   ]
  },
  {
   "cell_type": "code",
   "execution_count": null,
   "metadata": {},
   "outputs": [],
   "source": [
    "def golbange_print_ㅂ(N):\n",
    "    answer = ['' for _ in range(N * 5)]\n",
    "    \n",
    "    for idx in range(N*5):\n",
    "        if 2 * N - N - 1  < idx < 2 * N or N * 5 - 2 * N - 1 < idx < 5 * N - N:\n",
    "            answer[idx] = \"@\" * (N * 5)\n",
    "        else:\n",
    "            answer[idx] = f\"{'@' * N}{' ' * (N * 5 - N * 2)}{'@' * N}\"\n",
    "        \n",
    "    return \"\\n\".join(answer)\n",
    "\n",
    "\n",
    "if __name__ == \"__main__\":\n",
    "    N = int(input())\n",
    "    \n",
    "    print(golbange_print_ㅂ(N=N))"
   ]
  }
 ],
 "metadata": {
  "kernelspec": {
   "display_name": "Python 3 (ipykernel)",
   "language": "python",
   "name": "python3"
  },
  "language_info": {
   "codemirror_mode": {
    "name": "ipython",
    "version": 3
   },
   "file_extension": ".py",
   "mimetype": "text/x-python",
   "name": "python",
   "nbconvert_exporter": "python",
   "pygments_lexer": "ipython3",
   "version": "3.9.13"
  }
 },
 "nbformat": 4,
 "nbformat_minor": 2
}
