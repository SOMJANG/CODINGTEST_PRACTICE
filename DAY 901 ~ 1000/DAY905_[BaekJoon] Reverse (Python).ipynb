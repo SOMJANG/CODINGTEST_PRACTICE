{
 "cells": [
  {
   "cell_type": "markdown",
   "metadata": {},
   "source": [
    "## 2022년 12월 24일 토요일\n",
    "### BaekJoon - Reverse (Python)  \n",
    "### 문제 : https://www.acmicpc.net/problem/26545\n",
    "### 블로그 : https://somjang.tistory.com/entry/BaekJoon-26545%EB%B2%88-Reverse-Python"
   ]
  },
  {
   "cell_type": "markdown",
   "metadata": {},
   "source": [
    "### Solution"
   ]
  },
  {
   "cell_type": "code",
   "execution_count": null,
   "metadata": {},
   "outputs": [],
   "source": [
    "def reverse(string, start_idx, end_idx):\n",
    "    return \"\".join([word[1] for word in enumerate(string) if int(start_idx) > word[0] or word[0] >= int(end_idx)])\n",
    "\n",
    "\n",
    "if __name__ == \"__main__\":\n",
    "    for _ in range(int(input())):\n",
    "        string, start_idx, end_idx = input().split()\n",
    "        \n",
    "        print(reverse(string=string, start_idx=start_idx, end_idx=end_idx))"
   ]
  }
 ],
 "metadata": {
  "kernelspec": {
   "display_name": "Python 3 (ipykernel)",
   "language": "python",
   "name": "python3"
  },
  "language_info": {
   "codemirror_mode": {
    "name": "ipython",
    "version": 3
   },
   "file_extension": ".py",
   "mimetype": "text/x-python",
   "name": "python",
   "nbconvert_exporter": "python",
   "pygments_lexer": "ipython3",
   "version": "3.9.13"
  }
 },
 "nbformat": 4,
 "nbformat_minor": 2
}
