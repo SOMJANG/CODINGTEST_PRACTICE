{
 "cells": [
  {
   "cell_type": "markdown",
   "metadata": {},
   "source": [
    "## 2023년 3월 28일 화요일\n",
    "### leetCode - 796. Rotate String (Python)\n",
    "### 문제 : https://leetcode.com/problems/rotate-string/description/\n",
    "### 블로그 : https://somjang.tistory.com/entry/leetCode-796-Rotate-String-Python-featChatGPT"
   ]
  },
  {
   "cell_type": "markdown",
   "metadata": {},
   "source": [
    "### Solution - SOMJANG "
   ]
  },
  {
   "cell_type": "code",
   "execution_count": null,
   "metadata": {},
   "outputs": [],
   "source": [
    "class Solution:\n",
    "    def rotateString(self, s: str, goal: str) -> bool:\n",
    "        answer = False\n",
    "        s_list = list(s)\n",
    "\n",
    "        shift_word_list = []\n",
    "\n",
    "        while True:\n",
    "            if goal == f\"{''.join(shift_word_list)[::-1]}{''.join(s_list)}\":\n",
    "                answer = True\n",
    "                break\n",
    "\n",
    "            if not s_list:\n",
    "                break\n",
    "\n",
    "            shift_word_list.append(s_list.pop())\n",
    "\n",
    "        return answer"
   ]
  },
  {
   "cell_type": "markdown",
   "metadata": {},
   "source": [
    "### Solution - ChatGPT"
   ]
  },
  {
   "cell_type": "code",
   "execution_count": null,
   "metadata": {},
   "outputs": [],
   "source": [
    "class Solution:\n",
    "    def rotateString(self, s: str, goal: str) -> bool:\n",
    "        if len(s) != len(goal):\n",
    "            return False\n",
    "\n",
    "        for i in range(len(s)):\n",
    "            if s == goal:\n",
    "                return True\n",
    "            s = s[1:] + s[0]\n",
    "\n",
    "        return False"
   ]
  }
 ],
 "metadata": {
  "kernelspec": {
   "display_name": "Python 3 (ipykernel)",
   "language": "python",
   "name": "python3"
  },
  "language_info": {
   "codemirror_mode": {
    "name": "ipython",
    "version": 3
   },
   "file_extension": ".py",
   "mimetype": "text/x-python",
   "name": "python",
   "nbconvert_exporter": "python",
   "pygments_lexer": "ipython3",
   "version": "3.9.13"
  }
 },
 "nbformat": 4,
 "nbformat_minor": 2
}
