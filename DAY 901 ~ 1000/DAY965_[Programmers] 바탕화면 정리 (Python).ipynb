{
 "cells": [
  {
   "cell_type": "markdown",
   "metadata": {},
   "source": [
    "## 2023년 3월 6일 월요일\n",
    "### Programmers - 바탕화면 정리 (Python)\n",
    "### 문제 : https://school.programmers.co.kr/learn/courses/30/lessons/161990\n",
    "### 블로그 : https://somjang.tistory.com/entry/Programmers-%EB%B0%94%ED%83%95%ED%99%94%EB%A9%B4-%EC%A0%95%EB%A6%AC-Python"
   ]
  },
  {
   "cell_type": "markdown",
   "metadata": {},
   "source": [
    "### Solution"
   ]
  },
  {
   "cell_type": "code",
   "execution_count": null,
   "metadata": {},
   "outputs": [],
   "source": [
    "def solution(wallpaper):\n",
    "    row_idx_list, col_idx_list = [], []\n",
    "    \n",
    "    for row_idx, row in enumerate(wallpaper):\n",
    "        for col_idx, col in enumerate(list(row)):\n",
    "            if col == \"#\":\n",
    "                row_idx_list.append(row_idx)\n",
    "                col_idx_list.append(col_idx)\n",
    "                \n",
    "    return [min(row_idx_list), min(col_idx_list), max(row_idx_list) + 1, max(col_idx_list) + 1]"
   ]
  }
 ],
 "metadata": {
  "kernelspec": {
   "display_name": "Python 3 (ipykernel)",
   "language": "python",
   "name": "python3"
  },
  "language_info": {
   "codemirror_mode": {
    "name": "ipython",
    "version": 3
   },
   "file_extension": ".py",
   "mimetype": "text/x-python",
   "name": "python",
   "nbconvert_exporter": "python",
   "pygments_lexer": "ipython3",
   "version": "3.9.13"
  }
 },
 "nbformat": 4,
 "nbformat_minor": 2
}
