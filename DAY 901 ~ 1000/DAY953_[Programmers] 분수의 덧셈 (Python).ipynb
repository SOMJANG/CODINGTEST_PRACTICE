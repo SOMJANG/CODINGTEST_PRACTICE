{
 "cells": [
  {
   "cell_type": "markdown",
   "metadata": {},
   "source": [
    "## 2023년 2월 21일 화요일\n",
    "### Programmers - 분수의 덧셈 (Python)\n",
    "### 문제 : https://school.programmers.co.kr/learn/courses/30/lessons/120808\n",
    "### 블로그 : https://somjang.tistory.com/entry/Programmers-%EB%B6%84%EC%88%98%EC%9D%98-%EB%8D%A7%EC%85%88-Python"
   ]
  },
  {
   "cell_type": "markdown",
   "metadata": {},
   "source": [
    "### Solution"
   ]
  },
  {
   "cell_type": "code",
   "execution_count": null,
   "metadata": {},
   "outputs": [],
   "source": [
    "from math import gcd\n",
    "\n",
    "def get_lcm(A, B):\n",
    "    return A * B // gcd(A, B)\n",
    "\n",
    "def get_gcd(A, B):\n",
    "    return gcd(A, B)\n",
    "\n",
    "def solution(numer1, denom1, numer2, denom2):\n",
    "    answer = []\n",
    "    \n",
    "    denom_lcm = get_lcm(A=denom1, B=denom2)\n",
    "    \n",
    "    answer_numer = numer1 * (denom_lcm // denom1) + numer2 * (denom_lcm // denom2)\n",
    "    answer_denom = denom_lcm\n",
    "    numer_denom_gcd = get_gcd(A=answer_numer, B=answer_denom)\n",
    "    \n",
    "    answer = [answer_numer // numer_denom_gcd, answer_denom // numer_denom_gcd]\n",
    "    \n",
    "    return answer"
   ]
  }
 ],
 "metadata": {
  "kernelspec": {
   "display_name": "Python 3 (ipykernel)",
   "language": "python",
   "name": "python3"
  },
  "language_info": {
   "codemirror_mode": {
    "name": "ipython",
    "version": 3
   },
   "file_extension": ".py",
   "mimetype": "text/x-python",
   "name": "python",
   "nbconvert_exporter": "python",
   "pygments_lexer": "ipython3",
   "version": "3.9.13"
  }
 },
 "nbformat": 4,
 "nbformat_minor": 2
}
