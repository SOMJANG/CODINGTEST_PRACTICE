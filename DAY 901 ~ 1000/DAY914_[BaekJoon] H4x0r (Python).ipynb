{
 "cells": [
  {
   "cell_type": "markdown",
   "metadata": {},
   "source": [
    "## 2023년 1월 3일 화요일\n",
    "### BaekJoon - H4x0r (Python)  \n",
    "### 문제 : https://www.acmicpc.net/problem/26768\n",
    "### 블로그 : https://somjang.tistory.com/entry/BaekJoon-26768%EB%B2%88-H4x0r-Python"
   ]
  },
  {
   "cell_type": "markdown",
   "metadata": {},
   "source": [
    "### Solution"
   ]
  },
  {
   "cell_type": "code",
   "execution_count": null,
   "metadata": {},
   "outputs": [],
   "source": [
    "def h4x0r(string):\n",
    "    replace_dict = {\n",
    "        \"a\": \"4\", \"e\": \"3\", \"i\": \"1\", \"o\": \"0\", \"s\": \"5\"\n",
    "    }\n",
    "    \n",
    "    return \"\".join([replace_dict[word] if word in replace_dict else word for word in list(string)])\n",
    "\n",
    "if __name__ == \"__main__\":\n",
    "    string = input()\n",
    "    \n",
    "    print(h4x0r(string=string))"
   ]
  }
 ],
 "metadata": {
  "kernelspec": {
   "display_name": "Python 3 (ipykernel)",
   "language": "python",
   "name": "python3"
  },
  "language_info": {
   "codemirror_mode": {
    "name": "ipython",
    "version": 3
   },
   "file_extension": ".py",
   "mimetype": "text/x-python",
   "name": "python",
   "nbconvert_exporter": "python",
   "pygments_lexer": "ipython3",
   "version": "3.9.13"
  }
 },
 "nbformat": 4,
 "nbformat_minor": 2
}
