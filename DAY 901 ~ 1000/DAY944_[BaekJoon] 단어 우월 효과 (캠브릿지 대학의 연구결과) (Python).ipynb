{
 "cells": [
  {
   "cell_type": "markdown",
   "metadata": {},
   "source": [
    "## 2023년 2월 10일 금요일\n",
    "### BaekJoon - 단어 우월 효과 (캠브릿지 대학의 연구 결과) (Python)  \n",
    "### 문제 : https://www.acmicpc.net/problem/25957\n",
    "### 블로그 : https://somjang.tistory.com/entry/BaekJoon-25957%EB%B2%88-%EB%8B%A8%EC%96%B4-%EC%9A%B0%EC%9B%94-%ED%9A%A8%EA%B3%BC-%EC%BA%A0%EB%B8%8C%EB%A6%BF%EC%A7%80-%EB%8C%80%ED%95%99%EC%9D%98-%EC%97%B0%EA%B5%AC%EA%B2%B0%EA%B3%BC-Python"
   ]
  },
  {
   "cell_type": "markdown",
   "metadata": {},
   "source": [
    "### Solution"
   ]
  },
  {
   "cell_type": "code",
   "execution_count": null,
   "metadata": {},
   "outputs": [],
   "source": [
    "import sys\n",
    "\n",
    "input = sys.stdin.readline\n",
    "\n",
    "\n",
    "def matching_key_generator(word):\n",
    "    key = word\n",
    "    \n",
    "    if len(word) > 2:\n",
    "        key = \"-\".join([word[0], word[-1], \"\".join(sorted(word[1:-1]))])\n",
    "    elif len(word) == 2:\n",
    "        key = \"-\".join(list(word))\n",
    "        \n",
    "    return key\n",
    "        \n",
    "\n",
    "\n",
    "def word_matching_dict(word_list):\n",
    "    matching_dict = {}\n",
    "    \n",
    "    for word in word_list:\n",
    "        key = matching_key_generator(word=word)\n",
    "        matching_dict[key] = word\n",
    "        \n",
    "    return matching_dict\n",
    "\n",
    "\n",
    "def word_superiority_effect(word_list, S):\n",
    "    answer = []\n",
    "    \n",
    "    word_S_list = S.split()\n",
    "    \n",
    "    matching_dict = word_matching_dict(\n",
    "        word_list=word_list\n",
    "    )\n",
    "    \n",
    "    for word_idx, word in enumerate(word_S_list):\n",
    "        key = matching_key_generator(word=word)\n",
    "        answer.append(matching_dict[key] if key in matching_dict else word)\n",
    "            \n",
    "    return \" \".join(answer)\n",
    "    \n",
    "\n",
    "\n",
    "if __name__ == \"__main__\":\n",
    "    word_list = []\n",
    "    \n",
    "    N = int(input().rstrip())\n",
    "    \n",
    "    for _ in range(N):\n",
    "        word_list.append(input().rstrip())\n",
    "        \n",
    "    M = int(input().rstrip())\n",
    "    S = input().rstrip()\n",
    "    \n",
    "    print(word_superiority_effect(word_list=word_list, S=S))"
   ]
  }
 ],
 "metadata": {
  "kernelspec": {
   "display_name": "Python 3 (ipykernel)",
   "language": "python",
   "name": "python3"
  },
  "language_info": {
   "codemirror_mode": {
    "name": "ipython",
    "version": 3
   },
   "file_extension": ".py",
   "mimetype": "text/x-python",
   "name": "python",
   "nbconvert_exporter": "python",
   "pygments_lexer": "ipython3",
   "version": "3.9.13"
  }
 },
 "nbformat": 4,
 "nbformat_minor": 2
}
