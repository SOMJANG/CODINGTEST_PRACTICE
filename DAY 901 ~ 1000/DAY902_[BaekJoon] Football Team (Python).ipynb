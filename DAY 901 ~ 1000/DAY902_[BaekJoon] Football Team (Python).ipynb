{
 "cells": [
  {
   "cell_type": "markdown",
   "metadata": {},
   "source": [
    "## 2022년 12월 19일 화요일\n",
    "### BaekJoon - Football Team (Python)  \n",
    "### 문제 : https://www.acmicpc.net/problem/5358\n",
    "### 블로그 : https://somjang.tistory.com/entry/BaekJoon-5358%EB%B2%88-Football-Team-Python"
   ]
  },
  {
   "cell_type": "markdown",
   "metadata": {},
   "source": [
    "### Solution"
   ]
  },
  {
   "cell_type": "code",
   "execution_count": null,
   "metadata": {},
   "outputs": [],
   "source": [
    "def football_team(name):\n",
    "    change_word_dict = {\"e\": \"i\", \"i\": \"e\", \"E\": \"I\", \"I\": \"E\"}\n",
    "    \n",
    "    new_name_list = [change_word_dict[word] if word in change_word_dict else word for word in list(name)]\n",
    "    \n",
    "    return \"\".join(new_name_list)\n",
    "\n",
    "\n",
    "if __name__ == \"__main__\":\n",
    "    while True:\n",
    "        try:\n",
    "            name = input()\n",
    "            print(football_team(name=name))\n",
    "        except EOFError:\n",
    "            break"
   ]
  }
 ],
 "metadata": {
  "kernelspec": {
   "display_name": "Python 3 (ipykernel)",
   "language": "python",
   "name": "python3"
  },
  "language_info": {
   "codemirror_mode": {
    "name": "ipython",
    "version": 3
   },
   "file_extension": ".py",
   "mimetype": "text/x-python",
   "name": "python",
   "nbconvert_exporter": "python",
   "pygments_lexer": "ipython3",
   "version": "3.9.13"
  }
 },
 "nbformat": 4,
 "nbformat_minor": 2
}
