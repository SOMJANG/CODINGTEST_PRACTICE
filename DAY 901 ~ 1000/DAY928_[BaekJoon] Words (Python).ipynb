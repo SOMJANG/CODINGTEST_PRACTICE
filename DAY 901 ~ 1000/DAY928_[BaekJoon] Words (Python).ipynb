{
 "cells": [
  {
   "cell_type": "markdown",
   "metadata": {},
   "source": [
    "## 2023년 1월 21일 토요일\n",
    "### BaekJoon - Words (Python)  \n",
    "### 문제 : https://www.acmicpc.net/problem/4072\n",
    "### 블로그 : https://somjang.tistory.com/entry/BaekJoon-4072%EB%B2%88-Words-Python"
   ]
  },
  {
   "cell_type": "markdown",
   "metadata": {},
   "source": [
    "### Solution"
   ]
  },
  {
   "cell_type": "code",
   "execution_count": null,
   "metadata": {},
   "outputs": [],
   "source": [
    "def words_func(string):\n",
    "    words = [word[::-1] for word in string.split()]\n",
    "    \n",
    "    return \" \".join(words)\n",
    "    \n",
    "\n",
    "if __name__ == \"__main__\":\n",
    "    while True:\n",
    "        string = input()\n",
    "        \n",
    "        if string == \"#\":\n",
    "            break\n",
    "            \n",
    "        print(words_func(string=string))"
   ]
  }
 ],
 "metadata": {
  "kernelspec": {
   "display_name": "Python 3 (ipykernel)",
   "language": "python",
   "name": "python3"
  },
  "language_info": {
   "codemirror_mode": {
    "name": "ipython",
    "version": 3
   },
   "file_extension": ".py",
   "mimetype": "text/x-python",
   "name": "python",
   "nbconvert_exporter": "python",
   "pygments_lexer": "ipython3",
   "version": "3.9.13"
  }
 },
 "nbformat": 4,
 "nbformat_minor": 2
}
