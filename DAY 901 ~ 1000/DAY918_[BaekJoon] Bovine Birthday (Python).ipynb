{
 "cells": [
  {
   "cell_type": "markdown",
   "metadata": {},
   "source": [
    "## 2023년 1월 9일 월요일\n",
    "### BaekJoon - Bovine Birthday (Python)  \n",
    "### 문제 : https://www.acmicpc.net/problem/27001\n",
    "### 블로그 : https://somjang.tistory.com/entry/BaekJoon-27001%EB%B2%88-Bovine-Birthday-Python"
   ]
  },
  {
   "cell_type": "markdown",
   "metadata": {},
   "source": [
    "### Solution"
   ]
  },
  {
   "cell_type": "code",
   "execution_count": null,
   "metadata": {},
   "outputs": [],
   "source": [
    "from datetime import datetime\n",
    "\n",
    "def bovine_birthday(year, month, day):\n",
    "    week_day_list = [\"monday\", \"tuesday\", \"wednesday\", \"thursday\", \"friday\", \"saturday\", \"sunday\"]\n",
    "    return week_day_list[datetime(year=year, month=month, day=day).weekday()]\n",
    "\n",
    "if __name__ == \"__main__\":\n",
    "    year, month, day = map(int, input().split())\n",
    "    print(bovine_birthday(year=year, month=month, day=day))"
   ]
  }
 ],
 "metadata": {
  "kernelspec": {
   "display_name": "Python 3 (ipykernel)",
   "language": "python",
   "name": "python3"
  },
  "language_info": {
   "codemirror_mode": {
    "name": "ipython",
    "version": 3
   },
   "file_extension": ".py",
   "mimetype": "text/x-python",
   "name": "python",
   "nbconvert_exporter": "python",
   "pygments_lexer": "ipython3",
   "version": "3.9.13"
  }
 },
 "nbformat": 4,
 "nbformat_minor": 2
}
