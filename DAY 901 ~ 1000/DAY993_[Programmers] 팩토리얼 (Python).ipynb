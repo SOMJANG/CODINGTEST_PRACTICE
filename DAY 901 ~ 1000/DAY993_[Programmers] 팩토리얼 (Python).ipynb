{
 "cells": [
  {
   "cell_type": "markdown",
   "metadata": {},
   "source": [
    "## 2023년 4월 9일 일요일\n",
    "### Programmers - 팩토리얼 (Python)\n",
    "### 문제 : https://school.programmers.co.kr/learn/courses/30/lessons/120848\n",
    "### 블로그 : https://somjang.tistory.com/entry/Programmers-%ED%8C%A9%ED%86%A0%EB%A6%AC%EC%96%BC-Python-featChatGPT"
   ]
  },
  {
   "cell_type": "markdown",
   "metadata": {},
   "source": [
    "### Solution - SOMJANG"
   ]
  },
  {
   "cell_type": "code",
   "execution_count": null,
   "metadata": {},
   "outputs": [],
   "source": [
    "import math \n",
    "\n",
    "\n",
    "def factorial(n):\n",
    "    return math.factorial(n)\n",
    "\n",
    "def solution(n):\n",
    "    i = 1\n",
    "    while True:\n",
    "        factorial_num = factorial(n=i)\n",
    "        \n",
    "        if factorial_num == n:\n",
    "            break\n",
    "        elif factorial_num > n:\n",
    "            i -= 1\n",
    "            break\n",
    "            \n",
    "        i+=1\n",
    "        \n",
    "    return i"
   ]
  },
  {
   "cell_type": "markdown",
   "metadata": {},
   "source": [
    "### Solution - ChatGPT"
   ]
  },
  {
   "cell_type": "code",
   "execution_count": null,
   "metadata": {},
   "outputs": [],
   "source": [
    "def solution(n):\n",
    "    i = 1\n",
    "    factorial = 1\n",
    "    while factorial <= n:\n",
    "        i += 1\n",
    "        factorial *= i\n",
    "    return i - 1"
   ]
  }
 ],
 "metadata": {
  "kernelspec": {
   "display_name": "Python 3 (ipykernel)",
   "language": "python",
   "name": "python3"
  },
  "language_info": {
   "codemirror_mode": {
    "name": "ipython",
    "version": 3
   },
   "file_extension": ".py",
   "mimetype": "text/x-python",
   "name": "python",
   "nbconvert_exporter": "python",
   "pygments_lexer": "ipython3",
   "version": "3.9.13"
  }
 },
 "nbformat": 4,
 "nbformat_minor": 2
}
