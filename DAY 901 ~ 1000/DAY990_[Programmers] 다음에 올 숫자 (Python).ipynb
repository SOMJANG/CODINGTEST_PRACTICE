{
 "cells": [
  {
   "cell_type": "markdown",
   "metadata": {},
   "source": [
    "## 2023년 4월 6일 목요일\n",
    "### Programmers - 다음에 올 숫자 (Python)\n",
    "### 문제 : https://school.programmers.co.kr/learn/courses/30/lessons/120924\n",
    "### 블로그 : https://somjang.tistory.com/entry/Programmers-%EB%8B%A4%EC%9D%8C%EC%97%90-%EC%98%AC-%EC%88%AB%EC%9E%90-Python-featChatGPT"
   ]
  },
  {
   "cell_type": "markdown",
   "metadata": {},
   "source": [
    "### Solution - SOMJANG"
   ]
  },
  {
   "cell_type": "code",
   "execution_count": null,
   "metadata": {},
   "outputs": [],
   "source": [
    "def is_arithmetic_or_geometric(common):\n",
    "    arithmetic_diff_list = []\n",
    "    geometric_diff_list = []\n",
    "    \n",
    "    option = 0\n",
    "    \n",
    "    for idx in range(len(common)-1):\n",
    "        arithmetic_diff_list.append(common[idx+1] - common[idx])\n",
    "        geometric_diff_list.append(common[idx+1] / common[idx] if common[idx] != 0 else 0)\n",
    "        \n",
    "    if len(set(arithmetic_diff_list)) == 1:\n",
    "        return 1, arithmetic_diff_list[-1]\n",
    "    elif len(set(geometric_diff_list)) == 1:\n",
    "        return 2, geometric_diff_list[-1]\n",
    "        \n",
    "    \n",
    "def get_next_number(last_num, diff_num, option):\n",
    "    \"\"\"\n",
    "    option : 1 - arithmetic 2 - geometric\n",
    "    \"\"\"\n",
    "    \n",
    "    if option == 1:\n",
    "        return last_num + diff_num\n",
    "    elif option == 2:\n",
    "        return int(last_num * diff_num)\n",
    "        \n",
    "\n",
    "\n",
    "def solution(common):\n",
    "    option, diff_num = is_arithmetic_or_geometric(common)\n",
    "    \n",
    "    return get_next_number(\n",
    "        last_num=common[-1], \n",
    "        diff_num=diff_num, \n",
    "        option=option\n",
    "    )"
   ]
  },
  {
   "cell_type": "markdown",
   "metadata": {},
   "source": [
    "### Solution - ChatGPT"
   ]
  },
  {
   "cell_type": "code",
   "execution_count": null,
   "metadata": {},
   "outputs": [],
   "source": [
    "def solution(common):\n",
    "    # 등차수열인 경우\n",
    "    if common[1] - common[0] == common[-1] - common[-2]:\n",
    "        return common[-1] + (common[1] - common[0])\n",
    "    # 등비수열인 경우\n",
    "    else:\n",
    "        return common[-1] * (common[-1] // common[-2])"
   ]
  }
 ],
 "metadata": {
  "kernelspec": {
   "display_name": "Python 3 (ipykernel)",
   "language": "python",
   "name": "python3"
  },
  "language_info": {
   "codemirror_mode": {
    "name": "ipython",
    "version": 3
   },
   "file_extension": ".py",
   "mimetype": "text/x-python",
   "name": "python",
   "nbconvert_exporter": "python",
   "pygments_lexer": "ipython3",
   "version": "3.9.13"
  }
 },
 "nbformat": 4,
 "nbformat_minor": 2
}
