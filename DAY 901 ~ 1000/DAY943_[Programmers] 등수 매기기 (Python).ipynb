{
 "cells": [
  {
   "cell_type": "markdown",
   "metadata": {},
   "source": [
    "## 2023년 2월 9일 목요일\n",
    "### Programmers - 등수 매기기 (Python)\n",
    "### 문제 : https://school.programmers.co.kr/learn/courses/30/lessons/120882\n",
    "### 블로그 : https://somjang.tistory.com/entry/Programmers-%EB%93%B1%EC%88%98-%EB%A7%A4%EA%B8%B0%EA%B8%B0-Python"
   ]
  },
  {
   "cell_type": "markdown",
   "metadata": {},
   "source": [
    "### Solution"
   ]
  },
  {
   "cell_type": "code",
   "execution_count": null,
   "metadata": {},
   "outputs": [],
   "source": [
    "def make_rank_dict(avg_score_list):\n",
    "    rank_dict = {}\n",
    "    \n",
    "    set_score_list = sorted(avg_score_list, reverse=True)\n",
    "    \n",
    "    for rank, score in enumerate(set_score_list, start=1):\n",
    "        if score in rank_dict:\n",
    "            continue\n",
    "        rank_dict[score] = rank\n",
    "        \n",
    "    return rank_dict\n",
    "        \n",
    "        \n",
    "        \n",
    "\n",
    "def solution(score_list):\n",
    "    avg_score_list = [(sum(score) / len(score)) for score in score_list]\n",
    "    \n",
    "    rank_dict = make_rank_dict(avg_score_list=avg_score_list)\n",
    "    \n",
    "    return [rank_dict[avg_score] for avg_score in avg_score_list]"
   ]
  }
 ],
 "metadata": {
  "kernelspec": {
   "display_name": "Python 3 (ipykernel)",
   "language": "python",
   "name": "python3"
  },
  "language_info": {
   "codemirror_mode": {
    "name": "ipython",
    "version": 3
   },
   "file_extension": ".py",
   "mimetype": "text/x-python",
   "name": "python",
   "nbconvert_exporter": "python",
   "pygments_lexer": "ipython3",
   "version": "3.9.13"
  }
 },
 "nbformat": 4,
 "nbformat_minor": 2
}
