{
 "cells": [
  {
   "cell_type": "markdown",
   "metadata": {},
   "source": [
    "## 2023년 4월 1일 토요일\n",
    "### BaekJoon - IPv6 (Python)\n",
    "### 문제 : https://www.acmicpc.net/problem/3107\n",
    "### 블로그 : https://somjang.tistory.com/entry/BaekJoon-3107%EB%B2%88-IPv6-Python-feat-ChatGPT"
   ]
  },
  {
   "cell_type": "markdown",
   "metadata": {},
   "source": [
    "### Solution - 1회차"
   ]
  },
  {
   "cell_type": "code",
   "execution_count": null,
   "metadata": {},
   "outputs": [],
   "source": [
    "def IPv6(ipv6_address):\n",
    "    ipv6_address = ipv6_address.split(\":\")\n",
    "    \n",
    "    continue_check = False\n",
    "    \n",
    "    full_address = []\n",
    "    \n",
    "    for address in ipv6_address:\n",
    "        if address == \"\" and not continue_check:\n",
    "            full_address += ['0000' for _ in range(8 - len(ipv6_address) + 1)]\n",
    "            continue_check = True\n",
    "        else:\n",
    "            full_address.append(address.zfill(4))\n",
    "            \n",
    "    return \":\".join(full_address)\n",
    "\n",
    "if __name__ == \"__main__\":\n",
    "    ipv6_address = input()\n",
    "    print(IPv6(ipv6_address=ipv6_address))"
   ]
  },
  {
   "cell_type": "markdown",
   "metadata": {},
   "source": [
    "### Solution - 2회차"
   ]
  },
  {
   "cell_type": "code",
   "execution_count": null,
   "metadata": {},
   "outputs": [],
   "source": [
    "import ipaddress\n",
    "\n",
    "def IPv6(ipv6_address):\n",
    "    return ipaddress.IPv6Address(ipv6_address).exploded\n",
    "\n",
    "if __name__ == \"__main__\":\n",
    "    ipv6_address = input()\n",
    "    print(IPv6(ipv6_address=ipv6_address))"
   ]
  }
 ],
 "metadata": {
  "kernelspec": {
   "display_name": "Python 3 (ipykernel)",
   "language": "python",
   "name": "python3"
  },
  "language_info": {
   "codemirror_mode": {
    "name": "ipython",
    "version": 3
   },
   "file_extension": ".py",
   "mimetype": "text/x-python",
   "name": "python",
   "nbconvert_exporter": "python",
   "pygments_lexer": "ipython3",
   "version": "3.9.13"
  }
 },
 "nbformat": 4,
 "nbformat_minor": 2
}
