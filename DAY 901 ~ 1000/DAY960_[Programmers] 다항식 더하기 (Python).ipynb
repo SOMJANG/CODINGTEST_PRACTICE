{
 "cells": [
  {
   "cell_type": "markdown",
   "metadata": {},
   "source": [
    "## 2023년 3월 1일 수요일\n",
    "### Programmers - 다항식 더하기 (Python)\n",
    "### 문제 : https://school.programmers.co.kr/learn/courses/30/lessons/120863#\n",
    "### 블로그 : https://somjang.tistory.com/entry/Programmers-%EB%8B%A4%ED%95%AD%EC%8B%9D-%EB%8D%94%ED%95%98%EA%B8%B0-Python"
   ]
  },
  {
   "cell_type": "markdown",
   "metadata": {},
   "source": [
    "### Solution"
   ]
  },
  {
   "cell_type": "code",
   "execution_count": null,
   "metadata": {},
   "outputs": [],
   "source": [
    "def solution(polynomial):\n",
    "    calc_dict = {}\n",
    "    \n",
    "    for variable in polynomial.split(\" + \"):\n",
    "        if not variable.isnumeric():\n",
    "            variable_name = variable[-1]\n",
    "            variable_num = int(variable[:-1]) if variable[:-1] != '' else 1\n",
    "\n",
    "            if variable_name not in calc_dict:\n",
    "                calc_dict[variable_name] = 0\n",
    "            calc_dict[variable_name] += variable_num\n",
    "        else:\n",
    "            if '' not in calc_dict:\n",
    "                calc_dict[''] = 0\n",
    "            calc_dict[''] += int(variable)            \n",
    "    \n",
    "    return \" + \".join([f\"{v if v > 1 else ''}{k}\" if k != '' else f\"{v}\" for k, v in sorted(calc_dict.items(), key=lambda x: x[0], reverse=True)])"
   ]
  }
 ],
 "metadata": {
  "kernelspec": {
   "display_name": "Python 3 (ipykernel)",
   "language": "python",
   "name": "python3"
  },
  "language_info": {
   "codemirror_mode": {
    "name": "ipython",
    "version": 3
   },
   "file_extension": ".py",
   "mimetype": "text/x-python",
   "name": "python",
   "nbconvert_exporter": "python",
   "pygments_lexer": "ipython3",
   "version": "3.9.13"
  }
 },
 "nbformat": 4,
 "nbformat_minor": 2
}
