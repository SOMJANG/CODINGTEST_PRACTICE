{
 "cells": [
  {
   "cell_type": "markdown",
   "metadata": {},
   "source": [
    "## 2023년 2월 15일 수요일\n",
    "### Programmers - 연속된 수의 합 (Python)\n",
    "### 문제 : https://school.programmers.co.kr/learn/courses/30/lessons/120923\n",
    "### 블로그 : https://somjang.tistory.com/entry/Programmers-%EC%97%B0%EC%86%8D%EB%90%9C-%EC%88%98%EC%9D%98-%ED%95%A9-Python"
   ]
  },
  {
   "cell_type": "markdown",
   "metadata": {},
   "source": [
    "### Solution"
   ]
  },
  {
   "cell_type": "code",
   "execution_count": null,
   "metadata": {},
   "outputs": [],
   "source": [
    "def get_middle_num(num, total):\n",
    "    return total // num\n",
    "\n",
    "\n",
    "def solution(num, total):\n",
    "    middle_idx = num // 2\n",
    "    \n",
    "    middle_num = get_middle_num(num, total)\n",
    "    \n",
    "    start_num = middle_idx * - 1 if num % 2 == 1 else middle_idx * -1 + 1\n",
    "    end_num = middle_idx + 1\n",
    "    \n",
    "    answer = [num + middle_num for num in range(start_num, end_num)]\n",
    "    \n",
    "    \n",
    "    return answer"
   ]
  }
 ],
 "metadata": {
  "kernelspec": {
   "display_name": "Python 3 (ipykernel)",
   "language": "python",
   "name": "python3"
  },
  "language_info": {
   "codemirror_mode": {
    "name": "ipython",
    "version": 3
   },
   "file_extension": ".py",
   "mimetype": "text/x-python",
   "name": "python",
   "nbconvert_exporter": "python",
   "pygments_lexer": "ipython3",
   "version": "3.9.13"
  }
 },
 "nbformat": 4,
 "nbformat_minor": 2
}
