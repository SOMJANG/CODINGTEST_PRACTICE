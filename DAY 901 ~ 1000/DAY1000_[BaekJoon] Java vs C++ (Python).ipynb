{
 "cells": [
  {
   "cell_type": "markdown",
   "metadata": {},
   "source": [
    "## 2023년 4월 16일 일요일\n",
    "### BaekJoon - Java vs C++ (Python)  \n",
    "### 문제 : https://www.acmicpc.net/problem/3613\n",
    "### 블로그 : https://somjang.tistory.com/entry/BaekJoon-3613%EB%B2%88-Java-vs-C-Python-featChatGPT"
   ]
  },
  {
   "cell_type": "markdown",
   "metadata": {},
   "source": [
    "### Solution - SOMJANG"
   ]
  },
  {
   "cell_type": "code",
   "execution_count": null,
   "metadata": {},
   "outputs": [],
   "source": [
    "def java_to_cplusplus(variable):\n",
    "    error = \"Error!\"\n",
    "    \n",
    "    converted_result = []\n",
    "    \n",
    "    for idx in range(len(variable)):\n",
    "        if variable[idx].isupper():\n",
    "            if idx == 0:\n",
    "                return error\n",
    "            else:\n",
    "                converted_result.append(f\"_{variable[idx].lower()}\")\n",
    "        else:\n",
    "            converted_result.append(variable[idx].lower())\n",
    "            \n",
    "    return \"\".join(converted_result)\n",
    "\n",
    "\n",
    "def cplusplus_to_java(variable):\n",
    "    error = \"Error!\"\n",
    "    \n",
    "    converted_result = []\n",
    "    \n",
    "    if \"__\" in variable:\n",
    "        return error\n",
    "    if variable[0] == \"_\" or variable[-1] == \"_\":\n",
    "        return error\n",
    "    if not variable.islower():\n",
    "        return error\n",
    "    \n",
    "    for word in variable.split(\"_\"):\n",
    "        if not converted_result:\n",
    "            converted_result.append(word)\n",
    "        else:\n",
    "            converted_result.append(word.capitalize())\n",
    "        \n",
    "    return \"\".join(converted_result)\n",
    "\n",
    "\n",
    "if __name__ == \"__main__\":\n",
    "    variable = input()\n",
    "    \n",
    "    if \"_\" in variable:\n",
    "        print(cplusplus_to_java(variable=variable))\n",
    "    else:\n",
    "        print(java_to_cplusplus(variable=variable))"
   ]
  },
  {
   "cell_type": "markdown",
   "metadata": {},
   "source": [
    "### Solution - ChatGPT"
   ]
  },
  {
   "cell_type": "code",
   "execution_count": null,
   "metadata": {},
   "outputs": [],
   "source": [
    "import re\n",
    "\n",
    "# 변수명 입력 받기\n",
    "variable_name = input().strip()\n",
    "\n",
    "# 변수명 형식 확인하기\n",
    "is_java = variable_name[0].islower() and \"_\" not in variable_name\n",
    "is_cpp = variable_name.islower() and re.search(r'_', variable_name) is not None\n",
    "\n",
    "# 변수명 변환하기\n",
    "if is_java:\n",
    "    # Java -> C++\n",
    "    converted = \"\"\n",
    "    for i, char in enumerate(variable_name):\n",
    "        if char.isupper() and i > 0:\n",
    "            converted += \"_\"\n",
    "        converted += char.lower()\n",
    "    print(converted)\n",
    "elif is_cpp:\n",
    "    # C++ -> Java\n",
    "    words = variable_name.split(\"_\")\n",
    "    if any(word == \"\" for word in words):\n",
    "        print(\"Error!\")\n",
    "    else:\n",
    "        converted = words[0] + \"\".join(word.capitalize() for word in words[1:])\n",
    "        print(converted)\n",
    "else:\n",
    "    print(\"Error!\")\n"
   ]
  }
 ],
 "metadata": {
  "kernelspec": {
   "display_name": "Python 3 (ipykernel)",
   "language": "python",
   "name": "python3"
  },
  "language_info": {
   "codemirror_mode": {
    "name": "ipython",
    "version": 3
   },
   "file_extension": ".py",
   "mimetype": "text/x-python",
   "name": "python",
   "nbconvert_exporter": "python",
   "pygments_lexer": "ipython3",
   "version": "3.9.13"
  }
 },
 "nbformat": 4,
 "nbformat_minor": 2
}
