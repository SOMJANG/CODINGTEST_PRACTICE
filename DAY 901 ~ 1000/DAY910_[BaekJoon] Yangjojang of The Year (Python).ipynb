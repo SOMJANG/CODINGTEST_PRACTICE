{
 "cells": [
  {
   "cell_type": "markdown",
   "metadata": {},
   "source": [
    "## 2022년 12월 30일 금요일\n",
    "### BaekJoon - Yangjojang of The Year (Python)  \n",
    "### 문제 : https://www.acmicpc.net/problem/11557\n",
    "### 블로그 : "
   ]
  },
  {
   "cell_type": "markdown",
   "metadata": {},
   "source": [
    "### Solution"
   ]
  },
  {
   "cell_type": "code",
   "execution_count": null,
   "metadata": {},
   "outputs": [],
   "source": [
    "def yangjojang_of_the_year(school_list):\n",
    "    return sorted(school_list, key=lambda x: int(x[1]))[-1][0]\n",
    "\n",
    "\n",
    "if __name__ == \"__main__\":\n",
    "    for _ in range(int(input())):\n",
    "        school_list = []\n",
    "        for _ in range(int(input())):\n",
    "            school, alcohol = input().split()\n",
    "            school_list.append((school, alcohol))\n",
    "            \n",
    "        print(yangjojang_of_the_year(school_list=school_list))"
   ]
  }
 ],
 "metadata": {
  "kernelspec": {
   "display_name": "Python 3 (ipykernel)",
   "language": "python",
   "name": "python3"
  },
  "language_info": {
   "codemirror_mode": {
    "name": "ipython",
    "version": 3
   },
   "file_extension": ".py",
   "mimetype": "text/x-python",
   "name": "python",
   "nbconvert_exporter": "python",
   "pygments_lexer": "ipython3",
   "version": "3.9.13"
  }
 },
 "nbformat": 4,
 "nbformat_minor": 2
}
