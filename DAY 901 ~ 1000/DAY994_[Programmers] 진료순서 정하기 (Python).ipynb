{
 "cells": [
  {
   "cell_type": "markdown",
   "metadata": {},
   "source": [
    "## 2023년 4월 10일 월요일\n",
    "### Programmers - 진료순서 정하기 (Python)\n",
    "### 문제 : https://school.programmers.co.kr/learn/courses/30/lessons/120835\n",
    "### 블로그 : https://somjang.tistory.com/entry/Programmers-%EC%A7%84%EB%A3%8C%EC%88%9C%EC%84%9C-%EC%A0%95%ED%95%98%EA%B8%B0-Python-featChatGPT"
   ]
  },
  {
   "cell_type": "markdown",
   "metadata": {},
   "source": [
    "### Solution - SOMJANG"
   ]
  },
  {
   "cell_type": "code",
   "execution_count": null,
   "metadata": {},
   "outputs": [],
   "source": [
    "def solution(emergency):\n",
    "    sorted_emergency = sorted(emergency, reverse=True)\n",
    "    \n",
    "    emergency_dict = {\n",
    "        num:idx for idx, num in enumerate(sorted_emergency, start=1)\n",
    "    }\n",
    "    \n",
    "    return [emergency_dict[num] for num in emergency]"
   ]
  },
  {
   "cell_type": "markdown",
   "metadata": {},
   "source": [
    "### Solution - ChatGPT"
   ]
  },
  {
   "cell_type": "code",
   "execution_count": null,
   "metadata": {},
   "outputs": [],
   "source": [
    "def solution(emergency):\n",
    "    sorted_emergency = sorted(emergency, reverse=True) # 응급도가 높은 순서대로 정렬\n",
    "    answer = [sorted_emergency.index(x)+1 for x in emergency] # 응급도가 높은 순서대로 번호 부여\n",
    "    return answer"
   ]
  }
 ],
 "metadata": {
  "kernelspec": {
   "display_name": "Python 3 (ipykernel)",
   "language": "python",
   "name": "python3"
  },
  "language_info": {
   "codemirror_mode": {
    "name": "ipython",
    "version": 3
   },
   "file_extension": ".py",
   "mimetype": "text/x-python",
   "name": "python",
   "nbconvert_exporter": "python",
   "pygments_lexer": "ipython3",
   "version": "3.9.13"
  }
 },
 "nbformat": 4,
 "nbformat_minor": 2
}
