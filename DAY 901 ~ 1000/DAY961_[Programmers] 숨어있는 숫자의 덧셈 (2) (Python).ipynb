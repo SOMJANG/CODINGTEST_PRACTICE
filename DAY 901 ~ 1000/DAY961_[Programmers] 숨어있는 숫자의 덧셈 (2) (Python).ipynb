{
 "cells": [
  {
   "cell_type": "markdown",
   "metadata": {},
   "source": [
    "## 2023년 3월 2일 목요일\n",
    "### Programmers - 숨어있는 숫자의 덧셈 (2) (Python)\n",
    "### 문제 : https://school.programmers.co.kr/learn/courses/30/lessons/120864\n",
    "### 블로그 : https://somjang.tistory.com/entry/Programmers-%EC%88%A8%EC%96%B4%EC%9E%88%EB%8A%94-%EC%88%AB%EC%9E%90%EC%9D%98-%EB%8D%A7%EC%85%88-2-Python"
   ]
  },
  {
   "cell_type": "markdown",
   "metadata": {},
   "source": [
    "### Solution"
   ]
  },
  {
   "cell_type": "code",
   "execution_count": null,
   "metadata": {},
   "outputs": [],
   "source": [
    "def solution(my_string):\n",
    "    my_string = \"\".join([word if word.isnumeric() else ' ' for word in list(my_string)])\n",
    "    \n",
    "    number_list = list(map(int, my_string.split()))\n",
    "    \n",
    "    return sum(number_list)"
   ]
  }
 ],
 "metadata": {
  "kernelspec": {
   "display_name": "Python 3 (ipykernel)",
   "language": "python",
   "name": "python3"
  },
  "language_info": {
   "codemirror_mode": {
    "name": "ipython",
    "version": 3
   },
   "file_extension": ".py",
   "mimetype": "text/x-python",
   "name": "python",
   "nbconvert_exporter": "python",
   "pygments_lexer": "ipython3",
   "version": "3.9.13"
  }
 },
 "nbformat": 4,
 "nbformat_minor": 2
}
