{
 "cells": [
  {
   "cell_type": "markdown",
   "metadata": {},
   "source": [
    "## 2023년 2월 27일 월요일\n",
    "### Programmers - 문자열 계산하기 (Python)\n",
    "### 문제 : https://school.programmers.co.kr/learn/courses/30/lessons/120902#\n",
    "### 블로그 : https://somjang.tistory.com/entry/Programmers-%EB%AC%B8%EC%9E%90%EC%97%B4-%EA%B3%84%EC%82%B0%ED%95%98%EA%B8%B0-Python"
   ]
  },
  {
   "cell_type": "markdown",
   "metadata": {},
   "source": [
    "### Solution"
   ]
  },
  {
   "cell_type": "code",
   "execution_count": null,
   "metadata": {},
   "outputs": [],
   "source": [
    "def minus(num1, num2):\n",
    "    return num1 - num2\n",
    "\n",
    "\n",
    "def plus(num1, num2):\n",
    "    return num1 + num2\n",
    "\n",
    "\n",
    "def solution(my_string):\n",
    "    calc_dict = {\n",
    "        \"+\": plus, \"-\": minus\n",
    "    }\n",
    "    \n",
    "    split_result = my_string.split()\n",
    "    print(len(split_result))\n",
    "    for idx in range(0, len(split_result) - 1 , 2):\n",
    "        split_result[idx+2] = calc_dict[split_result[idx+1]](\n",
    "            num1=int(split_result[idx]), num2=int(split_result[idx+2])\n",
    "        )\n",
    "    \n",
    "    return split_result[-1]"
   ]
  }
 ],
 "metadata": {
  "kernelspec": {
   "display_name": "Python 3 (ipykernel)",
   "language": "python",
   "name": "python3"
  },
  "language_info": {
   "codemirror_mode": {
    "name": "ipython",
    "version": 3
   },
   "file_extension": ".py",
   "mimetype": "text/x-python",
   "name": "python",
   "nbconvert_exporter": "python",
   "pygments_lexer": "ipython3",
   "version": "3.9.13"
  }
 },
 "nbformat": 4,
 "nbformat_minor": 2
}
