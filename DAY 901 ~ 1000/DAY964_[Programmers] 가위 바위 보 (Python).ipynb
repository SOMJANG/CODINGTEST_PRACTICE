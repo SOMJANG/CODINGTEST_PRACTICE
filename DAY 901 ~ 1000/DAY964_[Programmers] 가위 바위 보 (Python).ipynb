{
 "cells": [
  {
   "cell_type": "markdown",
   "metadata": {},
   "source": [
    "## 2023년 3월 5일 일요일\n",
    "### Programmers - 가위 바위 보 (Python)\n",
    "### 문제 : https://school.programmers.co.kr/learn/courses/30/lessons/120839\n",
    "### 블로그 : https://somjang.tistory.com/entry/Programmers-%EA%B0%80%EC%9C%84-%EB%B0%94%EC%9C%84-%EB%B3%B4-Python"
   ]
  },
  {
   "cell_type": "markdown",
   "metadata": {},
   "source": [
    "### Solution"
   ]
  },
  {
   "cell_type": "code",
   "execution_count": null,
   "metadata": {},
   "outputs": [],
   "source": [
    "def solution(rsp):\n",
    "    answer = []\n",
    "    \n",
    "    win_rsp = {\n",
    "        \"2\": \"0\", \"0\": \"5\", \"5\": \"2\"\n",
    "    }\n",
    "    \n",
    "    for h in list(rsp):\n",
    "        answer.append(win_rsp[h])\n",
    "    \n",
    "    return \"\".join(answer)"
   ]
  }
 ],
 "metadata": {
  "kernelspec": {
   "display_name": "Python 3 (ipykernel)",
   "language": "python",
   "name": "python3"
  },
  "language_info": {
   "codemirror_mode": {
    "name": "ipython",
    "version": 3
   },
   "file_extension": ".py",
   "mimetype": "text/x-python",
   "name": "python",
   "nbconvert_exporter": "python",
   "pygments_lexer": "ipython3",
   "version": "3.9.13"
  }
 },
 "nbformat": 4,
 "nbformat_minor": 2
}
