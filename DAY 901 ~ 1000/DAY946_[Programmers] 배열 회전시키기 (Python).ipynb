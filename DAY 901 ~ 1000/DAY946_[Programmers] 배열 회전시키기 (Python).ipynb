{
 "cells": [
  {
   "cell_type": "markdown",
   "metadata": {},
   "source": [
    "## 2023년 2월 12일 일요일\n",
    "### Programmers - 배열 회전시키기 (Python)\n",
    "### 문제 : https://school.programmers.co.kr/learn/courses/30/lessons/120844\n",
    "### 블로그 : https://somjang.tistory.com/entry/Programmers-%EB%B0%B0%EC%97%B4-%ED%9A%8C%EC%A0%84%EC%8B%9C%ED%82%A4%EA%B8%B0-Python"
   ]
  },
  {
   "cell_type": "markdown",
   "metadata": {},
   "source": [
    "### Solution"
   ]
  },
  {
   "cell_type": "code",
   "execution_count": null,
   "metadata": {},
   "outputs": [],
   "source": [
    "def solution(numbers, direction):\n",
    "    answer = []\n",
    "    \n",
    "    if direction == 'right':\n",
    "        answer = numbers[-1:] + numbers[:-1]\n",
    "    elif direction == 'left':\n",
    "        answer = numbers[1:] + numbers[:1]\n",
    "    \n",
    "    return answer"
   ]
  }
 ],
 "metadata": {
  "kernelspec": {
   "display_name": "Python 3 (ipykernel)",
   "language": "python",
   "name": "python3"
  },
  "language_info": {
   "codemirror_mode": {
    "name": "ipython",
    "version": 3
   },
   "file_extension": ".py",
   "mimetype": "text/x-python",
   "name": "python",
   "nbconvert_exporter": "python",
   "pygments_lexer": "ipython3",
   "version": "3.9.13"
  }
 },
 "nbformat": 4,
 "nbformat_minor": 2
}
