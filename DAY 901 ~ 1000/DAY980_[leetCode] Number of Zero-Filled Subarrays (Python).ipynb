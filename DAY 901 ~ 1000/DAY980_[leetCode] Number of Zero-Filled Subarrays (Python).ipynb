{
 "cells": [
  {
   "cell_type": "markdown",
   "metadata": {},
   "source": [
    "## 2023년 3월 23일 목요일\n",
    "### leetCode - 2348. Number of Zero-Filled Subarrays (Python)\n",
    "### 문제 : https://leetcode.com/problems/number-of-zero-filled-subarrays/description/\n",
    "### 블로그 : https://somjang.tistory.com/entry/leetCode-2348-Number-of-Zero-Filled-Subarrays-Python-featChatGPT"
   ]
  },
  {
   "cell_type": "markdown",
   "metadata": {},
   "source": [
    "### Solution - SOMJANG"
   ]
  },
  {
   "cell_type": "code",
   "execution_count": null,
   "metadata": {},
   "outputs": [],
   "source": [
    "class Solution:\n",
    "    def zeroFilledSubarray(self, nums: List[int]) -> int:\n",
    "        answer, zero_length = 0, 0\n",
    "\n",
    "        last_idx = len(nums) - 1\n",
    "\n",
    "        for num_idx, num in enumerate(nums):\n",
    "            if num == 0:\n",
    "                zero_length += 1\n",
    "            elif num != 0 and zero_length != 0:\n",
    "                answer += zero_length * (zero_length+1) // 2\n",
    "                zero_length = 0\n",
    "        else:\n",
    "            if zero_length != 0:\n",
    "                answer += zero_length * (zero_length+1) // 2\n",
    "        \n",
    "        return answer"
   ]
  },
  {
   "cell_type": "markdown",
   "metadata": {},
   "source": [
    "### Solution - ChatGPT - 1"
   ]
  },
  {
   "cell_type": "code",
   "execution_count": null,
   "metadata": {},
   "outputs": [],
   "source": [
    "class Solution:\n",
    "    def zeroFilledSubarray(self, nums: List[int]) -> int:\n",
    "        count = 0\n",
    "        window_size = 0\n",
    "\n",
    "        for num in nums:\n",
    "            if num == 0:\n",
    "                window_size += 1\n",
    "            else:\n",
    "                count += window_size * (window_size + 1) // 2\n",
    "                window_size = 0\n",
    "\n",
    "        if window_size > 0:\n",
    "            count += window_size * (window_size + 1) // 2\n",
    "\n",
    "        return count"
   ]
  },
  {
   "cell_type": "markdown",
   "metadata": {},
   "source": [
    "### Solution - ChatGPT - 2"
   ]
  },
  {
   "cell_type": "code",
   "execution_count": null,
   "metadata": {},
   "outputs": [],
   "source": [
    "class Solution:\n",
    "    def zeroFilledSubarray(self, nums: List[int]) -> int:\n",
    "        count = 0\n",
    "        left = 0\n",
    "\n",
    "        for right in range(len(nums)):\n",
    "            if nums[right] == 0:\n",
    "                count += (right - left + 1) * (right - left) // 2\n",
    "            else:\n",
    "                left = right + 1\n",
    "\n",
    "        return count"
   ]
  }
 ],
 "metadata": {
  "kernelspec": {
   "display_name": "Python 3 (ipykernel)",
   "language": "python",
   "name": "python3"
  },
  "language_info": {
   "codemirror_mode": {
    "name": "ipython",
    "version": 3
   },
   "file_extension": ".py",
   "mimetype": "text/x-python",
   "name": "python",
   "nbconvert_exporter": "python",
   "pygments_lexer": "ipython3",
   "version": "3.9.13"
  }
 },
 "nbformat": 4,
 "nbformat_minor": 2
}
