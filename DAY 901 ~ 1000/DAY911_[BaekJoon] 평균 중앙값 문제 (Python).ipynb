{
 "cells": [
  {
   "cell_type": "markdown",
   "metadata": {},
   "source": [
    "## 2022년 12월 31일 토요일\n",
    "### BaekJoon - 평균 중앙값 문제 (Python)  \n",
    "### 문제 : https://www.acmicpc.net/problem/5691\n",
    "### 블로그 : https://somjang.tistory.com/entry/BaekJoon-5691%EB%B2%88-%ED%8F%89%EA%B7%A0-%EC%A4%91%EC%95%99%EA%B0%92-%EB%AC%B8%EC%A0%9C-Python"
   ]
  },
  {
   "cell_type": "markdown",
   "metadata": {},
   "source": [
    "### Solution"
   ]
  },
  {
   "cell_type": "code",
   "execution_count": null,
   "metadata": {},
   "outputs": [],
   "source": [
    "def average_middle_num_problem(A, B):\n",
    "    return A - (B-A)\n",
    "\n",
    "\n",
    "if __name__ == \"__main__\":\n",
    "    while True:\n",
    "        A, B = map(int, input().split())\n",
    "        \n",
    "        if A == 0 and B == 0:\n",
    "            break\n",
    "            \n",
    "        print(average_middle_num_problem(A=A, B=B))"
   ]
  }
 ],
 "metadata": {
  "kernelspec": {
   "display_name": "Python 3 (ipykernel)",
   "language": "python",
   "name": "python3"
  },
  "language_info": {
   "codemirror_mode": {
    "name": "ipython",
    "version": 3
   },
   "file_extension": ".py",
   "mimetype": "text/x-python",
   "name": "python",
   "nbconvert_exporter": "python",
   "pygments_lexer": "ipython3",
   "version": "3.9.13"
  }
 },
 "nbformat": 4,
 "nbformat_minor": 2
}
