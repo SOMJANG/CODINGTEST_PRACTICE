{
 "cells": [
  {
   "cell_type": "markdown",
   "metadata": {},
   "source": [
    "## 2023년 3월 26일 일요일\n",
    "### leetCode - 2215. Find the Difference of Two Arrays (Python)\n",
    "### 문제 : https://leetcode.com/problems/find-the-difference-of-two-arrays/description/\n",
    "### 블로그 : https://somjang.tistory.com/entry/leetCode-2215-Find-the-Difference-of-Two-Arrays-Python-featChatGPT"
   ]
  },
  {
   "cell_type": "markdown",
   "metadata": {},
   "source": [
    "### Solution - SOMJANG - 1회차"
   ]
  },
  {
   "cell_type": "code",
   "execution_count": null,
   "metadata": {},
   "outputs": [],
   "source": [
    "class Solution:\n",
    "    def findDifference(self, nums1: List[int], nums2: List[int]) -> List[List[int]]:\n",
    "        answer_1 = list(set(nums1) - set(nums2))\n",
    "        answer_2 = list(set(nums2) - set(nums1))\n",
    "\n",
    "        return [answer_1, answer_2]"
   ]
  },
  {
   "cell_type": "markdown",
   "metadata": {},
   "source": [
    "### Solution - SOMJANG - 2회차"
   ]
  },
  {
   "cell_type": "code",
   "execution_count": null,
   "metadata": {},
   "outputs": [],
   "source": [
    "class Solution:\n",
    "    def findDifference(self, nums1: List[int], nums2: List[int]) -> List[List[int]]:\n",
    "        return [list(set(nums1) - set(nums2)), list(set(nums2) - set(nums1))]"
   ]
  },
  {
   "cell_type": "markdown",
   "metadata": {},
   "source": [
    "### Solution - ChatGPT - 1"
   ]
  },
  {
   "cell_type": "code",
   "execution_count": null,
   "metadata": {},
   "outputs": [],
   "source": [
    "class Solution:\n",
    "    def findDifference(self, nums1: List[int], nums2: List[int]) -> List[List[int]]:\n",
    "        set1 = set(nums1)\n",
    "        set2 = set(nums2)\n",
    "        return [list(set1 - set2), list(set2 - set1)]"
   ]
  },
  {
   "cell_type": "markdown",
   "metadata": {},
   "source": [
    "### Solution - ChatGPT - 2"
   ]
  },
  {
   "cell_type": "code",
   "execution_count": null,
   "metadata": {},
   "outputs": [],
   "source": [
    "class Solution:\n",
    "    def findDifference(self, nums1: List[int], nums2: List[int]) -> List[List[int]]:\n",
    "        res = [[], []]\n",
    "        set1 = set(nums1)\n",
    "        set2 = set(nums2)\n",
    "        for num in set1:\n",
    "            if num not in set2:\n",
    "                res[0].append(num)\n",
    "        for num in set2:\n",
    "            if num not in set1:\n",
    "                res[1].append(num)\n",
    "        return res"
   ]
  }
 ],
 "metadata": {
  "kernelspec": {
   "display_name": "Python 3 (ipykernel)",
   "language": "python",
   "name": "python3"
  },
  "language_info": {
   "codemirror_mode": {
    "name": "ipython",
    "version": 3
   },
   "file_extension": ".py",
   "mimetype": "text/x-python",
   "name": "python",
   "nbconvert_exporter": "python",
   "pygments_lexer": "ipython3",
   "version": "3.9.13"
  }
 },
 "nbformat": 4,
 "nbformat_minor": 2
}
