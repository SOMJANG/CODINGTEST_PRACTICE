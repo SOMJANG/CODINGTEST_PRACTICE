{
 "cells": [
  {
   "cell_type": "markdown",
   "metadata": {},
   "source": [
    "## 2022년 12월 26일 월요일\n",
    "### BaekJoon - Dedupe (Python)  \n",
    "### 문제 : https://www.acmicpc.net/problem/5357\n",
    "### 블로그 : https://somjang.tistory.com/entry/BaekJoon-5357%EB%B2%88-Dedupe-Python"
   ]
  },
  {
   "cell_type": "markdown",
   "metadata": {},
   "source": [
    "### Solution"
   ]
  },
  {
   "cell_type": "code",
   "execution_count": null,
   "metadata": {},
   "outputs": [],
   "source": [
    "def dedupe(dup_string):\n",
    "    dedupe_string = [dup_string[0]]\n",
    "    \n",
    "    for word in dup_string[1:]:\n",
    "        if word != dedupe_string[-1]:\n",
    "            dedupe_string.append(word)\n",
    "            \n",
    "    return \"\".join(dedupe_string)\n",
    "\n",
    "\n",
    "if __name__ ==\"__main__\":\n",
    "    for _ in range(int(input())):\n",
    "        dup_string = input()\n",
    "        \n",
    "        print(dedupe(dup_string=dup_string))"
   ]
  }
 ],
 "metadata": {
  "kernelspec": {
   "display_name": "Python 3 (ipykernel)",
   "language": "python",
   "name": "python3"
  },
  "language_info": {
   "codemirror_mode": {
    "name": "ipython",
    "version": 3
   },
   "file_extension": ".py",
   "mimetype": "text/x-python",
   "name": "python",
   "nbconvert_exporter": "python",
   "pygments_lexer": "ipython3",
   "version": "3.9.13"
  }
 },
 "nbformat": 4,
 "nbformat_minor": 2
}
