{
 "cells": [
  {
   "cell_type": "markdown",
   "metadata": {},
   "source": [
    "## 2023년 2월 19일 일요일\n",
    "### Programmers - 카드 뭉치 (Python)\n",
    "### 문제 : https://school.programmers.co.kr/learn/courses/30/lessons/159994#\n",
    "### 블로그 : https://somjang.tistory.com/entry/Programmers-%EC%B9%B4%EB%93%9C-%EB%AD%89%EC%B9%98-Python"
   ]
  },
  {
   "cell_type": "markdown",
   "metadata": {},
   "source": [
    "### Solution"
   ]
  },
  {
   "cell_type": "code",
   "execution_count": null,
   "metadata": {},
   "outputs": [],
   "source": [
    "def solution(cards1, cards2, goal):\n",
    "    answer = 'Yes'\n",
    "    \n",
    "    card1_idx, card2_idx = 0, 0\n",
    "    \n",
    "    for word in goal:\n",
    "        if len(cards1) > card1_idx and word == cards1[card1_idx]:\n",
    "            card1_idx += 1\n",
    "        elif len(cards2) > card2_idx and word == cards2[card2_idx]:\n",
    "            card2_idx += 1\n",
    "        else:\n",
    "            answer = \"No\"\n",
    "            break\n",
    "    \n",
    "    return answer"
   ]
  }
 ],
 "metadata": {
  "kernelspec": {
   "display_name": "Python 3 (ipykernel)",
   "language": "python",
   "name": "python3"
  },
  "language_info": {
   "codemirror_mode": {
    "name": "ipython",
    "version": 3
   },
   "file_extension": ".py",
   "mimetype": "text/x-python",
   "name": "python",
   "nbconvert_exporter": "python",
   "pygments_lexer": "ipython3",
   "version": "3.9.13"
  }
 },
 "nbformat": 4,
 "nbformat_minor": 2
}
