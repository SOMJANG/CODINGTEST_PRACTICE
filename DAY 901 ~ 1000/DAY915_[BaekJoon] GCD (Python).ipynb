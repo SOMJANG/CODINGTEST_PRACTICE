{
 "cells": [
  {
   "cell_type": "markdown",
   "metadata": {},
   "source": [
    "## 2023년 1월 6일 금요일\n",
    "### BaekJoon - GCD (Python)  \n",
    "### 문제 : https://www.acmicpc.net/problem/5344\n",
    "### 블로그 : https://somjang.tistory.com/entry/BaekJoon-5344%EB%B2%88-GCD-Python"
   ]
  },
  {
   "cell_type": "markdown",
   "metadata": {},
   "source": [
    "### Solution"
   ]
  },
  {
   "cell_type": "code",
   "execution_count": null,
   "metadata": {},
   "outputs": [],
   "source": [
    "def GCD(a, b):\n",
    "    mod = a%b\n",
    "    while mod > 0:\n",
    "        a = b\n",
    "        b = mod\n",
    "        mod = a%b\n",
    "    return b\n",
    "\n",
    "\n",
    "if __name__ == \"__main__\":\n",
    "    for _ in range(int(input())):\n",
    "        a, b = map(int, input().split())\n",
    "        print(GCD(a=a, b=b))"
   ]
  }
 ],
 "metadata": {
  "kernelspec": {
   "display_name": "Python 3",
   "language": "python",
   "name": "python3"
  },
  "language_info": {
   "codemirror_mode": {
    "name": "ipython",
    "version": 3
   },
   "file_extension": ".py",
   "mimetype": "text/x-python",
   "name": "python",
   "nbconvert_exporter": "python",
   "pygments_lexer": "ipython3",
   "version": "3.7.3"
  }
 },
 "nbformat": 4,
 "nbformat_minor": 2
}
