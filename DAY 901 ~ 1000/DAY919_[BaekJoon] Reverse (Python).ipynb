{
 "cells": [
  {
   "cell_type": "markdown",
   "metadata": {},
   "source": [
    "## 2023년 1월 10일 화요일\n",
    "### BaekJoon - Reverse (Python)  \n",
    "### 문제 : https://www.acmicpc.net/problem/26587\n",
    "### 블로그 : https://somjang.tistory.com/entry/BaekJoon-26587%EB%B2%88-Reverse-Python"
   ]
  },
  {
   "cell_type": "markdown",
   "metadata": {},
   "source": [
    "### Solution"
   ]
  },
  {
   "cell_type": "code",
   "execution_count": null,
   "metadata": {},
   "outputs": [],
   "source": [
    "def reverse(string):\n",
    "    vowels = ['a', 'e', 'i', 'o', 'u']\n",
    "    \n",
    "    reverse_result = []\n",
    "    \n",
    "    reverse_dict = {}\n",
    "    \n",
    "    words = string.split()\n",
    "    \n",
    "    check_vowels = [word[0] for word in enumerate(words) if word[1][0].lower() in vowels]\n",
    "    \n",
    "    reverse_check = check_vowels[::-1]\n",
    "\n",
    "    \n",
    "    for idx, check_idx in enumerate(check_vowels):\n",
    "        reverse_dict[check_idx] = words[reverse_check[idx]]\n",
    "        \n",
    "    for word_idx, word in enumerate(words):\n",
    "        if word_idx in reverse_dict.keys():\n",
    "            reverse_result.append(reverse_dict[word_idx])\n",
    "        else:\n",
    "            reverse_result.append(word)\n",
    "            \n",
    "    return \" \".join(reverse_result)\n",
    "    \n",
    "    \n",
    "if __name__ == \"__main__\":\n",
    "    while True:\n",
    "        try:\n",
    "            string = input()\n",
    "            print(reverse(string=string))\n",
    "        except EOFError:\n",
    "            break"
   ]
  }
 ],
 "metadata": {
  "kernelspec": {
   "display_name": "Python 3 (ipykernel)",
   "language": "python",
   "name": "python3"
  },
  "language_info": {
   "codemirror_mode": {
    "name": "ipython",
    "version": 3
   },
   "file_extension": ".py",
   "mimetype": "text/x-python",
   "name": "python",
   "nbconvert_exporter": "python",
   "pygments_lexer": "ipython3",
   "version": "3.9.13"
  }
 },
 "nbformat": 4,
 "nbformat_minor": 2
}
