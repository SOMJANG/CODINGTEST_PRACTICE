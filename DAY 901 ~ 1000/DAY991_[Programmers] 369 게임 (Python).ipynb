{
 "cells": [
  {
   "cell_type": "markdown",
   "metadata": {},
   "source": [
    "## 2023년 4월 7일 금요일\n",
    "### Programmers - 369게임 (Python)\n",
    "### 문제 : https://school.programmers.co.kr/learn/courses/30/lessons/120891\n",
    "### 블로그 : https://somjang.tistory.com/entry/Programmers-369%EA%B2%8C%EC%9E%84-Python-featChatGPT"
   ]
  },
  {
   "cell_type": "markdown",
   "metadata": {},
   "source": [
    "### Solution - SOMJANG"
   ]
  },
  {
   "cell_type": "code",
   "execution_count": null,
   "metadata": {},
   "outputs": [],
   "source": [
    "def solution(order):\n",
    "    return len([num for num in list(str(order)) if int(num) in {3, 6, 9}])"
   ]
  },
  {
   "cell_type": "markdown",
   "metadata": {},
   "source": [
    "### Solution - ChatGPT"
   ]
  },
  {
   "cell_type": "code",
   "execution_count": null,
   "metadata": {},
   "outputs": [],
   "source": [
    "def solution(order):\n",
    "    clap_count = 0\n",
    "    for digit in str(order):\n",
    "        if digit in ['3', '6', '9']:\n",
    "            clap_count += 1\n",
    "    return clap_count"
   ]
  }
 ],
 "metadata": {
  "kernelspec": {
   "display_name": "Python 3 (ipykernel)",
   "language": "python",
   "name": "python3"
  },
  "language_info": {
   "codemirror_mode": {
    "name": "ipython",
    "version": 3
   },
   "file_extension": ".py",
   "mimetype": "text/x-python",
   "name": "python",
   "nbconvert_exporter": "python",
   "pygments_lexer": "ipython3",
   "version": "3.9.13"
  }
 },
 "nbformat": 4,
 "nbformat_minor": 2
}
