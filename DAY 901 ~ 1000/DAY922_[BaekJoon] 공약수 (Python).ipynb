{
 "cells": [
  {
   "cell_type": "markdown",
   "metadata": {},
   "source": [
    "## 2023년 1월 14일 토요일\n",
    "### BaekJoon - 공약수 (Python)  \n",
    "### 문제 : https://www.acmicpc.net/problem/5618\n",
    "### 블로그 : https://somjang.tistory.com/entry/BaekJoon-5618%EB%B2%88-%EA%B3%B5%EC%95%BD%EC%88%98-Python"
   ]
  },
  {
   "cell_type": "markdown",
   "metadata": {},
   "source": [
    "### Solution"
   ]
  },
  {
   "cell_type": "code",
   "execution_count": null,
   "metadata": {},
   "outputs": [],
   "source": [
    "def GCD(a, b):\n",
    "    mod = a%b\n",
    "    while mod > 0:\n",
    "        a = b\n",
    "        b = mod\n",
    "        mod = a%b\n",
    "    return b\n",
    "\n",
    "\n",
    "def find_a_factor(N):\n",
    "    factor_list = []\n",
    "    cnt = 0\n",
    "    \n",
    "    for num in range(1, (N // 2) + 1):\n",
    "        if N % num == 0:\n",
    "            factor_list.append(num)\n",
    "            \n",
    "    factor_list.append(N)\n",
    "    return sorted(factor_list)\n",
    "\n",
    "\n",
    "def get_two_number(number_list):\n",
    "    num1, num2 = number_list[0], number_list[1]\n",
    "    \n",
    "    if len(number_list) == 3:\n",
    "        num1 = GCD(a=number_list[0], b=number_list[1])\n",
    "        num2 = GCD(a=number_list[1], b=number_list[2])\n",
    "        \n",
    "    return [num1, num2]\n",
    "\n",
    "\n",
    "def n_gcd(number_list):\n",
    "    number_list = get_two_number(number_list=number_list)\n",
    "    gcd = GCD(a=number_list[0], b=number_list[1])\n",
    "    \n",
    "    return find_a_factor(N=gcd)\n",
    "\n",
    "\n",
    "def print_answer(answer):\n",
    "    for ans in answer:\n",
    "        print(ans)\n",
    "\n",
    "\n",
    "if __name__ == \"__main__\":\n",
    "    n = int(input())\n",
    "    number_list = list(map(int, input().split()))\n",
    "    \n",
    "    answer = n_gcd(number_list=number_list)\n",
    "    \n",
    "    print_answer(answer=answer)"
   ]
  }
 ],
 "metadata": {
  "kernelspec": {
   "display_name": "Python 3 (ipykernel)",
   "language": "python",
   "name": "python3"
  },
  "language_info": {
   "codemirror_mode": {
    "name": "ipython",
    "version": 3
   },
   "file_extension": ".py",
   "mimetype": "text/x-python",
   "name": "python",
   "nbconvert_exporter": "python",
   "pygments_lexer": "ipython3",
   "version": "3.9.13"
  }
 },
 "nbformat": 4,
 "nbformat_minor": 2
}
