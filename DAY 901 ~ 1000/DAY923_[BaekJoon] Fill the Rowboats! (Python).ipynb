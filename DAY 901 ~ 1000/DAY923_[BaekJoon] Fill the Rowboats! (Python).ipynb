{
 "cells": [
  {
   "cell_type": "markdown",
   "metadata": {},
   "source": [
    "## 2023년 1월 15일 일요일\n",
    "### BaekJoon - Fill the Rowboats! (Python)  \n",
    "### 문제 : https://www.acmicpc.net/problem/5300\n",
    "### 블로그 : https://somjang.tistory.com/entry/BaekJoon-5300%EB%B2%88-Fill-the-Rowboats-Python"
   ]
  },
  {
   "cell_type": "markdown",
   "metadata": {},
   "source": [
    "### Solution"
   ]
  },
  {
   "cell_type": "code",
   "execution_count": null,
   "metadata": {},
   "outputs": [],
   "source": [
    "def fill_the_rowboats(number):\n",
    "    answer_list = []\n",
    "    \n",
    "    number_list = list(range(1, number + 1))\n",
    "    \n",
    "    slice_num = len(number_list) // 6 if len(number_list) % 6 == 0 else len(number_list) // 6 + 1\n",
    "    \n",
    "    for slice_idx in range(slice_num):\n",
    "        slice_list = list(map(str, number_list[6 * slice_idx: 6 * (slice_idx + 1)]))\n",
    "        \n",
    "        slice_list.append(\"Go!\")\n",
    "        \n",
    "        answer_list.append(\" \".join(slice_list))\n",
    "        \n",
    "    return \" \".join(answer_list)\n",
    "        \n",
    "    \n",
    "if __name__ == \"__main__\":\n",
    "    number = int(input())\n",
    "    \n",
    "    print(fill_the_rowboats(number=number))"
   ]
  }
 ],
 "metadata": {
  "kernelspec": {
   "display_name": "Python 3 (ipykernel)",
   "language": "python",
   "name": "python3"
  },
  "language_info": {
   "codemirror_mode": {
    "name": "ipython",
    "version": 3
   },
   "file_extension": ".py",
   "mimetype": "text/x-python",
   "name": "python",
   "nbconvert_exporter": "python",
   "pygments_lexer": "ipython3",
   "version": "3.9.13"
  }
 },
 "nbformat": 4,
 "nbformat_minor": 2
}
