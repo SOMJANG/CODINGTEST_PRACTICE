{
 "cells": [
  {
   "cell_type": "markdown",
   "metadata": {},
   "source": [
    "## 2023년 1월 17일 화요일\n",
    "### BaekJoon - 다음 소수 (Python)  \n",
    "### 문제 : https://www.acmicpc.net/problem/4134\n",
    "### 블로그 : https://somjang.tistory.com/entry/BaekJoon-4134%EB%B2%88-%EB%8B%A4%EC%9D%8C-%EC%86%8C%EC%88%98-Python"
   ]
  },
  {
   "cell_type": "markdown",
   "metadata": {},
   "source": [
    "### Solution"
   ]
  },
  {
   "cell_type": "code",
   "execution_count": null,
   "metadata": {},
   "outputs": [],
   "source": [
    "import math \n",
    "\n",
    "\n",
    "def is_prime_number(number):\n",
    "    is_prime = True\n",
    "    \n",
    "    if number == 0 or number == 1:\n",
    "        is_prime = False\n",
    "    else:\n",
    "        for num in range(2, int(math.sqrt(number))+1):\n",
    "            if number % num == 0:\n",
    "                is_prime = False\n",
    "                break\n",
    "                \n",
    "    return is_prime\n",
    "\n",
    "\n",
    "\n",
    "def next_primary_number(number): \n",
    "    while True:\n",
    "        is_prime = is_prime_number(number=number)\n",
    "        \n",
    "        if is_prime:\n",
    "            answer = number\n",
    "            break\n",
    "        number += 1\n",
    "            \n",
    "    return answer\n",
    "            \n",
    "\n",
    "if __name__ == \"__main__\":\n",
    "    for _ in range(int(input())):\n",
    "        number = int(input())\n",
    "        print(next_primary_number(number=number))"
   ]
  }
 ],
 "metadata": {
  "kernelspec": {
   "display_name": "Python 3 (ipykernel)",
   "language": "python",
   "name": "python3"
  },
  "language_info": {
   "codemirror_mode": {
    "name": "ipython",
    "version": 3
   },
   "file_extension": ".py",
   "mimetype": "text/x-python",
   "name": "python",
   "nbconvert_exporter": "python",
   "pygments_lexer": "ipython3",
   "version": "3.9.13"
  }
 },
 "nbformat": 4,
 "nbformat_minor": 2
}
