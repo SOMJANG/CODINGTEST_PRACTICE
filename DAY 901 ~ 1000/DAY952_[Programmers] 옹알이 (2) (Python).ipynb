{
 "cells": [
  {
   "cell_type": "markdown",
   "metadata": {},
   "source": [
    "## 2023년 2월 20일 월요일\n",
    "### Programmers - 옹알이 (2) (Python)\n",
    "### 문제 : https://school.programmers.co.kr/learn/courses/30/lessons/133499#\n",
    "### 블로그 : https://somjang.tistory.com/entry/Programmers-%EC%98%B9%EC%95%8C%EC%9D%B4-2-Python"
   ]
  },
  {
   "cell_type": "markdown",
   "metadata": {},
   "source": [
    "### Solution"
   ]
  },
  {
   "cell_type": "code",
   "execution_count": null,
   "metadata": {},
   "outputs": [],
   "source": [
    "def validate_babbling(babble, word_dict):\n",
    "    is_validate = False\n",
    "    \n",
    "    before_use_key = \"\"\n",
    "    \n",
    "    while True:\n",
    "        if len(babble) == 0:\n",
    "            is_validate = True\n",
    "            break\n",
    "            \n",
    "        key = babble[0]\n",
    "        \n",
    "        if key not in word_dict:\n",
    "            break\n",
    "            \n",
    "        if before_use_key == key:\n",
    "            break\n",
    "            \n",
    "        word = word_dict[key] \n",
    "        \n",
    "        if babble[:len(word)] == word:\n",
    "            babble = babble[len(word):]\n",
    "            before_use_key = key\n",
    "        elif babble[:len(word)] != word:\n",
    "            break\n",
    "    \n",
    "    return is_validate\n",
    "        \n",
    "        \n",
    "\n",
    "def solution(babbling):\n",
    "    answer = 0\n",
    "    \n",
    "    pronunciation = [ \"aya\", \"ye\", \"woo\", \"ma\" ]\n",
    "    \n",
    "    word_dict = {\n",
    "        word[0]: word for word in pronunciation\n",
    "    }\n",
    "\n",
    "    for babble in babbling:\n",
    "        if validate_babbling(babble=babble, word_dict=word_dict):\n",
    "            answer += 1\n",
    "    \n",
    "    return answer"
   ]
  }
 ],
 "metadata": {
  "kernelspec": {
   "display_name": "Python 3 (ipykernel)",
   "language": "python",
   "name": "python3"
  },
  "language_info": {
   "codemirror_mode": {
    "name": "ipython",
    "version": 3
   },
   "file_extension": ".py",
   "mimetype": "text/x-python",
   "name": "python",
   "nbconvert_exporter": "python",
   "pygments_lexer": "ipython3",
   "version": "3.9.13"
  }
 },
 "nbformat": 4,
 "nbformat_minor": 2
}
