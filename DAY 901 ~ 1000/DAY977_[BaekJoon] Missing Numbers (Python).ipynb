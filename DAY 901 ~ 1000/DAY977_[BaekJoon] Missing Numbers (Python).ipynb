{
 "cells": [
  {
   "cell_type": "markdown",
   "metadata": {},
   "source": [
    "## 2023년 3월 20일 월요일\n",
    "### BaekJoon - Missing Numbers (Python)\n",
    "### 문제 : https://www.acmicpc.net/problem/17588\n",
    "### 블로그 : https://somjang.tistory.com/entry/BaekJoon-17588%EB%B2%88-Missing-Numbers-Python"
   ]
  },
  {
   "cell_type": "markdown",
   "metadata": {},
   "source": [
    "### Solution"
   ]
  },
  {
   "cell_type": "code",
   "execution_count": null,
   "metadata": {},
   "outputs": [],
   "source": [
    "def missing_numbers(number_list):\n",
    "    max_number = max(number_list)\n",
    "    \n",
    "    range_number_list = set(range(1, max_number + 1))\n",
    "    \n",
    "    missing_number_list = range_number_list - set(number_list)\n",
    "    \n",
    "    return sorted(missing_number_list)\n",
    "\n",
    "\n",
    "def print_answer(answer):\n",
    "    if answer:\n",
    "        for ans in answer:\n",
    "            print(ans)\n",
    "    else:\n",
    "        print(\"good job\")\n",
    "\n",
    "\n",
    "if __name__ == \"__main__\":\n",
    "    number_list = []\n",
    "    \n",
    "    for _ in range(int(input())):\n",
    "        number = int(input())\n",
    "        number_list.append(number)\n",
    "        \n",
    "    print_answer(answer=missing_numbers(number_list=number_list))    "
   ]
  }
 ],
 "metadata": {
  "kernelspec": {
   "display_name": "Python 3 (ipykernel)",
   "language": "python",
   "name": "python3"
  },
  "language_info": {
   "codemirror_mode": {
    "name": "ipython",
    "version": 3
   },
   "file_extension": ".py",
   "mimetype": "text/x-python",
   "name": "python",
   "nbconvert_exporter": "python",
   "pygments_lexer": "ipython3",
   "version": "3.9.13"
  }
 },
 "nbformat": 4,
 "nbformat_minor": 2
}
