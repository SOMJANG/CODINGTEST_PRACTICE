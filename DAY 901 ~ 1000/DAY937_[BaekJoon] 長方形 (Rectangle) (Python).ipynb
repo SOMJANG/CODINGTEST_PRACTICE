{
 "cells": [
  {
   "cell_type": "markdown",
   "metadata": {},
   "source": [
    "## 2023년 2월 1일 수요일\n",
    "### BaekJoon - 長方形 (Rectangle) (Python)  \n",
    "### 문제 : https://www.acmicpc.net/problem/27323\n",
    "### 블로그 : https://somjang.tistory.com/entry/BaekJoon-27323%EB%B2%88-%E9%95%B7%E6%96%B9%E5%BD%A2-Rectangle-Python"
   ]
  },
  {
   "cell_type": "markdown",
   "metadata": {},
   "source": [
    "### Solution"
   ]
  },
  {
   "cell_type": "code",
   "execution_count": null,
   "metadata": {},
   "outputs": [],
   "source": [
    "def rectangle(A, B):\n",
    "    return A * B\n",
    "\n",
    "\n",
    "if __name__ == \"__main__\":\n",
    "    A = int(input())\n",
    "    B = int(input())\n",
    "    print(rectangle(A=A, B=B))"
   ]
  }
 ],
 "metadata": {
  "kernelspec": {
   "display_name": "Python 3 (ipykernel)",
   "language": "python",
   "name": "python3"
  },
  "language_info": {
   "codemirror_mode": {
    "name": "ipython",
    "version": 3
   },
   "file_extension": ".py",
   "mimetype": "text/x-python",
   "name": "python",
   "nbconvert_exporter": "python",
   "pygments_lexer": "ipython3",
   "version": "3.9.13"
  }
 },
 "nbformat": 4,
 "nbformat_minor": 2
}
