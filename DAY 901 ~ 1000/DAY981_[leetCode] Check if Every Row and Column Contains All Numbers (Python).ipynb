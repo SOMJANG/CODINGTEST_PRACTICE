{
 "cells": [
  {
   "cell_type": "markdown",
   "metadata": {},
   "source": [
    "## 2023년 3월 25일 토요일\n",
    "### leetCode - 2133. Check if Every Row and Column Contains All Numbers (Python)\n",
    "### 문제 : https://leetcode.com/problems/check-if-every-row-and-column-contains-all-numbers/description/\n",
    "### 블로그 : https://somjang.tistory.com/entry/leetCode-2133-Check-if-Every-Row-and-Column-Contains-All-Numbers-Python-featChatGPT"
   ]
  },
  {
   "cell_type": "markdown",
   "metadata": {},
   "source": [
    "### Solution - SOMJANG - 1회차"
   ]
  },
  {
   "cell_type": "code",
   "execution_count": null,
   "metadata": {},
   "outputs": [],
   "source": [
    "class Solution:\n",
    "    def checkValid(self, matrix: List[List[int]]) -> bool:\n",
    "        n = len(matrix)\n",
    "\n",
    "        answer = True\n",
    "\n",
    "        for row in range(n):\n",
    "            if len(set(matrix[row])) != n:\n",
    "                answer = False\n",
    "                break\n",
    "            temp = []\n",
    "            for col in range(n):\n",
    "                temp.append(matrix[col][row])\n",
    "                \n",
    "            if len(set(temp)) != n:\n",
    "                answer = False\n",
    "                break\n",
    "\n",
    "        return answer"
   ]
  },
  {
   "cell_type": "markdown",
   "metadata": {},
   "source": [
    "### Solution - SOMJANG - 2회차"
   ]
  },
  {
   "cell_type": "code",
   "execution_count": null,
   "metadata": {},
   "outputs": [],
   "source": [
    "class Solution:\n",
    "    def checkValid(self, matrix: List[List[int]]) -> bool:\n",
    "        n = len(matrix)\n",
    "\n",
    "        answer = True\n",
    "\n",
    "        for row in range(n):\n",
    "            if len(set(matrix[row])) != n:\n",
    "                answer = False\n",
    "                break\n",
    "            temp = set()\n",
    "            for col in range(n):\n",
    "                temp.add(matrix[col][row])\n",
    "                \n",
    "            if len(temp) != n:\n",
    "                answer = False\n",
    "                break\n",
    "\n",
    "        return answer"
   ]
  },
  {
   "cell_type": "markdown",
   "metadata": {},
   "source": [
    "### Solution - ChatGPT - 1"
   ]
  },
  {
   "cell_type": "code",
   "execution_count": null,
   "metadata": {},
   "outputs": [],
   "source": [
    "class Solution:\n",
    "    def checkValid(self, matrix: List[List[int]]) -> bool:\n",
    "        n = len(matrix)\n",
    "        for i in range(n):\n",
    "            row_set = set(matrix[i])\n",
    "            col_set = set(matrix[j][i] for j in range(n))\n",
    "            if len(row_set) != n or len(col_set) != n:\n",
    "                return False\n",
    "            if row_set != col_set:\n",
    "                return False\n",
    "        return True"
   ]
  },
  {
   "cell_type": "markdown",
   "metadata": {},
   "source": [
    "### Solution - ChatGPT - 2"
   ]
  },
  {
   "cell_type": "code",
   "execution_count": null,
   "metadata": {},
   "outputs": [],
   "source": [
    "class Solution:\n",
    "    def checkValid(self, matrix: List[List[int]]) -> bool:\n",
    "        n = len(matrix)\n",
    "        nums = set(range(1, n+1))\n",
    "        for i in range(n):\n",
    "            row_set = set(matrix[i])\n",
    "            col_set = set(matrix[j][i] for j in range(n))\n",
    "            if row_set != nums or col_set != nums:\n",
    "                return False\n",
    "        return True"
   ]
  }
 ],
 "metadata": {
  "kernelspec": {
   "display_name": "Python 3 (ipykernel)",
   "language": "python",
   "name": "python3"
  },
  "language_info": {
   "codemirror_mode": {
    "name": "ipython",
    "version": 3
   },
   "file_extension": ".py",
   "mimetype": "text/x-python",
   "name": "python",
   "nbconvert_exporter": "python",
   "pygments_lexer": "ipython3",
   "version": "3.9.13"
  }
 },
 "nbformat": 4,
 "nbformat_minor": 2
}
