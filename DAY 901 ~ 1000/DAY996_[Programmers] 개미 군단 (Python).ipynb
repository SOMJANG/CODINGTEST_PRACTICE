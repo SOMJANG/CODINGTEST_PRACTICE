{
 "cells": [
  {
   "cell_type": "markdown",
   "metadata": {},
   "source": [
    "## 2023년 4월 12일 수요일\n",
    "### Programmers - 개미 군단 (Python)\n",
    "### 문제 : https://school.programmers.co.kr/learn/courses/30/lessons/120837\n",
    "### 블로그 : https://somjang.tistory.com/entry/Programmers-%EA%B0%9C%EB%AF%B8-%EA%B5%B0%EB%8B%A8-Python"
   ]
  },
  {
   "cell_type": "markdown",
   "metadata": {},
   "source": [
    "### Solution - SOMJANG"
   ]
  },
  {
   "cell_type": "code",
   "execution_count": null,
   "metadata": {},
   "outputs": [],
   "source": [
    "def solution(hp):\n",
    "    ant_list = [5, 3, 1]\n",
    "    \n",
    "    total_ant_num, ant_idx= 0, 0\n",
    "    \n",
    "    while True:\n",
    "        if hp <= 0:\n",
    "            break\n",
    "        \n",
    "        ant_ap = ant_list[ant_idx]\n",
    "        \n",
    "        ant_num = hp // ant_ap\n",
    "        \n",
    "        total_ant_num += ant_num\n",
    "        \n",
    "        hp -= ant_num * ant_ap\n",
    "        \n",
    "        ant_idx += 1\n",
    "    \n",
    "    return total_ant_num"
   ]
  },
  {
   "cell_type": "markdown",
   "metadata": {},
   "source": [
    "### Solution - ChatGPT"
   ]
  },
  {
   "cell_type": "code",
   "execution_count": null,
   "metadata": {},
   "outputs": [],
   "source": [
    "def solution(hp):\n",
    "    # 장군개미의 공격력 a, 병정개미의 공격력 b, 일개미의 공격력 c\n",
    "    a, b, c = 5, 3, 1\n",
    "    \n",
    "    # 개미의 수를 최대한 줄이기 위해 장군개미를 최대한으로 사용\n",
    "    max_a_count = hp // a\n",
    "    min_count = hp\n",
    "    \n",
    "    # 모든 경우의 수 계산\n",
    "    for a_count in range(max_a_count, -1, -1):\n",
    "        for b_count in range((hp - a_count * a) // b, -1, -1):\n",
    "            c_count = hp - (a_count * a) - (b_count * b)\n",
    "            if c_count >= 0 and c_count % c == 0:\n",
    "                total_count = a_count + b_count + (c_count // c)\n",
    "                if total_count < min_count:\n",
    "                    min_count = total_count\n",
    "    \n",
    "    return min_count"
   ]
  }
 ],
 "metadata": {
  "kernelspec": {
   "display_name": "Python 3 (ipykernel)",
   "language": "python",
   "name": "python3"
  },
  "language_info": {
   "codemirror_mode": {
    "name": "ipython",
    "version": 3
   },
   "file_extension": ".py",
   "mimetype": "text/x-python",
   "name": "python",
   "nbconvert_exporter": "python",
   "pygments_lexer": "ipython3",
   "version": "3.9.13"
  }
 },
 "nbformat": 4,
 "nbformat_minor": 2
}
