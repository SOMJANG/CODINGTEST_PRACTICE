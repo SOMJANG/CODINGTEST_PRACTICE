{
 "cells": [
  {
   "cell_type": "markdown",
   "metadata": {},
   "source": [
    "## 2023년 3월 15일 수요일\n",
    "### BaekJoon - 받아올림 (Python)\n",
    "### 문제 : https://www.acmicpc.net/problem/4388\n",
    "### 블로그 : https://somjang.tistory.com/entry/BaekJoon-4388%EB%B2%88-%EB%B0%9B%EC%95%84%EC%98%AC%EB%A6%BC-Python"
   ]
  },
  {
   "cell_type": "markdown",
   "metadata": {},
   "source": [
    "### Solution"
   ]
  },
  {
   "cell_type": "code",
   "execution_count": null,
   "metadata": {},
   "outputs": [],
   "source": [
    "def carry(num1, num2):\n",
    "    carry_count = 0\n",
    "    carry_num = 0\n",
    "    \n",
    "    loop_num = min(len(num1), len(num2))\n",
    "    \n",
    "    if len(num1) < len(num2):\n",
    "        num1, num2 = num2, num1\n",
    "        \n",
    "    \n",
    "    num1, num2 = list(num1[::-1]), list(num2[::-1])\n",
    "    \n",
    "    for idx in range(loop_num):\n",
    "        if int(num1[idx]) + int(num2[idx]) + carry_num > 9:\n",
    "            carry_count += 1\n",
    "            carry_num = 1\n",
    "        else:\n",
    "            carry_num = 0\n",
    "            \n",
    "    for idx in range(loop_num, len(num1)):\n",
    "        if int(num1[idx]) + carry_num > 9:\n",
    "            carry_count += 1\n",
    "            carry_num = 1\n",
    "        else:\n",
    "            break\n",
    "            \n",
    "    return carry_count\n",
    "\n",
    "\n",
    "if __name__ == \"__main__\":\n",
    "    while True:\n",
    "        num1, num2 = input().split()\n",
    "        \n",
    "        if num1 == \"0\" and num2 == \"0\":\n",
    "            break\n",
    "        \n",
    "        print(carry(num1=num1, num2=num2))"
   ]
  }
 ],
 "metadata": {
  "kernelspec": {
   "display_name": "Python 3 (ipykernel)",
   "language": "python",
   "name": "python3"
  },
  "language_info": {
   "codemirror_mode": {
    "name": "ipython",
    "version": 3
   },
   "file_extension": ".py",
   "mimetype": "text/x-python",
   "name": "python",
   "nbconvert_exporter": "python",
   "pygments_lexer": "ipython3",
   "version": "3.9.13"
  }
 },
 "nbformat": 4,
 "nbformat_minor": 2
}
