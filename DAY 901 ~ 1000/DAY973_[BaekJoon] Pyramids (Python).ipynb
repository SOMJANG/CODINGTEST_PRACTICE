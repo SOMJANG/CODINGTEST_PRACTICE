{
 "cells": [
  {
   "cell_type": "markdown",
   "metadata": {},
   "source": [
    "## 2023년 3월 14일 화요일\n",
    "### BaekJoon - Pyramids (Python)\n",
    "### 문제 : https://www.acmicpc.net/problem/5341\n",
    "### 블로그 : https://somjang.tistory.com/entry/BaekJoon-5341%EB%B2%88-Pyramids-Python"
   ]
  },
  {
   "cell_type": "markdown",
   "metadata": {},
   "source": [
    "### Solution"
   ]
  },
  {
   "cell_type": "code",
   "execution_count": null,
   "metadata": {},
   "outputs": [],
   "source": [
    "def Pyramids(number):\n",
    "    return number * (number + 1) // 2\n",
    "\n",
    "if __name__ == \"__main__\":\n",
    "    while True:\n",
    "        number = int(input())\n",
    "        \n",
    "        if number == 0:\n",
    "            break\n",
    "            \n",
    "        print(Pyramids(number=number))"
   ]
  }
 ],
 "metadata": {
  "kernelspec": {
   "display_name": "Python 3 (ipykernel)",
   "language": "python",
   "name": "python3"
  },
  "language_info": {
   "codemirror_mode": {
    "name": "ipython",
    "version": 3
   },
   "file_extension": ".py",
   "mimetype": "text/x-python",
   "name": "python",
   "nbconvert_exporter": "python",
   "pygments_lexer": "ipython3",
   "version": "3.9.13"
  }
 },
 "nbformat": 4,
 "nbformat_minor": 2
}
