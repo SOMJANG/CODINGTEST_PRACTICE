{
 "cells": [
  {
   "cell_type": "markdown",
   "metadata": {},
   "source": [
    "## 2023년 1월 2일 월요일\n",
    "### BaekJoon - 포켓몬 GO (Python)  \n",
    "### 문제 : https://www.acmicpc.net/problem/13717\n",
    "### 블로그 : https://somjang.tistory.com/entry/BaekJoon-13717%EB%B2%88-%ED%8F%AC%EC%BC%93%EB%AA%AC-GO-Python"
   ]
  },
  {
   "cell_type": "markdown",
   "metadata": {},
   "source": [
    "### Solution"
   ]
  },
  {
   "cell_type": "code",
   "execution_count": null,
   "metadata": {},
   "outputs": [],
   "source": [
    "def poketmon_go(poketmon_list):\n",
    "    total_evol_num = 0\n",
    "    \n",
    "    eval_info = []\n",
    "    \n",
    "    for poket_idx, poketmon_info in enumerate(poketmon_list):\n",
    "        poketmon, k, m = poketmon_info[0], poketmon_info[1], poketmon_info[2]\n",
    "        poketmon_evol_num = 0\n",
    "        \n",
    "        while m >= k:\n",
    "            m -= k\n",
    "            m += 2\n",
    "            \n",
    "            poketmon_evol_num += 1\n",
    "        \n",
    "        total_evol_num += poketmon_evol_num\n",
    "        \n",
    "        eval_info.append([poketmon, poketmon_evol_num, poket_idx])\n",
    "    \n",
    "    max_evol_poketmon = sorted(eval_info, key=lambda x: (x[1], -x[2]))[-1][0]\n",
    "    \n",
    "    return total_evol_num, max_evol_poketmon\n",
    "    \n",
    "    \n",
    "if __name__ == \"__main__\":\n",
    "    poketmon_list = []\n",
    "    \n",
    "    for _ in range(int(input())):\n",
    "        poketmon = input()\n",
    "        k, m = map(int, input().split())\n",
    "        \n",
    "        poketmon_list.append((poketmon, k, m))\n",
    "        \n",
    "    answer = poketmon_go(poketmon_list=poketmon_list)\n",
    "    \n",
    "    print(answer[0])\n",
    "    print(answer[1])"
   ]
  }
 ],
 "metadata": {
  "kernelspec": {
   "display_name": "Python 3 (ipykernel)",
   "language": "python",
   "name": "python3"
  },
  "language_info": {
   "codemirror_mode": {
    "name": "ipython",
    "version": 3
   },
   "file_extension": ".py",
   "mimetype": "text/x-python",
   "name": "python",
   "nbconvert_exporter": "python",
   "pygments_lexer": "ipython3",
   "version": "3.9.13"
  }
 },
 "nbformat": 4,
 "nbformat_minor": 2
}
