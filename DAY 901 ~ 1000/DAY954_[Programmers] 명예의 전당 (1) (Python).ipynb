{
 "cells": [
  {
   "cell_type": "markdown",
   "metadata": {},
   "source": [
    "## 2023년 2월 22일 수요일\n",
    "### Programmers - 명예의 전당 (1) (Python)\n",
    "### 문제 : https://school.programmers.co.kr/learn/courses/30/lessons/138477\n",
    "### 블로그 : https://somjang.tistory.com/entry/Programmers-%EB%AA%85%EC%98%88%EC%9D%98-%EC%A0%84%EB%8B%B9-1-Python"
   ]
  },
  {
   "cell_type": "markdown",
   "metadata": {},
   "source": [
    "### Solution"
   ]
  },
  {
   "cell_type": "code",
   "execution_count": null,
   "metadata": {},
   "outputs": [],
   "source": [
    "def solution(k, score_list):\n",
    "    answer = []\n",
    "    \n",
    "    top_k_list = []\n",
    "    \n",
    "    for score in score_list:\n",
    "        top_k_list.append(score)\n",
    "        top_k_list = sorted(top_k_list, reverse=True)[:k]\n",
    "        \n",
    "        answer.append(min(top_k_list))\n",
    "        \n",
    "    return answer"
   ]
  }
 ],
 "metadata": {
  "kernelspec": {
   "display_name": "Python 3 (ipykernel)",
   "language": "python",
   "name": "python3"
  },
  "language_info": {
   "codemirror_mode": {
    "name": "ipython",
    "version": 3
   },
   "file_extension": ".py",
   "mimetype": "text/x-python",
   "name": "python",
   "nbconvert_exporter": "python",
   "pygments_lexer": "ipython3",
   "version": "3.9.13"
  }
 },
 "nbformat": 4,
 "nbformat_minor": 2
}
