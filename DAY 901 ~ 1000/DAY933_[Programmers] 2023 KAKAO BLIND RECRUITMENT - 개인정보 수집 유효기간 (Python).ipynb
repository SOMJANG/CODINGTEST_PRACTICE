{
 "cells": [
  {
   "cell_type": "markdown",
   "metadata": {},
   "source": [
    "## 2023년 1월 25일 수요일\n",
    "### Programmers - 2023 KAKAO BLIND RECRUITMENT - 개인정보 수집 유효기간 (Python)\n",
    "### 문제 : https://school.programmers.co.kr/learn/courses/30/lessons/150370\n",
    "### 블로그 : https://somjang.tistory.com/entry/Programmers-2023-KAKAO-BLIND-RECRUITMENT-%EA%B0%9C%EC%9D%B8%EC%A0%95%EB%B3%B4-%EC%88%98%EC%A7%91-%EC%9C%A0%ED%9A%A8%EA%B8%B0%EA%B0%84-Python"
   ]
  },
  {
   "cell_type": "markdown",
   "metadata": {},
   "source": [
    "### Solution"
   ]
  },
  {
   "cell_type": "code",
   "execution_count": null,
   "metadata": {},
   "outputs": [],
   "source": [
    "from datetime import datetime\n",
    "from dateutil.relativedelta import relativedelta\n",
    "\n",
    "\n",
    "def convert_terms_to_dict(terms):\n",
    "    terms_dict = {}\n",
    "    \n",
    "    for term in terms:\n",
    "        term_name, term_time = term.split()\n",
    "        terms_dict[term_name] = int(term_time)\n",
    "        \n",
    "    return terms_dict\n",
    "\n",
    "def convert_str_to_datetime(date_string):\n",
    "    return datetime.strptime(date_string, \"%Y.%m.%d\")\n",
    "\n",
    "\n",
    "def get_expired_date(collection_date, term_dict, term_type):\n",
    "    return collection_date + relativedelta(months=term_dict[term_type])\n",
    "\n",
    "\n",
    "def check_privacy_term_expired(today, privacy, term_dict):\n",
    "    is_expired = False\n",
    "    \n",
    "    privacy_collection_date, term_type = privacy.split()\n",
    "    \n",
    "    privacy_collection_date = convert_str_to_datetime(\n",
    "        date_string=privacy_collection_date\n",
    "    )\n",
    "    \n",
    "    expired_date = get_expired_date(\n",
    "        collection_date=privacy_collection_date, \n",
    "        term_dict=term_dict, term_type=term_type\n",
    "    )\n",
    "    \n",
    "    if today >= expired_date:\n",
    "        is_expired = True\n",
    "        \n",
    "    return is_expired\n",
    "\n",
    "\n",
    "def solution(today, terms, privacies):\n",
    "    answer = []\n",
    "    \n",
    "    today = convert_str_to_datetime(date_string=today)\n",
    "    \n",
    "    term_dict = convert_terms_to_dict(terms=terms)\n",
    "    \n",
    "    for privacy_idx, privacy in enumerate(privacies, start=1):\n",
    "        is_expired = check_privacy_term_expired(\n",
    "            today=today, privacy=privacy, term_dict=term_dict\n",
    "        )\n",
    "        \n",
    "        if is_expired:\n",
    "            answer.append(privacy_idx)\n",
    "    \n",
    "    return answer"
   ]
  }
 ],
 "metadata": {
  "kernelspec": {
   "display_name": "Python 3 (ipykernel)",
   "language": "python",
   "name": "python3"
  },
  "language_info": {
   "codemirror_mode": {
    "name": "ipython",
    "version": 3
   },
   "file_extension": ".py",
   "mimetype": "text/x-python",
   "name": "python",
   "nbconvert_exporter": "python",
   "pygments_lexer": "ipython3",
   "version": "3.9.13"
  }
 },
 "nbformat": 4,
 "nbformat_minor": 2
}
