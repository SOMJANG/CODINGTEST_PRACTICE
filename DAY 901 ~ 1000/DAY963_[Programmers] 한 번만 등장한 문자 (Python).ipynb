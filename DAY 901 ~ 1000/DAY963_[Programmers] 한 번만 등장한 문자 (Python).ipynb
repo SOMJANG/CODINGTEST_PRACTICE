{
 "cells": [
  {
   "cell_type": "markdown",
   "metadata": {},
   "source": [
    "## 2023년 3월 4일 토요일\n",
    "### Programmers - 한 번만 등장한 문자 (Python)\n",
    "### 문제 : https://school.programmers.co.kr/learn/courses/30/lessons/120896\n",
    "### 블로그 : https://somjang.tistory.com/entry/Programmers-%ED%95%9C-%EB%B2%88%EB%A7%8C-%EB%93%B1%EC%9E%A5%ED%95%9C-%EB%AC%B8%EC%9E%90-Python"
   ]
  },
  {
   "cell_type": "markdown",
   "metadata": {},
   "source": [
    "### Solution"
   ]
  },
  {
   "cell_type": "code",
   "execution_count": null,
   "metadata": {},
   "outputs": [],
   "source": [
    "def solution(s):    \n",
    "    freq_dict = {}\n",
    "    \n",
    "    for word in list(s):\n",
    "        if word not in freq_dict.keys():\n",
    "            freq_dict[word] = 0\n",
    "        freq_dict[word] += 1\n",
    "    one_words = sorted([word[0] for word in freq_dict.items() if word[1] == 1])\n",
    "    \n",
    "    return \"\".join(one_words)"
   ]
  }
 ],
 "metadata": {
  "kernelspec": {
   "display_name": "Python 3 (ipykernel)",
   "language": "python",
   "name": "python3"
  },
  "language_info": {
   "codemirror_mode": {
    "name": "ipython",
    "version": 3
   },
   "file_extension": ".py",
   "mimetype": "text/x-python",
   "name": "python",
   "nbconvert_exporter": "python",
   "pygments_lexer": "ipython3",
   "version": "3.9.13"
  }
 },
 "nbformat": 4,
 "nbformat_minor": 2
}
