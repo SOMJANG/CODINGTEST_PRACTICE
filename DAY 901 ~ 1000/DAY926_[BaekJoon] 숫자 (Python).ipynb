{
 "cells": [
  {
   "cell_type": "markdown",
   "metadata": {},
   "source": [
    "## 2023년 1월 18일 수요일\n",
    "### BaekJoon - 숫자 (Python)  \n",
    "### 문제 : https://www.acmicpc.net/problem/10093\n",
    "### 블로그 : https://somjang.tistory.com/entry/BaekJoon-10093%EB%B2%88-%EC%88%AB%EC%9E%90-Python"
   ]
  },
  {
   "cell_type": "markdown",
   "metadata": {},
   "source": [
    "### Solution"
   ]
  },
  {
   "cell_type": "code",
   "execution_count": null,
   "metadata": {},
   "outputs": [],
   "source": [
    "def number(A, B):\n",
    "    if A > B:\n",
    "        A, B = B, A\n",
    "        \n",
    "    number_list = [str(num) for num in range(A+1, B)]\n",
    "    \n",
    "    return len(number_list), \" \".join(number_list)\n",
    "\n",
    "\n",
    "if __name__ == \"__main__\":\n",
    "    A, B = map(int, input().split())\n",
    "    \n",
    "    number_num, number_list = number(A=A, B=B)\n",
    "    \n",
    "    print(number_num)\n",
    "    if number_list:\n",
    "        print(number_list)"
   ]
  }
 ],
 "metadata": {
  "kernelspec": {
   "display_name": "Python 3 (ipykernel)",
   "language": "python",
   "name": "python3"
  },
  "language_info": {
   "codemirror_mode": {
    "name": "ipython",
    "version": 3
   },
   "file_extension": ".py",
   "mimetype": "text/x-python",
   "name": "python",
   "nbconvert_exporter": "python",
   "pygments_lexer": "ipython3",
   "version": "3.9.13"
  }
 },
 "nbformat": 4,
 "nbformat_minor": 2
}
