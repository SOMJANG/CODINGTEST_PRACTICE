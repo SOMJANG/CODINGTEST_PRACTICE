{
 "cells": [
  {
   "cell_type": "markdown",
   "metadata": {},
   "source": [
    "## 2022년 10월 31일 월요일\n",
    "### BaekJoon - Reverse Text (Python)  \n",
    "### 문제 : https://www.acmicpc.net/problem/6438\n",
    "### 블로그 : https://somjang.tistory.com/entry/BaekJoon-6438%EB%B2%88-Reverse-Text-Python"
   ]
  },
  {
   "cell_type": "markdown",
   "metadata": {},
   "source": [
    "### Solution"
   ]
  },
  {
   "cell_type": "code",
   "execution_count": null,
   "metadata": {},
   "outputs": [],
   "source": [
    "def reverse_text(text):\n",
    "    split_text = text.split()\n",
    "    \n",
    "    split_text = [text[::-1] for text in split_text][::-1]\n",
    "    \n",
    "    return \" \".join(split_text)\n",
    "\n",
    "\n",
    "if __name__ == \"__main__\":\n",
    "    for _ in range(int(input())):\n",
    "        text = input()\n",
    "        print(reverse_text(text=text))"
   ]
  }
 ],
 "metadata": {
  "kernelspec": {
   "display_name": "Python 3 (ipykernel)",
   "language": "python",
   "name": "python3"
  },
  "language_info": {
   "codemirror_mode": {
    "name": "ipython",
    "version": 3
   },
   "file_extension": ".py",
   "mimetype": "text/x-python",
   "name": "python",
   "nbconvert_exporter": "python",
   "pygments_lexer": "ipython3",
   "version": "3.9.13"
  }
 },
 "nbformat": 4,
 "nbformat_minor": 2
}
