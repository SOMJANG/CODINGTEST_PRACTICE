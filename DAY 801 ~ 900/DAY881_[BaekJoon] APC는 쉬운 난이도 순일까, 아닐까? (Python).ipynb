{
 "cells": [
  {
   "cell_type": "markdown",
   "metadata": {},
   "source": [
    "## 2022년 11월 27일 일요일\n",
    "### BaekJoon - APC는 쉬운 난이도 순일까, 아닐까? (Python)  \n",
    "### 문제 : https://www.acmicpc.net/problem/25955\n",
    "### 블로그 : https://somjang.tistory.com/entry/BaekJoon-25955%EB%B2%88-APC%EB%8A%94-%EC%89%AC%EC%9A%B4-%EB%82%9C%EC%9D%B4%EB%8F%84-%EC%88%9C%EC%9D%BC%EA%B9%8C-%EC%95%84%EB%8B%90%EA%B9%8C-Python"
   ]
  },
  {
   "cell_type": "markdown",
   "metadata": {},
   "source": [
    "### Solution"
   ]
  },
  {
   "cell_type": "code",
   "execution_count": null,
   "metadata": {},
   "outputs": [],
   "source": [
    "def APC(difficulty_list):\n",
    "    answer = \"OK\"\n",
    "    difficulty_priority = {\n",
    "        \"B\": 0, \"S\": 1, \"G\": 2, \"P\": 3, \"D\": 4\n",
    "    }\n",
    "    \n",
    "    difficulty_list = [(difficulty[0], int(difficulty[1:])) for difficulty in difficulty_list]\n",
    "    \n",
    "    sorted_list = sorted(difficulty_list, key=lambda x: (difficulty_priority[x[0]], -x[1]))\n",
    "    \n",
    "    if sorted_list != difficulty_list:\n",
    "        diff_list = []\n",
    "        for sort_diff, diff in zip(sorted_list, difficulty_list):\n",
    "            if sort_diff != diff:\n",
    "                diff_list.append(sort_diff)\n",
    "        answer = \"KO\\n\" + \" \".join([\"\".join(list(map(str,difficulty))) for difficulty in diff_list])\n",
    "        \n",
    "    return answer\n",
    "\n",
    "\n",
    "if __name__ == \"__main__\":\n",
    "    N = int(input())\n",
    "    difficulty_list = input().split()\n",
    "    \n",
    "    print(APC(difficulty_list=difficulty_list))"
   ]
  }
 ],
 "metadata": {
  "kernelspec": {
   "display_name": "Python 3 (ipykernel)",
   "language": "python",
   "name": "python3"
  },
  "language_info": {
   "codemirror_mode": {
    "name": "ipython",
    "version": 3
   },
   "file_extension": ".py",
   "mimetype": "text/x-python",
   "name": "python",
   "nbconvert_exporter": "python",
   "pygments_lexer": "ipython3",
   "version": "3.9.13"
  }
 },
 "nbformat": 4,
 "nbformat_minor": 2
}
