{
 "cells": [
  {
   "cell_type": "markdown",
   "metadata": {},
   "source": [
    "## 2022년 10월 30일 일요일\n",
    "### BaekJoon - Morse Code Palindromes (Python)  \n",
    "### 문제 : https://www.acmicpc.net/problem/24754\n",
    "### 블로그 : https://somjang.tistory.com/entry/BaekJoon-24745%EB%B2%88-Morse-Code-Palindromes-Python"
   ]
  },
  {
   "cell_type": "markdown",
   "metadata": {},
   "source": [
    "### Solution"
   ]
  },
  {
   "cell_type": "code",
   "execution_count": null,
   "metadata": {},
   "outputs": [],
   "source": [
    "def convert_string_to_morse_code(string):\n",
    "    morse_code_list = []\n",
    "    \n",
    "    string = string.lower()\n",
    "    \n",
    "    morse_code_dict = {\n",
    "        \"a\": \".-\", \"b\": \"-...\", \"c\": \"-.-.\", \"d\": \"-..\", \"e\": \".\", \"f\": \"..-.\", \n",
    "        \"g\": \"--.\", \"h\": \"....\", \"i\": \"..\", \"j\": \".---\", \"k\": \"-.-\", \"l\": \".-..\",\n",
    "        \"m\": \"--\", \"n\": \"-.\", \"o\": \"---\", \"p\": \".--.\", \"q\": \"--.-\", \"r\": \".-.\",\n",
    "        \"s\": \"...\", \"t\": \"-\", \"u\": \"..-\", \"v\": \"...-\", \"w\": \".--\", \"x\": \"-..-\",\n",
    "        \"y\": \"-.--\", \"z\": \"--..\", \"0\": \"-----\", \"1\": \".----\", \"2\": \"..---\", \"3\": \"...--\",\n",
    "        \"4\": \"....-\", \"5\": \".....\", \"6\": \"-....\", \"7\": \"--...\", \"8\": \"---..\", \"9\": \"----.\"\n",
    "    }\n",
    "    for char in list(string):\n",
    "        if char in morse_code_dict:\n",
    "            morse_code_list.append(morse_code_dict[char])\n",
    "    \n",
    "    return \"\".join(morse_code_list)\n",
    "            \n",
    "\n",
    "def check_is_palindrome(morse_code):\n",
    "    is_palindrome = False\n",
    "    \n",
    "    if morse_code == morse_code[::-1] and len(morse_code) > 0:\n",
    "        is_palindrome = True\n",
    "        \n",
    "    return is_palindrome\n",
    "\n",
    "\n",
    "def make_answer(is_palindrome):\n",
    "    return \"YES\" if is_palindrome else \"NO\"\n",
    "\n",
    "\n",
    "if __name__ == \"__main__\":\n",
    "    string = input()\n",
    "    \n",
    "    morse_code_list = convert_string_to_morse_code(string=string)\n",
    "    \n",
    "    print(morse_code_list)\n",
    "    \n",
    "    is_palindrome = check_is_palindrome(morse_code=morse_code_list)\n",
    "    \n",
    "    print(make_answer(is_palindrome=is_palindrome))"
   ]
  }
 ],
 "metadata": {
  "kernelspec": {
   "display_name": "Python 3 (ipykernel)",
   "language": "python",
   "name": "python3"
  },
  "language_info": {
   "codemirror_mode": {
    "name": "ipython",
    "version": 3
   },
   "file_extension": ".py",
   "mimetype": "text/x-python",
   "name": "python",
   "nbconvert_exporter": "python",
   "pygments_lexer": "ipython3",
   "version": "3.9.13"
  }
 },
 "nbformat": 4,
 "nbformat_minor": 2
}
