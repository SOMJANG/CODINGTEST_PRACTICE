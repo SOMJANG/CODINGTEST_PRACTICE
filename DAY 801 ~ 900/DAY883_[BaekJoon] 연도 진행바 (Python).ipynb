{
 "cells": [
  {
   "cell_type": "markdown",
   "metadata": {},
   "source": [
    "## 2022년 11월 29일 화요일\n",
    "### BaekJoon - 연도 진행바 (Python)  \n",
    "### 문제 : https://www.acmicpc.net/problem/1340\n",
    "### 블로그 : https://somjang.tistory.com/entry/BaekJoon-1340%EB%B2%88-%EC%97%B0%EB%8F%84-%EC%A7%84%ED%96%89%EB%B0%94-Python"
   ]
  },
  {
   "cell_type": "markdown",
   "metadata": {},
   "source": [
    "### Solution - Datetime 사용하지 않는 버전"
   ]
  },
  {
   "cell_type": "code",
   "execution_count": null,
   "metadata": {},
   "outputs": [],
   "source": [
    "def convert_month_str_to_num(month_str):\n",
    "    month_dict = {\n",
    "        \"January\": 1, \"February\": 2, \"March\":3, \"April\": 4, \"May\": 5, \"June\": 6,\n",
    "        \"July\": 7, \"August\": 8, \"September\": 9, \"October\": 10, \"November\": 11, \"December\": 12\n",
    "    }\n",
    "    \n",
    "    return month_dict[month_str]    \n",
    "\n",
    "\n",
    "def check_leap_year_or_not(year):\n",
    "    is_leap_year = False\n",
    "    \n",
    "    if year % 400 == 0 or (year % 4 == 0 and year % 100 != 0):\n",
    "        is_leap_year = True\n",
    "        \n",
    "    return is_leap_year\n",
    "\n",
    "\n",
    "def get_total_day_count(year, month=0, day=0):\n",
    "    month_day_list = [31, 28, 31, 30, 31, 30, 31, 31, 30, 31, 30, 31]\n",
    "    \n",
    "    total_day = sum(month_day_list)\n",
    "    \n",
    "    if month != 0 and day != 0:\n",
    "        total_day = total_day - sum(month_day_list[month-1:]) + day - 1\n",
    "    \n",
    "    if check_leap_year_or_not(year=year) and (month > 2 or month == 0):\n",
    "        total_day += 1\n",
    "        \n",
    "    return total_day\n",
    "\n",
    "\n",
    "def get_total_minute_from_day(total_day, hour, minute):\n",
    "    return total_day * 24 * 60 + hour * 60 + minute\n",
    "\n",
    "\n",
    "def year_progress_bar(year_time):\n",
    "    month, dd, year, hh_mm = year_time.split()\n",
    "    year, day = int(year), int(dd[:-1])\n",
    "    hour, minute = list(map(int, hh_mm.split(\":\")))\n",
    "    \n",
    "    month = convert_month_str_to_num(month_str=month)\n",
    "    \n",
    "    total_year_day = get_total_day_count(year=year)\n",
    "    \n",
    "    total_day = get_total_day_count(year=year, month=month, day=day)\n",
    "    \n",
    "    total_year_minute = get_total_minute_from_day(\n",
    "        total_day=total_year_day, hour=0, minute=0\n",
    "    )\n",
    "    \n",
    "    total_minute = get_total_minute_from_day(\n",
    "        total_day=total_day, hour=hour, minute=minute\n",
    "    )\n",
    "    \n",
    "    return (total_minute / total_year_minute) * 100\n",
    "\n",
    "\n",
    "if __name__ == \"__main__\":\n",
    "    year_time = input()\n",
    "    print(year_progress_bar(year_time=year_time))"
   ]
  },
  {
   "cell_type": "markdown",
   "metadata": {},
   "source": [
    "### Solution - Datetime 사용하는 버전"
   ]
  },
  {
   "cell_type": "code",
   "execution_count": null,
   "metadata": {},
   "outputs": [],
   "source": [
    "from datetime import datetime\n",
    "\n",
    "\n",
    "def convert_month_str_to_num(month_str):\n",
    "    month_dict = {\n",
    "        \"January\": 1, \"February\": 2, \"March\":3, \"April\": 4, \"May\": 5, \"June\": 6,\n",
    "        \"July\": 7, \"August\": 8, \"September\": 9, \"October\": 10, \"November\": 11, \"December\": 12\n",
    "    }\n",
    "    \n",
    "    return month_dict[month_str]    \n",
    "\n",
    "\n",
    "def year_progress_bar(year_time):\n",
    "    month, dd, year, hh_mm = year_time.split()\n",
    "    year, day = int(year), int(dd[:-1])\n",
    "    hour, minute = list(map(int, hh_mm.split(\":\")))\n",
    "    \n",
    "    month = convert_month_str_to_num(month_str=month)\n",
    "    \n",
    "    total_year_datetime = datetime(year=year, month=12, day=31) - datetime(year=year-1, month=12, day=31)\n",
    "    input_year_datetime = datetime(year=year, month=month, day=day, hour=hour, minute=minute) - datetime(year=year, month=1, day=1)\n",
    "    \n",
    "    total_year_minute = total_year_datetime.days * 24 * 60\n",
    "    input_year_minute = input_year_datetime.days * 24 * 60 + input_year_datetime.seconds // 60\n",
    "    \n",
    "    return input_year_minute / total_year_minute * 100\n",
    "\n",
    "\n",
    "if __name__ == \"__main__\":\n",
    "    year_time = input()\n",
    "    print(year_progress_bar(year_time=year_time))"
   ]
  }
 ],
 "metadata": {
  "kernelspec": {
   "display_name": "Python 3 (ipykernel)",
   "language": "python",
   "name": "python3"
  },
  "language_info": {
   "codemirror_mode": {
    "name": "ipython",
    "version": 3
   },
   "file_extension": ".py",
   "mimetype": "text/x-python",
   "name": "python",
   "nbconvert_exporter": "python",
   "pygments_lexer": "ipython3",
   "version": "3.9.13"
  }
 },
 "nbformat": 4,
 "nbformat_minor": 2
}
