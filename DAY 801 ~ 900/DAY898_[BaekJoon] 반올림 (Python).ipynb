{
 "cells": [
  {
   "cell_type": "markdown",
   "metadata": {},
   "source": [
    "## 2022년 12월 14일 수요일\n",
    "### BaekJoon - 반올림 (Python)  \n",
    "### 문제 : https://www.acmicpc.net/problem/2033\n",
    "### 블로그 : https://somjang.tistory.com/entry/BaekJoon-2033%EB%B2%88-%EB%B0%98%EC%98%AC%EB%A6%BC-Python"
   ]
  },
  {
   "cell_type": "markdown",
   "metadata": {},
   "source": [
    "### Solution"
   ]
  },
  {
   "cell_type": "code",
   "execution_count": null,
   "metadata": {},
   "outputs": [],
   "source": [
    "def baekjoon_round(N):\n",
    "    compare_num = 10\n",
    "    \n",
    "    while N > compare_num:\n",
    "        if N % compare_num >= compare_num // 2:\n",
    "            N += compare_num\n",
    "        N -= (N % compare_num)\n",
    "        compare_num *= 10\n",
    "        \n",
    "    return N\n",
    "\n",
    "if __name__ == \"__main__\":\n",
    "    N = int(input())\n",
    "    print(baekjoon_round(N=N))"
   ]
  }
 ],
 "metadata": {
  "kernelspec": {
   "display_name": "Python 3 (ipykernel)",
   "language": "python",
   "name": "python3"
  },
  "language_info": {
   "codemirror_mode": {
    "name": "ipython",
    "version": 3
   },
   "file_extension": ".py",
   "mimetype": "text/x-python",
   "name": "python",
   "nbconvert_exporter": "python",
   "pygments_lexer": "ipython3",
   "version": "3.9.13"
  }
 },
 "nbformat": 4,
 "nbformat_minor": 2
}
