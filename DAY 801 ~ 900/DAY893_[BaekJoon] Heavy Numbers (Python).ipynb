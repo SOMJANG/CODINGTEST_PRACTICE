{
 "cells": [
  {
   "cell_type": "markdown",
   "metadata": {},
   "source": [
    "## 2022년 12월 9일 금요일\n",
    "### BaekJoon - Heavy Numbers (Python)  \n",
    "### 문제 : https://www.acmicpc.net/problem/25814\n",
    "### 블로그 : https://somjang.tistory.com/entry/BaekJoon-25814%EB%B2%88-Heavy-Numbers-Python"
   ]
  },
  {
   "cell_type": "markdown",
   "metadata": {},
   "source": [
    "### Solution"
   ]
  },
  {
   "cell_type": "code",
   "execution_count": null,
   "metadata": {},
   "outputs": [],
   "source": [
    "def calculate_weight(num):\n",
    "    weight = len(str(num)) * sum(list(map(int, list(str(num)))))\n",
    "    \n",
    "    return weight\n",
    "\n",
    "def heavy_numbers(num1, num2):\n",
    "    answer = 0\n",
    "    \n",
    "    weight_1 = calculate_weight(num=num1)\n",
    "    weight_2 = calculate_weight(num=num2)\n",
    "    \n",
    "    if weight_1 > weight_2:\n",
    "        answer = 1\n",
    "    elif weight_1 < weight_2:\n",
    "        answer = 2\n",
    "        \n",
    "    return answer\n",
    "\n",
    "\n",
    "if __name__ == \"__main__\":\n",
    "    num1, num2 = map(int, input().split())\n",
    "    \n",
    "    print(heavy_numbers(num1=num1, num2=num2))"
   ]
  }
 ],
 "metadata": {
  "kernelspec": {
   "display_name": "Python 3 (ipykernel)",
   "language": "python",
   "name": "python3"
  },
  "language_info": {
   "codemirror_mode": {
    "name": "ipython",
    "version": 3
   },
   "file_extension": ".py",
   "mimetype": "text/x-python",
   "name": "python",
   "nbconvert_exporter": "python",
   "pygments_lexer": "ipython3",
   "version": "3.9.13"
  }
 },
 "nbformat": 4,
 "nbformat_minor": 2
}
