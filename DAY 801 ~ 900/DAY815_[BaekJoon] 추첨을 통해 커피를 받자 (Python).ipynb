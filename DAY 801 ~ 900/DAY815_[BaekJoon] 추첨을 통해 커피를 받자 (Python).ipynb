{
 "cells": [
  {
   "cell_type": "markdown",
   "metadata": {},
   "source": [
    "## 2022년 9월 19일 월요일\n",
    "### BaekJoon - 추첨을 통해 커피를 받자 (Python)  \n",
    "### 문제 : https://www.acmicpc.net/problem/21866\n",
    "### 블로그 : https://somjang.tistory.com/entry/BaekJoon-21866%EB%B2%88-%EC%B6%94%EC%B2%A8%EC%9D%84-%ED%86%B5%ED%95%B4-%EC%BB%A4%ED%94%BC%EB%A5%BC-%EB%B0%9B%EC%9E%90-Python"
   ]
  },
  {
   "cell_type": "markdown",
   "metadata": {},
   "source": [
    "### Solution"
   ]
  },
  {
   "cell_type": "code",
   "execution_count": null,
   "metadata": {},
   "outputs": [],
   "source": [
    "def check_changed_score_exists(score_list, right_score_list):\n",
    "    is_exist = False\n",
    "    for score, right_score in zip(score_list, right_score_list):\n",
    "        if score > right_score:\n",
    "            is_exist = True\n",
    "            \n",
    "    return is_exist\n",
    "            \n",
    "\n",
    "def is_drawing_candidate(score_list):\n",
    "    is_draw = False\n",
    "    \n",
    "    if sum(score_list) > 99:\n",
    "        is_draw = True\n",
    "        \n",
    "    return is_draw\n",
    "\n",
    "\n",
    "def coffee_lottery(score_list):\n",
    "    answer = \"none\"\n",
    "    right_score_list = [100, 100, 200, 200, 300, 300, 400, 400, 500]\n",
    "    \n",
    "    is_changed_score_exist = check_changed_score_exists(\n",
    "        score_list=score_list, right_score_list=right_score_list\n",
    "    )\n",
    "    \n",
    "    is_draw = is_drawing_candidate(\n",
    "        score_list=score_list\n",
    "    )\n",
    "    \n",
    "    if is_changed_score_exist:\n",
    "        answer = \"hacker\"\n",
    "    elif is_draw:\n",
    "        answer = \"draw\"\n",
    "        \n",
    "    return answer\n",
    "\n",
    "\n",
    "if __name__ == \"__main__\":\n",
    "    score_list = list(map(int, input().split()))\n",
    "    \n",
    "    print(coffee_lottery(score_list=score_list))"
   ]
  }
 ],
 "metadata": {
  "kernelspec": {
   "display_name": "Python 3",
   "language": "python",
   "name": "python3"
  },
  "language_info": {
   "codemirror_mode": {
    "name": "ipython",
    "version": 3
   },
   "file_extension": ".py",
   "mimetype": "text/x-python",
   "name": "python",
   "nbconvert_exporter": "python",
   "pygments_lexer": "ipython3",
   "version": "3.7.3"
  }
 },
 "nbformat": 4,
 "nbformat_minor": 2
}
