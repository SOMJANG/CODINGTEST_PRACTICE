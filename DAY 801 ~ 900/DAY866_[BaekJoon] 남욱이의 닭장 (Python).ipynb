{
 "cells": [
  {
   "cell_type": "markdown",
   "metadata": {},
   "source": [
    "## 2022년 11월 11일 금요일\n",
    "### BaekJoon - 남욱이의 닭장 (Python)  \n",
    "### 문제 : https://www.acmicpc.net/problem/11006\n",
    "### 블로그 : https://somjang.tistory.com/entry/BaekJoon-11006%EB%B2%88-%EB%82%A8%EC%9A%B1%EC%9D%B4%EC%9D%98-%EB%8B%AD%EC%9E%A5-Python"
   ]
  },
  {
   "cell_type": "markdown",
   "metadata": {},
   "source": [
    "### Solution"
   ]
  },
  {
   "cell_type": "code",
   "execution_count": null,
   "metadata": {},
   "outputs": [],
   "source": [
    "def namwooks_chicken_coop(N, M):\n",
    "    total_leg = M * 2\n",
    "    \n",
    "    lost_leg_chicken = total_leg - N\n",
    "    \n",
    "    U = lost_leg_chicken\n",
    "    T = M - U\n",
    "    \n",
    "    return f\"{U} {T}\"\n",
    "\n",
    "\n",
    "if __name__ == \"__main__\":\n",
    "    T = int(input())\n",
    "    \n",
    "    for _ in range(T):\n",
    "        N, M = map(int, input().split())\n",
    "        \n",
    "        print(namwooks_chicken_coop(N=N, M=M))"
   ]
  }
 ],
 "metadata": {
  "kernelspec": {
   "display_name": "Python 3 (ipykernel)",
   "language": "python",
   "name": "python3"
  },
  "language_info": {
   "codemirror_mode": {
    "name": "ipython",
    "version": 3
   },
   "file_extension": ".py",
   "mimetype": "text/x-python",
   "name": "python",
   "nbconvert_exporter": "python",
   "pygments_lexer": "ipython3",
   "version": "3.9.13"
  }
 },
 "nbformat": 4,
 "nbformat_minor": 2
}
