{
 "cells": [
  {
   "cell_type": "markdown",
   "metadata": {},
   "source": [
    "## 2022년 9월 30일 금요일\n",
    "### BaekJoon - Hello Judge (Python)  \n",
    "### 문제 : https://www.acmicpc.net/problem/9316\n",
    "### 블로그 : https://somjang.tistory.com/entry/BaekJoon-9316%EB%B2%88-Hello-Judge-Python"
   ]
  },
  {
   "cell_type": "markdown",
   "metadata": {},
   "source": [
    "### Solution"
   ]
  },
  {
   "cell_type": "code",
   "execution_count": null,
   "metadata": {},
   "outputs": [],
   "source": [
    "def hello_judge(N):\n",
    "    for idx in range(1, N+1):\n",
    "        print(f\"Hello World, Judge {idx}!\")\n",
    "        \n",
    "        \n",
    "if __name__ == \"__main__\":\n",
    "    N = int(input())\n",
    "    hello_judge(N=N)"
   ]
  }
 ],
 "metadata": {
  "kernelspec": {
   "display_name": "Python 3",
   "language": "python",
   "name": "python3"
  },
  "language_info": {
   "codemirror_mode": {
    "name": "ipython",
    "version": 3
   },
   "file_extension": ".py",
   "mimetype": "text/x-python",
   "name": "python",
   "nbconvert_exporter": "python",
   "pygments_lexer": "ipython3",
   "version": "3.7.3"
  }
 },
 "nbformat": 4,
 "nbformat_minor": 2
}
