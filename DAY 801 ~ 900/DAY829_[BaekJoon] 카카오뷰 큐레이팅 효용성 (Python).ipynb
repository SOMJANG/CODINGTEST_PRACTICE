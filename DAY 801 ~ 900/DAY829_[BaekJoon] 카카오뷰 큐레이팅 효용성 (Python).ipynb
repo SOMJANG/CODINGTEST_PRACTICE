{
 "cells": [
  {
   "cell_type": "markdown",
   "metadata": {},
   "source": [
    "## 2022년 10월 4일 화요일\n",
    "### BaekJoon - 카카오뷰 큐레이팅 효용성 (Python)  \n",
    "### 문제 : https://www.acmicpc.net/problem/24544\n",
    "### 블로그 : https://somjang.tistory.com/entry/BaekJoon-24544%EB%B2%88-%EC%B9%B4%EC%B9%B4%EC%98%A4%EB%B7%B0-%ED%81%90%EB%A0%88%EC%9D%B4%ED%8C%85-%ED%9A%A8%EC%9A%A9%EC%84%B1-%EB%B6%84%EC%84%9D-Python"
   ]
  },
  {
   "cell_type": "markdown",
   "metadata": {},
   "source": [
    "### Solution"
   ]
  },
  {
   "cell_type": "code",
   "execution_count": null,
   "metadata": {},
   "outputs": [],
   "source": [
    "def kakao_view_curating_check(interest_list, register_list):\n",
    "    total_interest, not_register_interest = 0, 0\n",
    "    \n",
    "    for interest, register in zip(interest_list, register_list):\n",
    "        total_interest += interest\n",
    "        \n",
    "        if not register:\n",
    "            not_register_interest += interest\n",
    "            \n",
    "    return total_interest, not_register_interest\n",
    "        \n",
    "    \n",
    "if __name__ == \"__main__\":\n",
    "    N = int(input())\n",
    "    interest_list = list(map(int, input().split()))\n",
    "    register_list = list(map(int, input().split()))\n",
    "    \n",
    "    total_interest, not_register_interest = kakao_view_curating_check(\n",
    "        interest_list=interest_list, register_list=register_list\n",
    "    )\n",
    "    \n",
    "    print(total_interest)\n",
    "    print(not_register_interest)"
   ]
  }
 ],
 "metadata": {
  "kernelspec": {
   "display_name": "Python 3",
   "language": "python",
   "name": "python3"
  },
  "language_info": {
   "codemirror_mode": {
    "name": "ipython",
    "version": 3
   },
   "file_extension": ".py",
   "mimetype": "text/x-python",
   "name": "python",
   "nbconvert_exporter": "python",
   "pygments_lexer": "ipython3",
   "version": "3.7.3"
  }
 },
 "nbformat": 4,
 "nbformat_minor": 2
}
