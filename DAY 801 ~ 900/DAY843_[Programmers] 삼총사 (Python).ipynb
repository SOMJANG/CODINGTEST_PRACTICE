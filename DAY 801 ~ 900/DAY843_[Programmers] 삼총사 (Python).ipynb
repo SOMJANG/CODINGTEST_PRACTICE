{
 "cells": [
  {
   "cell_type": "markdown",
   "metadata": {},
   "source": [
    "## 2022년 10월 18일 화요일\n",
    "### Pragrammers - 삼총사 (Python)  \n",
    "### 문제 : https://school.programmers.co.kr/learn/courses/30/lessons/131705?language=python3\n",
    "### 블로그 : https://somjang.tistory.com/entry/Programmers-%EC%82%BC%EC%B4%9D%EC%82%AC-Python"
   ]
  },
  {
   "cell_type": "markdown",
   "metadata": {},
   "source": [
    "### Solution"
   ]
  },
  {
   "cell_type": "code",
   "execution_count": null,
   "metadata": {},
   "outputs": [],
   "source": [
    "from itertools import combinations\n",
    "\n",
    "def solution(number):    \n",
    "    num_combinations = [sum(comb) for comb in list(combinations(number, 3)) if sum(comb) == 0]\n",
    "    \n",
    "    return len(num_combinations)"
   ]
  }
 ],
 "metadata": {
  "kernelspec": {
   "display_name": "Python 3",
   "language": "python",
   "name": "python3"
  },
  "language_info": {
   "codemirror_mode": {
    "name": "ipython",
    "version": 3
   },
   "file_extension": ".py",
   "mimetype": "text/x-python",
   "name": "python",
   "nbconvert_exporter": "python",
   "pygments_lexer": "ipython3",
   "version": "3.7.3"
  }
 },
 "nbformat": 4,
 "nbformat_minor": 2
}
