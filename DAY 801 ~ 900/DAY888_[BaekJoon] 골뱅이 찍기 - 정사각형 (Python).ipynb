{
 "cells": [
  {
   "cell_type": "markdown",
   "metadata": {},
   "source": [
    "## 2022년 12월 4일 일요일\n",
    "### BaekJoon - 골뱅이 찍기 - 정사각형 (Python)  \n",
    "### 문제 : https://www.acmicpc.net/problem/23794\n",
    "### 블로그 : https://somjang.tistory.com/entry/BaekJoon-23794%EB%B2%88-%EA%B3%A8%EB%B1%85%EC%9D%B4-%EC%B0%8D%EA%B8%B0-%EC%A0%95%EC%82%AC%EA%B0%81%ED%98%95-Python"
   ]
  },
  {
   "cell_type": "markdown",
   "metadata": {},
   "source": [
    "### Solution"
   ]
  },
  {
   "cell_type": "code",
   "execution_count": null,
   "metadata": {},
   "outputs": [],
   "source": [
    "def golbange_print_rectangle(N):\n",
    "    answer = ['' for _ in range(N+2)]\n",
    "    answer[0] = answer[-1] = ( N + 2 ) * \"@\"\n",
    "    \n",
    "    for idx in range(1, N+1):\n",
    "        answer[idx] = f\"@{' '* N}@\"\n",
    "        \n",
    "    return \"\\n\".join(answer)\n",
    "\n",
    "\n",
    "if __name__ == \"__main__\":\n",
    "    N = int(input())\n",
    "    \n",
    "    print(golbange_print_rectangle(N=N))"
   ]
  }
 ],
 "metadata": {
  "kernelspec": {
   "display_name": "Python 3 (ipykernel)",
   "language": "python",
   "name": "python3"
  },
  "language_info": {
   "codemirror_mode": {
    "name": "ipython",
    "version": 3
   },
   "file_extension": ".py",
   "mimetype": "text/x-python",
   "name": "python",
   "nbconvert_exporter": "python",
   "pygments_lexer": "ipython3",
   "version": "3.9.13"
  }
 },
 "nbformat": 4,
 "nbformat_minor": 2
}
