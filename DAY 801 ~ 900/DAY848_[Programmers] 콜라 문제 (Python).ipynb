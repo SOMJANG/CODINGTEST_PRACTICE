{
 "cells": [
  {
   "cell_type": "markdown",
   "metadata": {},
   "source": [
    "## 2022년 10월 24일 월요일\n",
    "### Pragrammers - 콜라 문제 (Python)  \n",
    "### 문제 : https://school.programmers.co.kr/learn/courses/30/lessons/132267?language=python3\n",
    "### 블로그 : https://somjang.tistory.com/entry/Programmers-%EC%BD%9C%EB%9D%BC-%EB%AC%B8%EC%A0%9C-Python"
   ]
  },
  {
   "cell_type": "markdown",
   "metadata": {},
   "source": [
    "### Solution"
   ]
  },
  {
   "cell_type": "code",
   "execution_count": null,
   "metadata": {},
   "outputs": [],
   "source": [
    "def solution(a, b, n):\n",
    "    answer = 0\n",
    "    \n",
    "    while True:\n",
    "        if n < a:\n",
    "            break\n",
    "        submit_bottle = n // a * a\n",
    "        return_bottle = n // a * b\n",
    "        \n",
    "        extra_bottle = n - submit_bottle\n",
    "        \n",
    "        n = extra_bottle + return_bottle\n",
    "        \n",
    "        answer += return_bottle\n",
    "    \n",
    "    return answer"
   ]
  }
 ],
 "metadata": {
  "kernelspec": {
   "display_name": "Python 3 (ipykernel)",
   "language": "python",
   "name": "python3"
  },
  "language_info": {
   "codemirror_mode": {
    "name": "ipython",
    "version": 3
   },
   "file_extension": ".py",
   "mimetype": "text/x-python",
   "name": "python",
   "nbconvert_exporter": "python",
   "pygments_lexer": "ipython3",
   "version": "3.9.13"
  }
 },
 "nbformat": 4,
 "nbformat_minor": 2
}
