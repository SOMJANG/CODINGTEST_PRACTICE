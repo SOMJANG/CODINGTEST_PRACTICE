{
 "cells": [
  {
   "cell_type": "markdown",
   "metadata": {},
   "source": [
    "## 2022년 11월 02일 수요일\n",
    "### BaekJoon - 試験 (Exam) (Python)  \n",
    "### 문제 : https://www.acmicpc.net/problem/18411\n",
    "### 블로그 : https://somjang.tistory.com/entry/BaekJoon-18411%EB%B2%88-%E8%A9%A6%E9%A8%93-Exam-Python"
   ]
  },
  {
   "cell_type": "markdown",
   "metadata": {},
   "source": [
    "### Solution"
   ]
  },
  {
   "cell_type": "code",
   "execution_count": null,
   "metadata": {},
   "outputs": [],
   "source": [
    "def exam(A, B, C):\n",
    "    return sum(sorted([A, B, C], reverse=True)[:2])\n",
    "\n",
    "\n",
    "if __name__ == \"__main__\":\n",
    "    A, B, C = map(int, input().split())\n",
    "    \n",
    "    print(exam(A=A, B=B, C=C))"
   ]
  }
 ],
 "metadata": {
  "kernelspec": {
   "display_name": "Python 3 (ipykernel)",
   "language": "python",
   "name": "python3"
  },
  "language_info": {
   "codemirror_mode": {
    "name": "ipython",
    "version": 3
   },
   "file_extension": ".py",
   "mimetype": "text/x-python",
   "name": "python",
   "nbconvert_exporter": "python",
   "pygments_lexer": "ipython3",
   "version": "3.9.13"
  }
 },
 "nbformat": 4,
 "nbformat_minor": 2
}
