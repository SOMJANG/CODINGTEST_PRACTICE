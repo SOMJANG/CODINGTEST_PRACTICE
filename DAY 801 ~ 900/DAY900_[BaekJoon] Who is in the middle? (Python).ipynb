{
 "cells": [
  {
   "cell_type": "markdown",
   "metadata": {},
   "source": [
    "## 2022년 12월 16일 금요일\n",
    "### BaekJoon - Who is in the middle? (Python)  \n",
    "### 문제 : https://www.acmicpc.net/problem/6840\n",
    "### 블로그 : https://somjang.tistory.com/entry/BaekJoon-6840%EB%B2%88-Who-is-in-the-middle-Python"
   ]
  },
  {
   "cell_type": "markdown",
   "metadata": {},
   "source": [
    "### Solution"
   ]
  },
  {
   "cell_type": "code",
   "execution_count": null,
   "metadata": {},
   "outputs": [],
   "source": [
    "def who_is_in_the_middle(bear_bowl_list):\n",
    "    return sorted(bear_bowl_list)[1]\n",
    "\n",
    "\n",
    "if __name__ == \"__main__\":\n",
    "    bear_bowl_list = []\n",
    "    \n",
    "    for _ in range(3):\n",
    "        bowl = int(input())\n",
    "        \n",
    "        bear_bowl_list.append(bowl)\n",
    "        \n",
    "    print(who_is_in_the_middle(bear_bowl_list=bear_bowl_list))"
   ]
  }
 ],
 "metadata": {
  "kernelspec": {
   "display_name": "Python 3 (ipykernel)",
   "language": "python",
   "name": "python3"
  },
  "language_info": {
   "codemirror_mode": {
    "name": "ipython",
    "version": 3
   },
   "file_extension": ".py",
   "mimetype": "text/x-python",
   "name": "python",
   "nbconvert_exporter": "python",
   "pygments_lexer": "ipython3",
   "version": "3.9.13"
  }
 },
 "nbformat": 4,
 "nbformat_minor": 2
}
