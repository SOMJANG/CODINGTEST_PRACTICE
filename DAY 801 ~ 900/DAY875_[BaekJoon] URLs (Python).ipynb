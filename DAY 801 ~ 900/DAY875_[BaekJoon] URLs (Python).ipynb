{
 "cells": [
  {
   "cell_type": "markdown",
   "metadata": {},
   "source": [
    "## 2022년 11월 20일 일요일\n",
    "### BaekJoon - URLs (Python)  \n",
    "### 문제 : https://www.acmicpc.net/problem/6324\n",
    "### 블로그 : https://somjang.tistory.com/entry/BaekJoon-6324%EB%B2%88-URLs-Python"
   ]
  },
  {
   "cell_type": "markdown",
   "metadata": {},
   "source": [
    "### Solution"
   ]
  },
  {
   "cell_type": "code",
   "execution_count": null,
   "metadata": {},
   "outputs": [],
   "source": [
    "def get_url_infos(url):\n",
    "    protocol = url.split(\"://\")[0]\n",
    "    \n",
    "    extra = \"://\".join(url.split(\"://\")[1:])\n",
    "    \n",
    "    extra_split = extra.split(\"/\")\n",
    "    \n",
    "    host_port = extra_split[0].split(\":\")\n",
    "    \n",
    "    if len(host_port) > 1:\n",
    "        host, port = host_port[0], host_port[1]\n",
    "    else:\n",
    "        host, port = host_port[0], \"<default>\"\n",
    "        \n",
    "    if len(extra_split) > 1:\n",
    "        path = \"/\".join(extra_split[1:])\n",
    "    else:\n",
    "        path = \"<default>\"\n",
    "    \n",
    "    return protocol, host, port, path\n",
    "\n",
    "def urls(url_list):\n",
    "    url_info_dict = {}\n",
    "    \n",
    "    for url_idx, url in enumerate(url_list, start=1):\n",
    "        protocol, host, port, path = get_url_infos(\n",
    "            url=url\n",
    "        )\n",
    "        \n",
    "        url_info_dict[f\"URL #{url_idx}\"] = {\n",
    "            \"Protocol\": protocol,\n",
    "            \"Host\": host,\n",
    "            \"Port\": port,\n",
    "            \"Path\": path\n",
    "        }\n",
    "        \n",
    "    return url_info_dict\n",
    "        \n",
    "\n",
    "def make_answer_string(url_info_dict):\n",
    "    answer = []\n",
    "    for url_info_key in url_info_dict.keys():\n",
    "        url_string = [url_info_key]\n",
    "        url_info = url_info_dict[url_info_key]\n",
    "        \n",
    "        for url_item in url_info.items():\n",
    "            url_str = f\"{url_item[0].ljust(9, ' ')}= {url_item[1]}\"\n",
    "            \n",
    "            url_string.append(url_str)\n",
    "            \n",
    "        answer.append(\"\\n\".join(url_string))\n",
    "        \n",
    "    return \"\\n\\n\".join(answer)\n",
    "\n",
    "\n",
    "if __name__ == \"__main__\":\n",
    "    url_list = []\n",
    "    \n",
    "    for _ in range(int(input())):\n",
    "        url = input()\n",
    "        url_list.append(url)\n",
    "        \n",
    "    url_info_dict = urls(url_list=url_list)\n",
    "    print(make_answer_string(url_info_dict=url_info_dict))"
   ]
  }
 ],
 "metadata": {
  "kernelspec": {
   "display_name": "Python 3 (ipykernel)",
   "language": "python",
   "name": "python3"
  },
  "language_info": {
   "codemirror_mode": {
    "name": "ipython",
    "version": 3
   },
   "file_extension": ".py",
   "mimetype": "text/x-python",
   "name": "python",
   "nbconvert_exporter": "python",
   "pygments_lexer": "ipython3",
   "version": "3.9.13"
  }
 },
 "nbformat": 4,
 "nbformat_minor": 2
}
