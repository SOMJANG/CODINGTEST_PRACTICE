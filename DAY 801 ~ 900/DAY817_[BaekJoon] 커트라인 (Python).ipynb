{
 "cells": [
  {
   "cell_type": "markdown",
   "metadata": {},
   "source": [
    "## 2022년 9월 21일 수요일\n",
    "### BaekJoon - 커트라인 (Python)  \n",
    "### 문제 : https://www.acmicpc.net/problem/25305\n",
    "### 블로그 : https://somjang.tistory.com/entry/BaekJoon-25305%EB%B2%88-%EC%BB%A4%ED%8A%B8%EB%9D%BC%EC%9D%B8-Python"
   ]
  },
  {
   "cell_type": "markdown",
   "metadata": {},
   "source": [
    "### Solution"
   ]
  },
  {
   "cell_type": "code",
   "execution_count": null,
   "metadata": {},
   "outputs": [],
   "source": [
    "def cutline(score_list, k):\n",
    "    return sorted(score_list, reverse=True)[k-1]\n",
    "\n",
    "\n",
    "if __name__ == \"__main__\":\n",
    "    N, k = map(int, input().split())\n",
    "    score_list = list(map(int, input().split()))\n",
    "    \n",
    "    print(cutline(score_list=score_list, k=k))"
   ]
  }
 ],
 "metadata": {
  "kernelspec": {
   "display_name": "Python 3",
   "language": "python",
   "name": "python3"
  },
  "language_info": {
   "codemirror_mode": {
    "name": "ipython",
    "version": 3
   },
   "file_extension": ".py",
   "mimetype": "text/x-python",
   "name": "python",
   "nbconvert_exporter": "python",
   "pygments_lexer": "ipython3",
   "version": "3.7.3"
  }
 },
 "nbformat": 4,
 "nbformat_minor": 2
}
