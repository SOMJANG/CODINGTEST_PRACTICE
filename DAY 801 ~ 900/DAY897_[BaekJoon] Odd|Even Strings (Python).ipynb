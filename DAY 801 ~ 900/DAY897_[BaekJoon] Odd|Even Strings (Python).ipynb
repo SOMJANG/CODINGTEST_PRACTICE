{
 "cells": [
  {
   "cell_type": "markdown",
   "metadata": {},
   "source": [
    "## 2022년 12월 13일 화요일\n",
    "### BaekJoon - Odd/Even Strings (Python)  \n",
    "### 문제 : https://www.acmicpc.net/problem/25801\n",
    "### 블로그 : https://somjang.tistory.com/entry/BaekJoon-25801%EB%B2%88-OddEven-Strings-Python"
   ]
  },
  {
   "cell_type": "markdown",
   "metadata": {},
   "source": [
    "### Solution"
   ]
  },
  {
   "cell_type": "code",
   "execution_count": null,
   "metadata": {},
   "outputs": [],
   "source": [
    "from collections import Counter\n",
    "\n",
    "def odd_even_strings(string):\n",
    "    even_check, odd_check = 0, 0\n",
    "    \n",
    "    answer = \"0/1\"\n",
    "    \n",
    "    cnt_items = Counter(string).items()\n",
    "    \n",
    "    for item in cnt_items:\n",
    "        if item[1] % 2 == 0:\n",
    "            even_check += 1\n",
    "        elif item[1] % 2 == 1:\n",
    "            odd_check += 1\n",
    "    \n",
    "    if even_check > 0 and odd_check == 0:\n",
    "        answer = \"0\"\n",
    "    elif even_check == 0 and odd_check > 0:\n",
    "        answer = \"1\"\n",
    "        \n",
    "    return answer\n",
    "        \n",
    "\n",
    "if __name__ == \"__main__\":\n",
    "    string = input()\n",
    "    print(odd_even_strings(string=string))"
   ]
  }
 ],
 "metadata": {
  "kernelspec": {
   "display_name": "Python 3 (ipykernel)",
   "language": "python",
   "name": "python3"
  },
  "language_info": {
   "codemirror_mode": {
    "name": "ipython",
    "version": 3
   },
   "file_extension": ".py",
   "mimetype": "text/x-python",
   "name": "python",
   "nbconvert_exporter": "python",
   "pygments_lexer": "ipython3",
   "version": "3.9.13"
  }
 },
 "nbformat": 4,
 "nbformat_minor": 2
}
