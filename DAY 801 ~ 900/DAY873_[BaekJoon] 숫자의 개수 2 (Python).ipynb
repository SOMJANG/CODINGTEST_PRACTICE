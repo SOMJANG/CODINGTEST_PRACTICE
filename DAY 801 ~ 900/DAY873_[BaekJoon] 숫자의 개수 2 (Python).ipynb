{
 "cells": [
  {
   "cell_type": "markdown",
   "metadata": {},
   "source": [
    "## 2022년 11월 18일 금요일\n",
    "### BaekJoon - 숫자의 개수 2 (Python)  \n",
    "### 문제 : https://www.acmicpc.net/problem/21567\n",
    "### 블로그 : https://somjang.tistory.com/entry/BaekJoon-21567%EB%B2%88-%EC%88%AB%EC%9E%90%EC%9D%98-%EA%B0%9C%EC%88%98-2-Python"
   ]
  },
  {
   "cell_type": "markdown",
   "metadata": {},
   "source": [
    "### Solution"
   ]
  },
  {
   "cell_type": "code",
   "execution_count": null,
   "metadata": {},
   "outputs": [],
   "source": [
    "def number_num(A, B, C):\n",
    "    answer = [0, 0, 0, 0, 0, 0, 0, 0, 0, 0]\n",
    "    \n",
    "    ABC = A * B * C\n",
    "    \n",
    "    for num in list(str(ABC)):\n",
    "        answer[int(num)] += 1\n",
    "        \n",
    "    return \"\\n\".join(list(map(str, answer)))\n",
    "\n",
    "\n",
    "\n",
    "if __name__ == \"__main__\":\n",
    "    A = int(input())   \n",
    "    B = int(input())\n",
    "    C = int(input())\n",
    "    \n",
    "    print(number_num(A=A, B=B, C=C))"
   ]
  }
 ],
 "metadata": {
  "kernelspec": {
   "display_name": "Python 3 (ipykernel)",
   "language": "python",
   "name": "python3"
  },
  "language_info": {
   "codemirror_mode": {
    "name": "ipython",
    "version": 3
   },
   "file_extension": ".py",
   "mimetype": "text/x-python",
   "name": "python",
   "nbconvert_exporter": "python",
   "pygments_lexer": "ipython3",
   "version": "3.9.13"
  }
 },
 "nbformat": 4,
 "nbformat_minor": 2
}
