{
 "cells": [
  {
   "cell_type": "markdown",
   "metadata": {},
   "source": [
    "## 2022년 10월 2일 일요일\n",
    "### BaekJoon - 햄버거 만들기 (Python)  \n",
    "### 문제 : https://www.acmicpc.net/problem/25628\n",
    "### 블로그 : https://somjang.tistory.com/entry/BaekJoon-25628%EB%B2%88-%ED%96%84%EB%B2%84%EA%B1%B0-%EB%A7%8C%EB%93%A4%EA%B8%B0-Python"
   ]
  },
  {
   "cell_type": "markdown",
   "metadata": {},
   "source": [
    "### Solution"
   ]
  },
  {
   "cell_type": "code",
   "execution_count": null,
   "metadata": {},
   "outputs": [],
   "source": [
    "def make_hamburger(A, B):\n",
    "    return min(A // 2, B)\n",
    "\n",
    "if __name__ == \"__main__\":\n",
    "    A, B = map(int, input().split())\n",
    "    print(make_hamburger(A=A, B=B))"
   ]
  }
 ],
 "metadata": {
  "kernelspec": {
   "display_name": "Python 3",
   "language": "python",
   "name": "python3"
  },
  "language_info": {
   "codemirror_mode": {
    "name": "ipython",
    "version": 3
   },
   "file_extension": ".py",
   "mimetype": "text/x-python",
   "name": "python",
   "nbconvert_exporter": "python",
   "pygments_lexer": "ipython3",
   "version": "3.7.3"
  }
 },
 "nbformat": 4,
 "nbformat_minor": 2
}
