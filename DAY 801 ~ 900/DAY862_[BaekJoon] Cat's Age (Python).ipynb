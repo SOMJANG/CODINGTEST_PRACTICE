{
 "cells": [
  {
   "cell_type": "markdown",
   "metadata": {},
   "source": [
    "## 2022년 11월 07일 월요일\n",
    "### BaekJoon - Cat's Age (Python)  \n",
    "### 문제 : https://www.acmicpc.net/problem/25815\n",
    "### 블로그 : https://somjang.tistory.com/entry/BaekJoon-25815%EB%B2%88-Cats-Age-Python"
   ]
  },
  {
   "cell_type": "markdown",
   "metadata": {},
   "source": [
    "### Solution"
   ]
  },
  {
   "cell_type": "code",
   "execution_count": null,
   "metadata": {},
   "outputs": [],
   "source": [
    "def cats_age(year, month):\n",
    "    cat_age_year, cat_age_month = 0, 0\n",
    "    \n",
    "    if year < 1:\n",
    "        cat_age_month += 15 * month\n",
    "    elif 1 <=  year < 2:\n",
    "        cat_age_year += 15 \n",
    "        cat_age_month = 9 * month\n",
    "    elif year >= 2:\n",
    "        cat_age_year += 15 + 9\n",
    "        \n",
    "        year -= 2\n",
    "        \n",
    "        cat_age_year += year * 4\n",
    "        \n",
    "        cat_age_month = month * 4\n",
    "        \n",
    "    if cat_age_month > 12:\n",
    "        cat_age_year += cat_age_month // 12\n",
    "        cat_age_month = cat_age_month % 12\n",
    "        \n",
    "        \n",
    "    return f\"{cat_age_year} {cat_age_month}\"\n",
    "        \n",
    "        \n",
    "        \n",
    "if __name__ == \"__main__\":\n",
    "    year, month = map(int, input().split())\n",
    "    \n",
    "    print(cats_age(year=year, month=month))"
   ]
  }
 ],
 "metadata": {
  "kernelspec": {
   "display_name": "Python 3 (ipykernel)",
   "language": "python",
   "name": "python3"
  },
  "language_info": {
   "codemirror_mode": {
    "name": "ipython",
    "version": 3
   },
   "file_extension": ".py",
   "mimetype": "text/x-python",
   "name": "python",
   "nbconvert_exporter": "python",
   "pygments_lexer": "ipython3",
   "version": "3.9.13"
  }
 },
 "nbformat": 4,
 "nbformat_minor": 2
}
