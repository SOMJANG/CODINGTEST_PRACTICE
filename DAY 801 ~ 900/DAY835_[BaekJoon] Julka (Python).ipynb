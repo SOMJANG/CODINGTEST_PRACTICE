{
 "cells": [
  {
   "cell_type": "markdown",
   "metadata": {},
   "source": [
    "## 2022년 10월 10일 월요일\n",
    "### BaekJoon - Julka (Python)  \n",
    "### 문제 : https://www.acmicpc.net/problem/8437\n",
    "### 블로그 : https://somjang.tistory.com/entry/BaekJoon-8437%EB%B2%88-Julka-Python"
   ]
  },
  {
   "cell_type": "markdown",
   "metadata": {},
   "source": [
    "### Solution"
   ]
  },
  {
   "cell_type": "code",
   "execution_count": null,
   "metadata": {},
   "outputs": [],
   "source": [
    "def julka(apple, n):\n",
    "    apple_num1 = (apple - n) // 2\n",
    "    apple_num2 = (apple + n) // 2\n",
    "        \n",
    "    return apple_num1, apple_num2\n",
    "\n",
    "\n",
    "if __name__ == \"__main__\":\n",
    "    apple = int(input())\n",
    "    n = int(input())\n",
    "    \n",
    "    apple_num1, apple_num2 = julka(apple=apple, n=n)\n",
    "    print(apple_num2)\n",
    "    print(apple_num1)"
   ]
  }
 ],
 "metadata": {
  "kernelspec": {
   "display_name": "Python 3",
   "language": "python",
   "name": "python3"
  },
  "language_info": {
   "codemirror_mode": {
    "name": "ipython",
    "version": 3
   },
   "file_extension": ".py",
   "mimetype": "text/x-python",
   "name": "python",
   "nbconvert_exporter": "python",
   "pygments_lexer": "ipython3",
   "version": "3.7.3"
  }
 },
 "nbformat": 4,
 "nbformat_minor": 2
}
