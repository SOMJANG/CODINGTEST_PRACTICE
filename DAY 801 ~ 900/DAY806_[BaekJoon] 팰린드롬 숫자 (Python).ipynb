{
 "cells": [
  {
   "cell_type": "markdown",
   "metadata": {},
   "source": [
    "## 2022년 9월 9일 금요일\n",
    "### BaekJoon - 팰린드롬 숫자 (Python)  \n",
    "### 문제 : https://www.acmicpc.net/problem/8611\n",
    "### 블로그 : https://somjang.tistory.com/entry/BaekJoon-8611%EB%B2%88-%ED%8C%B0%EB%A6%B0%EB%93%9C%EB%A1%AC-%EC%88%AB%EC%9E%90-Python"
   ]
  },
  {
   "cell_type": "markdown",
   "metadata": {},
   "source": [
    "### Solution"
   ]
  },
  {
   "cell_type": "code",
   "execution_count": null,
   "metadata": {},
   "outputs": [],
   "source": [
    "def converter(number, n):\n",
    "    answer = \"\"\n",
    "    temp = list(\"0123456789ABCDEF\")\n",
    "    \n",
    "    if number == 0:\n",
    "        answer = \"0\"\n",
    "    else:\n",
    "        while number:\n",
    "            answer += temp[number % n]\n",
    "            number //= n\n",
    "            \n",
    "    return answer[::-1]\n",
    "\n",
    "\n",
    "def check_palindrome(converted_number):\n",
    "    is_palindrome = False\n",
    "    \n",
    "    if converted_number == converted_number[::-1]:\n",
    "        is_palindrome = True\n",
    "        \n",
    "    return is_palindrome\n",
    "\n",
    "\n",
    "def palindrome_number(number):\n",
    "    answer_list = []\n",
    "    for n in range(2, 11):\n",
    "        converted_number = converter(\n",
    "            number=number, n=n\n",
    "        )\n",
    "        \n",
    "        is_palindrome = check_palindrome(\n",
    "            converted_number=converted_number\n",
    "        )\n",
    "        \n",
    "        if is_palindrome:\n",
    "            answer_list.append((n, converted_number))\n",
    "            \n",
    "    return answer_list\n",
    "\n",
    "\n",
    "def print_answer(answer_list):\n",
    "    \n",
    "    if not answer_list:\n",
    "        print(\"NIE\")\n",
    "    \n",
    "    for answer in answer_list:\n",
    "        print(f\"{answer[0]} {answer[1]}\")\n",
    "        \n",
    "    \n",
    "if __name__ == \"__main__\":\n",
    "    number = int(input())\n",
    "    \n",
    "    answer_list = palindrome_number(number=number)\n",
    "    \n",
    "    print_answer(answer_list=answer_list)"
   ]
  }
 ],
 "metadata": {
  "kernelspec": {
   "display_name": "Python 3",
   "language": "python",
   "name": "python3"
  },
  "language_info": {
   "codemirror_mode": {
    "name": "ipython",
    "version": 3
   },
   "file_extension": ".py",
   "mimetype": "text/x-python",
   "name": "python",
   "nbconvert_exporter": "python",
   "pygments_lexer": "ipython3",
   "version": "3.7.3"
  }
 },
 "nbformat": 4,
 "nbformat_minor": 2
}
