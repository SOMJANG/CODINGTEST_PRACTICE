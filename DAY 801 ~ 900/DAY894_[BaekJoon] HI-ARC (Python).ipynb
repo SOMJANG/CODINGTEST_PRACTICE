{
 "cells": [
  {
   "cell_type": "markdown",
   "metadata": {},
   "source": [
    "## 2022년 12월 10일 토요일\n",
    "### BaekJoon - HI-ARC (Python)  \n",
    "### 문제 : https://www.acmicpc.net/problem/26004\n",
    "### 블로그 : https://somjang.tistory.com/entry/BaekJoon-26004%EB%B2%88-HI-ARC-Python"
   ]
  },
  {
   "cell_type": "markdown",
   "metadata": {},
   "source": [
    "### Solution"
   ]
  },
  {
   "cell_type": "code",
   "execution_count": null,
   "metadata": {},
   "outputs": [],
   "source": [
    "from collections import Counter\n",
    "\n",
    "def hi_arc(S):\n",
    "    answer = 0\n",
    "    \n",
    "    cnt_num_list = []\n",
    "    \n",
    "    word_list = [\"H\", \"I\", \"A\", \"R\", \"C\"]\n",
    "    \n",
    "    cnt = Counter(S)\n",
    "    \n",
    "    for word in word_list:\n",
    "        if word not in cnt:\n",
    "            break\n",
    "            \n",
    "        cnt_num_list.append(cnt[word])\n",
    "        \n",
    "    if len(cnt_num_list) == 5:\n",
    "        answer = min(cnt_num_list)\n",
    "        \n",
    "    return answer\n",
    "    \n",
    "\n",
    "if __name__ == \"__main__\":\n",
    "    N = int(input())\n",
    "    S = input()\n",
    "    \n",
    "    print(hi_arc(S=S))"
   ]
  }
 ],
 "metadata": {
  "kernelspec": {
   "display_name": "Python 3 (ipykernel)",
   "language": "python",
   "name": "python3"
  },
  "language_info": {
   "codemirror_mode": {
    "name": "ipython",
    "version": 3
   },
   "file_extension": ".py",
   "mimetype": "text/x-python",
   "name": "python",
   "nbconvert_exporter": "python",
   "pygments_lexer": "ipython3",
   "version": "3.9.13"
  }
 },
 "nbformat": 4,
 "nbformat_minor": 2
}
