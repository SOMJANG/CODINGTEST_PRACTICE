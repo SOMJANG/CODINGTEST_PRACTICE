{
 "cells": [
  {
   "cell_type": "markdown",
   "metadata": {},
   "source": [
    "## 2022년 9월 20일 화요일\n",
    "### BaekJoon - 효정과 새 모니터 (Python)  \n",
    "### 문제 : https://www.acmicpc.net/problem/20949\n",
    "### 블로그 : https://somjang.tistory.com/entry/BaekJoon-20949%EB%B2%88-%ED%9A%A8%EC%A0%95%EA%B3%BC-%EC%83%88-%EB%AA%A8%EB%8B%88%ED%84%B0-Python"
   ]
  },
  {
   "cell_type": "markdown",
   "metadata": {},
   "source": [
    "### Solution"
   ]
  },
  {
   "cell_type": "code",
   "execution_count": null,
   "metadata": {},
   "outputs": [],
   "source": [
    "def get_ppi(W, H, D=77):\n",
    "    return pow(pow(W, 2) + pow(H, 2), 0.5) / D\n",
    "\n",
    "\n",
    "def check_monitor_ppi(monitor_info_list):\n",
    "    check_result = {}\n",
    "    \n",
    "    for monitor_idx, monitor_info in enumerate(monitor_info_list, start=1):\n",
    "        monitor_ppi = get_ppi(\n",
    "            W=monitor_info[0], H=monitor_info[1]\n",
    "        )\n",
    "        \n",
    "        check_result[monitor_idx] = monitor_ppi\n",
    "        \n",
    "    return check_result.items()\n",
    "        \n",
    "    \n",
    "def sort_monitor_list_by_ppi(monitor_ppi_info_items):\n",
    "    return sorted(monitor_ppi_info_items, key=lambda x: (-x[1], x[0]))\n",
    "\n",
    "\n",
    "def print_answer(answer):\n",
    "    for ans in answer:\n",
    "        print(f\"{ans[0]}\")\n",
    "\n",
    "\n",
    "if __name__ == \"__main__\":\n",
    "    monitor_info_list = []\n",
    "    \n",
    "    for _ in range(int(input())):\n",
    "        W, H = map(int, input().split())\n",
    "        \n",
    "        monitor_info_list.append((W, H))\n",
    "        \n",
    "    monitor_check_result = check_monitor_ppi(\n",
    "        monitor_info_list=monitor_info_list\n",
    "    )\n",
    "    \n",
    "    monitor_check_result = sort_monitor_list_by_ppi(\n",
    "        monitor_ppi_info_items=monitor_check_result\n",
    "    )\n",
    "    \n",
    "    print_answer(answer=monitor_check_result)"
   ]
  }
 ],
 "metadata": {
  "kernelspec": {
   "display_name": "Python 3",
   "language": "python",
   "name": "python3"
  },
  "language_info": {
   "codemirror_mode": {
    "name": "ipython",
    "version": 3
   },
   "file_extension": ".py",
   "mimetype": "text/x-python",
   "name": "python",
   "nbconvert_exporter": "python",
   "pygments_lexer": "ipython3",
   "version": "3.7.3"
  }
 },
 "nbformat": 4,
 "nbformat_minor": 2
}
