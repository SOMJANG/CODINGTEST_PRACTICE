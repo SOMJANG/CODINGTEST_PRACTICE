{
 "cells": [
  {
   "cell_type": "markdown",
   "metadata": {},
   "source": [
    "## 2022년 10월 26일 수요일\n",
    "### Pragrammers - 숫자 짝궁 (Python)  \n",
    "### 문제 : https://school.programmers.co.kr/learn/courses/30/lessons/131128\n",
    "### 블로그 : https://somjang.tistory.com/entry/Programmers-%EC%88%AB%EC%9E%90-%EC%A7%9D%EA%B6%81-Python"
   ]
  },
  {
   "cell_type": "markdown",
   "metadata": {},
   "source": [
    "### Solution"
   ]
  },
  {
   "cell_type": "code",
   "execution_count": null,
   "metadata": {},
   "outputs": [],
   "source": [
    "from collections import Counter\n",
    "\n",
    "def solution(X, Y):\n",
    "    answer = '-1'\n",
    "    \n",
    "    list_X, list_Y = list(X), list(Y)\n",
    "    set_X, set_Y = set(list_X), set(list_Y)\n",
    "    cnt_X, cnt_Y = Counter(list_X), Counter(list_Y)\n",
    "    \n",
    "    intersection = set_X & set_Y\n",
    "    \n",
    "    if intersection:\n",
    "        answer = ''\n",
    "        sorted_number = sorted(intersection, reverse=True)\n",
    "        \n",
    "        for num in sorted_number:\n",
    "            answer += num * min(cnt_X[num], cnt_Y[num])\n",
    "        \n",
    "        if sum(list(map(int, list(answer)))) == 0:\n",
    "            answer = \"0\"\n",
    "    \n",
    "    return answer"
   ]
  }
 ],
 "metadata": {
  "kernelspec": {
   "display_name": "Python 3 (ipykernel)",
   "language": "python",
   "name": "python3"
  },
  "language_info": {
   "codemirror_mode": {
    "name": "ipython",
    "version": 3
   },
   "file_extension": ".py",
   "mimetype": "text/x-python",
   "name": "python",
   "nbconvert_exporter": "python",
   "pygments_lexer": "ipython3",
   "version": "3.9.13"
  }
 },
 "nbformat": 4,
 "nbformat_minor": 2
}
