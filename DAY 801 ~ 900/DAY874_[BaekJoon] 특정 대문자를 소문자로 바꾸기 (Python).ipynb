{
 "cells": [
  {
   "cell_type": "markdown",
   "metadata": {},
   "source": [
    "## 2022년 11월 19일 토요일\n",
    "### BaekJoon - 특정 대문자를 소문자로 바꾸기 (Python)  \n",
    "### 문제 : https://www.acmicpc.net/problem/26040\n",
    "### 블로그 : https://somjang.tistory.com/entry/BaekJoon-26040%EB%B2%88-%ED%8A%B9%EC%A0%95-%EB%8C%80%EB%AC%B8%EC%9E%90%EB%A5%BC-%EC%86%8C%EB%AC%B8%EC%9E%90%EB%A1%9C-%EB%B0%94%EA%BE%B8%EA%B8%B0-Python"
   ]
  },
  {
   "cell_type": "markdown",
   "metadata": {},
   "source": [
    "### Solution"
   ]
  },
  {
   "cell_type": "code",
   "execution_count": null,
   "metadata": {},
   "outputs": [],
   "source": [
    "def change_some_word_lower(string, words):\n",
    "    answer = []\n",
    "    for word in list(string):\n",
    "        if word in words:\n",
    "            answer.append(word.lower())\n",
    "        else:\n",
    "            answer.append(word)\n",
    "            \n",
    "    return \"\".join(answer)\n",
    "\n",
    "\n",
    "if __name__ == \"__main__\":\n",
    "    string = input()\n",
    "    words = input().split()\n",
    "    \n",
    "    print(change_some_word_lower(string=string, words=words))"
   ]
  }
 ],
 "metadata": {
  "kernelspec": {
   "display_name": "Python 3 (ipykernel)",
   "language": "python",
   "name": "python3"
  },
  "language_info": {
   "codemirror_mode": {
    "name": "ipython",
    "version": 3
   },
   "file_extension": ".py",
   "mimetype": "text/x-python",
   "name": "python",
   "nbconvert_exporter": "python",
   "pygments_lexer": "ipython3",
   "version": "3.9.13"
  }
 },
 "nbformat": 4,
 "nbformat_minor": 2
}
