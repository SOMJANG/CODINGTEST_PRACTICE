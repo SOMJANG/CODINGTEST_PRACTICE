{
 "cells": [
  {
   "cell_type": "markdown",
   "metadata": {},
   "source": [
    "## 2022년 9월 17일 토요일\n",
    "### BaekJoon - 고고학자 예린 (Python)  \n",
    "### 문제 : https://www.acmicpc.net/problem/20953\n",
    "### 블로그 : https://somjang.tistory.com/entry/BaekJoon-20953%EB%B2%88-%EA%B3%A0%EA%B3%A0%ED%95%99%EC%9E%90-%EC%98%88%EB%A6%B0-Python"
   ]
  },
  {
   "cell_type": "markdown",
   "metadata": {},
   "source": [
    "### Solution"
   ]
  },
  {
   "cell_type": "code",
   "execution_count": null,
   "metadata": {},
   "outputs": [],
   "source": [
    "import sys\n",
    "\n",
    "input = sys.stdin.readline\n",
    "\n",
    "def dolmen(a: int, b: int):                \n",
    "    return (a + b) * (a + b - 1) * (a + b) // 2\n",
    "    \n",
    "\n",
    "def archaeologist_yerin(a, b):\n",
    "    return dolmen(a=a, b=b)\n",
    "\n",
    "\n",
    "if __name__ == \"__main__\":\n",
    "    for _ in range(int(input())):\n",
    "        a, b = map(int, input().split())\n",
    "        \n",
    "        print(archaeologist_yerin(a=a, b=b))"
   ]
  }
 ],
 "metadata": {
  "kernelspec": {
   "display_name": "Python 3",
   "language": "python",
   "name": "python3"
  },
  "language_info": {
   "codemirror_mode": {
    "name": "ipython",
    "version": 3
   },
   "file_extension": ".py",
   "mimetype": "text/x-python",
   "name": "python",
   "nbconvert_exporter": "python",
   "pygments_lexer": "ipython3",
   "version": "3.7.3"
  }
 },
 "nbformat": 4,
 "nbformat_minor": 2
}
