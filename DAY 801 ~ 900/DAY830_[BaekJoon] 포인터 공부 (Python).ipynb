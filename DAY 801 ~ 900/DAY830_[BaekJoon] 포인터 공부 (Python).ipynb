{
 "cells": [
  {
   "cell_type": "markdown",
   "metadata": {},
   "source": [
    "## 2022년 10월 5일 수요일\n",
    "### BaekJoon - 포인터 공부 (Python)  \n",
    "### 문제 : https://www.acmicpc.net/problem/25703\n",
    "### 블로그 : https://somjang.tistory.com/entry/BaekJoon-25703%EB%B2%88-%ED%8F%AC%EC%9D%B8%ED%84%B0-%EA%B3%B5%EB%B6%80-Python"
   ]
  },
  {
   "cell_type": "markdown",
   "metadata": {},
   "source": [
    "### Solution"
   ]
  },
  {
   "cell_type": "code",
   "execution_count": null,
   "metadata": {},
   "outputs": [],
   "source": [
    "def point_study(N):\n",
    "    print(\"int a;\")\n",
    "    \n",
    "    for idx in range(1, N + 1):\n",
    "        before_and_string = f\"ptr{idx-1 if idx-1 > 1 else ''};\" if idx > 1 else \"a;\"\n",
    "        print(f\"int {'*' * idx}ptr{idx if idx > 1 else ''} = &{before_and_string}\")\n",
    "              \n",
    "if __name__ == \"__main__\":\n",
    "    N = int(input())\n",
    "    point_study(N=N)"
   ]
  }
 ],
 "metadata": {
  "kernelspec": {
   "display_name": "Python 3",
   "language": "python",
   "name": "python3"
  },
  "language_info": {
   "codemirror_mode": {
    "name": "ipython",
    "version": 3
   },
   "file_extension": ".py",
   "mimetype": "text/x-python",
   "name": "python",
   "nbconvert_exporter": "python",
   "pygments_lexer": "ipython3",
   "version": "3.7.3"
  }
 },
 "nbformat": 4,
 "nbformat_minor": 2
}
