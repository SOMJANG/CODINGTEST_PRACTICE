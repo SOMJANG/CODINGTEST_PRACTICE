{
 "cells": [
  {
   "cell_type": "markdown",
   "metadata": {},
   "source": [
    "## 2022년 11월 24일 목요일\n",
    "### BaekJoon - Number Maximization (Python)  \n",
    "### 문제 : https://www.acmicpc.net/problem/25773\n",
    "### 블로그 : https://somjang.tistory.com/entry/BaekJoon-25773%EB%B2%88-Number-Maximization-Python"
   ]
  },
  {
   "cell_type": "markdown",
   "metadata": {},
   "source": [
    "### Solution"
   ]
  },
  {
   "cell_type": "code",
   "execution_count": null,
   "metadata": {},
   "outputs": [],
   "source": [
    "def number_maximization(number):\n",
    "    number_list = list(number)\n",
    "    \n",
    "    max_num = sorted(number_list, reverse=True)\n",
    "    \n",
    "    return \"\".join(max_num)\n",
    "\n",
    "\n",
    "if __name__ == \"__main__\":\n",
    "    number = input()\n",
    "    \n",
    "    print(number_maximization(number=number))"
   ]
  }
 ],
 "metadata": {
  "kernelspec": {
   "display_name": "Python 3 (ipykernel)",
   "language": "python",
   "name": "python3"
  },
  "language_info": {
   "codemirror_mode": {
    "name": "ipython",
    "version": 3
   },
   "file_extension": ".py",
   "mimetype": "text/x-python",
   "name": "python",
   "nbconvert_exporter": "python",
   "pygments_lexer": "ipython3",
   "version": "3.9.13"
  }
 },
 "nbformat": 4,
 "nbformat_minor": 2
}
