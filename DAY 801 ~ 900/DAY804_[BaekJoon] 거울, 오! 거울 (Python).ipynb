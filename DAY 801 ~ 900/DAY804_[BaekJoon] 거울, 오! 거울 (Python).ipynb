{
 "cells": [
  {
   "cell_type": "markdown",
   "metadata": {},
   "source": [
    "## 2022년 9월 7일 수요일\n",
    "### BaekJoon - 거울, 오! 거울 (Python)  \n",
    "### 문제 : https://www.acmicpc.net/problem/4740\n",
    "### 블로그 : https://somjang.tistory.com/entry/BaekJoon-4740%EB%B2%88-%EA%B1%B0%EC%9A%B8-%EC%98%A4-%EA%B1%B0%EC%9A%B8-Python"
   ]
  },
  {
   "cell_type": "markdown",
   "metadata": {},
   "source": [
    "### Solution"
   ]
  },
  {
   "cell_type": "code",
   "execution_count": null,
   "metadata": {},
   "outputs": [],
   "source": [
    "def mirror_oh_mirror(word):\n",
    "    return word[::-1]\n",
    "\n",
    "\n",
    "if __name__ == \"__main__\":\n",
    "    while True:\n",
    "        word = input()\n",
    "        \n",
    "        if word == \"***\":\n",
    "            break\n",
    "        print(mirror_oh_mirror(word=word))"
   ]
  }
 ],
 "metadata": {
  "kernelspec": {
   "display_name": "Python 3",
   "language": "python",
   "name": "python3"
  },
  "language_info": {
   "codemirror_mode": {
    "name": "ipython",
    "version": 3
   },
   "file_extension": ".py",
   "mimetype": "text/x-python",
   "name": "python",
   "nbconvert_exporter": "python",
   "pygments_lexer": "ipython3",
   "version": "3.7.3"
  }
 },
 "nbformat": 4,
 "nbformat_minor": 2
}
