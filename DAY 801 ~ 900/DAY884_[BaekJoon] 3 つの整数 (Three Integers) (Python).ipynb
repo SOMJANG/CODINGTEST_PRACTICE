{
 "cells": [
  {
   "cell_type": "markdown",
   "metadata": {},
   "source": [
    "## 2022년 11월 30일 수요일\n",
    "### BaekJoon - 3 つの整数 (Three Integers) (Python)  \n",
    "### 문제 : https://www.acmicpc.net/problem/18408\n",
    "### 블로그 : https://somjang.tistory.com/entry/BaekJoon-18408%EB%B2%88-3-%E3%81%A4%E3%81%AE%E6%95%B4%E6%95%B0-Three-Integers-Python"
   ]
  },
  {
   "cell_type": "markdown",
   "metadata": {},
   "source": [
    "### Solution"
   ]
  },
  {
   "cell_type": "code",
   "execution_count": null,
   "metadata": {},
   "outputs": [],
   "source": [
    "from collections import Counter\n",
    "\n",
    "\n",
    "def three_integers(integer_list):\n",
    "    cnt = Counter(integer_list).most_common()\n",
    "    \n",
    "    return cnt[0][0]\n",
    "\n",
    "\n",
    "if __name__ == \"__main__\":\n",
    "    integer_list = list(map(int, input().split()))\n",
    "    \n",
    "    print(three_integers(integer_list=integer_list))"
   ]
  }
 ],
 "metadata": {
  "kernelspec": {
   "display_name": "Python 3 (ipykernel)",
   "language": "python",
   "name": "python3"
  },
  "language_info": {
   "codemirror_mode": {
    "name": "ipython",
    "version": 3
   },
   "file_extension": ".py",
   "mimetype": "text/x-python",
   "name": "python",
   "nbconvert_exporter": "python",
   "pygments_lexer": "ipython3",
   "version": "3.9.13"
  }
 },
 "nbformat": 4,
 "nbformat_minor": 2
}
