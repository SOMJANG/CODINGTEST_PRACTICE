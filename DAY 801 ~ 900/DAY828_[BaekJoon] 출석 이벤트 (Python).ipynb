{
 "cells": [
  {
   "cell_type": "markdown",
   "metadata": {},
   "source": [
    "## 2022년 10월 3일 월요일\n",
    "### BaekJoon - 출석 이벤트 (Python)  \n",
    "### 문제 : https://www.acmicpc.net/problem/25704\n",
    "### 블로그 : https://somjang.tistory.com/entry/BaekJoon-25704%EB%B2%88-%EC%B6%9C%EC%84%9D-%EC%9D%B4%EB%B2%A4%ED%8A%B8-Python"
   ]
  },
  {
   "cell_type": "markdown",
   "metadata": {},
   "source": [
    "### Solution"
   ]
  },
  {
   "cell_type": "code",
   "execution_count": null,
   "metadata": {},
   "outputs": [],
   "source": [
    "def get_sale_price(stamp_num, shop_price):\n",
    "    sale_prices = []\n",
    "    \n",
    "    if stamp_num >= 5:\n",
    "        sale_prices.append(500)\n",
    "    if stamp_num >= 10:\n",
    "        sale_prices.append(shop_price // 10)\n",
    "    if stamp_num >= 15:\n",
    "        sale_prices.append(2000)\n",
    "    if stamp_num >= 20:\n",
    "        sale_prices.append(shop_price // 4)\n",
    "        \n",
    "    return max(sale_prices) if sale_prices else 0\n",
    "        \n",
    "    \n",
    "\n",
    "def attendance_event(stamp_num, shop_price):\n",
    "    total_price = 0\n",
    "    \n",
    "    sale_price = get_sale_price(\n",
    "        stamp_num=stamp_num, shop_price=shop_price\n",
    "    )\n",
    "    \n",
    "    if shop_price - sale_price > 0:\n",
    "        total_price = shop_price - sale_price\n",
    "        \n",
    "    return total_price\n",
    "    \n",
    "    \n",
    "if __name__ == \"__main__\":\n",
    "    stamp_num = int(input())\n",
    "    shop_price = int(input())\n",
    "    \n",
    "    print(attendance_event(stamp_num=stamp_num, shop_price=shop_price))"
   ]
  }
 ],
 "metadata": {
  "kernelspec": {
   "display_name": "Python 3",
   "language": "python",
   "name": "python3"
  },
  "language_info": {
   "codemirror_mode": {
    "name": "ipython",
    "version": 3
   },
   "file_extension": ".py",
   "mimetype": "text/x-python",
   "name": "python",
   "nbconvert_exporter": "python",
   "pygments_lexer": "ipython3",
   "version": "3.7.3"
  }
 },
 "nbformat": 4,
 "nbformat_minor": 2
}
