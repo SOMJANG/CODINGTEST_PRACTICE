{
 "cells": [
  {
   "cell_type": "markdown",
   "metadata": {},
   "source": [
    "## 2022년 11월 10일 목요일\n",
    "### BaekJoon - 준석이의 수학 숙제 (Python)  \n",
    "### 문제 : https://www.acmicpc.net/problem/17206\n",
    "### 블로그 : https://somjang.tistory.com/entry/BaekJoon-17206%EB%B2%88-%EC%A4%80%EC%84%9D%EC%9D%B4%EC%9D%98-%EC%88%98%ED%95%99-%EC%88%99%EC%A0%9C-Python"
   ]
  },
  {
   "cell_type": "markdown",
   "metadata": {},
   "source": [
    "### Solution"
   ]
  },
  {
   "cell_type": "code",
   "execution_count": null,
   "metadata": {},
   "outputs": [],
   "source": [
    "def calculate_sum_all_numbers(N, multiple_num):\n",
    "    return N * ( N + 1 ) // 2 * multiple_num\n",
    "\n",
    "\n",
    "def solution(problem):\n",
    "    multiple_of_3_num = problem // 3\n",
    "    multiple_of_7_num = problem // 7\n",
    "    multiple_of_21_num = problem // 21\n",
    "    \n",
    "    sum_num_3 = calculate_sum_all_numbers(\n",
    "        N=multiple_of_3_num, multiple_num=3\n",
    "    )\n",
    "    \n",
    "    sum_num_7 = calculate_sum_all_numbers(\n",
    "        N=multiple_of_7_num, multiple_num=7\n",
    "    )\n",
    "    \n",
    "    sum_num_21 = calculate_sum_all_numbers(\n",
    "        N=multiple_of_21_num, multiple_num=21\n",
    "    )\n",
    "    \n",
    "    return sum_num_3 + sum_num_7 - sum_num_21\n",
    "    \n",
    "    \n",
    "\n",
    "def junseok_math_homework(problem_list):\n",
    "    answer_list = []\n",
    "    \n",
    "    for problem in problem_list:\n",
    "        answer = solution(problem=problem)\n",
    "        \n",
    "        answer_list.append(answer)\n",
    "        \n",
    "    return answer_list\n",
    "\n",
    "\n",
    "def print_answer(answer):\n",
    "    for ans in answer:\n",
    "        print(ans)\n",
    "        \n",
    "        \n",
    "if __name__ == \"__main__\":\n",
    "    N = int(input())\n",
    "    problem_list = list(map(int, input().split()))\n",
    "    \n",
    "    answer = junseok_math_homework(\n",
    "        problem_list=problem_list\n",
    "    )\n",
    "    \n",
    "    print_answer(answer=answer)"
   ]
  }
 ],
 "metadata": {
  "kernelspec": {
   "display_name": "Python 3 (ipykernel)",
   "language": "python",
   "name": "python3"
  },
  "language_info": {
   "codemirror_mode": {
    "name": "ipython",
    "version": 3
   },
   "file_extension": ".py",
   "mimetype": "text/x-python",
   "name": "python",
   "nbconvert_exporter": "python",
   "pygments_lexer": "ipython3",
   "version": "3.9.13"
  }
 },
 "nbformat": 4,
 "nbformat_minor": 2
}
