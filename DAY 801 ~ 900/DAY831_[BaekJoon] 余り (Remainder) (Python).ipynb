{
 "cells": [
  {
   "cell_type": "markdown",
   "metadata": {},
   "source": [
    "## 2022년 10월 6일 목요일\n",
    "### BaekJoon - 余り (Remainder) (Python)  \n",
    "### 문제 : https://www.acmicpc.net/problem/24078\n",
    "### 블로그 : https://somjang.tistory.com/entry/BaekJoon-24078%EB%B2%88-%E4%BD%99%E3%82%8A-Remainder-Python"
   ]
  },
  {
   "cell_type": "markdown",
   "metadata": {},
   "source": [
    "### Solution"
   ]
  },
  {
   "cell_type": "code",
   "execution_count": null,
   "metadata": {},
   "outputs": [],
   "source": [
    "def remainder(X):\n",
    "    return X % 21\n",
    "\n",
    "\n",
    "if __name__ == \"__main__\":\n",
    "    X = int(input())\n",
    "    print(remainder(X=X))"
   ]
  }
 ],
 "metadata": {
  "kernelspec": {
   "display_name": "Python 3",
   "language": "python",
   "name": "python3"
  },
  "language_info": {
   "codemirror_mode": {
    "name": "ipython",
    "version": 3
   },
   "file_extension": ".py",
   "mimetype": "text/x-python",
   "name": "python",
   "nbconvert_exporter": "python",
   "pygments_lexer": "ipython3",
   "version": "3.7.3"
  }
 },
 "nbformat": 4,
 "nbformat_minor": 2
}
