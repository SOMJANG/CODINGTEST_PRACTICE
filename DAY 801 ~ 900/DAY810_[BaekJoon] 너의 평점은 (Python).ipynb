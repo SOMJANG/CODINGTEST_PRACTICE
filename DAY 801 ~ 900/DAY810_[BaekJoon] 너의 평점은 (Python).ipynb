{
 "cells": [
  {
   "cell_type": "markdown",
   "metadata": {},
   "source": [
    "## 2022년 9월 14일 수요일\n",
    "### BaekJoon - 너의 평점은 (Python)  \n",
    "### 문제 : https://www.acmicpc.net/problem/25206\n",
    "### 블로그 : https://somjang.tistory.com/entry/BaekJoon-25206%EB%B2%88-%EB%84%88%EC%9D%98-%ED%8F%89%EC%A0%90%EC%9D%80-Python"
   ]
  },
  {
   "cell_type": "markdown",
   "metadata": {},
   "source": [
    "### Solution"
   ]
  },
  {
   "cell_type": "code",
   "execution_count": null,
   "metadata": {},
   "outputs": [],
   "source": [
    "def convert_rating_to_score(rating):\n",
    "    rating_dict = {\n",
    "        \"A+\": 4.5, \"A0\": 4.0, \"B+\": 3.5, \"B0\": 3.0,\n",
    "        \"C+\": 2.5, \"C0\": 2.0, \"D+\": 1.5, \"D0\": 1.0, \n",
    "        \"F\": 0.0\n",
    "    }\n",
    "    \n",
    "    return rating_dict[rating]\n",
    "\n",
    "\n",
    "def calculate_grade(record_list):\n",
    "    total_time, total_score = 0, 0\n",
    "    \n",
    "    for record in record_list:\n",
    "        subject_name, time, rating = record.split()\n",
    "        \n",
    "        if rating == \"P\":\n",
    "            continue\n",
    "            \n",
    "        total_time += float(time)\n",
    "        \n",
    "        total_score += convert_rating_to_score(rating=rating) * float(time)\n",
    "        \n",
    "    return total_score / total_time\n",
    "\n",
    "\n",
    "def make_answer_format(answer):\n",
    "    return \"%.6f\"%answer\n",
    "\n",
    "\n",
    "if __name__ == \"__main__\":\n",
    "    record_list = []\n",
    "    \n",
    "    for _ in range(20):\n",
    "        record = input()\n",
    "        record_list.append(record)\n",
    "    \n",
    "    answer = calculate_grade(\n",
    "        record_list=record_list\n",
    "    )\n",
    "    \n",
    "    print(make_answer_format(answer=answer))"
   ]
  }
 ],
 "metadata": {
  "kernelspec": {
   "display_name": "Python 3",
   "language": "python",
   "name": "python3"
  },
  "language_info": {
   "codemirror_mode": {
    "name": "ipython",
    "version": 3
   },
   "file_extension": ".py",
   "mimetype": "text/x-python",
   "name": "python",
   "nbconvert_exporter": "python",
   "pygments_lexer": "ipython3",
   "version": "3.7.3"
  }
 },
 "nbformat": 4,
 "nbformat_minor": 2
}
