{
 "cells": [
  {
   "cell_type": "markdown",
   "metadata": {},
   "source": [
    "## 2022년 10월 29일 토요일\n",
    "### BaekJoon - Majestic 10 (Python)  \n",
    "### 문제 : https://www.acmicpc.net/problem/25893\n",
    "### 블로그 : https://somjang.tistory.com/entry/BaekJoon-25893%EB%B2%88-Majestic-10-Python"
   ]
  },
  {
   "cell_type": "markdown",
   "metadata": {},
   "source": [
    "### Solution"
   ]
  },
  {
   "cell_type": "code",
   "execution_count": null,
   "metadata": {},
   "outputs": [],
   "source": [
    "def get_numbers_more_10(number_list):\n",
    "    return [number for number in number_list if number >= 10]\n",
    "\n",
    "\n",
    "def majestic_10(number_lists):\n",
    "    answer_string_list = []\n",
    "    for number_list in number_lists:\n",
    "        answer_dict = {\n",
    "            0: \"zilch\", 1: \"double\", 2: \"double-double\", 3: \"triple-double\"\n",
    "        }\n",
    "\n",
    "        more_10_num = get_numbers_more_10(\n",
    "            number_list=number_list\n",
    "        )\n",
    "        \n",
    "        more_10_num_len = len(more_10_num)\n",
    "\n",
    "        answer = answer_dict[more_10_num_len]\n",
    "        \n",
    "        number_list = list(map(str, number_list))\n",
    "        answer_string = f\"{' '.join(number_list)}\\n{answer}\"\n",
    "        answer_string_list.append(answer_string)\n",
    "    \n",
    "    return \"\\n\\n\".join(answer_string_list)\n",
    "\n",
    "\n",
    "if __name__ == \"__main__\":\n",
    "    number_lists = []\n",
    "    for _ in range(int(input())):\n",
    "        number_list = list(map(int, input().split()))\n",
    "        number_lists.append(number_list)\n",
    "        \n",
    "    print(majestic_10(number_lists=number_lists))"
   ]
  }
 ],
 "metadata": {
  "kernelspec": {
   "display_name": "Python 3 (ipykernel)",
   "language": "python",
   "name": "python3"
  },
  "language_info": {
   "codemirror_mode": {
    "name": "ipython",
    "version": 3
   },
   "file_extension": ".py",
   "mimetype": "text/x-python",
   "name": "python",
   "nbconvert_exporter": "python",
   "pygments_lexer": "ipython3",
   "version": "3.9.13"
  }
 },
 "nbformat": 4,
 "nbformat_minor": 2
}
