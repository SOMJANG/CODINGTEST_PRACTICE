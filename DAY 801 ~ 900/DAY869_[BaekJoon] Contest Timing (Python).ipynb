{
 "cells": [
  {
   "cell_type": "markdown",
   "metadata": {},
   "source": [
    "## 2022년 11월 14일 월요일\n",
    "### BaekJoon - Contest Timing (Python)  \n",
    "### 문제 : https://www.acmicpc.net/problem/5928\n",
    "### 블로그 : https://somjang.tistory.com/entry/BaekJoon-5928%EB%B2%88-Contest-Timing-Python"
   ]
  },
  {
   "cell_type": "markdown",
   "metadata": {},
   "source": [
    "### Solution"
   ]
  },
  {
   "cell_type": "code",
   "execution_count": null,
   "metadata": {},
   "outputs": [],
   "source": [
    "from datetime import datetime\n",
    "\n",
    "def calculate_minute(D, H, M):\n",
    "    return D * 24 * 60 + H * 60 + M\n",
    "\n",
    "\n",
    "def contest_timing(D, H, M):    \n",
    "    start_time = calculate_minute(D=11, H=11, M=11)\n",
    "    end_time = calculate_minute(D=D, H=H, M=M)\n",
    "    \n",
    "    contest_time = end_time - start_time\n",
    "    \n",
    "    if contest_time < 0:\n",
    "        contest_time = -1\n",
    "    \n",
    "    return contest_time\n",
    "\n",
    "\n",
    "if __name__ == \"__main__\":\n",
    "    D, H, M = map(int, input().split())\n",
    "    \n",
    "    print(contest_timing(D=D, H=H, M=M))"
   ]
  }
 ],
 "metadata": {
  "kernelspec": {
   "display_name": "Python 3 (ipykernel)",
   "language": "python",
   "name": "python3"
  },
  "language_info": {
   "codemirror_mode": {
    "name": "ipython",
    "version": 3
   },
   "file_extension": ".py",
   "mimetype": "text/x-python",
   "name": "python",
   "nbconvert_exporter": "python",
   "pygments_lexer": "ipython3",
   "version": "3.9.13"
  }
 },
 "nbformat": 4,
 "nbformat_minor": 2
}
