{
 "cells": [
  {
   "cell_type": "markdown",
   "metadata": {},
   "source": [
    "## 2022년 9월 28일 수요일\n",
    "### BaekJoon - N M 찍기 (Python)  \n",
    "### 문제 : https://www.acmicpc.net/problem/18883\n",
    "### 블로그 : https://somjang.tistory.com/entry/BaekJoon-18883%EB%B2%88-N-M-%EC%B0%8D%EA%B8%B0-Python"
   ]
  },
  {
   "cell_type": "markdown",
   "metadata": {},
   "source": [
    "### Solution"
   ]
  },
  {
   "cell_type": "code",
   "execution_count": null,
   "metadata": {},
   "outputs": [],
   "source": [
    "def print_N_M(N, M):\n",
    "    for n in range(1, N+1):\n",
    "        row_list = []\n",
    "        for m in range(1, M+1):\n",
    "            row_list.append(str(m + (n-1) * M))\n",
    "            \n",
    "        print(\" \".join(row_list))\n",
    "    \n",
    "    \n",
    "if __name__ == \"__main__\":\n",
    "    N, M = map(int, input().split())\n",
    "    \n",
    "    print_N_M(N=N, M=M)"
   ]
  }
 ],
 "metadata": {
  "kernelspec": {
   "display_name": "Python 3",
   "language": "python",
   "name": "python3"
  },
  "language_info": {
   "codemirror_mode": {
    "name": "ipython",
    "version": 3
   },
   "file_extension": ".py",
   "mimetype": "text/x-python",
   "name": "python",
   "nbconvert_exporter": "python",
   "pygments_lexer": "ipython3",
   "version": "3.7.3"
  }
 },
 "nbformat": 4,
 "nbformat_minor": 2
}
