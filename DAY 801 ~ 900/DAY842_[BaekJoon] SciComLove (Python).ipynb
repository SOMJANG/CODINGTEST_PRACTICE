{
 "cells": [
  {
   "cell_type": "markdown",
   "metadata": {},
   "source": [
    "## 2022년 10월 17일 월요일\n",
    "### BaekJoon - SciComLove (Python)  \n",
    "### 문제 : https://www.acmicpc.net/problem/21598\n",
    "### 블로그 : https://somjang.tistory.com/entry/BaekJoon-21598%EB%B2%88-SciComLove-Python"
   ]
  },
  {
   "cell_type": "markdown",
   "metadata": {},
   "source": [
    "### Solution"
   ]
  },
  {
   "cell_type": "code",
   "execution_count": null,
   "metadata": {},
   "outputs": [],
   "source": [
    "def scicomlove(N):\n",
    "    for _ in range(N):\n",
    "        print(\"SciComLove\")\n",
    "        \n",
    "\n",
    "if __name__ == \"__main__\":\n",
    "    N = int(input())\n",
    "    scicomlove(N=N)"
   ]
  }
 ],
 "metadata": {
  "kernelspec": {
   "display_name": "Python 3",
   "language": "python",
   "name": "python3"
  },
  "language_info": {
   "codemirror_mode": {
    "name": "ipython",
    "version": 3
   },
   "file_extension": ".py",
   "mimetype": "text/x-python",
   "name": "python",
   "nbconvert_exporter": "python",
   "pygments_lexer": "ipython3",
   "version": "3.7.3"
  }
 },
 "nbformat": 4,
 "nbformat_minor": 2
}
