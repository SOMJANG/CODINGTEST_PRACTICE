{
 "cells": [
  {
   "cell_type": "markdown",
   "metadata": {},
   "source": [
    "## 2022년 10월 7일 금요일\n",
    "### BaekJoon - 身長 (Height) (Python)  \n",
    "### 문제 : https://www.acmicpc.net/problem/24086\n",
    "### 블로그 : https://somjang.tistory.com/entry/BaekJoon-24086%EB%B2%88-%E8%BA%AB%E9%95%B7-Height-Python"
   ]
  },
  {
   "cell_type": "markdown",
   "metadata": {},
   "source": [
    "### Solution"
   ]
  },
  {
   "cell_type": "code",
   "execution_count": null,
   "metadata": {},
   "outputs": [],
   "source": [
    "def height(A, B):\n",
    "    return abs(A-B)\n",
    "\n",
    "if __name__ == \"__main__\":\n",
    "    A = int(input())\n",
    "    B = int(input())\n",
    "    \n",
    "    print(height(A=A, B=B))"
   ]
  }
 ],
 "metadata": {
  "kernelspec": {
   "display_name": "Python 3",
   "language": "python",
   "name": "python3"
  },
  "language_info": {
   "codemirror_mode": {
    "name": "ipython",
    "version": 3
   },
   "file_extension": ".py",
   "mimetype": "text/x-python",
   "name": "python",
   "nbconvert_exporter": "python",
   "pygments_lexer": "ipython3",
   "version": "3.7.3"
  }
 },
 "nbformat": 4,
 "nbformat_minor": 2
}
