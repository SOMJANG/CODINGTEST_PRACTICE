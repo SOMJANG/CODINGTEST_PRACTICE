{
 "cells": [
  {
   "cell_type": "markdown",
   "metadata": {},
   "source": [
    "## 2022년 9월 13일 화요일\n",
    "### BaekJoon - Darius님 한타 안 함? (Python)  \n",
    "### 문제 : https://www.acmicpc.net/problem/20499\n",
    "### 블로그 : https://somjang.tistory.com/entry/BaekJoon-20499%EB%B2%88-Darius%EB%8B%98-%ED%95%9C%ED%83%80-%EC%95%88-%ED%95%A8-Python"
   ]
  },
  {
   "cell_type": "markdown",
   "metadata": {},
   "source": [
    "### Solution"
   ]
  },
  {
   "cell_type": "code",
   "execution_count": null,
   "metadata": {},
   "outputs": [],
   "source": [
    "def darius_hanta(K, D, A):\n",
    "    darius = \"gosu\"\n",
    "    \n",
    "    if K + A < D or D == 0:\n",
    "        darius = \"hasu\"\n",
    "        \n",
    "    return darius\n",
    "\n",
    "\n",
    "if __name__ == \"__main__\":\n",
    "    K, D, A = map(int, input().split(\"/\"))\n",
    "    \n",
    "    print(darius_hanta(K, D, A))"
   ]
  }
 ],
 "metadata": {
  "kernelspec": {
   "display_name": "Python 3",
   "language": "python",
   "name": "python3"
  },
  "language_info": {
   "codemirror_mode": {
    "name": "ipython",
    "version": 3
   },
   "file_extension": ".py",
   "mimetype": "text/x-python",
   "name": "python",
   "nbconvert_exporter": "python",
   "pygments_lexer": "ipython3",
   "version": "3.7.3"
  }
 },
 "nbformat": 4,
 "nbformat_minor": 2
}
