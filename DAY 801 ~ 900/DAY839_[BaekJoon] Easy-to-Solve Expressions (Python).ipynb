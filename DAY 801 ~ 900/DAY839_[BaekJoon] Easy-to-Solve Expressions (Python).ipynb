{
 "cells": [
  {
   "cell_type": "markdown",
   "metadata": {},
   "source": [
    "## 2022년 10월 14일 금요일\n",
    "### BaekJoon - Easy-to-Solve Expressions (Python)  \n",
    "### 문제 : https://www.acmicpc.net/problem/25784\n",
    "### 블로그 : https://somjang.tistory.com/entry/BaekJoon-25784%EB%B2%88-Easy-to-Solve-Expressions-Python"
   ]
  },
  {
   "cell_type": "markdown",
   "metadata": {},
   "source": [
    "### Solution"
   ]
  },
  {
   "cell_type": "code",
   "execution_count": null,
   "metadata": {},
   "outputs": [],
   "source": [
    "def is_sum_num_exist(num1, num2, num3):\n",
    "    is_exist = False\n",
    "    if num1 == num2 + num3:\n",
    "        is_exist = True\n",
    "    elif num2 == num1 + num3:\n",
    "        is_exist = True\n",
    "    elif num3 == num1 + num2:\n",
    "        is_exist = True\n",
    "        \n",
    "    return is_exist\n",
    "        \n",
    "\n",
    "def is_multiply_num_exist(num1, num2, num3):\n",
    "    is_exist = False\n",
    "    if num1 == num2 * num3:\n",
    "        is_exist = True\n",
    "    elif num2 == num1 * num3:\n",
    "        is_exist = True\n",
    "    elif num3 == num1 * num2:\n",
    "        is_exist = True\n",
    "        \n",
    "    return is_exist\n",
    "\n",
    "\n",
    "def easy_to_solve_expressions(num1, num2, num3):\n",
    "    answer = 3\n",
    "    \n",
    "    is_sum_exist = is_sum_num_exist(\n",
    "        num1=num1, num2=num2, num3=num3\n",
    "    )\n",
    "    \n",
    "    is_multiply_exist = is_multiply_num_exist(\n",
    "        num1=num1, num2=num2, num3=num3\n",
    "    )\n",
    "    \n",
    "    if is_sum_exist:\n",
    "        answer = 1\n",
    "    elif is_multiply_exist:\n",
    "        answer = 2\n",
    "    \n",
    "    return answer\n",
    "\n",
    "\n",
    "if __name__ == \"__main__\":\n",
    "    num1, num2, num3 = map(int, input().split())\n",
    "    \n",
    "    print(easy_to_solve_expressions(num1=num1, num2=num2, num3=num3))"
   ]
  }
 ],
 "metadata": {
  "kernelspec": {
   "display_name": "Python 3",
   "language": "python",
   "name": "python3"
  },
  "language_info": {
   "codemirror_mode": {
    "name": "ipython",
    "version": 3
   },
   "file_extension": ".py",
   "mimetype": "text/x-python",
   "name": "python",
   "nbconvert_exporter": "python",
   "pygments_lexer": "ipython3",
   "version": "3.7.3"
  }
 },
 "nbformat": 4,
 "nbformat_minor": 2
}
