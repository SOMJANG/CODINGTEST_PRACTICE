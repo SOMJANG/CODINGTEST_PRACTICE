{
 "cells": [
  {
   "cell_type": "markdown",
   "metadata": {},
   "source": [
    "## 2022년 9월 6일 화요일\n",
    "### BaekJoon - Sounds fishy! (Python)  \n",
    "### 문제 : https://www.acmicpc.net/problem/6764\n",
    "### 블로그 : https://somjang.tistory.com/entry/BaekJoon-6764%EB%B2%88-Sounds-fishy-Python"
   ]
  },
  {
   "cell_type": "markdown",
   "metadata": {},
   "source": [
    "### Solution"
   ]
  },
  {
   "cell_type": "code",
   "execution_count": null,
   "metadata": {},
   "outputs": [],
   "source": [
    "def sounds_fishy(depth_info):\n",
    "    answer = \"No Fish\"\n",
    "    check_num = 0\n",
    "    \n",
    "    for idx in range(len(depth_info)-1):\n",
    "        if depth_info[idx + 1] > depth_info[idx]:\n",
    "            check_num += 1\n",
    "        elif depth_info[idx + 1] < depth_info[idx]:\n",
    "            check_num -= 1\n",
    "            \n",
    "    if len(set(depth_info)) == 1:\n",
    "        answer = \"Fish At Constant Depth\"\n",
    "    elif check_num == 3:\n",
    "        answer = \"Fish Rising\"\n",
    "    elif check_num == -3:\n",
    "        answer = \"Fish Diving\"\n",
    "        \n",
    "    return answer\n",
    "\n",
    "\n",
    "if __name__ == \"__main__\":\n",
    "    depth_info = []\n",
    "    \n",
    "    for _ in range(4):\n",
    "        depth = int(input())\n",
    "        depth_info.append(depth)\n",
    "        \n",
    "    print(sounds_fishy(depth_info=depth_info))"
   ]
  }
 ],
 "metadata": {
  "kernelspec": {
   "display_name": "Python 3",
   "language": "python",
   "name": "python3"
  },
  "language_info": {
   "codemirror_mode": {
    "name": "ipython",
    "version": 3
   },
   "file_extension": ".py",
   "mimetype": "text/x-python",
   "name": "python",
   "nbconvert_exporter": "python",
   "pygments_lexer": "ipython3",
   "version": "3.7.3"
  }
 },
 "nbformat": 4,
 "nbformat_minor": 2
}
