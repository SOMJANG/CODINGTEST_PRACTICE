{
 "cells": [
  {
   "cell_type": "markdown",
   "metadata": {},
   "source": [
    "## 2022년 10월 12일 수요일\n",
    "### BaekJoon - Zadanie próbne 2 (Python)  \n",
    "### 문제 : https://www.acmicpc.net/problem/8871\n",
    "### 블로그 : https://somjang.tistory.com/entry/BaekJoon-8871%EB%B2%88-Zadanie-pr%C3%B3bne-2-Python"
   ]
  },
  {
   "cell_type": "markdown",
   "metadata": {},
   "source": [
    "### Solution"
   ]
  },
  {
   "cell_type": "code",
   "execution_count": null,
   "metadata": {},
   "outputs": [],
   "source": [
    "def zadanie_probne2(n):\n",
    "    return 2*(n+1), 3*(n+1)\n",
    "\n",
    "\n",
    "if __name__ == \"__main__\":\n",
    "    n = int(input())\n",
    "    min_num, max_num = zadanie_probne2(n=n)\n",
    "    print(min_num)\n",
    "    print(max_num)"
   ]
  }
 ],
 "metadata": {
  "kernelspec": {
   "display_name": "Python 3",
   "language": "python",
   "name": "python3"
  },
  "language_info": {
   "codemirror_mode": {
    "name": "ipython",
    "version": 3
   },
   "file_extension": ".py",
   "mimetype": "text/x-python",
   "name": "python",
   "nbconvert_exporter": "python",
   "pygments_lexer": "ipython3",
   "version": "3.7.3"
  }
 },
 "nbformat": 4,
 "nbformat_minor": 2
}
