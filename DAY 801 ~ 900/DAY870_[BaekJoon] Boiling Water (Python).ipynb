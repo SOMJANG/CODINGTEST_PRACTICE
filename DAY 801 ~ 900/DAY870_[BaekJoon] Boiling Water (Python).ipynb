{
 "cells": [
  {
   "cell_type": "markdown",
   "metadata": {},
   "source": [
    "## 2022년 11월 15일 화요일\n",
    "### BaekJoon - Boiling Water (Python)  \n",
    "### 문제 : https://www.acmicpc.net/problem/21612\n",
    "### 블로그 : https://somjang.tistory.com/entry/BaekJoon-21612%EB%B2%88-Boiling-Water-Python"
   ]
  },
  {
   "cell_type": "markdown",
   "metadata": {},
   "source": [
    "### Solution"
   ]
  },
  {
   "cell_type": "code",
   "execution_count": null,
   "metadata": {},
   "outputs": [],
   "source": [
    "def get_atmospheric_pressure(B):\n",
    "    return 5 * B - 400\n",
    "\n",
    "\n",
    "def boiling_water(B):\n",
    "    atmospheric_pressure = get_atmospheric_pressure(B=B)\n",
    "    \n",
    "    answer = 0\n",
    "    \n",
    "    if atmospheric_pressure > 100:\n",
    "        answer = -1\n",
    "    elif atmospheric_pressure < 100:\n",
    "        answer = 1\n",
    "        \n",
    "    return atmospheric_pressure, answer\n",
    "\n",
    "\n",
    "if __name__ == \"__main__\":\n",
    "    B = int(input())\n",
    "    atmospheric_pressure, answer = boiling_water(B=B)\n",
    "    \n",
    "    print(atmospheric_pressure)\n",
    "    print(answer)"
   ]
  }
 ],
 "metadata": {
  "kernelspec": {
   "display_name": "Python 3 (ipykernel)",
   "language": "python",
   "name": "python3"
  },
  "language_info": {
   "codemirror_mode": {
    "name": "ipython",
    "version": 3
   },
   "file_extension": ".py",
   "mimetype": "text/x-python",
   "name": "python",
   "nbconvert_exporter": "python",
   "pygments_lexer": "ipython3",
   "version": "3.9.13"
  }
 },
 "nbformat": 4,
 "nbformat_minor": 2
}
