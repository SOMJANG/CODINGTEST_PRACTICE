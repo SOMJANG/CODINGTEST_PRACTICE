{
 "cells": [
  {
   "cell_type": "markdown",
   "metadata": {},
   "source": [
    "## 2022년 10월 1일 토요일\n",
    "### BaekJoon - MBTI (Python)  \n",
    "### 문제 : https://www.acmicpc.net/problem/25640\n",
    "### 블로그 : https://somjang.tistory.com/entry/BaekJoon-25640%EB%B2%88-MBTI-Python"
   ]
  },
  {
   "cell_type": "markdown",
   "metadata": {},
   "source": [
    "### Solution"
   ]
  },
  {
   "cell_type": "code",
   "execution_count": null,
   "metadata": {},
   "outputs": [],
   "source": [
    "def mbti_check(jinho_mbti, friends_mbti):\n",
    "    return len([mbti for mbti in friends_mbti if mbti == jinho_mbti])\n",
    "\n",
    "if __name__ == \"__main__\":\n",
    "    friends_mbti = []\n",
    "    jinho_mbti = input()\n",
    "    for _ in range(int(input())):\n",
    "        mbti = input()\n",
    "        friends_mbti.append(mbti)\n",
    "        \n",
    "    print(mbti_check(jinho_mbti=jinho_mbti, friends_mbti=friends_mbti))"
   ]
  }
 ],
 "metadata": {
  "kernelspec": {
   "display_name": "Python 3",
   "language": "python",
   "name": "python3"
  },
  "language_info": {
   "codemirror_mode": {
    "name": "ipython",
    "version": 3
   },
   "file_extension": ".py",
   "mimetype": "text/x-python",
   "name": "python",
   "nbconvert_exporter": "python",
   "pygments_lexer": "ipython3",
   "version": "3.7.3"
  }
 },
 "nbformat": 4,
 "nbformat_minor": 2
}
