{
 "cells": [
  {
   "cell_type": "markdown",
   "metadata": {},
   "source": [
    "## 2022년 9월 16일 금요일\n",
    "### BaekJoon - 중간고사 채점 (Python)  \n",
    "### 문제 : https://www.acmicpc.net/problem/15702\n",
    "### 블로그 : https://somjang.tistory.com/entry/BaekJoon-15702%EB%B2%88-%EC%A4%91%EA%B0%84%EA%B3%A0%EC%82%AC-%EC%B1%84%EC%A0%90-Python"
   ]
  },
  {
   "cell_type": "markdown",
   "metadata": {},
   "source": [
    "### Solution"
   ]
  },
  {
   "cell_type": "code",
   "execution_count": null,
   "metadata": {},
   "outputs": [],
   "source": [
    "def calculate_score_from_exam_result(score_list, exam_result):\n",
    "    right_problem_score_list = [\n",
    "        score_list[result[0]] for result in enumerate(exam_result) \n",
    "        if result[1] == \"O\"\n",
    "    ]\n",
    "    \n",
    "    \n",
    "    return sum(right_problem_score_list) if right_problem_score_list else 0\n",
    "    \n",
    "\n",
    "\n",
    "def grade_midterm_exam(score_list, exam_result_dict):\n",
    "    student_exam_score_dict = {}\n",
    "    \n",
    "    for student_num in exam_result_dict.keys():\n",
    "        exam_result = exam_result_dict[student_num]\n",
    "        \n",
    "        student_exam_score_dict[student_num] = calculate_score_from_exam_result(\n",
    "            score_list=score_list, exam_result=exam_result\n",
    "        )\n",
    "        \n",
    "    sorted_result = sorted(\n",
    "        student_exam_score_dict.items(), \n",
    "        key=lambda x: (-x[1], x[0])\n",
    "    )\n",
    "    \n",
    "    return f\"{sorted_result[0][0]} {sorted_result[0][1]}\"\n",
    "    \n",
    "    \n",
    "if __name__ == \"__main__\":\n",
    "    N, M = map(int, input().split())\n",
    "    \n",
    "    score_list = list(map(int, input().split()))\n",
    "    \n",
    "    exam_result_dict = {}\n",
    "    \n",
    "    for _ in range(M):\n",
    "        exam_result = input().split()\n",
    "        \n",
    "        exam_result_dict[exam_result[0]] = exam_result[1:]\n",
    "    \n",
    "    print(grade_midterm_exam(score_list=score_list, exam_result_dict=exam_result_dict))"
   ]
  }
 ],
 "metadata": {
  "kernelspec": {
   "display_name": "Python 3",
   "language": "python",
   "name": "python3"
  },
  "language_info": {
   "codemirror_mode": {
    "name": "ipython",
    "version": 3
   },
   "file_extension": ".py",
   "mimetype": "text/x-python",
   "name": "python",
   "nbconvert_exporter": "python",
   "pygments_lexer": "ipython3",
   "version": "3.7.3"
  }
 },
 "nbformat": 4,
 "nbformat_minor": 2
}
