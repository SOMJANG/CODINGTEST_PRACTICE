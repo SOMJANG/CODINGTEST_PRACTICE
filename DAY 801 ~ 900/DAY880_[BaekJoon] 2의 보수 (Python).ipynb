{
 "cells": [
  {
   "cell_type": "markdown",
   "metadata": {},
   "source": [
    "## 2022년 11월 26일 토요일\n",
    "### BaekJoon - 2의 보수 (Python)  \n",
    "### 문제 : https://www.acmicpc.net/problem/24389\n",
    "### 블로그 : https://somjang.tistory.com/entry/BaekJoon-24389%EB%B2%88-2%EC%9D%98-%EB%B3%B4%EC%88%98-Python"
   ]
  },
  {
   "cell_type": "markdown",
   "metadata": {},
   "source": [
    "### Solution"
   ]
  },
  {
   "cell_type": "code",
   "execution_count": null,
   "metadata": {},
   "outputs": [],
   "source": [
    "def plus_one(bin_num):\n",
    "    temp = 1\n",
    "    result = []\n",
    "    \n",
    "    for bi_idx, bi in enumerate(bin_num[::-1]):\n",
    "#         print(f\"bi - {bi}\")\n",
    "        plus_result = int(bi) + temp\n",
    "#         print(f\"plus_result - {plus_result}\")\n",
    "        \n",
    "        if plus_result > 1:\n",
    "            result.append(str(0))\n",
    "        else:\n",
    "            result.append(str(1))\n",
    "            temp = 0\n",
    "\n",
    "        if temp == 0:\n",
    "            break\n",
    "            \n",
    "    return bin_num[:32-bi_idx-1] + result[::-1]\n",
    "        \n",
    "        \n",
    "        \n",
    "\n",
    "\n",
    "def two_complement(N):\n",
    "    answer = 0\n",
    "    binary = list(bin(N)[2:].zfill(32))\n",
    "    \n",
    "    reverse_binary = [str(abs(int(bi)-1)) for bi in binary]\n",
    "    \n",
    "#     print(\"\".join(binary))\n",
    "#     print(\"\".join(reverse_binary))\n",
    "    \n",
    "    complement = plus_one(bin_num=reverse_binary)\n",
    "#     print(\"\".join(complement))\n",
    "    \n",
    "    \n",
    "    for bi, co in zip(binary, complement):\n",
    "        if bi != co:\n",
    "            answer += 1\n",
    "            \n",
    "    return answer\n",
    "    \n",
    "\n",
    "if __name__ == \"__main__\":\n",
    "    N = int(input())\n",
    "    \n",
    "    print(two_complement(N=N))"
   ]
  }
 ],
 "metadata": {
  "kernelspec": {
   "display_name": "Python 3 (ipykernel)",
   "language": "python",
   "name": "python3"
  },
  "language_info": {
   "codemirror_mode": {
    "name": "ipython",
    "version": 3
   },
   "file_extension": ".py",
   "mimetype": "text/x-python",
   "name": "python",
   "nbconvert_exporter": "python",
   "pygments_lexer": "ipython3",
   "version": "3.9.13"
  }
 },
 "nbformat": 4,
 "nbformat_minor": 2
}
