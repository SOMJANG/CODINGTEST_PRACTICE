{
 "cells": [
  {
   "cell_type": "markdown",
   "metadata": {},
   "source": [
    "## 2022년 11월 13일 일요일\n",
    "### BaekJoon - Larger Sport Facility (Python)  \n",
    "### 문제 : https://www.acmicpc.net/problem/16099\n",
    "### 블로그 : https://somjang.tistory.com/entry/BaekJoon-16099%EB%B2%88-Larger-Sport-Facility-Python"
   ]
  },
  {
   "cell_type": "markdown",
   "metadata": {},
   "source": [
    "### Solution"
   ]
  },
  {
   "cell_type": "code",
   "execution_count": null,
   "metadata": {},
   "outputs": [],
   "source": [
    "def larger_sport_facility(lt, wt, le, we):\n",
    "    larger_facility = \"Tie\"\n",
    "    \n",
    "    eurecom = lt * wt\n",
    "    telecomparistech = le * we\n",
    "    \n",
    "    if eurecom > telecomparistech:\n",
    "        larger_facility = \"TelecomParisTech\"\n",
    "    elif eurecom < telecomparistech:\n",
    "        larger_facility = \"Eurecom\"\n",
    "        \n",
    "    return larger_facility\n",
    "\n",
    "\n",
    "if __name__ == \"__main__\":\n",
    "    for _ in range(int(input())):\n",
    "        lt, wt, le, we = map(int, input().split())\n",
    "        \n",
    "        print(larger_sport_facility(lt=lt, wt=wt, le=le, we=we))"
   ]
  }
 ],
 "metadata": {
  "kernelspec": {
   "display_name": "Python 3 (ipykernel)",
   "language": "python",
   "name": "python3"
  },
  "language_info": {
   "codemirror_mode": {
    "name": "ipython",
    "version": 3
   },
   "file_extension": ".py",
   "mimetype": "text/x-python",
   "name": "python",
   "nbconvert_exporter": "python",
   "pygments_lexer": "ipython3",
   "version": "3.9.13"
  }
 },
 "nbformat": 4,
 "nbformat_minor": 2
}
