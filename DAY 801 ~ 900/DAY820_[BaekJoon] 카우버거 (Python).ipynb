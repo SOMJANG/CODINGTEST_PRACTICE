{
 "cells": [
  {
   "cell_type": "markdown",
   "metadata": {},
   "source": [
    "## 2022년 9월 25일 일요일\n",
    "### BaekJoon - 카우버거 (Python)  \n",
    "### 문제 : https://www.acmicpc.net/problem/15720\n",
    "### 블로그 : https://somjang.tistory.com/entry/BaekJoon-15270%EB%B2%88-%EC%B9%B4%EC%9A%B0%EB%B2%84%EA%B1%B0-Python"
   ]
  },
  {
   "cell_type": "markdown",
   "metadata": {},
   "source": [
    "### Solution"
   ]
  },
  {
   "cell_type": "code",
   "execution_count": null,
   "metadata": {},
   "outputs": [],
   "source": [
    "def calculate_set_num(burger_num, side_num, beverage_num):\n",
    "    return min([burger_num, side_num, beverage_num])\n",
    "\n",
    "\n",
    "def calculate_set_menu_price(\n",
    "    burger_price_list, side_price_list, beverage_price_list\n",
    "):\n",
    "    return (sum(burger_price_list) + sum(side_price_list) + sum(beverage_price_list)) // 10 * 9\n",
    "\n",
    "\n",
    "def cow_burger(\n",
    "    burger_price_list, side_price_list, beverage_price_list\n",
    "):\n",
    "    burger_price_list.sort(reverse=True)\n",
    "    side_price_list.sort(reverse=True)\n",
    "    beverage_price_list.sort(reverse=True)\n",
    "    \n",
    "    set_num = calculate_set_num(\n",
    "        burger_num=len(burger_price_list), \n",
    "        side_num=len(side_price_list), \n",
    "        beverage_num=len(beverage_price_list)\n",
    "    )\n",
    "    \n",
    "    total_price = sum(burger_price_list) + sum(side_price_list) + sum(beverage_price_list)\n",
    "    \n",
    "    set_menu_price = calculate_set_menu_price(\n",
    "        burger_price_list=burger_price_list[:set_num], \n",
    "        side_price_list=side_price_list[:set_num], \n",
    "        beverage_price_list=beverage_price_list[:set_num]\n",
    "    ) + sum(burger_price_list[set_num:]) + sum(side_price_list[set_num:]) + sum(beverage_price_list[set_num:])\n",
    "    \n",
    "    \n",
    "    return total_price, set_menu_price\n",
    "    \n",
    "    \n",
    "if __name__ == \"__main__\":\n",
    "    B, C, D = map(int, input().split())\n",
    "    \n",
    "    burger_price_list = list(map(int, input().split()))\n",
    "    side_price_list = list(map(int, input().split()))\n",
    "    beverage_price_list = list(map(int, input().split()))\n",
    "    \n",
    "    \n",
    "    total_price, set_menu_price = cow_burger(\n",
    "        burger_price_list=burger_price_list, \n",
    "        side_price_list=side_price_list, \n",
    "        beverage_price_list=beverage_price_list\n",
    "    )\n",
    "    \n",
    "    print(total_price)\n",
    "    print(set_menu_price)"
   ]
  }
 ],
 "metadata": {
  "kernelspec": {
   "display_name": "Python 3",
   "language": "python",
   "name": "python3"
  },
  "language_info": {
   "codemirror_mode": {
    "name": "ipython",
    "version": 3
   },
   "file_extension": ".py",
   "mimetype": "text/x-python",
   "name": "python",
   "nbconvert_exporter": "python",
   "pygments_lexer": "ipython3",
   "version": "3.7.3"
  }
 },
 "nbformat": 4,
 "nbformat_minor": 2
}
