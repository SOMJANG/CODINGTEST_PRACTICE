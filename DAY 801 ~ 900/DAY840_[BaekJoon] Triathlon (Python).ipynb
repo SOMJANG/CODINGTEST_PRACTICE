{
 "cells": [
  {
   "cell_type": "markdown",
   "metadata": {},
   "source": [
    "## 2022년 10월 15일 토요일\n",
    "### BaekJoon - Triathlon (Python)  \n",
    "### 문제 : https://www.acmicpc.net/problem/25600\n",
    "### 블로그 : https://somjang.tistory.com/entry/BaekJoon-25600%EB%B2%88-Triathlon-Python"
   ]
  },
  {
   "cell_type": "markdown",
   "metadata": {},
   "source": [
    "### Solution"
   ]
  },
  {
   "cell_type": "code",
   "execution_count": null,
   "metadata": {},
   "outputs": [],
   "source": [
    "def calculate_triathlon_score(a, d, g):\n",
    "    score = a * ( d + g )\n",
    "    \n",
    "    if a == ( d + g ):\n",
    "        score *= 2\n",
    "        \n",
    "    return score\n",
    "\n",
    "\n",
    "def get_max_score(score_list):\n",
    "    answer_score = 0\n",
    "    \n",
    "    for score in score_list:\n",
    "        a, d, g = score[0], score[1], score[2]\n",
    "        \n",
    "        triathlon_score = calculate_triathlon_score(\n",
    "            a=a, d=d, g=g\n",
    "        )\n",
    "        \n",
    "        if answer_score < triathlon_score:\n",
    "            answer_score = triathlon_score\n",
    "            \n",
    "    return answer_score\n",
    "        \n",
    "\n",
    "if __name__ == \"__main__\":\n",
    "    score_list = []\n",
    "    \n",
    "    for _ in range(int(input())):\n",
    "        a, d, g = map(int, input().split())\n",
    "        \n",
    "        score_list.append([a, d, g])\n",
    "        \n",
    "    print(get_max_score(score_list=score_list))"
   ]
  }
 ],
 "metadata": {
  "kernelspec": {
   "display_name": "Python 3",
   "language": "python",
   "name": "python3"
  },
  "language_info": {
   "codemirror_mode": {
    "name": "ipython",
    "version": 3
   },
   "file_extension": ".py",
   "mimetype": "text/x-python",
   "name": "python",
   "nbconvert_exporter": "python",
   "pygments_lexer": "ipython3",
   "version": "3.7.3"
  }
 },
 "nbformat": 4,
 "nbformat_minor": 2
}
