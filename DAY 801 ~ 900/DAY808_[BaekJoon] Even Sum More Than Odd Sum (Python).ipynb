{
 "cells": [
  {
   "cell_type": "markdown",
   "metadata": {},
   "source": [
    "## 2022년 9월 12일 월요일\n",
    "### BaekJoon - Even Sum More Than Odd Sum (Python)  \n",
    "### 문제 : https://www.acmicpc.net/problem/5235\n",
    "### 블로그 : https://somjang.tistory.com/entry/BaekJoon-5235%EB%B2%88-Even-Sum-More-Than-Odd-Sum-Python"
   ]
  },
  {
   "cell_type": "markdown",
   "metadata": {},
   "source": [
    "### Solution"
   ]
  },
  {
   "cell_type": "code",
   "execution_count": null,
   "metadata": {},
   "outputs": [],
   "source": [
    "def divide_numbers_odd_even(number_list):\n",
    "    odd_numbers = [num for num in number_list if num % 2 == 1]\n",
    "    even_numbers = [num for num in number_list if num % 2 == 0]\n",
    "    \n",
    "    return odd_numbers, even_numbers\n",
    "\n",
    "\n",
    "def sum_numbers(number_list):\n",
    "    return sum(number_list) if number_list else 0\n",
    "\n",
    "\n",
    "def compare_odd_even_sum(odd_sum, even_sum):\n",
    "    result = \"TIE\"\n",
    "    if odd_sum > even_sum:\n",
    "        result = \"ODD\"\n",
    "    elif odd_sum < even_sum:\n",
    "        result = \"EVEN\"\n",
    "        \n",
    "    return result\n",
    "\n",
    "\n",
    "def even_sum_more_than_odd_sum(number_list):\n",
    "    odd_numbers, even_numbers = divide_numbers_odd_even(\n",
    "        number_list=number_list[1:]\n",
    "    )\n",
    "    \n",
    "    odd_sum = sum_numbers(number_list=odd_numbers)\n",
    "    even_sum = sum_numbers(number_list=even_numbers)\n",
    "\n",
    "    compare_result = compare_odd_even_sum(\n",
    "        odd_sum=odd_sum, even_sum=even_sum\n",
    "    )\n",
    "    \n",
    "    return compare_result\n",
    "    \n",
    "    \n",
    "if __name__ == \"__main__\":\n",
    "    for _ in range(int(input())):\n",
    "        number_list = list(map(int, input().split()))\n",
    "        \n",
    "        print(even_sum_more_than_odd_sum(number_list=number_list))"
   ]
  }
 ],
 "metadata": {
  "kernelspec": {
   "display_name": "Python 3",
   "language": "python",
   "name": "python3"
  },
  "language_info": {
   "codemirror_mode": {
    "name": "ipython",
    "version": 3
   },
   "file_extension": ".py",
   "mimetype": "text/x-python",
   "name": "python",
   "nbconvert_exporter": "python",
   "pygments_lexer": "ipython3",
   "version": "3.7.3"
  }
 },
 "nbformat": 4,
 "nbformat_minor": 2
}
