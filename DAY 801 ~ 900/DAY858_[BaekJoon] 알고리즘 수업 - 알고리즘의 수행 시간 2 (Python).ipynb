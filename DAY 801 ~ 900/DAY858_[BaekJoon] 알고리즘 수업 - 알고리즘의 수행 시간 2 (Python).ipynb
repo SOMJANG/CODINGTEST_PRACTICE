{
 "cells": [
  {
   "cell_type": "markdown",
   "metadata": {},
   "source": [
    "## 2022년 11월 03일 목요일\n",
    "### BaekJoon - 알고리즘 수업 - 알고리즘의 수행 시간 2 (Python)  \n",
    "### 문제 : https://www.acmicpc.net/problem/24263\n",
    "### 블로그 : https://somjang.tistory.com/entry/BaekJoon-24263%EB%B2%88-%EC%95%8C%EA%B3%A0%EB%A6%AC%EC%A6%98-%EC%88%98%EC%97%85-%EC%95%8C%EA%B3%A0%EB%A6%AC%EC%A6%98%EC%9D%98-%EC%88%98%ED%96%89-%EC%8B%9C%EA%B0%84-2-Python"
   ]
  },
  {
   "cell_type": "markdown",
   "metadata": {},
   "source": [
    "### Solution"
   ]
  },
  {
   "cell_type": "code",
   "execution_count": null,
   "metadata": {},
   "outputs": [],
   "source": [
    "def algorithm_time(n):\n",
    "    print(n)\n",
    "    print(1)\n",
    "    \n",
    "\n",
    "if __name__ == \"__main__\":\n",
    "    n = input()\n",
    "    algorithm_time(n=n)"
   ]
  }
 ],
 "metadata": {
  "kernelspec": {
   "display_name": "Python 3 (ipykernel)",
   "language": "python",
   "name": "python3"
  },
  "language_info": {
   "codemirror_mode": {
    "name": "ipython",
    "version": 3
   },
   "file_extension": ".py",
   "mimetype": "text/x-python",
   "name": "python",
   "nbconvert_exporter": "python",
   "pygments_lexer": "ipython3",
   "version": "3.9.13"
  }
 },
 "nbformat": 4,
 "nbformat_minor": 2
}
