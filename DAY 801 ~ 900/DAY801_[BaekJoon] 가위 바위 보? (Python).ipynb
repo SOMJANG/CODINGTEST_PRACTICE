{
 "cells": [
  {
   "cell_type": "markdown",
   "metadata": {},
   "source": [
    "## 2022년 9월 4일 일요일\n",
    "### BaekJoon - 가위 바위 보? (Python)  \n",
    "### 문제 : https://www.acmicpc.net/problem/4493\n",
    "### 블로그 : https://somjang.tistory.com/entry/BaekJoon-4493%EB%B2%88-%EA%B0%80%EC%9C%84-%EB%B0%94%EC%9C%84-%EB%B3%B4-Python"
   ]
  },
  {
   "cell_type": "markdown",
   "metadata": {},
   "source": [
    "### Solution"
   ]
  },
  {
   "cell_type": "code",
   "execution_count": null,
   "metadata": {},
   "outputs": [],
   "source": [
    "def rock_scissors_paper(player1, player2, score_list):\n",
    "    if player1 == \"R\" and player2 == \"P\":\n",
    "        score_list[1] += 1\n",
    "    elif player1 == \"P\" and player2 == \"R\":\n",
    "        score_list[0] += 1\n",
    "    elif player1 == \"S\" and player2 == \"P\":\n",
    "        score_list[0] += 1\n",
    "    elif player1 == \"P\" and player2 == \"S\":\n",
    "        score_list[1] += 1\n",
    "    elif player1 == \"S\" and player2 == \"R\":\n",
    "        score_list[1] += 1\n",
    "    elif player1 == \"R\" and player2 == \"S\":\n",
    "        score_list[0] += 1\n",
    "    else:\n",
    "        score_list[0] += 1\n",
    "        score_list[1] += 1\n",
    "        \n",
    "    return score_list\n",
    "\n",
    "\n",
    "def match_result(score_list):\n",
    "    answer = \"TIE\"\n",
    "    \n",
    "    if score_list[0] > score_list[1]:\n",
    "        answer = \"Player 1\"\n",
    "    elif score_list[0] < score_list[1]:\n",
    "        answer = \"Player 2\"\n",
    "        \n",
    "    return answer\n",
    "        \n",
    "\n",
    "if __name__ == \"__main__\":\n",
    "    for _ in range(int(input())):\n",
    "        score_list = [0, 0]\n",
    "        \n",
    "        for _ in range(int(input())):\n",
    "            player1, player2 = map(str, input().split())\n",
    "            score_list = rock_scissors_paper(\n",
    "                player1=player1, player2=player2,\n",
    "                score_list=score_list\n",
    "            )\n",
    "            \n",
    "            \n",
    "        print(match_result(score_list=score_list))"
   ]
  }
 ],
 "metadata": {
  "kernelspec": {
   "display_name": "Python 3",
   "language": "python",
   "name": "python3"
  },
  "language_info": {
   "codemirror_mode": {
    "name": "ipython",
    "version": 3
   },
   "file_extension": ".py",
   "mimetype": "text/x-python",
   "name": "python",
   "nbconvert_exporter": "python",
   "pygments_lexer": "ipython3",
   "version": "3.7.3"
  }
 },
 "nbformat": 4,
 "nbformat_minor": 2
}
