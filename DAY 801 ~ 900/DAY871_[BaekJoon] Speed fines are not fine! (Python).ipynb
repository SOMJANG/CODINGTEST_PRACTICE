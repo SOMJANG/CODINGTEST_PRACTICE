{
 "cells": [
  {
   "cell_type": "markdown",
   "metadata": {},
   "source": [
    "## 2022년 11월 16일 수요일\n",
    "### BaekJoon - Speed fines are not fine! (Python)  \n",
    "### 문제 : https://www.acmicpc.net/problem/6763\n",
    "### 블로그 : https://somjang.tistory.com/entry/BaekJoon-6763%EB%B2%88-Speed-fines-are-not-fine-Python"
   ]
  },
  {
   "cell_type": "markdown",
   "metadata": {},
   "source": [
    "### Solution"
   ]
  },
  {
   "cell_type": "code",
   "execution_count": null,
   "metadata": {},
   "outputs": [],
   "source": [
    "def check_is_over_speed(limit, curr_speed):\n",
    "    is_over_speed = False\n",
    "    over_speed = 0\n",
    "    \n",
    "    if limit < curr_speed:\n",
    "        is_over_speed = True\n",
    "        over_speed = curr_speed - limit\n",
    "        \n",
    "    return is_over_speed, over_speed\n",
    "\n",
    "\n",
    "def calculate_fine(over_speed):\n",
    "    if 1 <= over_speed <= 20:\n",
    "        fine = 100\n",
    "    elif 21 <= over_speed <= 30:\n",
    "        fine = 270\n",
    "    elif 31 <= over_speed:\n",
    "        fine = 500\n",
    "        \n",
    "    return fine\n",
    "\n",
    "\n",
    "def speed_fines_are_not_fine(limit, curr_speed):\n",
    "    answer = \"Congratulations, you are within the speed limit!\"\n",
    "    \n",
    "    is_over_speed, over_speed = check_is_over_speed(\n",
    "        limit=limit, curr_speed=curr_speed\n",
    "    )\n",
    "    \n",
    "    if is_over_speed:\n",
    "        fine = calculate_fine(\n",
    "            over_speed=over_speed\n",
    "        )\n",
    "        \n",
    "        answer = f\"You are speeding and your fine is ${fine}.\"\n",
    "        \n",
    "    return answer\n",
    "\n",
    "\n",
    "if __name__ == \"__main__\":\n",
    "    limit = int(input())\n",
    "    curr_speed = int(input())\n",
    "    \n",
    "    print(speed_fines_are_not_fine(limit=limit, curr_speed=curr_speed))"
   ]
  }
 ],
 "metadata": {
  "kernelspec": {
   "display_name": "Python 3 (ipykernel)",
   "language": "python",
   "name": "python3"
  },
  "language_info": {
   "codemirror_mode": {
    "name": "ipython",
    "version": 3
   },
   "file_extension": ".py",
   "mimetype": "text/x-python",
   "name": "python",
   "nbconvert_exporter": "python",
   "pygments_lexer": "ipython3",
   "version": "3.9.13"
  }
 },
 "nbformat": 4,
 "nbformat_minor": 2
}
