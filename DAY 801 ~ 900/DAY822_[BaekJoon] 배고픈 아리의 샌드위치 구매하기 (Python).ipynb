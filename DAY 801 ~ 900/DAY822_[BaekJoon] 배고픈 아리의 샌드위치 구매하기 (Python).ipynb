{
 "cells": [
  {
   "cell_type": "markdown",
   "metadata": {},
   "source": [
    "## 2022년 9월 27일 화요일\n",
    "### BaekJoon - 배고픈 아리의 샌드위치 구매하기 (Python)  \n",
    "### 문제 : https://www.acmicpc.net/problem/25166\n",
    "### 블로그 : https://somjang.tistory.com/entry/BaekJoon-25166%EB%B2%88-%EB%B0%B0%EA%B3%A0%ED%94%88-%EC%95%84%EB%A6%AC%EC%9D%98-%EC%83%8C%EB%93%9C%EC%9C%84%EC%B9%98-%EA%B5%AC%EB%A7%A4%ED%95%98%EA%B8%B0-Python"
   ]
  },
  {
   "cell_type": "markdown",
   "metadata": {},
   "source": [
    "### Solution"
   ]
  },
  {
   "cell_type": "code",
   "execution_count": null,
   "metadata": {},
   "outputs": [],
   "source": [
    "def calculate_coin_num_and_extra_money(money, coin_list, max_coin_num):\n",
    "    coin_num_dict = {}\n",
    "        \n",
    "    for coin in coin_list:\n",
    "        if money == 0:\n",
    "            break\n",
    "\n",
    "        for _ in range(max_coin_num):\n",
    "            if money >= coin:\n",
    "                if coin not in coin_num_dict.keys():\n",
    "                    coin_num_dict[coin] = 0\n",
    "                coin_num_dict[coin] += 1\n",
    "                money -= coin   \n",
    "            \n",
    "    return coin_num_dict, money\n",
    "\n",
    "\n",
    "def check_can_borrow_money(more_need_coin, cookie_coin):\n",
    "    is_can_borrow = True\n",
    "    \n",
    "    coin_list = sorted(list(cookie_coin.keys()), reverse=True)\n",
    "    \n",
    "    coin_dict, extra_money = calculate_coin_num_and_extra_money(\n",
    "        money=more_need_coin, coin_list=coin_list, max_coin_num=1)\n",
    "    \n",
    "    if extra_money > 0:\n",
    "        is_can_borrow = False\n",
    "            \n",
    "    return is_can_borrow\n",
    "\n",
    "\n",
    "def hungry_ari_buy_sandwich(S, M, coin_list):\n",
    "    answer = \"No thanks\"\n",
    "    \n",
    "    sandwich_price_need_coin, sandwich_extra_money = calculate_coin_num_and_extra_money(\n",
    "        money=S, coin_list=coin_list, max_coin_num=1\n",
    "    )\n",
    "    \n",
    "    cookie_coin, cookie_extra_money = calculate_coin_num_and_extra_money(\n",
    "        money=M, coin_list=coin_list, max_coin_num=1\n",
    "    )\n",
    "    \n",
    "    if sandwich_extra_money > 0:\n",
    "        is_can_borrow = check_can_borrow_money(\n",
    "            more_need_coin=sandwich_extra_money, cookie_coin=cookie_coin\n",
    "        )\n",
    "        \n",
    "        if is_can_borrow:\n",
    "            answer = \"Thanks\"\n",
    "        else:\n",
    "            answer = \"Impossible\"\n",
    "            \n",
    "    return answer\n",
    "        \n",
    "\n",
    "if __name__ == \"__main__\":\n",
    "    S, M = map(int, input().split())\n",
    "    \n",
    "    coin_list = [1, 2, 4, 8, 16, 32, 64, 128, 256, 512]\n",
    "    \n",
    "    print(hungry_ari_buy_sandwich(S, M, sorted(coin_list, reverse=True)))    "
   ]
  }
 ],
 "metadata": {
  "kernelspec": {
   "display_name": "Python 3",
   "language": "python",
   "name": "python3"
  },
  "language_info": {
   "codemirror_mode": {
    "name": "ipython",
    "version": 3
   },
   "file_extension": ".py",
   "mimetype": "text/x-python",
   "name": "python",
   "nbconvert_exporter": "python",
   "pygments_lexer": "ipython3",
   "version": "3.7.3"
  }
 },
 "nbformat": 4,
 "nbformat_minor": 2
}
