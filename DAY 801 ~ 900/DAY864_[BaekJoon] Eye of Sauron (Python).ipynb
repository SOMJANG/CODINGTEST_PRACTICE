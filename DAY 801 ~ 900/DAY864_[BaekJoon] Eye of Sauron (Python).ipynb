{
 "cells": [
  {
   "cell_type": "markdown",
   "metadata": {},
   "source": [
    "## 2022년 11월 09일 수요일\n",
    "### BaekJoon - Eye of Sauron (Python)  \n",
    "### 문제 : https://www.acmicpc.net/problem/24405\n",
    "### 블로그 : https://somjang.tistory.com/entry/BaekJoon-24405%EB%B2%88-Eye-of-Sauron-Python"
   ]
  },
  {
   "cell_type": "markdown",
   "metadata": {},
   "source": [
    "### Solution"
   ]
  },
  {
   "cell_type": "code",
   "execution_count": null,
   "metadata": {},
   "outputs": [],
   "source": [
    "def eye_of_sauron(string):\n",
    "    answer = \"fix\"\n",
    "    \n",
    "    left, right = string.split(\"()\")\n",
    "    \n",
    "    if left == right:\n",
    "        answer = \"correct\"\n",
    "        \n",
    "    return answer\n",
    "\n",
    "\n",
    "if __name__ == \"__main__\":\n",
    "    string = input()\n",
    "    \n",
    "    print(eye_of_sauron(string=string))"
   ]
  }
 ],
 "metadata": {
  "kernelspec": {
   "display_name": "Python 3 (ipykernel)",
   "language": "python",
   "name": "python3"
  },
  "language_info": {
   "codemirror_mode": {
    "name": "ipython",
    "version": 3
   },
   "file_extension": ".py",
   "mimetype": "text/x-python",
   "name": "python",
   "nbconvert_exporter": "python",
   "pygments_lexer": "ipython3",
   "version": "3.9.13"
  }
 },
 "nbformat": 4,
 "nbformat_minor": 2
}
