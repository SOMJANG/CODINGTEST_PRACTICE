{
 "cells": [
  {
   "cell_type": "markdown",
   "metadata": {},
   "source": [
    "## 2022년 10월 20일 목요일\n",
    "### BaekJoon - Pizza Deal (Python)  \n",
    "### 문제 : https://www.acmicpc.net/problem/16693\n",
    "### 블로그 : https://somjang.tistory.com/entry/BaekJoon-16693%EB%B2%88-Pizza-Deal-Python"
   ]
  },
  {
   "cell_type": "markdown",
   "metadata": {},
   "source": [
    "### Solution"
   ]
  },
  {
   "cell_type": "code",
   "execution_count": null,
   "metadata": {},
   "outputs": [],
   "source": [
    "import math\n",
    "\n",
    "\n",
    "def pizza_deal(A1, P1, R1, P2):\n",
    "    pizza01 = P1 / A1\n",
    "    pizza02 = P2 / (pow(R1, 2) * math.pi)\n",
    "    \n",
    "    return \"Whole pizza\" if pizza01 > pizza02 else \"Slice of pizza\"\n",
    "\n",
    "if __name__ == \"__main__\":\n",
    "    A1, P1 = map(int, input().split())\n",
    "    R1, P2 = map(int, input().split())\n",
    "    \n",
    "    print(pizza_deal(A1=A1, P1=P1, R1=R1, P2=P2))"
   ]
  }
 ],
 "metadata": {
  "kernelspec": {
   "display_name": "Python 3",
   "language": "python",
   "name": "python3"
  },
  "language_info": {
   "codemirror_mode": {
    "name": "ipython",
    "version": 3
   },
   "file_extension": ".py",
   "mimetype": "text/x-python",
   "name": "python",
   "nbconvert_exporter": "python",
   "pygments_lexer": "ipython3",
   "version": "3.7.3"
  }
 },
 "nbformat": 4,
 "nbformat_minor": 2
}
