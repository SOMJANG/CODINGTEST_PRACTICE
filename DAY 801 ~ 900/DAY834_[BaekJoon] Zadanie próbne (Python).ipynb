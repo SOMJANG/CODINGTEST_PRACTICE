{
 "cells": [
  {
   "cell_type": "markdown",
   "metadata": {},
   "source": [
    "## 2022년 10월 9일 일요일\n",
    "### BaekJoon - Zadanie próbne (Python)  \n",
    "### 문제 : https://www.acmicpc.net/problem/8545\n",
    "### 블로그 : https://somjang.tistory.com/entry/BaekJoon-8548%EB%B2%88-Zadanie-pr%C3%B3bne-Python"
   ]
  },
  {
   "cell_type": "markdown",
   "metadata": {},
   "source": [
    "### Solution"
   ]
  },
  {
   "cell_type": "code",
   "execution_count": null,
   "metadata": {},
   "outputs": [],
   "source": [
    "def zaanie_probne(word):\n",
    "    return word[::-1]\n",
    "\n",
    "\n",
    "if __name__ == \"__main__\":\n",
    "    word = input()\n",
    "    \n",
    "    print(zaanie_probne(word=word))"
   ]
  }
 ],
 "metadata": {
  "kernelspec": {
   "display_name": "Python 3",
   "language": "python",
   "name": "python3"
  },
  "language_info": {
   "codemirror_mode": {
    "name": "ipython",
    "version": 3
   },
   "file_extension": ".py",
   "mimetype": "text/x-python",
   "name": "python",
   "nbconvert_exporter": "python",
   "pygments_lexer": "ipython3",
   "version": "3.7.3"
  }
 },
 "nbformat": 4,
 "nbformat_minor": 2
}
