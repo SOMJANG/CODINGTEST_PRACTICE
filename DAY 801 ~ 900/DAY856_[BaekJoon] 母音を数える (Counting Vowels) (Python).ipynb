{
 "cells": [
  {
   "cell_type": "markdown",
   "metadata": {},
   "source": [
    "## 2022년 11월 01일 화요일\n",
    "### BaekJoon - 母音を数える (Counting Vowels) (Python)  \n",
    "### 문제 : https://www.acmicpc.net/problem/18409\n",
    "### 블로그 : https://somjang.tistory.com/entry/BaekJoon-18409%EB%B2%88-%E6%AF%8D%E9%9F%B3%E3%82%92%E6%95%B0%E3%81%88%E3%82%8B-Counting-Vowels-Python"
   ]
  },
  {
   "cell_type": "markdown",
   "metadata": {},
   "source": [
    "### Solution"
   ]
  },
  {
   "cell_type": "code",
   "execution_count": null,
   "metadata": {},
   "outputs": [],
   "source": [
    "def counting_vowels(word):\n",
    "    vowels = [\"a\", \"e\", \"i\", \"o\", \"u\"]\n",
    "    \n",
    "    return len([char for char in list(word) if char in vowels])\n",
    "\n",
    "\n",
    "if __name__ == \"__main__\":\n",
    "    N = int(input())\n",
    "    S = input()\n",
    "    \n",
    "    print(counting_vowels(word=S))"
   ]
  }
 ],
 "metadata": {
  "kernelspec": {
   "display_name": "Python 3 (ipykernel)",
   "language": "python",
   "name": "python3"
  },
  "language_info": {
   "codemirror_mode": {
    "name": "ipython",
    "version": 3
   },
   "file_extension": ".py",
   "mimetype": "text/x-python",
   "name": "python",
   "nbconvert_exporter": "python",
   "pygments_lexer": "ipython3",
   "version": "3.9.13"
  }
 },
 "nbformat": 4,
 "nbformat_minor": 2
}
