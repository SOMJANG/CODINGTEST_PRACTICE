{
 "cells": [
  {
   "cell_type": "markdown",
   "metadata": {},
   "source": [
    "## 2022년 10월 23일 일요일\n",
    "### BaekJoon - 스트릿 코딩 파이터 (Python)  \n",
    "### 문제 : https://www.acmicpc.net/problem/23348\n",
    "### 블로그 : https://somjang.tistory.com/entry/BaekJoon-23348%EB%B2%88-%EC%8A%A4%ED%8A%B8%EB%A6%BF-%EC%BD%94%EB%94%A9-%ED%8C%8C%EC%9D%B4%ED%84%B0-Python"
   ]
  },
  {
   "cell_type": "markdown",
   "metadata": {},
   "source": [
    "### Solution"
   ]
  },
  {
   "cell_type": "code",
   "execution_count": null,
   "metadata": {},
   "outputs": [],
   "source": [
    "def calculate_team_score(A, B, C, team_skill_info_list):\n",
    "    team_score = 0\n",
    "    \n",
    "    for team_skill_info in team_skill_info_list:\n",
    "        team_score += A * team_skill_info[0] + B * team_skill_info[1] + C * team_skill_info[2]\n",
    "    \n",
    "    return team_score\n",
    "    \n",
    "\n",
    "def street_coding_fighter(A, B, C, N, team_skill_list):\n",
    "    max_score = 0\n",
    "    \n",
    "    for team_idx in range(N):\n",
    "        team_skill_info_list = team_skill_list[team_idx]\n",
    "        \n",
    "        team_score = calculate_team_score(\n",
    "            A=A, B=B, C=C, team_skill_info_list=team_skill_info_list\n",
    "        )\n",
    "        \n",
    "        if max_score < team_score:\n",
    "            max_score = team_score\n",
    "    \n",
    "    return max_score\n",
    "\n",
    "\n",
    "if __name__ == \"__main__\":\n",
    "    team_skill_list = []\n",
    "    \n",
    "    A, B, C = map(int, input().split())\n",
    "    N = int(input())\n",
    "    \n",
    "    for _ in range(N):\n",
    "        team_skill_info_list = []\n",
    "        for _ in range(3):\n",
    "            team_skill_info = list(map(int, input().split()))\n",
    "        \n",
    "            team_skill_info_list.append(team_skill_info)\n",
    "        team_skill_list.append(team_skill_info_list)\n",
    "        \n",
    "    print(street_coding_fighter(A=A, B=B, C=C, N=N, team_skill_list=team_skill_list))"
   ]
  }
 ],
 "metadata": {
  "kernelspec": {
   "display_name": "Python 3 (ipykernel)",
   "language": "python",
   "name": "python3"
  },
  "language_info": {
   "codemirror_mode": {
    "name": "ipython",
    "version": 3
   },
   "file_extension": ".py",
   "mimetype": "text/x-python",
   "name": "python",
   "nbconvert_exporter": "python",
   "pygments_lexer": "ipython3",
   "version": "3.9.13"
  }
 },
 "nbformat": 4,
 "nbformat_minor": 2
}
