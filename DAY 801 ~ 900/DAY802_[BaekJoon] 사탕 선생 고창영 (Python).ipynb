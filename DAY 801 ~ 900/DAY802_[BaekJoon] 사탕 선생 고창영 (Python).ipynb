{
 "cells": [
  {
   "cell_type": "markdown",
   "metadata": {},
   "source": [
    "## 2022년 9월 5일 월요일\n",
    "### BaekJoon - 사탕 선생 고창영 (Python)  \n",
    "### 문제 : https://www.acmicpc.net/problem/2547\n",
    "### 블로그 : https://somjang.tistory.com/entry/BaekJoon-2547%EB%B2%88-%EC%82%AC%ED%83%95-%EC%84%A0%EC%83%9D-%EA%B3%A0%EC%B0%BD%EC%98%81-Python"
   ]
  },
  {
   "cell_type": "markdown",
   "metadata": {},
   "source": [
    "### Solution"
   ]
  },
  {
   "cell_type": "code",
   "execution_count": null,
   "metadata": {},
   "outputs": [],
   "source": [
    "def candy_teacher_changyounggo(candy_list):\n",
    "    answer = \"NO\"\n",
    "    \n",
    "    total_candy = sum(candy_list)\n",
    "    \n",
    "    if total_candy % len(candy_list) == 0:\n",
    "        answer = \"YES\"\n",
    "        \n",
    "    return answer\n",
    "        \n",
    "    \n",
    "if __name__ == \"__main__\":    \n",
    "    case_num = int(input())\n",
    "    \n",
    "    for _ in range(case_num):\n",
    "        candy_list = []\n",
    "        \n",
    "        space = input()\n",
    "        \n",
    "        for _ in range(int(input())):\n",
    "            candy = int(input())\n",
    "            candy_list.append(candy)\n",
    "            \n",
    "        print(candy_teacher_changyounggo(candy_list=candy_list))"
   ]
  }
 ],
 "metadata": {
  "kernelspec": {
   "display_name": "Python 3",
   "language": "python",
   "name": "python3"
  },
  "language_info": {
   "codemirror_mode": {
    "name": "ipython",
    "version": 3
   },
   "file_extension": ".py",
   "mimetype": "text/x-python",
   "name": "python",
   "nbconvert_exporter": "python",
   "pygments_lexer": "ipython3",
   "version": "3.7.3"
  }
 },
 "nbformat": 4,
 "nbformat_minor": 2
}
