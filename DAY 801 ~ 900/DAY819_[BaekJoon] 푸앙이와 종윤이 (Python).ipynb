{
 "cells": [
  {
   "cell_type": "markdown",
   "metadata": {},
   "source": [
    "## 2022년 9월 23일 금요일\n",
    "### BaekJoon - 푸앙이와 종윤이 (Python)  \n",
    "### 문제 : https://www.acmicpc.net/problem/25591\n",
    "### 블로그 : https://somjang.tistory.com/entry/BaekJoon-25591%EB%B2%88-%ED%91%B8%EC%95%99%EC%9D%B4%EC%99%80-%EC%A2%85%EC%9C%A4%EC%9D%B4-Python"
   ]
  },
  {
   "cell_type": "markdown",
   "metadata": {},
   "source": [
    "### Solution"
   ]
  },
  {
   "cell_type": "code",
   "execution_count": null,
   "metadata": {},
   "outputs": [],
   "source": [
    "def get_a_b(num):\n",
    "    return 100 - num\n",
    "\n",
    "\n",
    "def get_c(a, b):\n",
    "    return 100 - (a+b)\n",
    "\n",
    "\n",
    "def get_d(a, b):\n",
    "    return a * b\n",
    "\n",
    "\n",
    "def get_q(d):\n",
    "    return d // 100\n",
    "\n",
    "\n",
    "def get_r(d):\n",
    "    return d % 100\n",
    "\n",
    "\n",
    "def calculate_two_digits(c, q, r):\n",
    "    return c + q, r\n",
    "\n",
    "\n",
    "\n",
    "def pooang_and_jongyoon(num1, num2):\n",
    "    a, b = get_a_b(num=num1), get_a_b(num=num2)\n",
    "    c = get_c(a=a, b=b)\n",
    "    \n",
    "    d = get_d(a=a, b=b)\n",
    "    q = get_q(d=d)\n",
    "    r = get_r(d=d)\n",
    "    \n",
    "    first_two_digit, last_two_digit = calculate_two_digits(c=c, q=q, r=r)\n",
    "    \n",
    "    return f\"{a} {b} {c} {d} {q} {r}\", f\"{first_two_digit} {last_two_digit}\"\n",
    "\n",
    "\n",
    "def print_answer(answer):\n",
    "    print(answer[0])\n",
    "    print(answer[1])\n",
    "\n",
    "\n",
    "if __name__ == \"__main__\":\n",
    "    num1, num2 = map(int, input().split())\n",
    "    \n",
    "    answer = pooang_and_jongyoon(num1, num2)\n",
    "    \n",
    "    print_answer(answer=answer)"
   ]
  }
 ],
 "metadata": {
  "kernelspec": {
   "display_name": "Python 3",
   "language": "python",
   "name": "python3"
  },
  "language_info": {
   "codemirror_mode": {
    "name": "ipython",
    "version": 3
   },
   "file_extension": ".py",
   "mimetype": "text/x-python",
   "name": "python",
   "nbconvert_exporter": "python",
   "pygments_lexer": "ipython3",
   "version": "3.7.3"
  }
 },
 "nbformat": 4,
 "nbformat_minor": 2
}
