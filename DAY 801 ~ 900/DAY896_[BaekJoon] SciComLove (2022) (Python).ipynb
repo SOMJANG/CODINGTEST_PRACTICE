{
 "cells": [
  {
   "cell_type": "markdown",
   "metadata": {},
   "source": [
    "## 2022년 12월 11일 일요일\n",
    "### BaekJoon - SciComLove (2022) (Python)  \n",
    "### 문제 : https://www.acmicpc.net/problem/24937\n",
    "### 블로그 : https://somjang.tistory.com/entry/BaekJoon-24937%EB%B2%88-SciComLove-2022-Python"
   ]
  },
  {
   "cell_type": "markdown",
   "metadata": {},
   "source": [
    "### Solution"
   ]
  },
  {
   "cell_type": "code",
   "execution_count": null,
   "metadata": {},
   "outputs": [],
   "source": [
    "def scicomlove_2022(N):\n",
    "    slice_num = N % 10\n",
    "    \n",
    "    scicomlove = \"SciComLove\"\n",
    "    \n",
    "    return scicomlove[slice_num:] + scicomlove[:slice_num]\n",
    "\n",
    "\n",
    "if __name__ == \"__main__\":\n",
    "    N = int(input())\n",
    "    \n",
    "    print(scicomlove_2022(N=N))"
   ]
  }
 ],
 "metadata": {
  "kernelspec": {
   "display_name": "Python 3 (ipykernel)",
   "language": "python",
   "name": "python3"
  },
  "language_info": {
   "codemirror_mode": {
    "name": "ipython",
    "version": 3
   },
   "file_extension": ".py",
   "mimetype": "text/x-python",
   "name": "python",
   "nbconvert_exporter": "python",
   "pygments_lexer": "ipython3",
   "version": "3.9.13"
  }
 },
 "nbformat": 4,
 "nbformat_minor": 2
}
