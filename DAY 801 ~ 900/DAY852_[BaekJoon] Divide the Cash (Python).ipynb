{
 "cells": [
  {
   "cell_type": "markdown",
   "metadata": {},
   "source": [
    "## 2022년 10월 28일 금요일\n",
    "### BaekJoon - Divide the Cash (Python)  \n",
    "### 문제 : https://www.acmicpc.net/problem/25858\n",
    "### 블로그 : https://somjang.tistory.com/entry/BaekJoon-25858%EB%B2%88-Divide-the-Cash-Python"
   ]
  },
  {
   "cell_type": "markdown",
   "metadata": {},
   "source": [
    "### Solution"
   ]
  },
  {
   "cell_type": "code",
   "execution_count": null,
   "metadata": {},
   "outputs": [],
   "source": [
    "def divide_the_cash(team_member_numbers, money):\n",
    "    total_team_num = sum(team_member_numbers)\n",
    "    \n",
    "    money_for_each_member = money // total_team_num\n",
    "    \n",
    "    return [member_num * money_for_each_member for member_num in team_member_numbers]\n",
    "\n",
    "\n",
    "def print_answer(answer):\n",
    "    for ans in answer:\n",
    "        print(ans)\n",
    "\n",
    "\n",
    "if __name__ == \"__main__\":\n",
    "    team_member_numbers = []\n",
    "    N, money = map(int, input().split())\n",
    "    \n",
    "    for _ in range(N):\n",
    "        member_num = int(input())\n",
    "        team_member_numbers.append(member_num)\n",
    "    \n",
    "    answer = divide_the_cash(\n",
    "        team_member_numbers=team_member_numbers, money=money\n",
    "    )\n",
    "    \n",
    "    print_answer(answer=answer)"
   ]
  }
 ],
 "metadata": {
  "kernelspec": {
   "display_name": "Python 3 (ipykernel)",
   "language": "python",
   "name": "python3"
  },
  "language_info": {
   "codemirror_mode": {
    "name": "ipython",
    "version": 3
   },
   "file_extension": ".py",
   "mimetype": "text/x-python",
   "name": "python",
   "nbconvert_exporter": "python",
   "pygments_lexer": "ipython3",
   "version": "3.9.13"
  }
 },
 "nbformat": 4,
 "nbformat_minor": 2
}
