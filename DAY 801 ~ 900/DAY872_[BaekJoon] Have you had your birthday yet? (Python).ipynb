{
 "cells": [
  {
   "cell_type": "markdown",
   "metadata": {},
   "source": [
    "## 2022년 11월 17일 목요일\n",
    "### BaekJoon - Have you had your birthday yet? (Python)  \n",
    "### 문제 : https://www.acmicpc.net/problem/9948\n",
    "### 블로그 : https://somjang.tistory.com/entry/BaekJoon-9948%EB%B2%88-Have-you-had-your-birthday-yet-Python"
   ]
  },
  {
   "cell_type": "markdown",
   "metadata": {},
   "source": [
    "### Solution"
   ]
  },
  {
   "cell_type": "code",
   "execution_count": null,
   "metadata": {},
   "outputs": [],
   "source": [
    "from datetime import datetime\n",
    "\n",
    "def convert_str_month_to_num(str_month):\n",
    "    base_dict = {\n",
    "        \"January\": 1, \"February\": 2, \"March\": 3, \"April\": 4, \n",
    "        \"May\": 5, \"June\": 6, \"July\": 7, \"August\": 8, \n",
    "        \"September\": 9, \"October\": 10, \"November\": 11,\"December\": 12\n",
    "    }\n",
    "    \n",
    "    return base_dict[str_month]\n",
    "\n",
    "\n",
    "def get_day_month_from_birthday_string(birthday):\n",
    "    day, month = birthday.split()\n",
    "    \n",
    "    day = int(day)\n",
    "    \n",
    "    month = convert_str_month_to_num(\n",
    "        str_month=month\n",
    "    )\n",
    "    \n",
    "    return day, month\n",
    "\n",
    "\n",
    "def birthday_check_2007(birthday):\n",
    "    day, month = get_day_month_from_birthday_string(\n",
    "        birthday=birthday\n",
    "    )\n",
    "    \n",
    "    if day == 29 and month == 2:\n",
    "        answer = \"Unlucky\"\n",
    "    elif day == 4 and month == 8:\n",
    "        answer = \"Happy birthday\"\n",
    "    else:    \n",
    "        birthday_datetime = datetime(year=2007, month=month, day=day)\n",
    "        standard_datetime = datetime(year=2007, month=8, day=4)\n",
    "        \n",
    "        if birthday_datetime < standard_datetime:\n",
    "            answer = \"Yes\"\n",
    "        else:\n",
    "            answer = \"No\"\n",
    "            \n",
    "    return answer\n",
    "\n",
    "\n",
    "if __name__ == \"__main__\":\n",
    "    birthday_list = []\n",
    "    \n",
    "    while True:\n",
    "        birthday = input()\n",
    "        \n",
    "        if birthday == \"0 #\":\n",
    "            break\n",
    "            \n",
    "        birthday_list.append(birthday)\n",
    "        \n",
    "        \n",
    "    for birthday in birthday_list:\n",
    "        print(birthday_check_2007(birthday=birthday))"
   ]
  }
 ],
 "metadata": {
  "kernelspec": {
   "display_name": "Python 3 (ipykernel)",
   "language": "python",
   "name": "python3"
  },
  "language_info": {
   "codemirror_mode": {
    "name": "ipython",
    "version": 3
   },
   "file_extension": ".py",
   "mimetype": "text/x-python",
   "name": "python",
   "nbconvert_exporter": "python",
   "pygments_lexer": "ipython3",
   "version": "3.9.13"
  }
 },
 "nbformat": 4,
 "nbformat_minor": 2
}
