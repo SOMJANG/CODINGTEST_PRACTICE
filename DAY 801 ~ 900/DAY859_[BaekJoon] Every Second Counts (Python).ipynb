{
 "cells": [
  {
   "cell_type": "markdown",
   "metadata": {},
   "source": [
    "## 2022년 11월 04일 금요일\n",
    "### BaekJoon - Every Second Counts (Python)  \n",
    "### 문제 : https://www.acmicpc.net/problem/15080\n",
    "### 블로그 : https://somjang.tistory.com/entry/BaekJoon-15080%EB%B2%88-Every-Second-Counts-Python"
   ]
  },
  {
   "cell_type": "markdown",
   "metadata": {},
   "source": [
    "### Solution"
   ]
  },
  {
   "cell_type": "code",
   "execution_count": null,
   "metadata": {},
   "outputs": [],
   "source": [
    "from datetime import datetime\n",
    "\n",
    "\n",
    "def convert_string_to_datetime(date_string):\n",
    "    return datetime.strptime(date_string, \"%H : %M : %S\")\n",
    "\n",
    "\n",
    "def calculate_elapsed_time(start_datetime, end_datetime):\n",
    "    elapsed_time = end_datetime - start_datetime\n",
    "    \n",
    "    return elapsed_time.seconds\n",
    "\n",
    "\n",
    "def every_second_counts(start_time, end_time):\n",
    "    start_datetime = convert_string_to_datetime(\n",
    "        date_string=start_time\n",
    "    )\n",
    "    \n",
    "    end_datetime = convert_string_to_datetime(\n",
    "        date_string=end_time\n",
    "    )\n",
    "    \n",
    "    elapsed_time_sec = calculate_elapsed_time(\n",
    "        start_datetime=start_datetime,\n",
    "        end_datetime=end_datetime\n",
    "    )\n",
    "    \n",
    "    return elapsed_time_sec\n",
    "\n",
    "    \n",
    "if __name__ == \"__main__\":\n",
    "    start_time = input()\n",
    "    end_time = input()\n",
    "    \n",
    "    print(every_second_counts(start_time=start_time, end_time=end_time))"
   ]
  }
 ],
 "metadata": {
  "kernelspec": {
   "display_name": "Python 3 (ipykernel)",
   "language": "python",
   "name": "python3"
  },
  "language_info": {
   "codemirror_mode": {
    "name": "ipython",
    "version": 3
   },
   "file_extension": ".py",
   "mimetype": "text/x-python",
   "name": "python",
   "nbconvert_exporter": "python",
   "pygments_lexer": "ipython3",
   "version": "3.9.13"
  }
 },
 "nbformat": 4,
 "nbformat_minor": 2
}
