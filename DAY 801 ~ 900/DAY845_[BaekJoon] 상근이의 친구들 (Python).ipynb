{
 "cells": [
  {
   "cell_type": "markdown",
   "metadata": {},
   "source": [
    "## 2022년 10월 21일 금요일\n",
    "### BaekJoon - 상근이의 친구들 (Python)  \n",
    "### 문제 : https://www.acmicpc.net/problem/5717\n",
    "### 블로그 : https://somjang.tistory.com/entry/BaekJoon-5717%EB%B2%88-%EC%83%81%EA%B7%BC%EC%9D%B4%EC%9D%98-%EC%B9%9C%EA%B5%AC%EB%93%A4-Python"
   ]
  },
  {
   "cell_type": "markdown",
   "metadata": {},
   "source": [
    "### Solution"
   ]
  },
  {
   "cell_type": "code",
   "execution_count": null,
   "metadata": {},
   "outputs": [],
   "source": [
    "def sangeoun_friends(male_friend_num, female_friend_num):\n",
    "    return male_friend_num + female_friend_num\n",
    "\n",
    "\n",
    "if __name__ == \"__main__\":\n",
    "    while True:\n",
    "        male_friend_num, female_friend_num = map(int, input().split())\n",
    "\n",
    "        if male_friend_num + female_friend_num == 0:\n",
    "            break\n",
    "            \n",
    "        print(sangeoun_friends(male_friend_num=male_friend_num, female_friend_num=female_friend_num))  "
   ]
  }
 ],
 "metadata": {
  "kernelspec": {
   "display_name": "Python 3",
   "language": "python",
   "name": "python3"
  },
  "language_info": {
   "codemirror_mode": {
    "name": "ipython",
    "version": 3
   },
   "file_extension": ".py",
   "mimetype": "text/x-python",
   "name": "python",
   "nbconvert_exporter": "python",
   "pygments_lexer": "ipython3",
   "version": "3.7.3"
  }
 },
 "nbformat": 4,
 "nbformat_minor": 2
}
