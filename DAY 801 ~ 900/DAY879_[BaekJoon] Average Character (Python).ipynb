{
 "cells": [
  {
   "cell_type": "markdown",
   "metadata": {},
   "source": [
    "## 2022년 11월 25일 금요일\n",
    "### BaekJoon - Average Character (Python)  \n",
    "### 문제 : https://www.acmicpc.net/problem/24608\n",
    "### 블로그 : https://somjang.tistory.com/entry/BaekJoon-24608%EB%B2%88-Average-Character-Python"
   ]
  },
  {
   "cell_type": "markdown",
   "metadata": {},
   "source": [
    "### Solution"
   ]
  },
  {
   "cell_type": "code",
   "execution_count": null,
   "metadata": {},
   "outputs": [],
   "source": [
    "def average_character(string):\n",
    "    total_ascii_code = 0\n",
    "    for word in list(string):\n",
    "        ascii_code = ord(word)\n",
    "        total_ascii_code += ascii_code\n",
    "        \n",
    "    avg_ascii = total_ascii_code // len(string)\n",
    "    \n",
    "    return chr(avg_ascii)\n",
    "if __name__ == \"__main__\":\n",
    "    string = input()\n",
    "    \n",
    "    print(average_character(string=string))"
   ]
  }
 ],
 "metadata": {
  "kernelspec": {
   "display_name": "Python 3 (ipykernel)",
   "language": "python",
   "name": "python3"
  },
  "language_info": {
   "codemirror_mode": {
    "name": "ipython",
    "version": 3
   },
   "file_extension": ".py",
   "mimetype": "text/x-python",
   "name": "python",
   "nbconvert_exporter": "python",
   "pygments_lexer": "ipython3",
   "version": "3.9.13"
  }
 },
 "nbformat": 4,
 "nbformat_minor": 2
}
