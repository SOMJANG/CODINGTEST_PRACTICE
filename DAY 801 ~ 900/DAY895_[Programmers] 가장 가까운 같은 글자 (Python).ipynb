{
 "cells": [
  {
   "cell_type": "markdown",
   "metadata": {},
   "source": [
    "## 2022년 12월 11일 일요일\n",
    "### Programmers - 가장 가까운 같은 글자 (Python)  \n",
    "### 문제 : https://school.programmers.co.kr/learn/courses/30/lessons/142086\n",
    "### 블로그 : https://somjang.tistory.com/entry/Programmers-%EA%B0%80%EC%9E%A5-%EA%B0%80%EA%B9%8C%EC%9A%B4-%EA%B0%99%EC%9D%80-%EA%B8%80%EC%9E%90-Python"
   ]
  },
  {
   "cell_type": "markdown",
   "metadata": {},
   "source": [
    "### Solution"
   ]
  },
  {
   "cell_type": "code",
   "execution_count": null,
   "metadata": {},
   "outputs": [],
   "source": [
    "def solution(s):\n",
    "    answer = []\n",
    "    \n",
    "    word_dict = {}\n",
    "    \n",
    "    for idx, word in enumerate(list(s)):\n",
    "        if word not in word_dict:\n",
    "            answer.append(-1)\n",
    "            word_dict[word] = idx\n",
    "        else:\n",
    "            answer.append(idx - word_dict[word])\n",
    "            word_dict[word] = idx\n",
    "            \n",
    "    return answer"
   ]
  }
 ],
 "metadata": {
  "kernelspec": {
   "display_name": "Python 3 (ipykernel)",
   "language": "python",
   "name": "python3"
  },
  "language_info": {
   "codemirror_mode": {
    "name": "ipython",
    "version": 3
   },
   "file_extension": ".py",
   "mimetype": "text/x-python",
   "name": "python",
   "nbconvert_exporter": "python",
   "pygments_lexer": "ipython3",
   "version": "3.9.13"
  }
 },
 "nbformat": 4,
 "nbformat_minor": 2
}
