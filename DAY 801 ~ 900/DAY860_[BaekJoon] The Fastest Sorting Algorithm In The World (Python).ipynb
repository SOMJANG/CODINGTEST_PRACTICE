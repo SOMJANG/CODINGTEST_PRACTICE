{
 "cells": [
  {
   "cell_type": "markdown",
   "metadata": {},
   "source": [
    "## 2022년 11월 05일 토요일\n",
    "### BaekJoon - The Fastest Sorting Algorithm In The World (Python)  \n",
    "### 문제 : https://www.acmicpc.net/problem/23235\n",
    "### 블로그 : https://somjang.tistory.com/entry/BaekJoon-23235%EB%B2%88-The-Fastest-Sorting-Algorithm-In-The-World-Python"
   ]
  },
  {
   "cell_type": "markdown",
   "metadata": {},
   "source": [
    "### Solution"
   ]
  },
  {
   "cell_type": "code",
   "execution_count": null,
   "metadata": {},
   "outputs": [],
   "source": [
    "def the_fastest_sorting_algorithm_in_the_world(case_list):\n",
    "    for case_num, case in enumerate(case_list):\n",
    "        print(f\"Case {case_num + 1}: Sorting... done!\")\n",
    "        \n",
    "\n",
    "if __name__ == \"__main__\":\n",
    "    case_list = []\n",
    "    \n",
    "    while True:\n",
    "        case = input()\n",
    "        \n",
    "        if case == \"0\":\n",
    "            break\n",
    "        \n",
    "        case_list.append(list(map(int, case.split())))\n",
    "        \n",
    "    the_fastest_sorting_algorithm_in_the_world(case_list=case_list)"
   ]
  }
 ],
 "metadata": {
  "kernelspec": {
   "display_name": "Python 3 (ipykernel)",
   "language": "python",
   "name": "python3"
  },
  "language_info": {
   "codemirror_mode": {
    "name": "ipython",
    "version": 3
   },
   "file_extension": ".py",
   "mimetype": "text/x-python",
   "name": "python",
   "nbconvert_exporter": "python",
   "pygments_lexer": "ipython3",
   "version": "3.9.13"
  }
 },
 "nbformat": 4,
 "nbformat_minor": 2
}
