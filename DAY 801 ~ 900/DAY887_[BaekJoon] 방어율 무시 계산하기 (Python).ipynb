{
 "cells": [
  {
   "cell_type": "markdown",
   "metadata": {},
   "source": [
    "## 2022년 12월 3일 토요일\n",
    "### BaekJoon - 방어율 무시 계산하기 (Python)  \n",
    "### 문제 : https://www.acmicpc.net/problem/25756\n",
    "### 블로그 : https://somjang.tistory.com/entry/BaekJoon-25756%EB%B2%88-%EB%B0%A9%EC%96%B4%EC%9C%A8-%EB%AC%B4%EC%8B%9C-%EA%B3%84%EC%82%B0%ED%95%98%EA%B8%B0-Python"
   ]
  },
  {
   "cell_type": "markdown",
   "metadata": {},
   "source": [
    "### Solution"
   ]
  },
  {
   "cell_type": "code",
   "execution_count": null,
   "metadata": {},
   "outputs": [],
   "source": [
    "def calculate_defend_ignore_rate(N, potion_list):\n",
    "    answer_list = []\n",
    "    \n",
    "    defend_ignore_rate = 1\n",
    "    \n",
    "    for potion in potion_list:\n",
    "        defend_ignore_rate *= (1 - potion / 100) \n",
    "        \n",
    "        calculated_rate = (1 - defend_ignore_rate) * 100\n",
    "        \n",
    "        answer_list.append(round(calculated_rate, 6))\n",
    "        \n",
    "    return answer_list\n",
    "\n",
    "\n",
    "def print_answer(answer):\n",
    "    for ans in answer:\n",
    "        print(ans)\n",
    "\n",
    "    \n",
    "if __name__ == \"__main__\":\n",
    "    N = int(input())\n",
    "    potion_list = list(map(int, input().split()))\n",
    "    \n",
    "    answer = calculate_defend_ignore_rate(N=N, potion_list=potion_list)\n",
    "    \n",
    "    print_answer(answer=answer)"
   ]
  }
 ],
 "metadata": {
  "kernelspec": {
   "display_name": "Python 3 (ipykernel)",
   "language": "python",
   "name": "python3"
  },
  "language_info": {
   "codemirror_mode": {
    "name": "ipython",
    "version": 3
   },
   "file_extension": ".py",
   "mimetype": "text/x-python",
   "name": "python",
   "nbconvert_exporter": "python",
   "pygments_lexer": "ipython3",
   "version": "3.9.13"
  }
 },
 "nbformat": 4,
 "nbformat_minor": 2
}
