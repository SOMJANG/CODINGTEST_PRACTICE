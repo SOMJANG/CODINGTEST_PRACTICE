{
 "cells": [
  {
   "cell_type": "markdown",
   "metadata": {},
   "source": [
    "## 2022년 10월 22일 토요일\n",
    "### BaekJoon - 두라무리 휴지 (Python)  \n",
    "### 문제 : https://www.acmicpc.net/problem/25178\n",
    "### 블로그 : https://somjang.tistory.com/entry/BaekJoon-25178%EB%B2%88-%EB%91%90%EB%9D%BC%EB%AC%B4%EB%A6%AC-%ED%9C%B4%EC%A7%80-Python"
   ]
  },
  {
   "cell_type": "markdown",
   "metadata": {},
   "source": [
    "### Solution"
   ]
  },
  {
   "cell_type": "code",
   "execution_count": null,
   "metadata": {},
   "outputs": [],
   "source": [
    "from collections import Counter\n",
    "\n",
    "def count_words(word):\n",
    "    return Counter(word)\n",
    "\n",
    "def remove_nouns_from_word(word):\n",
    "    nouns = ['a', 'e', 'i', 'o', 'u']\n",
    "    return \"\".join([w for w in list(word) if w not in nouns])\n",
    "\n",
    "\n",
    "def duramuri_huji(word1, word2):\n",
    "    answer = \"NO\"\n",
    "    cnt1, cnt2 = count_words(word=word1), count_words(word=word2)\n",
    "    \n",
    "    word1_non_noun = remove_nouns_from_word(word=word1)\n",
    "    word2_non_noun = remove_nouns_from_word(word=word2)\n",
    "    \n",
    "    condition1 = cnt1 == cnt2\n",
    "    condition2 = (word1[0] == word2[0]) and (word1[-1] == word2[-1])\n",
    "    condition3 = word1_non_noun == word2_non_noun\n",
    "    \n",
    "    \n",
    "    if condition1 and condition2 and condition3:\n",
    "        answer = \"YES\"\n",
    "        \n",
    "    return answer\n",
    "\n",
    "\n",
    "if __name__ == \"__main__\":\n",
    "    N = int(input())\n",
    "    word1 = input()\n",
    "    word2 = input()\n",
    "    \n",
    "    print(duramuri_huji(word1=word1, word2=word2))"
   ]
  }
 ],
 "metadata": {
  "kernelspec": {
   "display_name": "Python 3",
   "language": "python",
   "name": "python3"
  },
  "language_info": {
   "codemirror_mode": {
    "name": "ipython",
    "version": 3
   },
   "file_extension": ".py",
   "mimetype": "text/x-python",
   "name": "python",
   "nbconvert_exporter": "python",
   "pygments_lexer": "ipython3",
   "version": "3.7.3"
  }
 },
 "nbformat": 4,
 "nbformat_minor": 2
}
