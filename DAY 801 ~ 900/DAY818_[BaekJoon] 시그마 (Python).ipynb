{
 "cells": [
  {
   "cell_type": "markdown",
   "metadata": {},
   "source": [
    "## 2022년 9월 22일 목요일\n",
    "### BaekJoon - 시그마 (Python)  \n",
    "### 문제 : https://www.acmicpc.net/problem/2355\n",
    "### 블로그 : https://somjang.tistory.com/entry/BaekJoon-2355%EB%B2%88-%EC%8B%9C%EA%B7%B8%EB%A7%88-Python"
   ]
  },
  {
   "cell_type": "markdown",
   "metadata": {},
   "source": [
    "### Solution"
   ]
  },
  {
   "cell_type": "code",
   "execution_count": null,
   "metadata": {},
   "outputs": [],
   "source": [
    "def sigma(A, B):\n",
    "    min_num = min(A, B)\n",
    "    max_num = max(A, B)\n",
    "    \n",
    "    return (A + B) * (max_num - min_num + 1) // 2\n",
    "\n",
    "\n",
    "if __name__ == \"__main__\":\n",
    "    A, B = map(int, input().split())\n",
    "    print(sigma(A=A, B=B))"
   ]
  }
 ],
 "metadata": {
  "kernelspec": {
   "display_name": "Python 3",
   "language": "python",
   "name": "python3"
  },
  "language_info": {
   "codemirror_mode": {
    "name": "ipython",
    "version": 3
   },
   "file_extension": ".py",
   "mimetype": "text/x-python",
   "name": "python",
   "nbconvert_exporter": "python",
   "pygments_lexer": "ipython3",
   "version": "3.7.3"
  }
 },
 "nbformat": 4,
 "nbformat_minor": 2
}
