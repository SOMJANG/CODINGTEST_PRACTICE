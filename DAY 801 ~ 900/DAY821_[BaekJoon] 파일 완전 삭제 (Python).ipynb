{
 "cells": [
  {
   "cell_type": "markdown",
   "metadata": {},
   "source": [
    "## 2022년 9월 26일 월요일\n",
    "### BaekJoon - 파일 완전 삭제 (Python)  \n",
    "### 문제 : https://www.acmicpc.net/problem/9243\n",
    "### 블로그 : https://somjang.tistory.com/entry/BaekJoon-9243%EB%B2%88-%ED%8C%8C%EC%9D%BC-%EC%99%84%EC%A0%84-%EC%82%AD%EC%A0%9C-Python"
   ]
  },
  {
   "cell_type": "markdown",
   "metadata": {},
   "source": [
    "### Solution"
   ]
  },
  {
   "cell_type": "code",
   "execution_count": null,
   "metadata": {},
   "outputs": [],
   "source": [
    "def reverse_bit(bit):\n",
    "    bit = list(bit)\n",
    "    for idx in range(len(bit)):\n",
    "        bit[idx] = str(abs(int(bit[idx])-1))\n",
    "        \n",
    "    return \"\".join(bit)\n",
    "\n",
    "def delete_file(N, before_bit, after_bit):\n",
    "    answer = \"Deletion failed\"\n",
    "    \n",
    "    for _ in range(N):\n",
    "        before_bit = reverse_bit(bit=before_bit)\n",
    "    \n",
    "    if before_bit == after_bit:\n",
    "        answer = \"Deletion succeeded\"\n",
    "        \n",
    "    return answer\n",
    "\n",
    "\n",
    "if __name__ == \"__main__\":\n",
    "    N = int(input())\n",
    "    before_bit = input()\n",
    "    after_bit = input()\n",
    "    \n",
    "    print(delete_file(N=N, before_bit=before_bit, after_bit=after_bit))"
   ]
  }
 ],
 "metadata": {
  "kernelspec": {
   "display_name": "Python 3",
   "language": "python",
   "name": "python3"
  },
  "language_info": {
   "codemirror_mode": {
    "name": "ipython",
    "version": 3
   },
   "file_extension": ".py",
   "mimetype": "text/x-python",
   "name": "python",
   "nbconvert_exporter": "python",
   "pygments_lexer": "ipython3",
   "version": "3.7.3"
  }
 },
 "nbformat": 4,
 "nbformat_minor": 2
}
