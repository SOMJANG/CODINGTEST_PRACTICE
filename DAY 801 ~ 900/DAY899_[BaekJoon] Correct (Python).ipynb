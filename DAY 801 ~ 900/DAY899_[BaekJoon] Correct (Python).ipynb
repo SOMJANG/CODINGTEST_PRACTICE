{
 "cells": [
  {
   "cell_type": "markdown",
   "metadata": {},
   "source": [
    "## 2022년 12월 15일 목요일\n",
    "### BaekJoon - Correct (Python)  \n",
    "### 문제 : https://www.acmicpc.net/problem/26307\n",
    "### 블로그 : https://somjang.tistory.com/entry/BaekJoon-26307%EB%B2%88-Correct-Python"
   ]
  },
  {
   "cell_type": "markdown",
   "metadata": {},
   "source": [
    "### Solution"
   ]
  },
  {
   "cell_type": "code",
   "execution_count": null,
   "metadata": {},
   "outputs": [],
   "source": [
    "from datetime import datetime\n",
    "\n",
    "\n",
    "def correct(HH, MM):\n",
    "    start_time = datetime(year=2022, month=1, day=1, hour=9)\n",
    "    \n",
    "    end_time = datetime(year=2022, month=1, day=1, hour=HH, minute=MM)\n",
    "    \n",
    "    consumed_time = end_time - start_time\n",
    "    \n",
    "    return consumed_time.seconds // 60\n",
    "\n",
    "\n",
    "if __name__ == \"__main__\":\n",
    "    HH, MM = map(int, input().split())\n",
    "    \n",
    "    print(correct(HH=HH, MM=MM))"
   ]
  }
 ],
 "metadata": {
  "kernelspec": {
   "display_name": "Python 3 (ipykernel)",
   "language": "python",
   "name": "python3"
  },
  "language_info": {
   "codemirror_mode": {
    "name": "ipython",
    "version": 3
   },
   "file_extension": ".py",
   "mimetype": "text/x-python",
   "name": "python",
   "nbconvert_exporter": "python",
   "pygments_lexer": "ipython3",
   "version": "3.9.13"
  }
 },
 "nbformat": 4,
 "nbformat_minor": 2
}
