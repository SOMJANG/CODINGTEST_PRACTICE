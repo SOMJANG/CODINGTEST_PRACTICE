{
 "cells": [
  {
   "cell_type": "markdown",
   "metadata": {},
   "source": [
    "## 2022년 11월 08일 화요일\n",
    "### BaekJoon - Polling (Python)  \n",
    "### 문제 : https://www.acmicpc.net/problem/11235\n",
    "### 블로그 : https://somjang.tistory.com/entry/BaekJoon-11235%EB%B2%88-Polling-Python"
   ]
  },
  {
   "cell_type": "markdown",
   "metadata": {},
   "source": [
    "### Solution"
   ]
  },
  {
   "cell_type": "code",
   "execution_count": null,
   "metadata": {},
   "outputs": [],
   "source": [
    "def count_election_result(election_result):\n",
    "    count_dict = {}\n",
    "    \n",
    "    for vote in election_result:\n",
    "        if vote not in count_dict:\n",
    "            count_dict[vote] = 0\n",
    "            \n",
    "        count_dict[vote] += 1\n",
    "        \n",
    "    return count_dict\n",
    "\n",
    "\n",
    "def get_max_vote_result(count_dict):\n",
    "    items = sorted(count_dict.items(), key=lambda x: (-x[1], x[0]))\n",
    "    \n",
    "    max_vote_num = items[0][1]\n",
    "    \n",
    "    return [item[0] for item in items if max_vote_num == item[1]]\n",
    "\n",
    "\n",
    "def polling(midterm_election_result_list):\n",
    "    count_dict = count_election_result(\n",
    "        election_result=midterm_election_result_list\n",
    "    )\n",
    "    \n",
    "    return get_max_vote_result(\n",
    "        count_dict=count_dict\n",
    "    )\n",
    "\n",
    "\n",
    "def print_answer(answer):\n",
    "    for ans in answer:\n",
    "        print(ans)\n",
    "        \n",
    "        \n",
    "if __name__ == \"__main__\":\n",
    "    election_result = []\n",
    "    \n",
    "    for _ in range(int(input())):\n",
    "        name = input()\n",
    "        election_result.append(name)\n",
    "        \n",
    "    answer = polling(\n",
    "        midterm_election_result_list=election_result\n",
    "    )\n",
    "    \n",
    "    print_answer(\n",
    "        answer=answer\n",
    "    )"
   ]
  }
 ],
 "metadata": {
  "kernelspec": {
   "display_name": "Python 3 (ipykernel)",
   "language": "python",
   "name": "python3"
  },
  "language_info": {
   "codemirror_mode": {
    "name": "ipython",
    "version": 3
   },
   "file_extension": ".py",
   "mimetype": "text/x-python",
   "name": "python",
   "nbconvert_exporter": "python",
   "pygments_lexer": "ipython3",
   "version": "3.9.13"
  }
 },
 "nbformat": 4,
 "nbformat_minor": 2
}
