{
 "cells": [
  {
   "cell_type": "markdown",
   "metadata": {},
   "source": [
    "## 2022년 10월 16일 일요일\n",
    "### BaekJoon - 집 주소 (Python)  \n",
    "### 문제 : https://www.acmicpc.net/problem/1284\n",
    "### 블로그 : https://somjang.tistory.com/entry/BaekJoon-1284%EB%B2%88-%EC%A7%91-%EC%A3%BC%EC%86%8C-Python"
   ]
  },
  {
   "cell_type": "markdown",
   "metadata": {},
   "source": [
    "### Solution"
   ]
  },
  {
   "cell_type": "code",
   "execution_count": null,
   "metadata": {},
   "outputs": [],
   "source": [
    "def home_address(number):\n",
    "    whole_width = 2\n",
    "    \n",
    "    num_to_width = {\n",
    "        \"0\": 4, \"1\": 2, \"2\": 3, \"3\": 3, \"4\": 3, \"5\": 3,\n",
    "        \"6\": 3, \"7\": 3, \"8\": 3, \"9\": 3\n",
    "    }\n",
    "    \n",
    "    for num in list(number):\n",
    "        whole_width += num_to_width[num]       \n",
    "        \n",
    "    whole_width += len(number) - 1\n",
    "    \n",
    "    return whole_width\n",
    "\n",
    "\n",
    "if __name__ == \"__main__\":\n",
    "    while True:\n",
    "        number = input()\n",
    "        \n",
    "        if number == \"0\":\n",
    "            break\n",
    "        \n",
    "        print(home_address(number=number))"
   ]
  }
 ],
 "metadata": {
  "kernelspec": {
   "display_name": "Python 3",
   "language": "python",
   "name": "python3"
  },
  "language_info": {
   "codemirror_mode": {
    "name": "ipython",
    "version": 3
   },
   "file_extension": ".py",
   "mimetype": "text/x-python",
   "name": "python",
   "nbconvert_exporter": "python",
   "pygments_lexer": "ipython3",
   "version": "3.7.3"
  }
 },
 "nbformat": 4,
 "nbformat_minor": 2
}
