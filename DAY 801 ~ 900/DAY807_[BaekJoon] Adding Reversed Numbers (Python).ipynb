{
 "cells": [
  {
   "cell_type": "markdown",
   "metadata": {},
   "source": [
    "## 2022년 9월 11일 일요일\n",
    "### BaekJoon - Adding Reversed Numbers (Python)  \n",
    "### 문제 : https://www.acmicpc.net/problem/3486\n",
    "### 블로그 : https://somjang.tistory.com/entry/BaekJoon-3486%EB%B2%88-Adding-Reversed-Number-Python"
   ]
  },
  {
   "cell_type": "markdown",
   "metadata": {},
   "source": [
    "### Solution"
   ]
  },
  {
   "cell_type": "code",
   "execution_count": null,
   "metadata": {},
   "outputs": [],
   "source": [
    "def reverse_number(num):\n",
    "    return int(str(num)[::-1])\n",
    "\n",
    "def adding_reversed_numbers(num1, num2):\n",
    "    reversed_num1 = reverse_number(num=num1)\n",
    "    reversed_num2 = reverse_number(num=num2)\n",
    "    \n",
    "    return reverse_number(num=(reversed_num1 + reversed_num2))\n",
    "\n",
    "\n",
    "if __name__ == \"__main__\":\n",
    "    for _ in range(int(input())):\n",
    "        num1, num2 = map(int, input().split())\n",
    "        \n",
    "        print(adding_reversed_numbers(num1=num1, num2=num2))"
   ]
  }
 ],
 "metadata": {
  "kernelspec": {
   "display_name": "Python 3",
   "language": "python",
   "name": "python3"
  },
  "language_info": {
   "codemirror_mode": {
    "name": "ipython",
    "version": 3
   },
   "file_extension": ".py",
   "mimetype": "text/x-python",
   "name": "python",
   "nbconvert_exporter": "python",
   "pygments_lexer": "ipython3",
   "version": "3.7.3"
  }
 },
 "nbformat": 4,
 "nbformat_minor": 2
}
