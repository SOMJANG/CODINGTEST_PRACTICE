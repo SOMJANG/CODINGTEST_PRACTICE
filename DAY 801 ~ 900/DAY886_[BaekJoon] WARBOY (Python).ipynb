{
 "cells": [
  {
   "cell_type": "markdown",
   "metadata": {},
   "source": [
    "## 2022년 12월 2일 금요일\n",
    "### BaekJoon - WARBOY (Python)  \n",
    "### 문제 : https://www.acmicpc.net/problem/26082\n",
    "### 블로그 : https://somjang.tistory.com/entry/BaekJoon-26082%EB%B2%88-WARBOY-Python"
   ]
  },
  {
   "cell_type": "markdown",
   "metadata": {},
   "source": [
    "### Solution"
   ]
  },
  {
   "cell_type": "code",
   "execution_count": null,
   "metadata": {},
   "outputs": [],
   "source": [
    "def warboy(A, B, C):\n",
    "    return (B // A) * 3 * C\n",
    "    \n",
    "\n",
    "if __name__ == \"__main__\":\n",
    "    A, B, C = map(int, input().split())\n",
    "    \n",
    "    print(warboy(A=A, B=B, C=C))"
   ]
  }
 ],
 "metadata": {
  "kernelspec": {
   "display_name": "Python 3 (ipykernel)",
   "language": "python",
   "name": "python3"
  },
  "language_info": {
   "codemirror_mode": {
    "name": "ipython",
    "version": 3
   },
   "file_extension": ".py",
   "mimetype": "text/x-python",
   "name": "python",
   "nbconvert_exporter": "python",
   "pygments_lexer": "ipython3",
   "version": "3.9.13"
  }
 },
 "nbformat": 4,
 "nbformat_minor": 2
}
