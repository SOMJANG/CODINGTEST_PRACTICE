{
 "cells": [
  {
   "cell_type": "markdown",
   "metadata": {},
   "source": [
    "## 2022년 10월 27일 목요일\n",
    "### BaekJoon - ISBN (Python)  \n",
    "### 문제 : https://www.acmicpc.net/problem/6810\n",
    "### 블로그 : https://somjang.tistory.com/entry/BaekJoon-6810%EB%B2%88-ISBN-Python"
   ]
  },
  {
   "cell_type": "markdown",
   "metadata": {},
   "source": [
    "### Solution"
   ]
  },
  {
   "cell_type": "code",
   "execution_count": null,
   "metadata": {},
   "outputs": [],
   "source": [
    "def isbn(a, b, c):\n",
    "    answer = 91 + a * 1 + b * 3 + c * 1\n",
    "    return f\"The 1-3-sum is {answer}\"\n",
    "\n",
    "\n",
    "if __name__ == \"__main__\":\n",
    "    a = int(input())\n",
    "    b = int(input())\n",
    "    c = int(input())\n",
    "    \n",
    "    print(isbn(a=a, b=b, c=c))"
   ]
  }
 ],
 "metadata": {
  "kernelspec": {
   "display_name": "Python 3 (ipykernel)",
   "language": "python",
   "name": "python3"
  },
  "language_info": {
   "codemirror_mode": {
    "name": "ipython",
    "version": 3
   },
   "file_extension": ".py",
   "mimetype": "text/x-python",
   "name": "python",
   "nbconvert_exporter": "python",
   "pygments_lexer": "ipython3",
   "version": "3.9.13"
  }
 },
 "nbformat": 4,
 "nbformat_minor": 2
}
