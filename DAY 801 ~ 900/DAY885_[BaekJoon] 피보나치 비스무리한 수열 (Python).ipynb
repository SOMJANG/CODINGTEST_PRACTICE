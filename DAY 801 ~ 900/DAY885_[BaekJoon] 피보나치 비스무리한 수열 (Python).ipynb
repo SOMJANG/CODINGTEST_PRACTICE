{
 "cells": [
  {
   "cell_type": "markdown",
   "metadata": {},
   "source": [
    "## 2022년 12월 1일 목요일\n",
    "### BaekJoon - 피보나치 비스무리한 수열 (Python)  \n",
    "### 문제 : https://www.acmicpc.net/problem/14495\n",
    "### 블로그 : https://somjang.tistory.com/entry/BaekJoon-14495%EB%B2%88-%ED%94%BC%EB%B3%B4%EB%82%98%EC%B9%98-%EB%B9%84%EC%8A%A4%EB%AC%B4%EB%A6%AC%ED%95%9C-%EC%88%98%EC%97%B4-Python"
   ]
  },
  {
   "cell_type": "markdown",
   "metadata": {},
   "source": [
    "### Solution"
   ]
  },
  {
   "cell_type": "code",
   "execution_count": null,
   "metadata": {},
   "outputs": [],
   "source": [
    "def fibo_sim_num(N): \n",
    "    fibo_list = [0, 1, 1, 1]\n",
    "    \n",
    "    if N > 3:\n",
    "        for idx in range(4, N+1):\n",
    "            fibo_list.append(fibo_list[idx-1] + fibo_list[idx-3])\n",
    "            \n",
    "    return fibo_list[N]\n",
    "    \n",
    "    \n",
    "if __name__ == \"__main__\": \n",
    "    N = int(input()) \n",
    "    print(fibo_sim_num(N))"
   ]
  }
 ],
 "metadata": {
  "kernelspec": {
   "display_name": "Python 3 (ipykernel)",
   "language": "python",
   "name": "python3"
  },
  "language_info": {
   "codemirror_mode": {
    "name": "ipython",
    "version": 3
   },
   "file_extension": ".py",
   "mimetype": "text/x-python",
   "name": "python",
   "nbconvert_exporter": "python",
   "pygments_lexer": "ipython3",
   "version": "3.9.13"
  }
 },
 "nbformat": 4,
 "nbformat_minor": 2
}
