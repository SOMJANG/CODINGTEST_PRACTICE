{
 "cells": [
  {
   "cell_type": "markdown",
   "metadata": {},
   "source": [
    "## 2022년 11월 12일 토요일\n",
    "### BaekJoon - 수열의 변화 (Python)  \n",
    "### 문제 : https://www.acmicpc.net/problem/1551\n",
    "### 블로그 : https://somjang.tistory.com/entry/BaekJoon-1551%EB%B2%88-%EC%88%98%EC%97%B4%EC%9D%98-%EB%B3%80%ED%99%94-Python"
   ]
  },
  {
   "cell_type": "markdown",
   "metadata": {},
   "source": [
    "### Solution"
   ]
  },
  {
   "cell_type": "code",
   "execution_count": null,
   "metadata": {},
   "outputs": [],
   "source": [
    "def change_number_list(number_list):\n",
    "    changed_list = []\n",
    "    \n",
    "    for idx in range(len(number_list) - 1):\n",
    "        changed_list.append(number_list[idx+1] - number_list[idx])\n",
    "        \n",
    "    return changed_list\n",
    "        \n",
    "\n",
    "def change_in_sequence(number_list, K):\n",
    "    for _ in range(K):\n",
    "        number_list = change_number_list(\n",
    "            number_list=number_list\n",
    "        )\n",
    "    return \",\".join(list(map(str, number_list)))\n",
    "\n",
    "\n",
    "if __name__ == \"__main__\":\n",
    "    N, K = map(int, input().split())\n",
    "    number_list = list(map(int, input().split(\",\")))\n",
    "    \n",
    "    print(change_in_sequence(number_list=number_list, K=K))"
   ]
  }
 ],
 "metadata": {
  "kernelspec": {
   "display_name": "Python 3 (ipykernel)",
   "language": "python",
   "name": "python3"
  },
  "language_info": {
   "codemirror_mode": {
    "name": "ipython",
    "version": 3
   },
   "file_extension": ".py",
   "mimetype": "text/x-python",
   "name": "python",
   "nbconvert_exporter": "python",
   "pygments_lexer": "ipython3",
   "version": "3.9.13"
  }
 },
 "nbformat": 4,
 "nbformat_minor": 2
}
