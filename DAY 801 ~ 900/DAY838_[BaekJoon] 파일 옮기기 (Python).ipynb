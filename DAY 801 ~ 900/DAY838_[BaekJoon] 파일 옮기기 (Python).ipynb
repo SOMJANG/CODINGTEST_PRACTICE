{
 "cells": [
  {
   "cell_type": "markdown",
   "metadata": {},
   "source": [
    "## 2022년 10월 13일 목요일\n",
    "### BaekJoon - 파일 옮기기 (Python)  \n",
    "### 문제 : https://www.acmicpc.net/problem/11943\n",
    "### 블로그 : https://somjang.tistory.com/entry/BaekJoon-11943%EB%B2%88-%ED%8C%8C%EC%9D%BC-%EC%98%AE%EA%B8%B0%EA%B8%B0-Python"
   ]
  },
  {
   "cell_type": "markdown",
   "metadata": {},
   "source": [
    "### Solution"
   ]
  },
  {
   "cell_type": "code",
   "execution_count": null,
   "metadata": {},
   "outputs": [],
   "source": [
    "def move_file(A, B, C, D):\n",
    "    return min(A+D, B+C)\n",
    "\n",
    "if __name__ == \"__main__\":\n",
    "    A, B = map(int, input().split())\n",
    "    C, D = map(int, input().split())\n",
    "    \n",
    "    print(move_file(A=A, B=B, C=C, D=D))"
   ]
  }
 ],
 "metadata": {
  "kernelspec": {
   "display_name": "Python 3",
   "language": "python",
   "name": "python3"
  },
  "language_info": {
   "codemirror_mode": {
    "name": "ipython",
    "version": 3
   },
   "file_extension": ".py",
   "mimetype": "text/x-python",
   "name": "python",
   "nbconvert_exporter": "python",
   "pygments_lexer": "ipython3",
   "version": "3.7.3"
  }
 },
 "nbformat": 4,
 "nbformat_minor": 2
}
