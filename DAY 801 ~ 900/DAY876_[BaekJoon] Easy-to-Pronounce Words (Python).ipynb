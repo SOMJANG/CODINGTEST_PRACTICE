{
 "cells": [
  {
   "cell_type": "markdown",
   "metadata": {},
   "source": [
    "## 2022년 11월 21일 월요일\n",
    "### BaekJoon - Easy-to-Pronounce Words (Python)  \n",
    "### 문제 : https://www.acmicpc.net/problem/25785\n",
    "### 블로그 : https://somjang.tistory.com/entry/BaekJoon-25785%EB%B2%88-Easy-to-Pronounce-Words-Python"
   ]
  },
  {
   "cell_type": "markdown",
   "metadata": {},
   "source": [
    "### Solution"
   ]
  },
  {
   "cell_type": "code",
   "execution_count": null,
   "metadata": {},
   "outputs": [],
   "source": [
    "def easy_to_pronounce_words(word):\n",
    "    nouns =[\"a\", \"e\", 'i', \"o\", \"u\"]\n",
    "    answer = 1\n",
    "    \n",
    "    check_num = 1 if word[0] in nouns else 0\n",
    "    \n",
    "    for w in word[1:]:\n",
    "        if w in nouns:\n",
    "            check_num += 1\n",
    "        else:\n",
    "            check_num -= 1\n",
    "            \n",
    "        if check_num > 1 or check_num < 0:\n",
    "            answer = 0\n",
    "            break\n",
    "            \n",
    "    return answer\n",
    "\n",
    "if __name__ == \"__main__\":\n",
    "    word = input()\n",
    "    \n",
    "    print(easy_to_pronounce_words(word=word))"
   ]
  }
 ],
 "metadata": {
  "kernelspec": {
   "display_name": "Python 3 (ipykernel)",
   "language": "python",
   "name": "python3"
  },
  "language_info": {
   "codemirror_mode": {
    "name": "ipython",
    "version": 3
   },
   "file_extension": ".py",
   "mimetype": "text/x-python",
   "name": "python",
   "nbconvert_exporter": "python",
   "pygments_lexer": "ipython3",
   "version": "3.9.13"
  }
 },
 "nbformat": 4,
 "nbformat_minor": 2
}
