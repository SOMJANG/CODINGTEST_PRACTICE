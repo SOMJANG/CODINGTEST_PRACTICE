{
 "cells": [
  {
   "cell_type": "markdown",
   "metadata": {},
   "source": [
    "## 2022년 9월 15일 목요일\n",
    "### BaekJoon - 학생 인기도 측정 (Python)  \n",
    "### 문제 : https://www.acmicpc.net/problem/25325\n",
    "### 블로그 : https://somjang.tistory.com/entry/BaekJoon-25325%EB%B2%88-%ED%95%99%EC%83%9D-%EC%9D%B8%EA%B8%B0%EB%8F%84-%EC%B8%A1%EC%A0%95-Python"
   ]
  },
  {
   "cell_type": "markdown",
   "metadata": {},
   "source": [
    "### Solution"
   ]
  },
  {
   "cell_type": "code",
   "execution_count": null,
   "metadata": {},
   "outputs": [],
   "source": [
    "\n",
    "def make_popularity_dict(student_name_list):\n",
    "    popularity_dict = {}\n",
    "    for student_name in student_name_list:\n",
    "        popularity_dict[student_name] = 0\n",
    "        \n",
    "    return popularity_dict\n",
    "\n",
    "\n",
    "def measure_popularity(n_student_name_list, student_name_list):\n",
    "    popularity_dict = make_popularity_dict(\n",
    "        student_name_list=n_student_name_list\n",
    "    )\n",
    "    \n",
    "    for student_name in student_name_list:\n",
    "        popularity_dict[student_name] += 1\n",
    "        \n",
    "    return popularity_dict.items()\n",
    "\n",
    "\n",
    "def sort_popularity_items(popularity_items):\n",
    "    return sorted(popularity_items, key=lambda x: -x[1])\n",
    "        \n",
    "    \n",
    "def print_answer(popularity_items):\n",
    "    for item in popularity_items:\n",
    "        print(f\"{item[0]} {item[1]}\")\n",
    "    \n",
    "\n",
    "if __name__ == \"__main__\":\n",
    "    student_list = []\n",
    "    \n",
    "    n = int(input())\n",
    "    n_student_name_list = input().split()\n",
    "    \n",
    "    for _ in range(n):\n",
    "        student_names = input().split()\n",
    "        \n",
    "        student_list += student_names\n",
    "        \n",
    "    popularity_items = measure_popularity(\n",
    "        n_student_name_list=n_student_name_list,\n",
    "        student_name_list=student_list\n",
    "    )\n",
    "    \n",
    "    sorted_items = sort_popularity_items(\n",
    "        popularity_items=popularity_items\n",
    "    )\n",
    "    \n",
    "    print_answer(\n",
    "        popularity_items=sorted_items\n",
    "    )"
   ]
  }
 ],
 "metadata": {
  "kernelspec": {
   "display_name": "Python 3",
   "language": "python",
   "name": "python3"
  },
  "language_info": {
   "codemirror_mode": {
    "name": "ipython",
    "version": 3
   },
   "file_extension": ".py",
   "mimetype": "text/x-python",
   "name": "python",
   "nbconvert_exporter": "python",
   "pygments_lexer": "ipython3",
   "version": "3.7.3"
  }
 },
 "nbformat": 4,
 "nbformat_minor": 2
}
