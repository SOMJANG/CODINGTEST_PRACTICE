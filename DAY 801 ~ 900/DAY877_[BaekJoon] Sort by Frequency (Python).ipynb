{
 "cells": [
  {
   "cell_type": "markdown",
   "metadata": {},
   "source": [
    "## 2022년 11월 22일 화요일\n",
    "### BaekJoon - Sort by Frequency (Python)  \n",
    "### 문제 : https://www.acmicpc.net/problem/25859\n",
    "### 블로그 : https://somjang.tistory.com/entry/BaekJoon-25859%EB%B2%88-Sort-by-Frequency-Python"
   ]
  },
  {
   "cell_type": "markdown",
   "metadata": {},
   "source": [
    "### Solution"
   ]
  },
  {
   "cell_type": "code",
   "execution_count": null,
   "metadata": {},
   "outputs": [],
   "source": [
    "from collections import Counter\n",
    "\n",
    "\n",
    "def sort_by_frequency(word):\n",
    "    answer = \"\"\n",
    "    cnt_items = sorted(Counter(word).items(), key=lambda x: (-x[1], x[0]))\n",
    "    \n",
    "    for item in cnt_items:\n",
    "        answer += item[0] * item[1]\n",
    "        \n",
    "    return answer\n",
    "\n",
    "\n",
    "if __name__ == \"__main__\":\n",
    "    word = input()\n",
    "    print(sort_by_frequency(word=word))"
   ]
  }
 ],
 "metadata": {
  "kernelspec": {
   "display_name": "Python 3 (ipykernel)",
   "language": "python",
   "name": "python3"
  },
  "language_info": {
   "codemirror_mode": {
    "name": "ipython",
    "version": 3
   },
   "file_extension": ".py",
   "mimetype": "text/x-python",
   "name": "python",
   "nbconvert_exporter": "python",
   "pygments_lexer": "ipython3",
   "version": "3.9.13"
  }
 },
 "nbformat": 4,
 "nbformat_minor": 2
}
