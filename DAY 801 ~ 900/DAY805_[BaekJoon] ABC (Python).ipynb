{
 "cells": [
  {
   "cell_type": "markdown",
   "metadata": {},
   "source": [
    "## 2022년 9월 8일 목요일\n",
    "### BaekJoon - ABC (Python)  \n",
    "### 문제 : https://www.acmicpc.net/problem/3047\n",
    "### 블로그 : https://somjang.tistory.com/entry/BaekJoon-3047%EB%B2%88-ABC-Python"
   ]
  },
  {
   "cell_type": "markdown",
   "metadata": {},
   "source": [
    "### Solution"
   ]
  },
  {
   "cell_type": "code",
   "execution_count": null,
   "metadata": {},
   "outputs": [],
   "source": [
    "def ABC(number_list, alphabet_list):\n",
    "    sorted_list = sorted(number_list)\n",
    "    key_list = [\"A\", \"B\", \"C\"]\n",
    "    \n",
    "    alpha_dict = {}\n",
    "    \n",
    "    for alpha, num in zip(key_list, sorted_list):\n",
    "        alpha_dict[alpha] = num\n",
    "\n",
    "    answer_list = [str(alpha_dict[alpha]) for alpha in alphabet_list]\n",
    "    \n",
    "    return \" \".join(answer_list)\n",
    "        \n",
    "\n",
    "if __name__ == \"__main__\":\n",
    "    number_list = map(int, input().split())\n",
    "    alphabet_list = list(input())\n",
    "    \n",
    "    print(ABC(number_list=number_list, alphabet_list=alphabet_list))"
   ]
  }
 ],
 "metadata": {
  "kernelspec": {
   "display_name": "Python 3",
   "language": "python",
   "name": "python3"
  },
  "language_info": {
   "codemirror_mode": {
    "name": "ipython",
    "version": 3
   },
   "file_extension": ".py",
   "mimetype": "text/x-python",
   "name": "python",
   "nbconvert_exporter": "python",
   "pygments_lexer": "ipython3",
   "version": "3.7.3"
  }
 },
 "nbformat": 4,
 "nbformat_minor": 2
}
