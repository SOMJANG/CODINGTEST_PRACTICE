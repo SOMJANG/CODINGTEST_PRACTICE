{
 "cells": [
  {
   "cell_type": "markdown",
   "metadata": {},
   "source": [
    "## 2022년 11월 06일 일요일\n",
    "### BaekJoon - 줄 세우기 (Python)  \n",
    "### 문제 : https://www.acmicpc.net/problem/11536\n",
    "### 블로그 : https://somjang.tistory.com/entry/BaekJoon-11536%EB%B2%88-%EC%A4%84-%EC%84%B8%EC%9A%B0%EA%B8%B0-Python"
   ]
  },
  {
   "cell_type": "markdown",
   "metadata": {},
   "source": [
    "### Solution"
   ]
  },
  {
   "cell_type": "code",
   "execution_count": null,
   "metadata": {},
   "outputs": [],
   "source": [
    "def line_up(name_list):\n",
    "    answer = \"NEITHER\"\n",
    "    incresing_list = sorted(name_list)\n",
    "    \n",
    "    if name_list == incresing_list:\n",
    "        answer = \"INCREASING\"\n",
    "    elif name_list == incresing_list[::-1]:\n",
    "        answer = \"DECREASING\"\n",
    "        \n",
    "    return answer\n",
    "\n",
    "\n",
    "if __name__ == \"__main__\":\n",
    "    name_list = []\n",
    "    for _ in range(int(input())):\n",
    "        name = input()\n",
    "        name_list.append(name)\n",
    "        \n",
    "    print(line_up(name_list=name_list))"
   ]
  }
 ],
 "metadata": {
  "kernelspec": {
   "display_name": "Python 3 (ipykernel)",
   "language": "python",
   "name": "python3"
  },
  "language_info": {
   "codemirror_mode": {
    "name": "ipython",
    "version": 3
   },
   "file_extension": ".py",
   "mimetype": "text/x-python",
   "name": "python",
   "nbconvert_exporter": "python",
   "pygments_lexer": "ipython3",
   "version": "3.9.13"
  }
 },
 "nbformat": 4,
 "nbformat_minor": 2
}
