{
 "cells": [
  {
   "cell_type": "markdown",
   "metadata": {},
   "source": [
    "## 2020년 3월 16일 월요일\n",
    "### HackerRank - Plus Minus\n",
    "### 문제 : https://www.hackerrank.com/challenges/plus-minus/problem\n",
    "### 블로그 : https://somjang.tistory.com/entry/HackerRank-Plus-Minus"
   ]
  },
  {
   "cell_type": "markdown",
   "metadata": {},
   "source": [
    "### 첫번째 시도"
   ]
  },
  {
   "cell_type": "code",
   "execution_count": 1,
   "metadata": {},
   "outputs": [],
   "source": [
    "#!/bin/python3\n",
    "\n",
    "import math\n",
    "import os\n",
    "import random\n",
    "import re\n",
    "import sys\n",
    "\n",
    "# Complete the plusMinus function below.\n",
    "def plusMinus(arr):\n",
    "    plus = 0\n",
    "    minus = 0\n",
    "    zero = 0\n",
    "    for i in range(len(arr)):\n",
    "        if arr[i] == 0:\n",
    "            zero = zero + 1\n",
    "        elif arr[i] < 0:\n",
    "            minus = minus + 1\n",
    "        else:\n",
    "            plus = plus + 1\n",
    "\n",
    "    len_arr = len(arr)\n",
    "    minus_fraction = float(minus)/float(len_arr)\n",
    "    plus_fraction = float(plus) / float(len_arr)\n",
    "    zero_fraction = float(zero) / float(len_arr)\n",
    "    print(plus_fraction)\n",
    "    print(minus_fraction)\n",
    "    print(zero_fraction)\n"
   ]
  }
 ],
 "metadata": {
  "kernelspec": {
   "display_name": "Python 3",
   "language": "python",
   "name": "python3"
  },
  "language_info": {
   "codemirror_mode": {
    "name": "ipython",
    "version": 3
   },
   "file_extension": ".py",
   "mimetype": "text/x-python",
   "name": "python",
   "nbconvert_exporter": "python",
   "pygments_lexer": "ipython3",
   "version": "3.7.3"
  }
 },
 "nbformat": 4,
 "nbformat_minor": 2
}
