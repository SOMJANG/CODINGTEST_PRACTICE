{
 "cells": [
  {
   "cell_type": "markdown",
   "metadata": {},
   "source": [
    "## 2020년 2월 11일 화요일\n",
    "### 백준 11651번: 좌표 정렬하기 2\n",
    "### 문제 : https://www.acmicpc.net/problem/11651\n",
    "### 블로그 : https://somjang.tistory.com/entry/BaeKJoon-11651%EB%B2%88-%EC%A2%8C%ED%91%9C-%EC%A0%95%EB%A0%AC%ED%95%98%EA%B8%B0-2-Python"
   ]
  },
  {
   "cell_type": "markdown",
   "metadata": {},
   "source": [
    "### 첫번째 시도"
   ]
  },
  {
   "cell_type": "markdown",
   "metadata": {},
   "source": [
    "입력 받은 수를 list로 만들고\n",
    "python의 sorted함수를 사용하서 정렬 후 출력해 보았습니다."
   ]
  },
  {
   "cell_type": "code",
   "execution_count": 2,
   "metadata": {},
   "outputs": [
    {
     "name": "stdout",
     "output_type": "stream",
     "text": [
      "5\n",
      "0 4\n",
      "1 2\n",
      "1 -1\n",
      "2 2\n",
      "3 3\n",
      "1 -1\n",
      "1 2\n",
      "2 2\n",
      "3 3\n",
      "0 4\n"
     ]
    }
   ],
   "source": [
    "N = int(input())\n",
    "\n",
    "nums = []\n",
    "for i in range(N):\n",
    "    [a, b] = map(int, input().split())\n",
    "    arr = [b, a]\n",
    "    nums.append(arr)\n",
    "    \n",
    "nums = sorted(nums)\n",
    "\n",
    "for i in range(N):\n",
    "    print(nums[i][1], nums[i][0])"
   ]
  },
  {
   "cell_type": "markdown",
   "metadata": {},
   "source": [
    "### PyPy3로 제출하여 성공!"
   ]
  },
  {
   "cell_type": "markdown",
   "metadata": {},
   "source": [
    "### 2022년 4월 11일 코드 추가"
   ]
  },
  {
   "cell_type": "code",
   "execution_count": 6,
   "metadata": {},
   "outputs": [
    {
     "name": "stdout",
     "output_type": "stream",
     "text": [
      "5\n",
      "0 4\n",
      "1 2\n",
      "1 -1\n",
      "2 2\n",
      "3 3\n",
      "1 -1\n",
      "1 2\n",
      "2 2\n",
      "3 3\n",
      "0 4\n"
     ]
    }
   ],
   "source": [
    "import sys\n",
    "\n",
    "input = sys.stdin.readline\n",
    "\n",
    "def sort_coordinates_2(coordinates):    \n",
    "    return sorted(coordinates, key=lambda x: (x[1], x[0]))\n",
    "    \n",
    "    \n",
    "if __name__ == \"__main__\":\n",
    "    N = int(input().rstrip())\n",
    "\n",
    "    coordinates = []\n",
    "    for i in range(N):\n",
    "        x, y = map(int, input().rstrip().split())\n",
    "        coordinates.append((x, y))\n",
    "        \n",
    "    sort_result = sort_coordinates_2(coordinates)\n",
    "    \n",
    "    for coordinate in sort_result:\n",
    "        print(coordinate[0], coordinate[1])"
   ]
  }
 ],
 "metadata": {
  "kernelspec": {
   "display_name": "Python 3",
   "language": "python",
   "name": "python3"
  },
  "language_info": {
   "codemirror_mode": {
    "name": "ipython",
    "version": 3
   },
   "file_extension": ".py",
   "mimetype": "text/x-python",
   "name": "python",
   "nbconvert_exporter": "python",
   "pygments_lexer": "ipython3",
   "version": "3.7.3"
  }
 },
 "nbformat": 4,
 "nbformat_minor": 2
}
